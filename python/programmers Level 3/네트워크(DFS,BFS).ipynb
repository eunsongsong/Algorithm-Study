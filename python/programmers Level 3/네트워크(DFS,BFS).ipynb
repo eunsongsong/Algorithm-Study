{
 "cells": [
  {
   "cell_type": "markdown",
   "metadata": {},
   "source": [
    "# DFS/BFS(깊이/너비 우선 탐색)"
   ]
  },
  {
   "cell_type": "markdown",
   "metadata": {},
   "source": [
    "<img src=\"https://ww.namu.la/s/1fe9246903b78fae07577b243a0b22791e02cb39640d5cbaae10d9849343b4ea6f162a9a677a5892fbf7819abd4ef7221ebd3608849cfb66793411fb5e6439514157be7f36ed31187fb6e4e12a857040cfcf627c74f937e8eae5799eff70f6ae\" title=\"[출처: https://namu.wiki/w/BFS]\">"
   ]
  },
  {
   "cell_type": "markdown",
   "metadata": {},
   "source": [
    "### >> 문제: programmers Level 3: [네트워크](https://programmers.co.kr/learn/courses/30/lessons/43162)\n",
    "네트워크란 컴퓨터 상호 간에 정보를 교환할 수 있도록 연결된 형태를 의미합니다.  \n",
    "예를 들어, 컴퓨터 A와 컴퓨터 B가 직접적으로 연결되어있고,  \n",
    "컴퓨터 B와 컴퓨터 C가 직접적으로 연결되어 있을 때  \n",
    "컴퓨터 A와 컴퓨터 C도 간접적으로 연결되어 정보를 교환할 수 있습니다.  \n",
    "따라서 컴퓨터 A, B, C는 모두 같은 네트워크 상에 있다고 할 수 있습니다.    \n",
    "\n",
    "컴퓨터의 개수 n, 연결에 대한 정보가 담긴 2차원 배열 computers가 매개변수로 주어질 때,  \n",
    "네트워크의 개수를 return 하도록 solution 함수를 작성하시오.\n",
    "\n",
    "* i번 컴퓨터와 j번 컴퓨터가 연결되어 있으면 computers[i][j]를 1로 표현합니다.\n",
    "* computer[i][i]는 항상 1입니다.\n",
    "\n",
    "*출처: 프로그래머스 코딩 테스트 연습, https://programmers.co.kr/learn/challenges*"
   ]
  },
  {
   "cell_type": "markdown",
   "metadata": {},
   "source": [
    "### >> 정답: BFS"
   ]
  },
  {
   "cell_type": "code",
   "execution_count": 1,
   "metadata": {},
   "outputs": [
    {
     "name": "stdout",
     "output_type": "stream",
     "text": [
      "2  >> 2\n",
      "1  >> 1\n",
      "3  >> 3\n",
      "1  >> 1\n"
     ]
    }
   ],
   "source": [
    "def solution(n, computers):\n",
    "    answer = 0\n",
    "    check = [0 for i in range(n)] # 탐색한 노드를 체크하는 리스트\n",
    "    bfs = [] # 탐색할 노드의 위치를 저장하는 리스트\n",
    "    \n",
    "    while 0 in check:\n",
    "        if not bfs: # bsf 리스트가 비어있으면\n",
    "            #temp는 현재 탐색할 노드를 가리키는 변수\n",
    "            temp = check.index(0) # 연결된 네트워크가 없는 것이므로 새로운 노드를 탐색한다\n",
    "            answer += 1 # 네트워크 수를 하나 증가\n",
    "        else: # bfs 리스트가 비어있지 않으면, 연결된 노드들을 계속 탐색한다\n",
    "            temp = bfs[0]\n",
    "            bfs.pop(0)\n",
    "            \n",
    "        check[temp] = 2 # 탐색한 노드는 2로 체크\n",
    "        \n",
    "        for i in range(n):\n",
    "            if temp is not i and computers[temp][i] is 1: # 현재 위치에서 연결된 노드가 있으면\n",
    "                bfs.append(i) # 연결된 노드의 위치를 bfs에 추가하고\n",
    "                # 탐색한 노드는 2로 체크한다\n",
    "                computers[temp][i] = 2 \n",
    "                computers[i][temp] = 2\n",
    "    \n",
    "    return answer\n",
    "\n",
    "print(solution(3, [[1, 1, 0], [1, 1, 0], [0, 0, 1]]), \" >> 2\")\n",
    "print(solution(3, [[1, 1, 0], [1, 1, 1], [0, 1, 1]]), \" >> 1\")\n",
    "print(solution(9,[[1,1,0,0,0,0,0,0,0],[1,1,1,1,0,0,0,0,0],[0,1,1,1,1,0,0,0,0],\n",
    "                  [0,1,1,1,1,0,0,0,0],[0,0,1,1,1,0,0,0,0],[0,0,0,0,0,1,0,0,0],\n",
    "                  [0,0,0,0,0,0,1,1,1],[0,0,0,0,0,0,1,1,0],[0,0,0,0,0,0,1,0,1]]),\" >> 3\")\n",
    "print(solution(4, [[1, 0, 0, 1], [0, 1, 1, 1], [0, 1, 1, 0], [1, 1, 0, 1]]), \" >> 1\")"
   ]
  },
  {
   "cell_type": "markdown",
   "metadata": {},
   "source": [
    "### >> 정답: DFS"
   ]
  },
  {
   "cell_type": "code",
   "execution_count": 2,
   "metadata": {},
   "outputs": [
    {
     "name": "stdout",
     "output_type": "stream",
     "text": [
      "2  >> 2\n",
      "1  >> 1\n",
      "3  >> 3\n",
      "1  >> 1\n"
     ]
    }
   ],
   "source": [
    "def solution(n, computers):\n",
    "    answer = 0\n",
    "    check = [0 for i in range(n)] # 탐색한 노드를 체크하는 리스트\n",
    "    dfs = [] # 탐색한 경로를 저장할 스택\n",
    "    \n",
    "    # 자기 자신을 가리키는 노드를 2로 바꿈\n",
    "    for i in range(n):\n",
    "        computers[i][i] = 2 \n",
    "        \n",
    "    while 0 in check:\n",
    "        if not dfs: # 스택이 비어있으면\n",
    "            # temp는 노드의 현재 위치를 저장하는 변수\n",
    "            temp = check.index(0) # 연결된 네트워크가 없는 것이므로 새로운 노드를 탐색\n",
    "            answer += 1 # 네트워크 수를 하나 증가\n",
    "            dfs.append(check.index(0)) # 스택에 현재 위치 저장\n",
    "        else: # 스택이 비어있지 않으면\n",
    "            temp = dfs[-1] # Backtracking\n",
    "            \n",
    "        check[temp] = 2 # 탐색한 노드는 2로 체크\n",
    "       \n",
    "        while dfs:\n",
    "            if 1 not in computers[temp]: # 더 이상 연결된 노드가 없으면\n",
    "                temp = dfs.pop() # Backtracking\n",
    "            else: # 연결된 노드가 있으면\n",
    "                dfs.append(computers[temp].index(1)) # 연결된 노드의 위치를 스택에 저장\n",
    "                computers[temp][dfs[-1]] = 2 # 탐색한 노드는 2로 체크\n",
    "                break\n",
    "    \n",
    "    return answer\n",
    "\n",
    "print(solution(3, [[1, 1, 0], [1, 1, 0], [0, 0, 1]]), \" >> 2\")\n",
    "print(solution(3, [[1, 1, 0], [1, 1, 1], [0, 1, 1]]), \" >> 1\")\n",
    "print(solution(9,[[1,1,0,0,0,0,0,0,0],[1,1,1,1,0,0,0,0,0],[0,1,1,1,1,0,0,0,0],\n",
    "                  [0,1,1,1,1,0,0,0,0],[0,0,1,1,1,0,0,0,0],[0,0,0,0,0,1,0,0,0],\n",
    "                  [0,0,0,0,0,0,1,1,1],[0,0,0,0,0,0,1,1,0],[0,0,0,0,0,0,1,0,1]]),\" >> 3\")\n",
    "print(solution(4, [[1, 0, 0, 1], [0, 1, 1, 1], [0, 1, 1, 0], [1, 1, 0, 1]]), \" >> 1\")"
   ]
  }
 ],
 "metadata": {
  "kernelspec": {
   "display_name": "Python 3",
   "language": "python",
   "name": "python3"
  },
  "language_info": {
   "codemirror_mode": {
    "name": "ipython",
    "version": 3
   },
   "file_extension": ".py",
   "mimetype": "text/x-python",
   "name": "python",
   "nbconvert_exporter": "python",
   "pygments_lexer": "ipython3",
   "version": "3.7.1"
  }
 },
 "nbformat": 4,
 "nbformat_minor": 2
}
