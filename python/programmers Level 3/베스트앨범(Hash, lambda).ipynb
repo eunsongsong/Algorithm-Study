{
 "cells": [
  {
   "cell_type": "markdown",
   "metadata": {},
   "source": [
    "### 해시(Hash): key에 value를 저장하는 데이터 구조"
   ]
  },
  {
   "cell_type": "markdown",
   "metadata": {},
   "source": [
    "### >> 문제: programmers L3: [베스트앨범](https://programmers.co.kr/learn/courses/30/lessons/42579)\n",
    "스트리밍 사이트에서 **장르 별로 가장 많이 재생된 노래**를 두 개씩 모아 베스트 앨범을 출시하려 합니다.  \n",
    "노래는 고유 번호로 구분하며, 노래를 수록하는 기준은 다음과 같습니다.  \n",
    "\n",
    "속한 노래가 많이 재생된 장르를 먼저 수록합니다.  \n",
    "장르 내에서 많이 재생된 노래를 먼저 수록합니다.  \n",
    "장르 내에서 재생 횟수가 같은 노래 중에서는 고유 번호가 낮은 노래를 먼저 수록합니다.    \n",
    "노래의 장르를 나타내는 문자열 배열 genres와 노래별 재생 횟수를 나타내는 정수 배열 plays가 주어질 때,  \n",
    "베스트 앨범에 들어갈 노래의 고유 번호를 순서대로 return 하도록 solution 함수를 완성하세요.  \n",
    "\n",
    "* genres[i]는 고유번호가 i인 노래의 장르입니다.\n",
    "* plays[i]는 고유번호가 i인 노래가 재생된 횟수입니다.\n",
    "* genres와 plays의 길이는 같으며, 이는 1 이상 10,000 이하입니다.\n",
    "* 장르 종류는 100개 미만입니다.\n",
    "* 장르에 속한 곡이 하나라면, 하나의 곡만 선택합니다.\n",
    "* 모든 장르는 재생된 횟수가 다릅니다."
   ]
  },
  {
   "cell_type": "markdown",
   "metadata": {},
   "source": [
    "### >> 정답"
   ]
  },
  {
   "cell_type": "code",
   "execution_count": 1,
   "metadata": {},
   "outputs": [
    {
     "name": "stdout",
     "output_type": "stream",
     "text": [
      "{'classic': [[0, 500], [2, 150], [3, 800]], 'pop': [[1, 600], [4, 2500]]}\n",
      "{'classic': [[3, 800], [0, 500], [2, 150]], 'pop': [[4, 2500], [1, 600]]}\n",
      "{'pop': 3100, 'classic': 1450}\n",
      "[4, 1, 3, 0]  >> [4, 1, 3, 0]\n",
      "\n",
      "{'pop': [[0, 800], [3, 800]], 'classic': [[1, 1000], [2, 400], [4, 100]]}\n",
      "{'pop': [[0, 800], [3, 800]], 'classic': [[1, 1000], [2, 400], [4, 100]]}\n",
      "{'pop': 1600, 'classic': 1500}\n",
      "[0, 3, 1, 2]  >> [0, 3, 1, 2]\n"
     ]
    }
   ],
   "source": [
    "def solution(genres, plays):\n",
    "    answer = []\n",
    "    dic_genres = {} # 장르와 고유번호, 고유번호 노래의 재생 횟수를 저장할 딕셔너리\n",
    "    dic_best = {} # 장르와 해당 장르의 총 재생 횟수를 저장할 딕셔너리\n",
    "    \n",
    "    for i in range(len(genres)):\n",
    "        if genres[i] not in dic_genres: # dic_genres에 '장르'인 key가 없으면\n",
    "            dic_genres[genres[i]] = [] # 해당 '장르'의 키를 딕셔너리에 추가\n",
    "        dic_genres[genres[i]].append([i,plays[i]]) # '장르'에 노래의 고유번호와 재생횟수를 value로 추가\n",
    "    print(dic_genres)\n",
    "    \n",
    "    for genre in dic_genres:\n",
    "        dic_genres[genre].sort(key=lambda x:x[1], reverse=True) # 노래의 재생횟수가 많은 순으로 정렬\n",
    "        dic_best[genre] = sum([best for i,best in dic_genres[genre]]) # dic_best의 key에 장르를, value에 총 재생횟수를 추가\n",
    "    dic_best = dict(sorted(dic_best.items(), key=lambda x:x[1], reverse=True)) # 장르를 재생횟수가 많은 순으로 정렬\n",
    "    print(dic_genres)\n",
    "    print(dic_best)\n",
    "    \n",
    "    # 장르 별로 가장 많이 재생된 노래를 두 개씩 모은다\n",
    "    for best in dic_best:\n",
    "        answer.append(dic_genres[best][0][0])\n",
    "        if len(dic_genres[best]) > 1:\n",
    "            answer.append(dic_genres[best][1][0])\n",
    "    \n",
    "    return answer\n",
    "\n",
    "print(solution([\"classic\", \"pop\", \"classic\", \"classic\", \"pop\"], [500, 600, 150, 800, 2500]), \" >> [4, 1, 3, 0]\\n\")\n",
    "print(solution([\"pop\", \"classic\", \"classic\", \"pop\", \"classic\"], [800, 1000, 400, 800, 100]), \" >> [0, 3, 1, 2]\")"
   ]
  },
  {
   "cell_type": "markdown",
   "metadata": {},
   "source": [
    "# lambda\n",
    "lambda는 함수를 생성할 때 사용하는 예약어로 def와 동일한 역할을 한다.  \n",
    "보통 함수를 한줄로 간결하게 만들 때 사용한다. "
   ]
  },
  {
   "cell_type": "markdown",
   "metadata": {},
   "source": [
    " lambda 매개변수1, 매개변수2, ...: 매개변수를 이용한 표현식"
   ]
  },
  {
   "cell_type": "code",
   "execution_count": 2,
   "metadata": {},
   "outputs": [
    {
     "name": "stdout",
     "output_type": "stream",
     "text": [
      "7\n",
      ">> lambda 예약어로 만든 함수는 return 명령어가 없어도 결괏값을 돌려준다.\n"
     ]
    }
   ],
   "source": [
    "add = lambda a,b: a+b\n",
    "\n",
    "print(add(3,4))\n",
    "print(\">> lambda 예약어로 만든 함수는 return 명령어가 없어도 결괏값을 돌려준다.\")"
   ]
  }
 ],
 "metadata": {
  "kernelspec": {
   "display_name": "Python 3",
   "language": "python",
   "name": "python3"
  },
  "language_info": {
   "codemirror_mode": {
    "name": "ipython",
    "version": 3
   },
   "file_extension": ".py",
   "mimetype": "text/x-python",
   "name": "python",
   "nbconvert_exporter": "python",
   "pygments_lexer": "ipython3",
   "version": "3.7.1"
  }
 },
 "nbformat": 4,
 "nbformat_minor": 2
}
