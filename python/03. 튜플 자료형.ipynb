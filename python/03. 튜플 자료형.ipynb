{
 "cells": [
  {
   "cell_type": "markdown",
   "metadata": {},
   "source": [
    "## 리스트\n",
    "+ list(),  []\n",
    "+ 리스트를 구성하는 데이터들의 순서가 존재\n",
    "+ 중복 ok, 인덱스 존재"
   ]
  },
  {
   "cell_type": "markdown",
   "metadata": {},
   "source": [
    "## 튜플\n",
    "+ (), tuple()\n",
    "+ 순서존재, 인덱스 사용가능, 중복 ok\n",
    "+ 오직 값을 묶는다, 수정불가, immutable\n",
    "+ 함수의 리턴값으로 많이 사용"
   ]
  },
  {
   "cell_type": "markdown",
   "metadata": {},
   "source": [
    "## 딕셔너리\n",
    "+ {},  dict()\n",
    "\n",
    "+ 순서가 없다 (list는 순서가 있다)\n",
    "+ 키와 값이 쌍으로 구성된다(키:값)\n",
    "+ 키는 절대로 중복되면 안된다\n",
    "+ 값은 중복되도 OK"
   ]
  },
  {
   "cell_type": "markdown",
   "metadata": {},
   "source": [
    "## 집합\n",
    "+ set\n",
    "+ 중복 제거, 딕셔너리는 적용 불가\n",
    "+ 리스트, 튜플에 적용 가능\n",
    "+ 중복 제거 후 정렬하지 않는다"
   ]
  },
  {
   "cell_type": "markdown",
   "metadata": {},
   "source": [
    "# 튜플 자료형"
   ]
  },
  {
   "cell_type": "markdown",
   "metadata": {},
   "source": [
    "리스트는 그 값의 생성, 삭제, 수정이 가능하지만 튜플은 그 값을 바꿀 수 없다"
   ]
  },
  {
   "cell_type": "code",
   "execution_count": 6,
   "metadata": {},
   "outputs": [
    {
     "name": "stdout",
     "output_type": "stream",
     "text": [
      "() () ('a', 'b', ('c', 'd'))\n"
     ]
    }
   ],
   "source": [
    "t1 = ()\n",
    "t2 = tuple()\n",
    "t3 = ('a','b',('c','d'))\n",
    "print(t1,t2,t3)"
   ]
  },
  {
   "cell_type": "code",
   "execution_count": 12,
   "metadata": {},
   "outputs": [
    {
     "name": "stdout",
     "output_type": "stream",
     "text": [
      "<class 'int'> <class 'tuple'>\n",
      ">> 튜플은 단지 1개의 요소만 가질 때는 요소 뒤에 반드시 콤마(,)를 붙여야 한다.\n"
     ]
    }
   ],
   "source": [
    "t4 = (1)\n",
    "t5 = (1,)\n",
    "print(type(t4), type(t5))\n",
    "print(\">> 튜플은 단지 1개의 요소만 가질 때는 요소 뒤에 반드시 콤마(,)를 붙여야 한다.\")"
   ]
  },
  {
   "cell_type": "code",
   "execution_count": 14,
   "metadata": {},
   "outputs": [
    {
     "name": "stdout",
     "output_type": "stream",
     "text": [
      "<class 'tuple'>\n",
      ">> 튜플은 괄호를 생략해도 무방하다.\n"
     ]
    }
   ],
   "source": [
    "t6 = 1,2,3\n",
    "print(type(t6))\n",
    "print(\">> 튜플은 괄호를 생략해도 무방하다.\")"
   ]
  },
  {
   "cell_type": "code",
   "execution_count": null,
   "metadata": {},
   "outputs": [],
   "source": []
  },
  {
   "cell_type": "code",
   "execution_count": null,
   "metadata": {},
   "outputs": [],
   "source": []
  },
  {
   "cell_type": "code",
   "execution_count": null,
   "metadata": {},
   "outputs": [],
   "source": []
  },
  {
   "cell_type": "code",
   "execution_count": null,
   "metadata": {},
   "outputs": [],
   "source": []
  },
  {
   "cell_type": "code",
   "execution_count": null,
   "metadata": {},
   "outputs": [],
   "source": []
  },
  {
   "cell_type": "code",
   "execution_count": null,
   "metadata": {},
   "outputs": [],
   "source": []
  },
  {
   "cell_type": "code",
   "execution_count": null,
   "metadata": {},
   "outputs": [],
   "source": []
  },
  {
   "cell_type": "code",
   "execution_count": null,
   "metadata": {},
   "outputs": [],
   "source": []
  },
  {
   "cell_type": "code",
   "execution_count": null,
   "metadata": {},
   "outputs": [],
   "source": []
  },
  {
   "cell_type": "code",
   "execution_count": null,
   "metadata": {},
   "outputs": [],
   "source": []
  }
 ],
 "metadata": {
  "kernelspec": {
   "display_name": "Python 3",
   "language": "python",
   "name": "python3"
  },
  "language_info": {
   "codemirror_mode": {
    "name": "ipython",
    "version": 3
   },
   "file_extension": ".py",
   "mimetype": "text/x-python",
   "name": "python",
   "nbconvert_exporter": "python",
   "pygments_lexer": "ipython3",
   "version": "3.7.1"
  }
 },
 "nbformat": 4,
 "nbformat_minor": 2
}
