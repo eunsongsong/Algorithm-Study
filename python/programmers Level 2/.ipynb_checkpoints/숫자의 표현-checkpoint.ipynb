{
 "cells": [
  {
   "cell_type": "markdown",
   "metadata": {},
   "source": [
    "### >> 문제: Programmers Level 2 [숫자의 표현](https://programmers.co.kr/learn/courses/30/lessons/12924)\n",
    "Finn은 요즘 수학공부에 빠져 있습니다.  \n",
    "수학 공부를 하던 Finn은 자연수 n을 연속한 자연수들로 표현 하는 방법이 여러개라는 사실을 알게 되었습니다.  \n",
    "예를들어 15는 다음과 같이 4가지로 표현 할 수 있습니다.  \n",
    "1 + 2 + 3 + 4 + 5 = 15  \n",
    "4 + 5 + 6 = 15  \n",
    "7 + 8 = 15  \n",
    "15 = 15  \n",
    "자연수 n이 매개변수로 주어질 때, 연속된 자연수들로 n을 표현하는 방법의 수를 return하는 solution를 완성해주세요.\n",
    "\n",
    "*출처: 프로그래머스 코딩 테스트 연습, https://programmers.co.kr/learn/challenges*"
   ]
  },
  {
   "cell_type": "markdown",
   "metadata": {},
   "source": [
    "### >> 정답(for문)"
   ]
  },
  {
   "cell_type": "code",
   "execution_count": 1,
   "metadata": {},
   "outputs": [
    {
     "name": "stdout",
     "output_type": "stream",
     "text": [
      "4\n"
     ]
    }
   ],
   "source": [
    "def solution(n):\n",
    "    answer = 1 # 자기 자신인 경우도 포함이므로\n",
    "    \n",
    "    for startNum in range(1,n//2+1):\n",
    "        temp = startNum # 더한 값을 저장할 변수 temp 초기화, 시작할 숫자\n",
    "        for addNum in range(startNum+1,n): # 더할 숫자\n",
    "            if temp == n:\n",
    "                answer += 1\n",
    "                break\n",
    "            elif temp < n:\n",
    "                temp += addNum\n",
    "            else:\n",
    "                break\n",
    "        \n",
    "    return answer\n",
    "\n",
    "print(solution(15))"
   ]
  },
  {
   "cell_type": "markdown",
   "metadata": {},
   "source": [
    "### >> 정답(while문)"
   ]
  },
  {
   "cell_type": "code",
   "execution_count": 2,
   "metadata": {},
   "outputs": [
    {
     "name": "stdout",
     "output_type": "stream",
     "text": [
      "4\n"
     ]
    }
   ],
   "source": [
    "def solution(n):\n",
    "    answer = 1 # 자기 자신인 경우도 포함이므로\n",
    "    \n",
    "    temp = 0 # 더한 값\n",
    "    left = 1 # 시작 숫자\n",
    "    right = 1 # 마지막 숫자\n",
    "    while left < n//2+1:\n",
    "        if temp == n:\n",
    "            answer += 1\n",
    "            temp -= left\n",
    "            left += 1\n",
    "        elif temp < n: # temp가 n보다 작으면\n",
    "            temp += right # 연속한 수(right)를 하나 더해주고\n",
    "            right += 1 # right값을 하나 증가시킨다 \n",
    "        else: # temp가 n보다 크면\n",
    "            temp -= left # 연속한 수 중 가장 작은 수를 빼주고\n",
    "            left += 1 # left값을 하나 증가시킨다\n",
    "              \n",
    "    return answer\n",
    "\n",
    "print(solution(15))"
   ]
  },
  {
   "cell_type": "markdown",
   "metadata": {},
   "source": [
    "### >> 다른풀이\n",
    "자연수 n을 연속된 숫자의 합으로 표현하는 방법의 수는  \n",
    "자연수 n의 홀수인 약수의 갯수와 같다"
   ]
  },
  {
   "cell_type": "markdown",
   "metadata": {},
   "source": [
    "예를들어 자연수 15의 홀수인 약수를 1, 3, 5, 15 이다  \n",
    "* 약수가 1인 경우, 연속하는 하나의 자연수로 15를 표현한 것이다  \n",
    "* 약수가 3인 경우, 연속하는 세 개의 자연수로 15를 표현한 것이다  \n",
    "즉, 15 = 5+5+5 = 4+5+6 으로 표현 가능하다  \n",
    "* 약수가 5인 경우, 연속하는 다섯 개의 자연수로 15를 표현한 것이다  \n",
    "즉, 15 = 3+3+3+3+3 = 1+2+3+4+5 으로 표현 가능하다\n",
    "* 약수가 15(자기 자신)인 경우, 가운데 두 수의 합으로 자연수 15를 표현한 것이다  \n",
    "즉, 15 = 7+8 으로 표현 가능하다"
   ]
  },
  {
   "cell_type": "code",
   "execution_count": 3,
   "metadata": {
    "scrolled": true
   },
   "outputs": [
    {
     "name": "stdout",
     "output_type": "stream",
     "text": [
      "4\n"
     ]
    }
   ],
   "source": [
    "def solution(n):\n",
    "    return len([i for i in range(1,n+1,2) if n % i is 0])\n",
    "print(solution(15))"
   ]
  },
  {
   "cell_type": "markdown",
   "metadata": {},
   "source": [
    "(참고) 자연수 n의 짝수인 약수는 연속된 숫자의 합으로 n을 표현하는 것이 불가능하다  \n",
    "예를들어 자연수 6의 약수는 1, 2, 5, 10 이다  \n",
    "* 약수가 2(짝수)인경우, 연속하는 두 개의 자연수로 10을 표현할 수 없다  \n",
    "( 10 = 5 + 5 )"
   ]
  }
 ],
 "metadata": {
  "kernelspec": {
   "display_name": "Python 3",
   "language": "python",
   "name": "python3"
  },
  "language_info": {
   "codemirror_mode": {
    "name": "ipython",
    "version": 3
   },
   "file_extension": ".py",
   "mimetype": "text/x-python",
   "name": "python",
   "nbconvert_exporter": "python",
   "pygments_lexer": "ipython3",
   "version": "3.7.1"
  }
 },
 "nbformat": 4,
 "nbformat_minor": 2
}
