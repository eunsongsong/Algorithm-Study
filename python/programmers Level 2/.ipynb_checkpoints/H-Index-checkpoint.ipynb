{
 "cells": [
  {
   "cell_type": "markdown",
   "metadata": {},
   "source": [
    "### >> 문제: programmers L2 [H-Index](https://programmers.co.kr/learn/courses/30/lessons/42747)\n",
    "H-Index는 과학자의 생산성과 영향력을 나타내는 지표입니다.  \n",
    "어느 과학자의 H-Index를 나타내는 값인 h를 구하려고 합니다.  \n",
    "위키백과1에 따르면, H-Index는 다음과 같이 구합니다.  \n",
    "\n",
    "어떤 과학자가 발표한 논문 n편 중, h번 이상 인용된 논문이 h편 이상이고  \n",
    "나머지 논문이 h번 이하 인용되었다면 h의 최댓값이 이 과학자의 H-Index입니다.  \n",
    "\n",
    "어떤 과학자가 발표한 논문의 인용 횟수를 담은 배열 citations가 매개변수로 주어질 때,  \n",
    "이 과학자의 H-Index를 return 하도록 solution 함수를 작성해주세요.\n",
    "\n",
    "* 과학자가 발표한 논문의 수는 1편 이상 1,000편 이하입니다.\n",
    "* 논문별 인용 횟수는 0회 이상 10,000회 이하입니다."
   ]
  },
  {
   "cell_type": "markdown",
   "metadata": {},
   "source": [
    "### >> 정답"
   ]
  },
  {
   "cell_type": "code",
   "execution_count": 36,
   "metadata": {},
   "outputs": [
    {
     "name": "stdout",
     "output_type": "stream",
     "text": [
      "[6, 5, 3, 1, 0]\n",
      "3  >> 3\n"
     ]
    }
   ],
   "source": [
    "def solution(citations):\n",
    "    citations.sort(key=lambda x:x, reverse=True)\n",
    "\n",
    "    index = 0\n",
    "    while index < len(citations):\n",
    "        answer = 0\n",
    "        for i in range(len(citations)):\n",
    "            if citations[i] >= citations[index]:\n",
    "                answer += 1\n",
    "        if answer >= citations[index]:\n",
    "            break\n",
    "        index += 1\n",
    "    \n",
    "    return answer\n",
    "\n",
    "\n",
    "print(solution([3, 0, 6, 1, 5]), \" >> 3\")"
   ]
  },
  {
   "cell_type": "code",
   "execution_count": 40,
   "metadata": {},
   "outputs": [
    {
     "name": "stdout",
     "output_type": "stream",
     "text": [
      "2\n",
      "3  >> 3\n"
     ]
    }
   ],
   "source": [
    "def solution(citations):\n",
    "    citations.sort(key=lambda x:x, reverse=True)\n",
    "\n",
    "    for i in range(len(citations)):\n",
    "        if citations[i] <= (i+1):\n",
    "            answer = i+1\n",
    "            break\n",
    "    \n",
    "    return answer\n",
    "\n",
    "\n",
    "print(solution([3, 0, 6, 1, 5]), \" >> 3\")"
   ]
  }
 ],
 "metadata": {
  "kernelspec": {
   "display_name": "Python 3",
   "language": "python",
   "name": "python3"
  },
  "language_info": {
   "codemirror_mode": {
    "name": "ipython",
    "version": 3
   },
   "file_extension": ".py",
   "mimetype": "text/x-python",
   "name": "python",
   "nbconvert_exporter": "python",
   "pygments_lexer": "ipython3",
   "version": "3.7.1"
  }
 },
 "nbformat": 4,
 "nbformat_minor": 2
}
