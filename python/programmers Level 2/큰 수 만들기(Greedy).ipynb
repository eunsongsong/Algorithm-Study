{
 "cells": [
  {
   "cell_type": "markdown",
   "metadata": {},
   "source": [
    "# 탐욕법(Greedy)"
   ]
  },
  {
   "cell_type": "markdown",
   "metadata": {},
   "source": [
    "* 최적의 해에 가까운 값을 구하는 방법이다  \n",
    "(따라서 반드시 최적의 해를 구할 수 있는 것은 아니다)\n",
    "* 매 순간 최적이라고 생각되는 경우를 선택하여 해에 가까운 값을 구한다"
   ]
  },
  {
   "cell_type": "markdown",
   "metadata": {},
   "source": [
    "### >> 문제: programmers Level 2: [큰 수 만들기](https://programmers.co.kr/learn/courses/30/lessons/42883)\n",
    "어떤 숫자에서 k개의 수를 제거했을 때 얻을 수 있는 가장 큰 숫자를 구하려 합니다.  \n",
    "\n",
    "예를 들어, 숫자 1924에서 수 두 개를 제거하면 [19, 12, 14, 92, 94, 24] 를 만들 수 있습니다. 이 중 가장 큰 숫자는 94 입니다.  \n",
    "\n",
    "문자열 형식으로 숫자 number와 제거할 수의 개수 k가 solution 함수의 매개변수로 주어집니다.  \n",
    "number에서 k 개의 수를 제거했을 때 만들 수 있는 수 중 가장 큰 숫자를 문자열 형태로 return 하도록 solution 함수를 완성하세요.  \n",
    "\n",
    "* number는 1자리 이상, 1,000,000자리 이하인 숫자입니다.\n",
    "* k는 1 이상 number의 자릿수 미만인 자연수입니다.\n",
    "\n",
    "*출처: 프로그래머스 코딩 테스트 연습, https://programmers.co.kr/learn/challenges*"
   ]
  },
  {
   "cell_type": "markdown",
   "metadata": {},
   "source": [
    "### >> 정답\n",
    "number를 왼쪽부터 탐색하여 왼쪽의 숫자가 오른쪽 보다 작을 경우 삭제하여 가장 큰 수를 만든다"
   ]
  },
  {
   "cell_type": "code",
   "execution_count": 1,
   "metadata": {},
   "outputs": [
    {
     "name": "stdout",
     "output_type": "stream",
     "text": [
      "99995  >> 99995\n",
      "998  >> 998\n",
      "94  >> 94\n",
      "3234  >> 3234\n",
      "775841  >> 775841\n"
     ]
    }
   ],
   "source": [
    "def solution(number, k):\n",
    "    answer = ''\n",
    "    \n",
    "    index = 0 # 탐색중이 number의 위치를 저장할 변수, 탐색 중인 현재 위치\n",
    "    while k > 0: # k개의 수를 제거할 때까지 반목\n",
    "        if not answer: # answer가 비어있으면\n",
    "            answer += number[index] # index 위치를 숫자를 answer에 넣고\n",
    "            index += 1 # index 위치를 하나 증가\n",
    "        elif answer[-1] > number[index]: # answer의 마지막 숫자가 탐색중인 숫자보다 크면\n",
    "            answer += number[index] # 현재 숫자를 answer에 넣고 \n",
    "            index += 1 # index 위치를 하나 증가\n",
    "        elif answer[-1] < number[index]: # answer의 마지막 숫가가 탐색중인 숫자보다 작으면\n",
    "            answer = answer[:-1] # answer의 마지막 숫자를 삭제\n",
    "            k -= 1 # 숫자를 하나 삭제했으므로 k를 하나 감소\n",
    "        else: # answer의 마지막 숫자가 탐색중이 숫자와 같으면\n",
    "            answer += number[index] # 현재 숫자를 answer에 넣고\n",
    "            index += 1 # index 위치를 하나 증가\n",
    "        if index >= len(number): # index의 위치가 number의 길이보다 크면,\n",
    "                                 # 똑같은 숫자가 계속 반복중인 것이므로\n",
    "            answer = answer[:-k] # 가장 오른쪽의 숫자를 k개 만큼 제거한다\n",
    "            k = 0 # 숫자를 k개 만큼 제거했으므로 k=0\n",
    "    # number를 끝까지 탐색하지 않았지만 k개의 숫자를 제거하여 반복문을 빠져나온 경우\n",
    "    if index < len(number):\n",
    "        answer += number[index:] # number의 남아있는 부분을 answer에 넣어준다\n",
    "                \n",
    "    return answer\n",
    "\n",
    "\n",
    "print(solution(\"99991235\",3), \" >> 99995\")\n",
    "print(solution(\"91988\",2),\" >> 998\")\n",
    "print(solution(\"1924\",2),\" >> 94\")\n",
    "print(solution(\"1231234\",3),\" >> 3234\")\n",
    "print(solution(\"4177252841\",4),\" >> 775841\")"
   ]
  }
 ],
 "metadata": {
  "kernelspec": {
   "display_name": "Python 3",
   "language": "python",
   "name": "python3"
  },
  "language_info": {
   "codemirror_mode": {
    "name": "ipython",
    "version": 3
   },
   "file_extension": ".py",
   "mimetype": "text/x-python",
   "name": "python",
   "nbconvert_exporter": "python",
   "pygments_lexer": "ipython3",
   "version": "3.7.1"
  }
 },
 "nbformat": 4,
 "nbformat_minor": 2
}
