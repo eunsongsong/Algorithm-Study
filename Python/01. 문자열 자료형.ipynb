{
 "cells": [
  {
   "cell_type": "markdown",
   "metadata": {},
   "source": [
    "## 문자열 요솟값은 바꿀 수 있는 값이 아니다\n",
    "=> 문자열의 요솟값을 바꾸기 위해 슬라이싱 기법을 사용할 수 있다.\n"
   ]
  },
  {
   "cell_type": "markdown",
   "metadata": {},
   "source": [
    "## 문자열 포매팅"
   ]
  },
  {
   "cell_type": "code",
   "execution_count": 3,
   "metadata": {},
   "outputs": [
    {
     "name": "stdout",
     "output_type": "stream",
     "text": [
      "I ate 10 apples. so I was sick for three days.\n"
     ]
    }
   ],
   "source": [
    "number = 10\n",
    "day = \"three\"\n",
    "print(\"I ate %d apples. so I was sick for %s days.\" % (number, day))"
   ]
  },
  {
   "cell_type": "code",
   "execution_count": 5,
   "metadata": {},
   "outputs": [
    {
     "name": "stdout",
     "output_type": "stream",
     "text": [
      "Error is 98%.\n"
     ]
    }
   ],
   "source": [
    "print(\"Error is %d%%.\" % 98)"
   ]
  },
  {
   "cell_type": "code",
   "execution_count": 8,
   "metadata": {},
   "outputs": [
    {
     "name": "stdout",
     "output_type": "stream",
     "text": [
      "'%10s'는 전체 길이가 10개인 문자열 공간에서 \n",
      "대입되는 값을 오른쪽으로 정렬하고 \n",
      "그 앞의 나머지는 공백으로 남겨 두라는 의미이다.\n",
      ">>         hi\n"
     ]
    }
   ],
   "source": [
    "print(\"\"\"'%10s'는 전체 길이가 10개인 문자열 공간에서 \n",
    "대입되는 값을 오른쪽으로 정렬하고 \n",
    "그 앞의 나머지는 공백으로 남겨 두라는 의미이다.\"\"\")\n",
    "print(\">> %10s\" % \"hi\")"
   ]
  },
  {
   "cell_type": "code",
   "execution_count": 12,
   "metadata": {},
   "outputs": [
    {
     "name": "stdout",
     "output_type": "stream",
     "text": [
      "hi를 왼쪽으로 정렬하고 나머지는 공백으로 채움.\n",
      ">> hi        jane.\n"
     ]
    }
   ],
   "source": [
    "print(\"hi를 왼쪽으로 정렬하고 나머지는 공백으로 채움.\")\n",
    "print(\">> %-10sjane.\" % \"hi\")"
   ]
  },
  {
   "cell_type": "code",
   "execution_count": 14,
   "metadata": {},
   "outputs": [
    {
     "name": "stdout",
     "output_type": "stream",
     "text": [
      "소수점 표현하기\n",
      ">> 3.4213\n",
      ">>     3.4213\n"
     ]
    }
   ],
   "source": [
    "print(\"소수점 표현하기\")\n",
    "print(\">> %.4f\" % 3.42134234)\n",
    "print(\">> %10.4f\" % 3.42134234)"
   ]
  },
  {
   "cell_type": "markdown",
   "metadata": {},
   "source": [
    "###### format 함수를 사용한 포매팅"
   ]
  },
  {
   "cell_type": "code",
   "execution_count": 17,
   "metadata": {},
   "outputs": [
    {
     "name": "stdout",
     "output_type": "stream",
     "text": [
      "I eat 3 apples\n",
      "I eat five apples\n",
      "I eat 6 apples\n"
     ]
    }
   ],
   "source": [
    "number = 6\n",
    "print(\"I eat {0} apples\".format(3))\n",
    "print(\"I eat {0} apples\".format(\"five\"))\n",
    "print(\"I eat {0} apples\".format(number))\n"
   ]
  },
  {
   "cell_type": "code",
   "execution_count": 18,
   "metadata": {},
   "outputs": [
    {
     "name": "stdout",
     "output_type": "stream",
     "text": [
      "I ate 10 apples. so I was sick for three days.\n"
     ]
    }
   ],
   "source": [
    "number = 10\n",
    "day = \"three\"\n",
    "print(\"I ate {0} apples. so I was sick for {1} days.\".format(number, day))"
   ]
  },
  {
   "cell_type": "code",
   "execution_count": 20,
   "metadata": {},
   "outputs": [
    {
     "name": "stdout",
     "output_type": "stream",
     "text": [
      "I ate 10 apples. so I was sick for 3 days.\n"
     ]
    }
   ],
   "source": [
    "print(\"I ate {number} apples. so I was sick for {day} days.\".format(number=10, day=3))"
   ]
  },
  {
   "cell_type": "code",
   "execution_count": 22,
   "metadata": {},
   "outputs": [
    {
     "name": "stdout",
     "output_type": "stream",
     "text": [
      "I ate 10 apples. so I was sick for 3 days.\n"
     ]
    }
   ],
   "source": [
    "print(\"I ate {0} apples. so I was sick for {day} days.\".format(10, day=3))"
   ]
  },
  {
   "cell_type": "code",
   "execution_count": 26,
   "metadata": {},
   "outputs": [
    {
     "name": "stdout",
     "output_type": "stream",
     "text": [
      "치환되는 문자열을 왼쪽으로 정렬\n",
      ">> hi         <<\n"
     ]
    }
   ],
   "source": [
    "print(\"치환되는 문자열을 왼쪽으로 정렬\")\n",
    "print(\">>{0:<10}<<\".format(\"hi\"))"
   ]
  },
  {
   "cell_type": "code",
   "execution_count": 28,
   "metadata": {},
   "outputs": [
    {
     "name": "stdout",
     "output_type": "stream",
     "text": [
      "치환되는 문자열을 왼쪽으로 정렬\n",
      ">>        hi<<\n"
     ]
    }
   ],
   "source": [
    "print(\"치환되는 문자열을 오른쪽으로 정렬\")\n",
    "print(\">>{0:>10}<<\".format(\"hi\"))"
   ]
  },
  {
   "cell_type": "code",
   "execution_count": 29,
   "metadata": {},
   "outputs": [
    {
     "name": "stdout",
     "output_type": "stream",
     "text": [
      "치환되는 문자열을 가운데로 정렬\n",
      ">>    hi    <<\n"
     ]
    }
   ],
   "source": [
    "print(\"치환되는 문자열을 가운데로 정렬\")\n",
    "print(\">>{0:^10}<<\".format(\"hi\"))"
   ]
  },
  {
   "cell_type": "code",
   "execution_count": 30,
   "metadata": {},
   "outputs": [
    {
     "name": "stdout",
     "output_type": "stream",
     "text": [
      "공백 채우기\n",
      "====hi====\n",
      "hi!!!!!!!!\n"
     ]
    }
   ],
   "source": [
    "print(\"공백 채우기\")\n",
    "print(\"{0:=^10}\".format(\"hi\"))\n",
    "print(\"{0:!<10}\".format(\"hi\"))"
   ]
  },
  {
   "cell_type": "markdown",
   "metadata": {},
   "source": [
    "###### f 문자열 포매팅"
   ]
  },
  {
   "cell_type": "code",
   "execution_count": 36,
   "metadata": {
    "scrolled": true
   },
   "outputs": [
    {
     "name": "stdout",
     "output_type": "stream",
     "text": [
      "문자열 앞에 f 접두사를 붙인다.\n",
      "나의 이름은 홍길동입니다. 나이는 31입니다.\n"
     ]
    }
   ],
   "source": [
    "name = '홍길동'\n",
    "age = 30\n",
    "print(\"문자열 앞에 f 접두사를 붙인다.\")\n",
    "print(f\"나의 이름은 {name}입니다. 나이는 {age+1}입니다.\")"
   ]
  },
  {
   "cell_type": "code",
   "execution_count": 38,
   "metadata": {},
   "outputs": [
    {
     "name": "stdout",
     "output_type": "stream",
     "text": [
      "f 문자열 포매팅의 딕셔너리 사용\n",
      "나의 이름은 홍길동입니다. 나이는 30입니다.\n"
     ]
    }
   ],
   "source": [
    "d = {'name':'홍길동', 'age':30}\n",
    "print(\"f 문자열 포매팅의 딕셔너리 사용\")\n",
    "print(f'나의 이름은 {d[\"name\"]}입니다. 나이는 {d[\"age\"]}입니다.')"
   ]
  },
  {
   "cell_type": "markdown",
   "metadata": {},
   "source": [
    "## 문자열 관련 함수들"
   ]
  },
  {
   "cell_type": "markdown",
   "metadata": {},
   "source": [
    "###### 문자 개수 세기(count)"
   ]
  },
  {
   "cell_type": "code",
   "execution_count": 39,
   "metadata": {},
   "outputs": [
    {
     "data": {
      "text/plain": [
       "2"
      ]
     },
     "execution_count": 39,
     "metadata": {},
     "output_type": "execute_result"
    }
   ],
   "source": [
    "a = 'hobby'\n",
    "a.count('b')"
   ]
  },
  {
   "cell_type": "markdown",
   "metadata": {},
   "source": [
    "###### 위치 알려주기1(find)"
   ]
  },
  {
   "cell_type": "code",
   "execution_count": 45,
   "metadata": {},
   "outputs": [
    {
     "name": "stdout",
     "output_type": "stream",
     "text": [
      "14\n",
      ">> 문자열 중 문자 b가 처음으로 나온 위치를 반환한다.\n",
      ">> 만약 찾는 문자열이 존재하지 않는다면 -1을 반환한다.\n"
     ]
    }
   ],
   "source": [
    "a = \"Python is the best choice\"\n",
    "print(a.find('b'))\n",
    "print(\">> 문자열 중 문자 b가 처음으로 나온 위치를 반환한다.\")\n",
    "print(\">> 만약 찾는 문자열이 존재하지 않는다면 -1을 반환한다.\")"
   ]
  },
  {
   "cell_type": "markdown",
   "metadata": {},
   "source": [
    "###### 위치 알려주기2(index)"
   ]
  },
  {
   "cell_type": "code",
   "execution_count": 47,
   "metadata": {
    "scrolled": true
   },
   "outputs": [
    {
     "name": "stdout",
     "output_type": "stream",
     "text": [
      "8\n",
      ">> 문자열 중 문자 t가 처음으로 나온 위치를 반환한다.\n",
      ">> 만약 찾는 문자나 문자열이 존재하지 않는다면 오류를 발생시킨다.\n"
     ]
    }
   ],
   "source": [
    "a = \"Life is too short\"\n",
    "print(a.index('t'))\n",
    "print(\">> 문자열 중 문자 t가 처음으로 나온 위치를 반환한다.\")\n",
    "print(\">> 만약 찾는 문자나 문자열이 존재하지 않는다면 오류를 발생시킨다.\")"
   ]
  },
  {
   "cell_type": "markdown",
   "metadata": {},
   "source": [
    "###### 문자열 삽입(join)"
   ]
  },
  {
   "cell_type": "code",
   "execution_count": 49,
   "metadata": {},
   "outputs": [
    {
     "name": "stdout",
     "output_type": "stream",
     "text": [
      "a,b,c,d\n",
      "a,b,c,d\n"
     ]
    }
   ],
   "source": [
    "print(\",\".join('abcd'))\n",
    "print(\",\".join(['a', 'b', 'c', 'd']))"
   ]
  },
  {
   "cell_type": "markdown",
   "metadata": {},
   "source": [
    "###### 소문자->대문자(upper), 대문자->소문자(lower)"
   ]
  },
  {
   "cell_type": "code",
   "execution_count": 51,
   "metadata": {},
   "outputs": [
    {
     "name": "stdout",
     "output_type": "stream",
     "text": [
      "HI\n",
      "hello\n"
     ]
    }
   ],
   "source": [
    "a = \"hi\"\n",
    "print(a.upper())\n",
    "b = \"HELLO\"\n",
    "print(b.lower())"
   ]
  },
  {
   "cell_type": "markdown",
   "metadata": {},
   "source": [
    "###### 공백 지우기(lstrip, rstrip, strip)"
   ]
  },
  {
   "cell_type": "code",
   "execution_count": 54,
   "metadata": {},
   "outputs": [
    {
     "name": "stdout",
     "output_type": "stream",
     "text": [
      "hi    \n",
      "    hi\n",
      "hi\n"
     ]
    }
   ],
   "source": [
    "a = \"    hi    \"\n",
    "print(a.lstrip())\n",
    "print(a.rstrip())\n",
    "print(a.strip())"
   ]
  },
  {
   "cell_type": "markdown",
   "metadata": {},
   "source": [
    "###### 문자열 바꾸기(replace)"
   ]
  },
  {
   "cell_type": "code",
   "execution_count": 58,
   "metadata": {},
   "outputs": [
    {
     "name": "stdout",
     "output_type": "stream",
     "text": [
      "Your leg is too short\n",
      "fff ab ab ab fff\n"
     ]
    }
   ],
   "source": [
    "a = \"Life is too short\"\n",
    "print(a.replace(\"Life\", \"Your leg\"))\n",
    "\n",
    "b = \"abc ab ab ab abc\"\n",
    "print(b.replace(\"abc\", \"fff\"))"
   ]
  },
  {
   "cell_type": "markdown",
   "metadata": {},
   "source": [
    "###### 문자열 나누기(split)"
   ]
  },
  {
   "cell_type": "code",
   "execution_count": 62,
   "metadata": {},
   "outputs": [
    {
     "name": "stdout",
     "output_type": "stream",
     "text": [
      "['Life', 'is', 'too', 'short']\n",
      "['a', 'b', 'c', 'd']\n"
     ]
    }
   ],
   "source": [
    "a = \"Life is too short\"\n",
    "print(a.split())\n",
    "\n",
    "b = \"a:b:c:d\"\n",
    "print(b.split(':'))"
   ]
  },
  {
   "cell_type": "code",
   "execution_count": null,
   "metadata": {},
   "outputs": [],
   "source": []
  },
  {
   "cell_type": "code",
   "execution_count": null,
   "metadata": {},
   "outputs": [],
   "source": []
  },
  {
   "cell_type": "code",
   "execution_count": null,
   "metadata": {},
   "outputs": [],
   "source": []
  },
  {
   "cell_type": "code",
   "execution_count": null,
   "metadata": {},
   "outputs": [],
   "source": []
  },
  {
   "cell_type": "code",
   "execution_count": null,
   "metadata": {},
   "outputs": [],
   "source": []
  }
 ],
 "metadata": {
  "kernelspec": {
   "display_name": "Python 3",
   "language": "python",
   "name": "python3"
  },
  "language_info": {
   "codemirror_mode": {
    "name": "ipython",
    "version": 3
   },
   "file_extension": ".py",
   "mimetype": "text/x-python",
   "name": "python",
   "nbconvert_exporter": "python",
   "pygments_lexer": "ipython3",
   "version": "3.7.1"
  }
 },
 "nbformat": 4,
 "nbformat_minor": 2
}
