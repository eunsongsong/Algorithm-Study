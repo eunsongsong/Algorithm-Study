{
 "cells": [
  {
   "cell_type": "markdown",
   "metadata": {},
   "source": [
    "### >> 문제: programmers L4 [가사 검색](https://programmers.co.kr/learn/courses/30/lessons/60060)\n",
    "\n",
    "자신이 좋아하는 노래 가사에 사용된 단어들 중에  \n",
    "특정 키워드가 몇 개 포함되어 있는지 프로그램으로 개발해 달라는 제안을 받았습니다.  \n",
    "\n",
    "그 제안 사항 중, 키워드는 와일드카드 문자중 하나인 '?'가 포함된 패턴 형태의 문자열을 뜻합니다.  \n",
    "와일드카드 문자인 '?'는 글자 하나를 의미하며, 어떤 문자에도 매치된다고 가정합니다.  \n",
    "예를 들어 \"fro??\"는 \"frodo\", \"front\", \"frost\" 등에 매치되지만 \"frame\", \"frozen\"에는 매치되지 않습니다.  \n",
    "\n",
    "가사에 사용된 모든 단어들이 담긴 배열 words와 찾고자 하는 키워드가 담긴 배열 queries가 주어질 때,  \n",
    "각 키워드 별로 매치된 단어가 몇 개인지 순서대로 배열에 담아 반환하도록 solution 함수를 완성해 주세요.  \n",
    "\n",
    "[가사 단어 제한사항]\n",
    "- words의 길이(가사 단어의 개수)는 2 이상 100,000 이하입니다.\n",
    "- 각 가사 단어의 길이는 1 이상 10,000 이하로 빈 문자열인 경우는 없습니다.\n",
    "- 전체 가사 단어 길이의 합은 2 이상 1,000,000 이하입니다.\n",
    "- 가사에 동일 단어가 여러 번 나올 경우 중복을 제거하고 words에는 하나로만 제공됩니다.\n",
    "- 각 가사 단어는 오직 알파벳 소문자로만 구성되어 있으며, 특수문자나 숫자는 포함하지 않는 것으로 가정합니다.\n",
    "\n",
    "[검색 키워드 제한사항]\n",
    "- queries의 길이(검색 키워드 개수)는 2 이상 100,000 이하입니다.\n",
    "- 각 검색 키워드의 길이는 1 이상 10,000 이하로 빈 문자열인 경우는 없습니다.\n",
    "- 전체 검색 키워드 길이의 합은 2 이상 1,000,000 이하입니다.\n",
    "- 검색 키워드는 중복될 수도 있습니다.\n",
    "- 각 검색 키워드는 오직 알파벳 소문자와 와일드카드 문자인 '?' 로만 구성되어 있으며,  \n",
    "특수문자나 숫자는 포함하지 않는 것으로 가정합니다.\n",
    "- 검색 키워드는 와일드카드 문자인 '?'가 하나 이상 포함돼 있으며,  \n",
    "'?'는 각 검색 키워드의 접두사 아니면 접미사 중 하나로만 주어집니다.\n",
    "    - 예를 들어 \"??odo\", \"fro??\", \"?????\"는 가능한 키워드입니다.\n",
    "    - 반면에 \"frodo\"('?'가 없음), \"fr?do\"('?'가 중간에 있음), \"?ro??\"('?'가 양쪽에 있음)는 불가능한 키워드입니다.\n",
    "\n",
    "*출처: 프로그래머스 코딩 테스트 연습, https://programmers.co.kr/learn/challenges*"
   ]
  },
  {
   "cell_type": "markdown",
   "metadata": {},
   "source": [
    "### >> 풀이"
   ]
  },
  {
   "cell_type": "code",
   "execution_count": 12,
   "metadata": {},
   "outputs": [
    {
     "name": "stdout",
     "output_type": "stream",
     "text": [
      "['frodo', 'front', 'frost', 'frame', 'kakao', 'frozen']\n",
      "[]  >> [3, 2, 4, 1, 0]\n"
     ]
    }
   ],
   "source": [
    "def solution(words, queries):\n",
    "    answer = []\n",
    "    words.sort(key=lambda x:(len(x),x[0]))\n",
    "    print(words)\n",
    "    return answer\n",
    "\n",
    "\n",
    "print(solution([\"frodo\", \"front\", \"frost\", \"frozen\", \"frame\", \"kakao\"],\n",
    "               [\"fro??\", \"????o\", \"fr???\", \"fro???\", \"pro?\"]),\" >> [3, 2, 4, 1, 0]\")"
   ]
  }
 ],
 "metadata": {
  "kernelspec": {
   "display_name": "Python 3",
   "language": "python",
   "name": "python3"
  },
  "language_info": {
   "codemirror_mode": {
    "name": "ipython",
    "version": 3
   },
   "file_extension": ".py",
   "mimetype": "text/x-python",
   "name": "python",
   "nbconvert_exporter": "python",
   "pygments_lexer": "ipython3",
   "version": "3.7.1"
  }
 },
 "nbformat": 4,
 "nbformat_minor": 2
}
