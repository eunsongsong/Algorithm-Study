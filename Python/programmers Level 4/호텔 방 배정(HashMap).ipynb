{
 "cells": [
  {
   "cell_type": "markdown",
   "metadata": {},
   "source": [
    "### >> 문제: programmers L4 [호텔 방 배정](https://programmers.co.kr/learn/courses/30/lessons/64063)\n",
    "\n",
    "스노우타운에서 호텔을 운영하고 있는 스카피는 호텔에 투숙하려는 고객들에게 방을 배정하려 합니다.  \n",
    "호텔에는 방이 총 k개 있으며, 각각의 방은 1번부터 k번까지 번호로 구분하고 있습니다.  \n",
    "처음에는 모든 방이 비어 있으며 스카피는 다음과 같은 규칙에 따라 고객에게 방을 배정하려고 합니다.  \n",
    "\n",
    "1. 한 번에 한 명씩 신청한 순서대로 방을 배정합니다.\n",
    "2. 고객은 투숙하기 원하는 방 번호를 제출합니다.\n",
    "3. 고객이 원하는 방이 비어 있다면 즉시 배정합니다.\n",
    "4. 고객이 원하는 방이 이미 배정되어 있으면,  \n",
    "원하는 방보다 번호가 크면서 비어있는 방 중 가장 번호가 작은 방을 배정합니다.\n",
    "5. 예를 들어, 방이 총 10개이고, 고객들이 원하는 방 번호가  \n",
    "순서대로 [1, 3, 4, 1, 3, 1] 일 경우 다음과 같이 방을 배정받게 됩니다.  \n",
    "\n",
    "|원하는 방 번호|\t배정된 방 번호|\n",
    "|:-:|:-:|\n",
    "|1|\t1|\n",
    "|3|\t3|\n",
    "|4|\t4|\n",
    "|1|\t2|\n",
    "|3|\t5|\n",
    "|1|\t6|  \n",
    "\n",
    "전체 방 개수 k와 고객들이 원하는 방 번호가 순서대로 들어있는 배열 room_number가 매개변수로 주어질 때,  \n",
    "각 고객에게 배정되는 방 번호를 순서대로 배열에 담아 return 하도록 solution 함수를 완성해주세요.  \n",
    "\n",
    "[제한사항]\n",
    "- k는 1 이상 $10^{12}$ 이하인 자연수입니다.\n",
    "- room_number 배열의 크기는 1 이상 200,000 이하입니다.\n",
    "- room_number 배열 각 원소들의 값은 1 이상 k 이하인 자연수입니다.\n",
    "- room_number 배열은 모든 고객이 방을 배정받을 수 있는 경우만 입력으로 주어집니다.  \n",
    "    - 예를 들어, k = 5, room_number = [5, 5] 와 같은 경우는 방을 배정받지 못하는 고객이 발생하므로  \n",
    "    이런 경우는 입력으로 주어지지 않습니다.\n",
    "\n",
    "*출처: 프로그래머스 코딩 테스트 연습, https://programmers.co.kr/learn/challenges*"
   ]
  },
  {
   "cell_type": "markdown",
   "metadata": {},
   "source": [
    "### >> 오답노트(정확성: 78.8, 효율성: 0.0, 합계: 78.8 / 100.0)"
   ]
  },
  {
   "cell_type": "code",
   "execution_count": 1,
   "metadata": {},
   "outputs": [
    {
     "name": "stdout",
     "output_type": "stream",
     "text": [
      "True [1, 3, 4, 2, 5, 6]\n"
     ]
    }
   ],
   "source": [
    "def solution(k, room_number):\n",
    "    answer = []\n",
    "    room = [i+1 for i in range(k)] # 전체 방 번호(방이 이미 배정된 상태이면 -1으로 표시)\n",
    "    \n",
    "    for i in room_number: # 고객이 원하는 방 번호 탐색\n",
    "        for j in range(i-1, len(room)): # 전체 방 번호의 인덱스 탐색\n",
    "            if room[j] != -1: # 방이 배정되지 않았다면\n",
    "                answer.append(j+1) # 방을 배정하고\n",
    "                room[j] = -1 # 배정된 방을 0으로 표시\n",
    "                break\n",
    "    \n",
    "    return answer\n",
    "\n",
    "\n",
    "print(solution(10,[1,3,4,1,3,1])==[1,3,4,2,5,6],solution(10,[1,3,4,1,3,1]))"
   ]
  },
  {
   "cell_type": "code",
   "execution_count": 2,
   "metadata": {},
   "outputs": [
    {
     "name": "stdout",
     "output_type": "stream",
     "text": [
      "True [1, 3, 4, 2, 5, 6]\n"
     ]
    }
   ],
   "source": [
    "def solution(k, room_number):\n",
    "    answer = []\n",
    "    room = [0 for i in range(k)] # 비어있는 방:0, 배정된 방:1 (방 번호는 index+1)\n",
    "    \n",
    "    for i in room_number:\n",
    "        if room[i-1] == 0: # 방이 비어있으면 \n",
    "            answer.append(i) # 방을 배정하고\n",
    "            room[i-1] = 1 # 배정된 방을 1로 표시\n",
    "        else: # 방이 비어있지 않으면\n",
    "            index = i + room[i:].index(0) # 원하는 방 번호보다 크면서 비어있는 방 찾음\n",
    "            answer.append(index+1) # 찾은 방을 배정하고\n",
    "            room[index] = 1 # 배정된 방을 1로 표시\n",
    "    \n",
    "    return answer\n",
    "\n",
    "\n",
    "print(solution(10,[1,3,4,1,3,1])==[1,3,4,2,5,6],solution(10,[1,3,4,1,3,1]))"
   ]
  },
  {
   "cell_type": "markdown",
   "metadata": {},
   "source": [
    "# >> 풀이"
   ]
  },
  {
   "cell_type": "markdown",
   "metadata": {},
   "source": [
    "[효율성 풀이](https://tech.kakao.com/2020/04/01/2019-internship-test/)\n",
    "\n",
    "먼저 고객에게 배정할 방이 빈 방이면 즉시 배정합니다.  \n",
    "이때, **배정된 방 번호를 노드로 만들어 준 후,**  \n",
    "**부모 노드는 단순히 현재 방 번호에 1을 더한 값으로 지정**합니다.  \n",
    "\n",
    "만약 고객에게 배정할 방이 빈 방이 아니면 다음과 같이 배정할 빈 방을 탐색합니다.  \n",
    "\n",
    "- **현재 노드의 방이 빈 방이 아니면 빈 방이 나올 때까지 부모 노드를 계속 방문**합니다.  \n",
    "- 빈 방이 나오면 고객에게 배정하고, 배정된 방 번호를 노드로 만든 후,  \n",
    "부모 노드는 배정된 방 번호에 1을 더해준 값으로 지정합니다. \n",
    "- 빈 방이 나오기 전까지 방문한 노드들의 부모 노드 또한 고객에게 배정한 방 번호에 1을 더한 값으로 수정합니다.  \n",
    "\n",
    "예를 들어 고객들이 원하는 방 번호가 순서대로 [1, 3, 1, 1]인 경우 다음과 같이 빈 방을 찾게 됩니다.  \n",
    "\n",
    "1. 먼저 1번 방이 비어있으므로 즉시 배정 후, 부모 노드를 2번 방으로 지정합니다.  \n",
    "<img src=\"https://tech.kakao.com/wp-content/uploads/2020/04/p4image_1.png\" title=\"[출처: kakao Tech, https://tech.kakao.com/2020/04/01/2019-internship-test/]\">\n",
    "\n",
    "2. 3번 방이 비어있으므로 즉시 배정 후, 부모 노드를 4번 방으로 지정합니다.\n",
    "<img src=\"https://tech.kakao.com/wp-content/uploads/2020/04/p4image_2.png\" title=\"[출처: kakao Tech, https://tech.kakao.com/2020/04/01/2019-internship-test/]\">\n",
    "\n",
    "3. 1번 방이 빈 방이 아니므로 부모 노드인 2번 방을 방문합니다.  \n",
    "2번 방은 빈 방이므로 즉시 방을 배정하고 바로 다음 방인 3번 방을 부모 노드로 지정합니다.  \n",
    "또, 이전에 방문한 1번 방의 부모 노드 또한 3번 방으로 지정해줍니다.\n",
    "<img src=\"https://tech.kakao.com/wp-content/uploads/2020/04/p4image_3.png\" title=\"[출처: kakao Tech, https://tech.kakao.com/2020/04/01/2019-internship-test/]\">\n",
    "\n",
    "4. 1번 방이 빈 방이 아니므로 부모 노드인 3번 방을 방문합니다.  \n",
    "3번 방 또한 빈 방이 아니므로 부모 노드인 4번 방을 방문합니다.  \n",
    "4번 방은 빈 방이므로 즉시 방을 배정하고 바로 다음 방인 5번 방을 부모 노드로 지정합니다.  \n",
    "또, 이전에 방문한 1번, 3번 방의 부모 노드 또한 5번 방으로 지정합니다.\n",
    "<img src=\"https://tech.kakao.com/wp-content/uploads/2020/04/p4image_4.png\" title=\"[출처: kakao Tech, https://tech.kakao.com/2020/04/01/2019-internship-test/]\">\n",
    "\n",
    "만약 다른 고객이 다시 1번 방을 원할 경우,  \n",
    "중간 방들을 건너뛰고 5번 방부터 탐색한다는 사실을 위 그림을 통해 알 수 있습니다.  \n",
    "\n",
    "이와 같이 방문하는 방의 부모 노드를 갱신해 주면서 방을 배정해 나가면  \n",
    "고객에게 배정해야 되는 방의 번호를 빠르게 찾을 수 있습니다.  \n",
    "\n",
    "이때, 전체 방 개수가 $10^{12}$ 개 이므로 배열을 이용해 모든 방을 나타낼 경우 메모리가 부족하게 됩니다.  \n",
    "고객들에게 배정되는 방 개수는 최대 20만 개 이므로,  \n",
    "HashMap 등을 이용해서 필요한 만큼 노드를 생성하면 메모리를 절약할 수 있습니다.\n",
    "\n",
    "*출처: kakao Tech, https://tech.kakao.com/2020/04/01/2019-internship-test/*"
   ]
  },
  {
   "cell_type": "markdown",
   "metadata": {},
   "source": [
    "### >> 오답노트(재귀, 정확성: 78.8, 효율성: 0.0, 합계: 78.8 / 100.0)"
   ]
  },
  {
   "cell_type": "code",
   "execution_count": 3,
   "metadata": {},
   "outputs": [
    {
     "name": "stdout",
     "output_type": "stream",
     "text": [
      "True\n",
      "True\n",
      "True\n"
     ]
    }
   ],
   "source": [
    "import sys\n",
    "sys.setrecursionlimit(10000000)\n",
    "\n",
    "def solution(k, room_number):\n",
    "    answer = []\n",
    "    room = dict() # 배정된 방 정보(key: 방 번호, value: 부모노드)\n",
    "    \n",
    "    for num in room_number: # 고객이 원하는 방 번호 탐색\n",
    "        answer.append(findEmpty(num, room)) # 비어있는 방 배정\n",
    "        \n",
    "    return answer\n",
    "\n",
    "\n",
    "# 비어있는 방을 찾는 함수\n",
    "def findEmpty(num, room):\n",
    "    if num not in room:# room에 방 정보가 없으면 비어있는 방이다    \n",
    "        room[num] = num+1 # +1번 방으로 부모노드 지정\n",
    "        \n",
    "    else: # 방이 비어있지 않으면 재귀호출로 부모노드를 찾는다\n",
    "        num = findEmpty(room[num], room) \n",
    "        \n",
    "    return num # 비어있는 방 번호 리턴\n",
    "\n",
    "        \n",
    "print(solution(10,[1,3,1,2,1,1])==[1,3,2,4,5,6])\n",
    "print(solution(10,[1,3,2,1,1])==[1,3,2,4,5])\n",
    "print(solution(10,[1,3,4,1,3,1])==[1,3,4,2,5,6])"
   ]
  },
  {
   "cell_type": "markdown",
   "metadata": {},
   "source": [
    "### >> 오답노트(정확성: 78.8, 효율성: 12.1, 합계: 90.9 / 100.0)"
   ]
  },
  {
   "cell_type": "code",
   "execution_count": 4,
   "metadata": {},
   "outputs": [
    {
     "name": "stdout",
     "output_type": "stream",
     "text": [
      "room {1: 7, 3: 4, 2: 5, 4: 5, 5: 6, 6: 7}\n",
      "answer [1, 3, 2, 4, 5, 6]\n",
      "True\n",
      "room {1: 6, 3: 4, 2: 3, 4: 5, 5: 6}\n",
      "answer [1, 3, 2, 4, 5]\n",
      "True\n",
      "room {1: 7, 3: 6, 4: 5, 2: 3, 5: 6, 6: 7}\n",
      "answer [1, 3, 4, 2, 5, 6]\n",
      "True\n"
     ]
    }
   ],
   "source": [
    "def solution(k, room_number):\n",
    "    answer = []\n",
    "    room = dict() # 배정된 방 정보\n",
    "    \n",
    "    for i in room_number: # 고객이 원하는 방 번호 탐색\n",
    "        if i not in room: # i번 방이 배정된 적이 없으면\n",
    "            answer.append(i) # i번 방을 배정한 후 \n",
    "            room[i] = i+1 # i번 방의 다음 배정 정보를 저장\n",
    "        else: # i번 방이 배정된 적이 있으면\n",
    "            # 다음으로 배정할 수 있는 방 정보를 찾는다\n",
    "            temp = room[i] \n",
    "            while temp in room:\n",
    "                temp = room[temp]\n",
    "            answer.append(temp) \n",
    "            # 방을 배정한 후, i번 방의 다음 배정 정보를 찾아서 저장\n",
    "            room[temp] = temp + 1\n",
    "            room[i] = temp +1\n",
    "            \n",
    "    print('room',room)   \n",
    "    print('answer',answer)\n",
    "    return answer\n",
    "\n",
    "print(solution(10,[1,3,1,2,1,1])==[1,3,2,4,5,6])\n",
    "print(solution(10,[1,3,2,1,1])==[1,3,2,4,5])\n",
    "print(solution(10,[1,3,4,1,3,1])==[1,3,4,2,5,6])"
   ]
  },
  {
   "cell_type": "markdown",
   "metadata": {},
   "source": [
    "### >> 다른풀이(정확성: 78.8, 효율성: 21.2, 합계: 100.0 / 100.0)\n",
    "1. 비어있는 방을 찾을 때까지 **탐색한 방 번호를 모두 기록**한 후,\n",
    "2. 기록된 방의 부모노드를 모두 바꿔준다"
   ]
  },
  {
   "cell_type": "code",
   "execution_count": 5,
   "metadata": {},
   "outputs": [
    {
     "name": "stdout",
     "output_type": "stream",
     "text": [
      "True\n",
      "True\n",
      "True\n"
     ]
    }
   ],
   "source": [
    "def solution(k, room_number):\n",
    "    answer = []\n",
    "    room = dict()\n",
    "    \n",
    "    for num in room_number: # 고객이 원하는 방 번호 탐색\n",
    "        visit = [num] # 탐색한 방 번호 기록\n",
    "        while num in room: # room에 방 번호(num) 정보가 있으면 이미 배정된 방이다\n",
    "            num = room[num] # 부모노드로 이동\n",
    "            visit.append(num) # 탐색한 방 번호 기록\n",
    "        answer.append(num) # while문을 빠져나오면 비어있는 방이므로 방 배정\n",
    "        for i in visit: # 탐색한 방 번호의 부모노드는 모두 배정되었으므로 num+1해준다\n",
    "            room[i] = num+1\n",
    "\n",
    "    return answer\n",
    "\n",
    "print(solution(10,[1,3,1,2,1,1])==[1,3,2,4,5,6])\n",
    "print(solution(10,[1,3,2,1,1])==[1,3,2,4,5])\n",
    "print(solution(10,[1,3,4,1,3,1])==[1,3,4,2,5,6])"
   ]
  }
 ],
 "metadata": {
  "kernelspec": {
   "display_name": "Python 3",
   "language": "python",
   "name": "python3"
  },
  "language_info": {
   "codemirror_mode": {
    "name": "ipython",
    "version": 3
   },
   "file_extension": ".py",
   "mimetype": "text/x-python",
   "name": "python",
   "nbconvert_exporter": "python",
   "pygments_lexer": "ipython3",
   "version": "3.7.1"
  }
 },
 "nbformat": 4,
 "nbformat_minor": 2
}
