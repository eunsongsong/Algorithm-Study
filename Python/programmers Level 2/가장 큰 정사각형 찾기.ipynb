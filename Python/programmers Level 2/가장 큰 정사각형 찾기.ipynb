{
 "cells": [
  {
   "cell_type": "markdown",
   "metadata": {},
   "source": [
    "### >> 문제: programmers L2 [가장 큰 정사각형 찾기](https://programmers.co.kr/learn/courses/30/lessons/12905)\n",
    "\n",
    "1와 0로 채워진 표(board)가 있습니다. 표 1칸은 1 x 1 의 정사각형으로 이루어져 있습니다.  \n",
    "표에서 1로 이루어진 가장 큰 정사각형을 찾아 넓이를 return 하는 solution 함수를 완성해 주세요.  \n",
    "(단, 정사각형이란 축에 평행한 정사각형을 말합니다.)  \n",
    "\n",
    "예를 들어 아래와 같은 표가 있다면  \n",
    "가장 큰 정사각형의 넓이는 9가 되므로 9를 반환해 주면 됩니다.  \n",
    "\n",
    "|1|\t2|\t3|\t4|\n",
    "|:-:|:-:|:-:|:-:|\n",
    "|0|\t1|\t1|\t1|\n",
    "|1|\t1|\t1|\t1|\n",
    "|1|\t1|\t1|\t1|\n",
    "|0|\t0|\t1|\t0|\n",
    "\n",
    "\n",
    "- 표(board)는 2차원 배열로 주어집니다.\n",
    "- 표(board)의 행(row)의 크기 : 1,000 이하의 자연수\n",
    "- 표(board)의 열(column)의 크기 : 1,000 이하의 자연수\n",
    "- 표(board)의 값은 1또는 0으로만 이루어져 있습니다.\n",
    "\n",
    "*출처: 프로그래머스 코딩 테스트 연습, https://programmers.co.kr/learn/challenges*"
   ]
  },
  {
   "cell_type": "markdown",
   "metadata": {},
   "source": [
    "### >> 풀이\n",
    "<img src=\"https://raw.githubusercontent.com/eunsongsong/Algorithm-Study/master/Python/programmers%20Level%202/%EA%B0%80%EC%9E%A5%20%ED%81%B0%20%EC%A0%95%EC%82%AC%EA%B0%81%ED%98%95%20%EC%B0%BE%EA%B8%B0jpg?raw=true\" align=\"right\" width=\"50%\">  <br><br>\n",
    " \n",
    " \n",
    "board[0][0], board[0][1], board[1][0] 중  \n",
    "최솟값을 board[1][1]에 더하여 표를 확장해 나간다  \n",
    "\n",
    "확장된 표에서 최댓값이  \n",
    "가장 큰 정사각형의 한 변의 길이이다  \n",
    "\n",
    "(만약, board[1][1]이 0이면 아무 값도 더하지 않음)  \n"
   ]
  },
  {
   "cell_type": "code",
   "execution_count": 1,
   "metadata": {},
   "outputs": [
    {
     "name": "stdout",
     "output_type": "stream",
     "text": [
      "16  >> 16\n",
      "9  >> 9\n",
      "4  >> 4\n"
     ]
    }
   ],
   "source": [
    "def solution(board):\n",
    "    answer = 0\n",
    "    row = 0\n",
    "    while row < len(board)-1:\n",
    "        col = 0\n",
    "        while col < len(board[0])-1:\n",
    "            if board[row+1][col+1] != 0: # board[row+1][col+1] != 0인 경우에만 확장\n",
    "                temp = board[row][col]\n",
    "                if board[row][col+1] < temp:\n",
    "                    temp = board[row][col+1]\n",
    "                if board[row+1][col] < temp:\n",
    "                    temp = board[row+1][col]\n",
    "                board[row+1][col+1] += temp\n",
    "            col += 1\n",
    "        row += 1\n",
    "    \n",
    "    for b in board:\n",
    "        temp = max(b)\n",
    "        if temp > answer:\n",
    "            answer = temp       \n",
    "    return answer**2\n",
    "\n",
    "print(solution([[0,1,1,1,0],[1,1,1,1,1],[0,1,1,1,1],[0,1,1,1,1],[1,1,1,1,1]]),\" >> 16\")\n",
    "print(solution([[0,1,1,1],[1,1,1,1],[1,1,1,1],[0,0,1,0]]),\" >> 9\")\n",
    "print(solution([[0,0,1,1],[1,1,1,1]]),\" >> 4\")"
   ]
  }
 ],
 "metadata": {
  "kernelspec": {
   "display_name": "Python 3",
   "language": "python",
   "name": "python3"
  },
  "language_info": {
   "codemirror_mode": {
    "name": "ipython",
    "version": 3
   },
   "file_extension": ".py",
   "mimetype": "text/x-python",
   "name": "python",
   "nbconvert_exporter": "python",
   "pygments_lexer": "ipython3",
   "version": "3.7.1"
  }
 },
 "nbformat": 4,
 "nbformat_minor": 2
}
