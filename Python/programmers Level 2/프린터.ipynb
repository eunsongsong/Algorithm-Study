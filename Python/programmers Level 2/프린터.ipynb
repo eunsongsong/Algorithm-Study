{
 "cells": [
  {
   "cell_type": "markdown",
   "metadata": {},
   "source": [
    "### >> 문제: programmers L2 [프린터](https://programmers.co.kr/learn/courses/30/lessons/42587?language=java)\n",
    "\n",
    "일반적인 프린터는 인쇄 요청이 들어온 순서대로 인쇄합니다.  \n",
    "그렇기 때문에 중요한 문서가 나중에 인쇄될 수 있습니다.  \n",
    "이런 문제를 보완하기 위해 중요도가 높은 문서를 먼저 인쇄하는 프린터를 개발했습니다.  \n",
    "이 새롭게 개발한 프린터는 아래와 같은 방식으로 인쇄 작업을 수행합니다.\n",
    "\n",
    "1. 인쇄 대기목록의 가장 앞에 있는 문서(J)를 대기목록에서 꺼냅니다.\n",
    "2. 나머지 인쇄 대기목록에서 J보다 중요도가 높은 문서가 한 개라도 존재하면 J를 대기목록의 가장 마지막에 넣습니다.\n",
    "3. 그렇지 않으면 J를 인쇄합니다.  \n",
    "\n",
    "예를 들어, 4개의 문서(A, B, C, D)가 순서대로 인쇄 대기목록에 있고  \n",
    "중요도가 2 1 3 2 라면 C D A B 순으로 인쇄하게 됩니다.  \n",
    "\n",
    "내가 인쇄를 요청한 문서가 몇 번째로 인쇄되는지 알고 싶습니다.  \n",
    "위의 예에서 C는 1번째로, A는 3번째로 인쇄됩니다.\n",
    "\n",
    "현재 대기목록에 있는 문서의 중요도가 순서대로 담긴 배열 priorities와  \n",
    "내가 인쇄를 요청한 문서가 현재 대기목록의 어떤 위치에 있는지를 알려주는 location이 매개변수로 주어질 때,  \n",
    "내가 인쇄를 요청한 문서가 몇 번째로 인쇄되는지 return 하도록 solution 함수를 작성해주세요.  \n",
    "\n",
    "* 현재 대기목록에는 1개 이상 100개 이하의 문서가 있습니다.\n",
    "* 인쇄 작업의 중요도는 1~9로 표현하며 숫자가 클수록 중요하다는 뜻입니다.\n",
    "* location은 0 이상 (현재 대기목록에 있는 작업 수 - 1) 이하의 값을 가지며  \n",
    "대기목록의 가장 앞에 있으면 0, 두 번째에 있으면 1로 표현합니다.\n",
    "\n",
    "*출처: 프로그래머스 코딩 테스트 연습, https://programmers.co.kr/learn/challenges*"
   ]
  },
  {
   "cell_type": "markdown",
   "metadata": {},
   "source": [
    "### >> 풀이"
   ]
  },
  {
   "cell_type": "code",
   "execution_count": 1,
   "metadata": {},
   "outputs": [
    {
     "name": "stdout",
     "output_type": "stream",
     "text": [
      "1  >> 1\n",
      "5  >> 5\n"
     ]
    }
   ],
   "source": [
    "def solution(priorities, location):\n",
    "    answer = 0\n",
    "    while True: # 찾는 값이 나올 때까지 반복\n",
    "        if priorities[0] != max(priorities): # 대기목록 가장 앞에 있는 문서의 중요도가 제일 높지 않으면\n",
    "            priorities.append(priorities[0]) # 대기목록 가장 뒤에 추가하고 \n",
    "            priorities.pop(0) # 가장 앞에서 삭제\n",
    "            if location == 0: # 요청한 문서의 인덱스가 0이면\n",
    "                location = len(priorities) - 1 # 요청한 문서의 인덱스 값을 맨 뒤로 \n",
    "            else: # 요청한 문서의 인덱스가 0이 아니면 \n",
    "                location -= 1 # 인덱스의 위치를 -1\n",
    "        else: # 대기목록 가장 앞에 있는 문서의 중요도가 가장 높으면\n",
    "            answer += 1 # 해당 문서가 출력되므로, answer를 +1 해주고\n",
    "            if location == 0: # 요청한 문서의 인덱스가 0이면\n",
    "                return answer # 요청한 문서를 출력한 것이므로 answer를 반환\n",
    "            priorities.pop(0) # 해당 문서를 꺼냄\n",
    "            location -= 1 # 요청한 문서의 인덱스가 0이 아니면 인덱스의 위치를 -1\n",
    "    return answer\n",
    "\n",
    "print(solution([2, 1, 3, 2],2),\" >> 1\")\n",
    "print(solution([1, 1, 9, 1, 1, 1],0),\" >> 5\")"
   ]
  }
 ],
 "metadata": {
  "kernelspec": {
   "display_name": "Python 3",
   "language": "python",
   "name": "python3"
  },
  "language_info": {
   "codemirror_mode": {
    "name": "ipython",
    "version": 3
   },
   "file_extension": ".py",
   "mimetype": "text/x-python",
   "name": "python",
   "nbconvert_exporter": "python",
   "pygments_lexer": "ipython3",
   "version": "3.7.1"
  }
 },
 "nbformat": 4,
 "nbformat_minor": 2
}
