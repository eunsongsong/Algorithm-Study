{
 "cells": [
  {
   "cell_type": "markdown",
   "metadata": {},
   "source": [
    "### >> 문제: programmers L2 [올바른 괄호](https://programmers.co.kr/learn/courses/30/lessons/12909)\n",
    "\n",
    "괄호가 바르게 짝지어졌다는 것은 '(' 문자로 열렸으면 반드시 짝지어서 ')' 문자로 닫혀야 한다는 뜻입니다.  \n",
    "\n",
    "예를 들어,  \n",
    "()() 또는 (())() 는 올바른 괄호입니다.  \n",
    ")()( 또는 (()( 는 올바르지 않은 괄호입니다.  \n",
    "\n",
    "'(' 또는 ')' 로만 이루어진 문자열 s가 주어졌을 때,  \n",
    "문자열 s가 올바른 괄호이면 true를 return 하고,  \n",
    "올바르지 않은 괄호이면 false를 return 하는 solution 함수를 완성해 주세요.\n",
    "\n",
    "* 문자열 s의 길이 : 100,000 이하의 자연수\n",
    "* 문자열 s는 '(' 또는 ')' 로만 이루어져 있습니다.\n",
    "\n",
    "*출처: 프로그래머스 코딩 테스트 연습, https://programmers.co.kr/learn/challenges*"
   ]
  },
  {
   "cell_type": "markdown",
   "metadata": {},
   "source": [
    "### >> 풀이"
   ]
  },
  {
   "cell_type": "code",
   "execution_count": 12,
   "metadata": {},
   "outputs": [
    {
     "name": "stdout",
     "output_type": "stream",
     "text": [
      "True  >> true\n",
      "True  >> true\n",
      "False  >> false\n",
      "False  >> false\n"
     ]
    }
   ],
   "source": [
    "def solution(s):\n",
    "    answer = True\n",
    "    \n",
    "    count = 0\n",
    "    for i in s:\n",
    "        if i == \"(\":\n",
    "            count += 1\n",
    "        else:\n",
    "            count -= 1\n",
    "        if count < 0:\n",
    "            return False\n",
    "    if count != 0:\n",
    "        return False\n",
    "    return True\n",
    "\n",
    "print(solution(\"()()\"), \" >> true\")\n",
    "print(solution(\"(())()\"), \" >> true\")\n",
    "print(solution(\")()(\"), \" >> false\")\n",
    "print(solution(\"(()(\"), \" >> false\")"
   ]
  }
 ],
 "metadata": {
  "kernelspec": {
   "display_name": "Python 3",
   "language": "python",
   "name": "python3"
  },
  "language_info": {
   "codemirror_mode": {
    "name": "ipython",
    "version": 3
   },
   "file_extension": ".py",
   "mimetype": "text/x-python",
   "name": "python",
   "nbconvert_exporter": "python",
   "pygments_lexer": "ipython3",
   "version": "3.7.1"
  }
 },
 "nbformat": 4,
 "nbformat_minor": 2
}
