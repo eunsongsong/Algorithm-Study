{
 "cells": [
  {
   "cell_type": "markdown",
   "metadata": {},
   "source": [
    "### >> 문제: programmers L2 [기능개발](https://programmers.co.kr/learn/courses/30/lessons/42586)\n",
    "\n",
    "프로그래머스 팀에서는 기능 개선 작업을 수행 중입니다.  \n",
    "각 기능은 진도가 100%일 때 서비스에 반영할 수 있습니다.  \n",
    "\n",
    "또, 각 기능의 개발속도는 모두 다르기 때문에 뒤에 있는 기능이 앞에 있는 기능보다 먼저 개발될 수 있고,  \n",
    "이때 뒤에 있는 기능은 앞에 있는 기능이 배포될 때 함께 배포됩니다.  \n",
    "\n",
    "먼저 배포되어야 하는 순서대로 작업의 진도가 적힌 정수 배열 progresses와  \n",
    "각 작업의 개발 속도가 적힌 정수 배열 speeds가 주어질 때  \n",
    "각 배포마다 몇 개의 기능이 배포되는지를 return 하도록 solution 함수를 완성하세요.  \n",
    "\n",
    "- 작업의 개수(progresses, speeds배열의 길이)는 100개 이하입니다.\n",
    "- 작업 진도는 100 미만의 자연수입니다.\n",
    "- 작업 속도는 100 이하의 자연수입니다.\n",
    "- 배포는 하루에 한 번만 할 수 있으며, 하루의 끝에 이루어진다고 가정합니다.  \n",
    "예를 들어 진도율이 95%인 작업의 개발 속도가 하루에 4%라면 배포는 2일 뒤에 이루어집니다.\n",
    "\n",
    "*출처: 프로그래머스 코딩 테스트 연습, https://programmers.co.kr/learn/challenges*"
   ]
  },
  {
   "cell_type": "markdown",
   "metadata": {},
   "source": [
    "### >> 풀이"
   ]
  },
  {
   "cell_type": "code",
   "execution_count": 1,
   "metadata": {},
   "outputs": [
    {
     "name": "stdout",
     "output_type": "stream",
     "text": [
      "[2, 1]  >> [2,1]\n",
      "True\n"
     ]
    }
   ],
   "source": [
    "def solution(progresses, speeds):\n",
    "    answer = []\n",
    "    day = [] # 작업이 완료되는데 걸리는 날짜 저장\n",
    "    \n",
    "    # temp에 작업이 완료되는데 걸리는 날짜 저장\n",
    "    for i in range(len(progresses)):\n",
    "        day.append((100 - progresses[i]) // speeds[i])\n",
    "        if (100-progresses[i]) % speeds[i] != 0:\n",
    "            day[i] += 1\n",
    "    \n",
    "    temp, count = day[0], 1\n",
    "    for d in day[1:]:\n",
    "        if d - temp <= 0:\n",
    "            count += 1\n",
    "        else:\n",
    "            answer.append(count)\n",
    "            temp = d\n",
    "            count = 1\n",
    "    answer.append(count)\n",
    "\n",
    "    return answer\n",
    "\n",
    "print(solution([93,30,55],[1,30,5]),\" >> [2,1]\")\n",
    "print(solution([93,30,20,55,10,4,1],[1,30,7,5,4,8,4]) == [2,2,2,1])"
   ]
  },
  {
   "cell_type": "markdown",
   "metadata": {},
   "source": [
    "### >> 다른풀이(zip)"
   ]
  },
  {
   "cell_type": "code",
   "execution_count": 2,
   "metadata": {},
   "outputs": [
    {
     "name": "stdout",
     "output_type": "stream",
     "text": [
      "[[7, 2], [9, 1]]\n",
      "[2, 1]  >> [2,1]\n",
      "[[7, 2], [12, 2], [23, 2], [25, 1]]\n",
      "True\n"
     ]
    }
   ],
   "source": [
    "def solution(progresses, speeds):\n",
    "    answer = [] # [[배포 일자, 배포 수량],[...]]\n",
    "    for p, s in zip(progresses, speeds):\n",
    "        temp = -((p-100)//s) # 작업을 완료하는데 걸리는 날짜\n",
    "        if not answer or answer[-1][0] < temp: # 이전 작업보다 오래 걸리면\n",
    "            answer.append([temp,1]) # 해당 일자부터 다시 배포 시작\n",
    "        else: # 이전 작업보다 적게 걸리면\n",
    "            answer[-1][1] += 1 # 이전 작업과 함께 배포\n",
    "    print(answer)\n",
    "    return [i[1] for i in answer]\n",
    "\n",
    "print(solution([93,30,55],[1,30,5]),\" >> [2,1]\")\n",
    "print(solution([93,30,20,55,10,4,1],[1,30,7,5,4,8,4]) == [2,2,2,1])"
   ]
  }
 ],
 "metadata": {
  "kernelspec": {
   "display_name": "Python 3",
   "language": "python",
   "name": "python3"
  },
  "language_info": {
   "codemirror_mode": {
    "name": "ipython",
    "version": 3
   },
   "file_extension": ".py",
   "mimetype": "text/x-python",
   "name": "python",
   "nbconvert_exporter": "python",
   "pygments_lexer": "ipython3",
   "version": "3.7.1"
  }
 },
 "nbformat": 4,
 "nbformat_minor": 2
}
