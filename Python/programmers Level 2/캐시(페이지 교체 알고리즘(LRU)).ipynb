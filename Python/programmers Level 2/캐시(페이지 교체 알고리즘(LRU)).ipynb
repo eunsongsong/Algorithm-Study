{
 "cells": [
  {
   "cell_type": "markdown",
   "metadata": {},
   "source": [
    "# 페이지 교체 알고리즘"
   ]
  },
  {
   "cell_type": "markdown",
   "metadata": {},
   "source": [
    "* **FIFO(First In First Out)**  \n",
    "가장 먼저 들어온 페이지를 교체  \n",
    "* **OPT(optimal)**  \n",
    "앞으로 가장 오랫동안 사용하지 않을 페이지 교체  \n",
    "일반 OS에서는 구현 불가  \n",
    "* **LRU(Least Recently Used)**  \n",
    "가장 오랫동안 사용되지 않은 페이지 교체  \n",
    "* **LFU(Least Frequently Used)**  \n",
    "가장 적게 사용된 페이지 교체  \n",
    "* **NUR(Not Used Recently)**  \n",
    "참조 비트와 수정 비트로 최근에 사용하지 않은 페이지부터 교체  \n",
    "각 페이지마다 참조 비트(R), 수정 비트(M)을 둠 (R,M)  \n",
    "(0,0),(0,1),(1,0),(1,1) 순으로 페이지 교체"
   ]
  },
  {
   "cell_type": "markdown",
   "metadata": {},
   "source": [
    "### >> 문제: programmers L2 [캐시](https://programmers.co.kr/learn/courses/30/lessons/17680)\n",
    "\n",
    "지도개발팀에서 근무하는 제이지는 지도에서 도시 이름을 검색하면  \n",
    "해당 도시와 관련된 맛집 게시물들을 데이터베이스에서 읽어 보여주는 서비스를 개발하고 있다.  \n",
    "\n",
    "테스팅 업무를 담당하고 있는 어피치는 각 로직에 대한 성능 측정을 수행하였는데,  \n",
    "데이터베이스에서 게시물을 가져오는 부분의 실행시간이 너무 오래 걸린다는 것을 알게 되었다.  \n",
    "\n",
    "어피치는 제이지에게 해당 로직을 개선하라고 닦달하기 시작하였고,  \n",
    "제이지는 DB 캐시를 적용하여 성능 개선을 시도하고 있지만  \n",
    "캐시 크기를 얼마로 해야 효율적인지 몰라 난감한 상황이다.  \n",
    "\n",
    "제이지를 도와, DB 캐시를 적용할 때 캐시 크기에 따른 실행시간 측정 프로그램을 작성하시오.  \n",
    "\n",
    "[입력 형식]\n",
    "* 캐시 크기(cacheSize)와 도시이름 배열(cities)을 입력받는다.\n",
    "* cacheSize는 정수이며, 범위는 0 ≦ cacheSize ≦ 30 이다.\n",
    "* cities는 도시 이름으로 이뤄진 문자열 배열로, 최대 도시 수는 100,000개이다.\n",
    "* 각 도시 이름은 공백, 숫자, 특수문자 등이 없는 영문자로 구성되며, 대소문자 구분을 하지 않는다.  \n",
    "도시 이름은 최대 20자로 이루어져 있다.  \n",
    "\n",
    "[출력 형식]\n",
    "* 입력된 도시이름 배열을 순서대로 처리할 때, 총 실행시간을 출력한다.  \n",
    "\n",
    "[조건]\n",
    "* 캐시 교체 알고리즘은 **LRU(Least Recently Used)**를 사용한다.\n",
    "* **cache hit일 경우 실행시간은 1**이다.\n",
    "* **cache miss일 경우 실행시간은 5**이다.\n",
    "\n",
    "*출처: 프로그래머스 코딩 테스트 연습, https://programmers.co.kr/learn/challenges*"
   ]
  },
  {
   "cell_type": "markdown",
   "metadata": {},
   "source": [
    "### >> 풀이"
   ]
  },
  {
   "cell_type": "code",
   "execution_count": 1,
   "metadata": {},
   "outputs": [
    {
     "name": "stdout",
     "output_type": "stream",
     "text": [
      "50  >> 50\n",
      "21  >> 21\n",
      "60  >> 60\n",
      "52  >> 52\n",
      "16  >> 16\n",
      "25  >> 25\n"
     ]
    }
   ],
   "source": [
    "def solution(cacheSize, cities):\n",
    "    answer = 0\n",
    "    cities = [i.lower() for i in cities] # cities의 원소를 모두 소문자로 바꾼다\n",
    "    cache = [] # cache 메모리\n",
    "    \n",
    "    for i in cities:\n",
    "        if i not in cache: # 검색하는 도시 이름이 cache에 없으면\n",
    "            cache.append(i) # 도시 이름을 cache에 추가\n",
    "            answer += 5 # cache miss이므로 실행 시간은 +5\n",
    "            if len(cache) > cacheSize: # cache의 크기가 cacheSize보다 크면\n",
    "                cache.pop(0) # 가장 오래된 파일을 삭제\n",
    "        else: # 검색하는 도시 이름이 cache에 있으면 \n",
    "               # 도시 이름을 가장 최근에 추가된 위치로 변경\n",
    "            cache.remove(i) \n",
    "            cache.append(i)\n",
    "            answer += 1 # cache hit이므로 실행 시간은 +1\n",
    "            \n",
    "    return answer\n",
    "\n",
    "print(solution(3,[\"Jeju\", \"Pangyo\", \"Seoul\", \"NewYork\", \"LA\", \"Jeju\", \"Pangyo\", \"Seoul\", \"NewYork\", \"LA\"]), \" >> 50\")\n",
    "print(solution(3,[\"Jeju\", \"Pangyo\", \"Seoul\", \"Jeju\", \"Pangyo\", \"Seoul\", \"Jeju\", \"Pangyo\", \"Seoul\"]), \" >> 21\")\n",
    "print(solution(2,[\"Jeju\", \"Pangyo\", \"Seoul\", \"NewYork\", \"LA\", \"SanFrancisco\", \"Seoul\", \"Rome\", \"Paris\", \"Jeju\", \"NewYork\", \"Rome\"]), \" >> 60\")\n",
    "print(solution(5,[\"Jeju\", \"Pangyo\", \"Seoul\", \"NewYork\", \"LA\", \"SanFrancisco\", \"Seoul\", \"Rome\", \"Paris\", \"Jeju\", \"NewYork\", \"Rome\"]), \" >> 52\")\n",
    "print(solution(2,[\"Jeju\", \"Pangyo\", \"NewYork\", \"newyork\"]), \" >> 16\")\n",
    "print(solution(0,[\"Jeju\", \"Pangyo\", \"Seoul\", \"NewYork\", \"LA\"]), \" >> 25\")"
   ]
  }
 ],
 "metadata": {
  "kernelspec": {
   "display_name": "Python 3",
   "language": "python",
   "name": "python3"
  },
  "language_info": {
   "codemirror_mode": {
    "name": "ipython",
    "version": 3
   },
   "file_extension": ".py",
   "mimetype": "text/x-python",
   "name": "python",
   "nbconvert_exporter": "python",
   "pygments_lexer": "ipython3",
   "version": "3.7.1"
  }
 },
 "nbformat": 4,
 "nbformat_minor": 2
}
