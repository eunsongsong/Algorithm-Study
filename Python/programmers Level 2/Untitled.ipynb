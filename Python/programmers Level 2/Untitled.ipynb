{
 "cells": [
  {
   "cell_type": "markdown",
   "metadata": {},
   "source": [
    "### >> 문제: programmers L2 [수식 최대화](https://programmers.co.kr/learn/courses/30/lessons/67257)\n",
    "\n",
    "IT 벤처 회사를 운영하고 있는 라이언은 매년 사내 해커톤 대회를 개최하여 우승자에게 상금을 지급하고 있습니다.  \n",
    "\n",
    "해커톤 대회에 참가하는 모든 참가자들에게는  \n",
    "숫자들과 3가지의 연산문자(`+`, `-`, `*`) 만으로 이루어진 연산 수식이 전달되며,  \n",
    "참가자의 미션은 전달받은 수식에 포함된 연산자의 우선순위를  \n",
    "자유롭게 재정의하여 만들 수 있는 가장 큰 숫자를 제출하는 것입니다.  \n",
    "\n",
    "단, 연산자의 우선순위를 새로 정의할 때, 같은 순위의 연산자는 없어야 합니다.  \n",
    "즉, `+` > `-` > `*` 또는 `-` > `*` > `+` 등과 같이 연산자 우선순위를 정의할 수 있으나  \n",
    "`+,*` > `-` 또는 `*` > `+,-`처럼 2개 이상의 연산자가 동일한 순위를 가지도록 연산자 우선순위를 정의할 수는 없습니다.  \n",
    "수식에 포함된 연산자가 2개라면 정의할 수 있는 연산자 우선순위 조합은 2! = 2가지이며,  \n",
    "연산자가 3개라면 3! = 6가지 조합이 가능합니다.  \n",
    "\n",
    "만약 **계산된 결과가 음수라면 해당 숫자의 절댓값으로 변환하여 제출**하며  \n",
    "제출한 숫자가 가장 큰 참가자를 우승자로 선정하며,  \n",
    "우승자가 제출한 숫자를 우승상금으로 지급하게 됩니다.  \n",
    "\n",
    "예를 들어, 참가자 중 네오가 아래와 같은 수식을 전달받았다고 가정합니다.\n",
    "\n",
    "\"100-200*300-500+20\"\n",
    " \n",
    "수식에 연산자가 3개 주어졌으므로 가능한 연산자 우선순위 조합은 3! = 6가지이며,  \n",
    "그 중 `+` > `-` > `*` 로 연산자 우선순위를 정한다면 결괏값은 22,000원이 됩니다.  \n",
    "반면에 `*` > `+` > `-` 로 연산자 우선순위를 정한다면 수식의 결괏값은 -60,420 이지만,  \n",
    "규칙에 따라 우승 시 상금은 절댓값인 60,420원이 됩니다.\n",
    "\n",
    "참가자에게 주어진 연산 수식이 담긴 문자열 expression이 매개변수로 주어질 때,  \n",
    "우승 시 받을 수 있는 가장 큰 상금 금액을 return 하도록 solution 함수를 완성해주세요.\n",
    "\n",
    "[제한사항]  \n",
    "- expression은 길이가 3 이상 100 이하인 문자열입니다.\n",
    "- expression은 공백문자, 괄호문자 없이 오로지 숫자와 3가지의 연산자(`+`, `-`, `*`) 만으로 이루어진  \n",
    "올바른 중위표기법(연산의 두 대상 사이에 연산기호를 사용하는 방식)으로 표현된 연산식입니다.  \n",
    "잘못된 연산식은 입력으로 주어지지 않습니다.  \n",
    "    - 즉, `\"402+-561*\"`처럼 잘못된 수식은 올바른 중위표기법이 아니므로 주어지지 않습니다.\n",
    "- expression의 피연산자(operand)는 0 이상 999 이하의 숫자입니다.\n",
    "    - 즉, `\"100-2145*458+12\"`처럼 999를 초과하는 피연산자가 포함된 수식은 입력으로 주어지지 않습니다.\n",
    "    - `\"-56+100\"`처럼 피연산자가 음수인 수식도 입력으로 주어지지 않습니다.\n",
    "- expression은 적어도 1개 이상의 연산자를 포함하고 있습니다.\n",
    "- 연산자 우선순위를 어떻게 적용하더라도, expression의 중간 계산값과 최종 결괏값은  \n",
    "절댓값이 263 - 1 이하가 되도록 입력이 주어집니다.\n",
    "- 같은 연산자끼리는 앞에 있는 것의 우선순위가 더 높습니다."
   ]
  },
  {
   "cell_type": "markdown",
   "metadata": {},
   "source": [
    "### >> 풀이"
   ]
  },
  {
   "cell_type": "code",
   "execution_count": 1,
   "metadata": {},
   "outputs": [
    {
     "name": "stdout",
     "output_type": "stream",
     "text": [
      "True\n",
      "True\n"
     ]
    }
   ],
   "source": [
    "from itertools import permutations\n",
    "\n",
    "def solution(expression):\n",
    "    answer = 0\n",
    "    \n",
    "    # expression을 리스트로 쪼갠다\n",
    "    l, r = 0, 1\n",
    "    expressionList = []\n",
    "    while r < len(expression):\n",
    "        if not expression[r].isdigit():\n",
    "            expressionList.append(int(expression[l:r]))\n",
    "            expressionList.append(expression[r])\n",
    "            l = r+1\n",
    "        r += 1\n",
    "    expressionList.append(int(expression[l:r]))\n",
    "    expressionList.append(\"?\")\n",
    "    \n",
    "    operator = ['+','-','*']\n",
    "    priority = list(permutations(operator, 3))\n",
    "\n",
    "    for order in priority:\n",
    "        i = 0\n",
    "        temp = expressionList[:-1]\n",
    "        while i < len(order):\n",
    "            if order[i] in temp: # 찾는 연산자가 리스트에 있으면\n",
    "                index = temp.index(order[i]) # 연산자의 위치 저장\n",
    "                temp.pop(index) # 연산자 지움\n",
    "                if operator.index(order[i]) == 0: # +연산\n",
    "                    temp[index-1] += temp.pop(index)\n",
    "                elif operator.index(order[i]) == 1:\n",
    "                    temp[index-1] -= temp.pop(index)\n",
    "                elif operator.index(order[i]) == 2:\n",
    "                    temp[index-1] *= temp.pop(index)\n",
    "            else: \n",
    "                i += 1\n",
    "        if abs(temp[0]) > answer:\n",
    "            answer = abs(temp[0])\n",
    "    return answer\n",
    "\n",
    "print(solution(\"100-200*300-500+20\") == 60420)\n",
    "print(solution(\"50*6-3*2\") == 300)"
   ]
  },
  {
   "cell_type": "code",
   "execution_count": 10,
   "metadata": {},
   "outputs": [
    {
     "name": "stdout",
     "output_type": "stream",
     "text": [
      "[100, '-', 200, '*', 300, '-', 500, '+', 20]\n",
      "[('+', '-', '*'), ('+', '*', '-'), ('-', '+', '*'), ('-', '*', '+'), ('*', '+', '-'), ('*', '-', '+')]\n",
      "True\n",
      "[50, '*', 6, '-', 3, '*', 2]\n",
      "[('+', '-', '*'), ('+', '*', '-'), ('-', '+', '*'), ('-', '*', '+'), ('*', '+', '-'), ('*', '-', '+')]\n",
      "True\n"
     ]
    }
   ],
   "source": [
    "from itertools import permutations\n",
    "\n",
    "def solution(expression):\n",
    "    answer = 0\n",
    "    \n",
    "    # expression을 리스트로 쪼갠다\n",
    "    l, r = 0, 1\n",
    "    expressionList = []\n",
    "    while r < len(expression):\n",
    "        if not expression[r].isdigit():\n",
    "            expressionList.append(int(expression[l:r]))\n",
    "            expressionList.append(expression[r])\n",
    "            l = r+1\n",
    "        r += 1\n",
    "    expressionList.append(int(expression[l:r]))\n",
    "    print(expressionList)\n",
    "    \n",
    "    operator = ['+','-','*']\n",
    "    priority = list(permutations(operator, 3))\n",
    "    print(priority)\n",
    "\n",
    "    for order in priority:\n",
    "        i = 0\n",
    "        temp = expressionList[:]\n",
    "        while i < len(order):\n",
    "            if order[i] in temp: # 찾는 연산자가 리스트에 있으면\n",
    "                index = temp.index(order[i]) # 연산자의 위치 저장\n",
    "                temp.pop(index) # 연산자 지움\n",
    "                if operator.index(order[i]) == 0: # +연산\n",
    "                    temp[index-1] += temp.pop(index)\n",
    "                elif operator.index(order[i]) == 1:\n",
    "                    temp[index-1] -= temp.pop(index)\n",
    "                elif operator.index(order[i]) == 2:\n",
    "                    temp[index-1] *= temp.pop(index)\n",
    "            else: \n",
    "                i += 1\n",
    "        if abs(temp[0]) > answer:\n",
    "            answer = abs(temp[0])\n",
    "    return answer\n",
    "\n",
    "print(solution(\"100-200*300-500+20\") == 60420)\n",
    "print(solution(\"50*6-3*2\") == 300)"
   ]
  },
  {
   "cell_type": "code",
   "execution_count": null,
   "metadata": {},
   "outputs": [],
   "source": []
  }
 ],
 "metadata": {
  "kernelspec": {
   "display_name": "Python 3",
   "language": "python",
   "name": "python3"
  },
  "language_info": {
   "codemirror_mode": {
    "name": "ipython",
    "version": 3
   },
   "file_extension": ".py",
   "mimetype": "text/x-python",
   "name": "python",
   "nbconvert_exporter": "python",
   "pygments_lexer": "ipython3",
   "version": "3.7.1"
  }
 },
 "nbformat": 4,
 "nbformat_minor": 2
}
