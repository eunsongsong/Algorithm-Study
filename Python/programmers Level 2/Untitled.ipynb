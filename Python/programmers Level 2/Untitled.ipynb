{
 "cells": [
  {
   "cell_type": "markdown",
   "metadata": {},
   "source": [
    "### >> 문제: programmers L2 [문자열 압축](https://programmers.co.kr/learn/courses/30/lessons/60057)\n",
    "\n",
    "*출처: 프로그래머스 코딩 테스트 연습, https://programmers.co.kr/learn/challenges*"
   ]
  },
  {
   "cell_type": "markdown",
   "metadata": {},
   "source": [
    "### >> 풀이"
   ]
  },
  {
   "cell_type": "code",
   "execution_count": 1,
   "metadata": {},
   "outputs": [
    {
     "name": "stdout",
     "output_type": "stream",
     "text": [
      "0  >> 7\n",
      "0  >> 9\n",
      "0  >> 8\n",
      "0  >> 14\n",
      "0  >> 17\n"
     ]
    }
   ],
   "source": [
    "def solution(s):\n",
    "    answer = 0\n",
    "    \n",
    "    \n",
    "    \n",
    "    return answer\n",
    "\n",
    "\n",
    "print(solution(\"aabbaccc\"),\" >> 7\")\n",
    "print(solution(\"ababcdcdababcdcd\"),\" >> 9\")\n",
    "print(solution(\"abcabcdede\"),\" >> 8\")\n",
    "print(solution(\"abcabcabcabcdededededede\"),\" >> 14\")\n",
    "print(solution(\"xababcdcdababcdcd\"),\" >> 17\")"
   ]
  }
 ],
 "metadata": {
  "kernelspec": {
   "display_name": "Python 3",
   "language": "python",
   "name": "python3"
  },
  "language_info": {
   "codemirror_mode": {
    "name": "ipython",
    "version": 3
   },
   "file_extension": ".py",
   "mimetype": "text/x-python",
   "name": "python",
   "nbconvert_exporter": "python",
   "pygments_lexer": "ipython3",
   "version": "3.7.1"
  }
 },
 "nbformat": 4,
 "nbformat_minor": 2
}
