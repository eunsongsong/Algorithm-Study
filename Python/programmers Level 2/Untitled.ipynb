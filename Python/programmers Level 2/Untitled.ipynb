{
 "cells": [
  {
   "cell_type": "markdown",
   "metadata": {},
   "source": [
    "### >> 문제: programmers L1 [캐시](https://programmers.co.kr/learn/courses/30/lessons/17680)\n",
    "\n",
    "지도개발팀에서 근무하는 제이지는 지도에서 도시 이름을 검색하면  \n",
    "해당 도시와 관련된 맛집 게시물들을 데이터베이스에서 읽어 보여주는 서비스를 개발하고 있다.  \n",
    "\n",
    "테스팅 업무를 담당하고 있는 어피치는 각 로직에 대한 성능 측정을 수행하였는데,  \n",
    "제데이터베이스에서 게시물을 가져오는 부분의 실행시간이 너무 오래 걸린다는 것을 알게 되었다.  \n",
    "\n",
    "어피치는 제이지에게 해당 로직을 개선하라고 닦달하기 시작하였고,  \n",
    "제이지는 DB 캐시를 적용하여 성능 개선을 시도하고 있지만  \n",
    "캐시 크기를 얼마로 해야 효율적인지 몰라 난감한 상황이다.  \n",
    "\n",
    "제이지를 도와, DB 캐시를 적용할 때 캐시 크기에 따른 실행시간 측정 프로그램을 작성하시오.  \n",
    "\n",
    "[입력 형식]\n",
    "* 캐시 크기(cacheSize)와 도시이름 배열(cities)을 입력받는다.\n",
    "* cacheSize는 정수이며, 범위는 0 ≦ cacheSize ≦ 30 이다.\n",
    "* cities는 도시 이름으로 이뤄진 문자열 배열로, 최대 도시 수는 100,000개이다.\n",
    "* 각 도시 이름은 공백, 숫자, 특수문자 등이 없는 영문자로 구성되며, 대소문자 구분을 하지 않는다.  \n",
    "도시 이름은 최대 20자로 이루어져 있다.  \n",
    "\n",
    "[출력 형식]\n",
    "* 입력된 도시이름 배열을 순서대로 처리할 때, 총 실행시간을 출력한다.  \n",
    "\n",
    "[조건]\n",
    "* 캐시 교체 알고리즘은 LRU(Least Recently Used)를 사용한다.\n",
    "* cache hit일 경우 실행시간은 1이다.\n",
    "* cache miss일 경우 실행시간은 5이다.\n",
    "\n",
    "*출처: 프로그래머스 코딩 테스트 연습, https://programmers.co.kr/learn/challenges*"
   ]
  },
  {
   "cell_type": "markdown",
   "metadata": {},
   "source": [
    "### >> 풀이"
   ]
  },
  {
   "cell_type": "code",
   "execution_count": 2,
   "metadata": {},
   "outputs": [
    {
     "ename": "TypeError",
     "evalue": "solution() missing 2 required positional arguments: 'cacheSize' and 'cities'",
     "output_type": "error",
     "traceback": [
      "\u001b[1;31m---------------------------------------------------------------------------\u001b[0m",
      "\u001b[1;31mTypeError\u001b[0m                                 Traceback (most recent call last)",
      "\u001b[1;32m<ipython-input-2-bcf77b72ad2e>\u001b[0m in \u001b[0;36m<module>\u001b[1;34m\u001b[0m\n\u001b[0;32m      3\u001b[0m     \u001b[1;32mreturn\u001b[0m \u001b[0manswer\u001b[0m\u001b[1;33m\u001b[0m\u001b[1;33m\u001b[0m\u001b[0m\n\u001b[0;32m      4\u001b[0m \u001b[1;33m\u001b[0m\u001b[0m\n\u001b[1;32m----> 5\u001b[1;33m \u001b[0mprint\u001b[0m\u001b[1;33m(\u001b[0m\u001b[0msolution\u001b[0m\u001b[1;33m(\u001b[0m\u001b[1;33m)\u001b[0m\u001b[1;33m,\u001b[0m \u001b[1;34m\" >> \"\u001b[0m\u001b[1;33m)\u001b[0m\u001b[1;33m\u001b[0m\u001b[1;33m\u001b[0m\u001b[0m\n\u001b[0m\u001b[0;32m      6\u001b[0m \u001b[0mprint\u001b[0m\u001b[1;33m(\u001b[0m\u001b[0msolution\u001b[0m\u001b[1;33m(\u001b[0m\u001b[1;33m)\u001b[0m\u001b[1;33m,\u001b[0m \u001b[1;34m\" >> \"\u001b[0m\u001b[1;33m)\u001b[0m\u001b[1;33m\u001b[0m\u001b[1;33m\u001b[0m\u001b[0m\n\u001b[0;32m      7\u001b[0m \u001b[0mprint\u001b[0m\u001b[1;33m(\u001b[0m\u001b[0msolution\u001b[0m\u001b[1;33m(\u001b[0m\u001b[1;33m)\u001b[0m\u001b[1;33m,\u001b[0m \u001b[1;34m\" >> \"\u001b[0m\u001b[1;33m)\u001b[0m\u001b[1;33m\u001b[0m\u001b[1;33m\u001b[0m\u001b[0m\n",
      "\u001b[1;31mTypeError\u001b[0m: solution() missing 2 required positional arguments: 'cacheSize' and 'cities'"
     ]
    }
   ],
   "source": [
    "def solution(cacheSize, cities):\n",
    "    answer = 0\n",
    "    return answer\n",
    "\n",
    "print(solution(), \" >> \")\n",
    "print(solution(), \" >> \")\n",
    "print(solution(), \" >> \")\n",
    "print(solution(), \" >> \")\n",
    "print(solution(), \" >> \")\n",
    "print(solution(), \" >> \")"
   ]
  }
 ],
 "metadata": {
  "kernelspec": {
   "display_name": "Python 3",
   "language": "python",
   "name": "python3"
  },
  "language_info": {
   "codemirror_mode": {
    "name": "ipython",
    "version": 3
   },
   "file_extension": ".py",
   "mimetype": "text/x-python",
   "name": "python",
   "nbconvert_exporter": "python",
   "pygments_lexer": "ipython3",
   "version": "3.7.1"
  }
 },
 "nbformat": 4,
 "nbformat_minor": 2
}
