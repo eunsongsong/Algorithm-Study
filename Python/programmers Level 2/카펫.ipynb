{
 "cells": [
  {
   "cell_type": "markdown",
   "metadata": {},
   "source": [
    "### >> 문제: programmers L2 [카펫](https://programmers.co.kr/learn/courses/30/lessons/42842)\n",
    "<img src=\"https://grepp-programmers.s3.amazonaws.com/files/ybm/7c94563a35/2ff27ac9-97d0-43a9-9cf8-a344b8e7912e.png\" align=\"right\" title=\"[출처: https://programmers.co.kr/learn/challenges]\">\n",
    "\n",
    "Leo는 카펫을 사러 갔다가 중앙에는 빨간색으로 칠해져 있고  \n",
    "테두리 1줄은 갈색으로 칠해져 있는 격자 모양 카펫을 봤습니다.\n",
    "\n",
    "Leo는 집으로 돌아와서 아까 본 카펫의 빨간색과 갈색으로 색칠된 격자의 개수는 기억했지만,  \n",
    "전체 카펫의 크기는 기억하지 못했습니다.\n",
    "\n",
    "Leo가 본 카펫에서 갈색 격자의 수 brown, 빨간색 격자의 수 red가 매개변수로 주어질 때  \n",
    "카펫의 가로, 세로 크기를 순서대로 배열에 담아 return 하도록 solution 함수를 작성해주세요.\n",
    "\n",
    "* 갈색 격자의 수 brown은 8 이상 5,000 이하인 자연수입니다.\n",
    "* 빨간색 격자의 수 red는 1 이상 2,000,000 이하인 자연수입니다.\n",
    "* 카펫의 가로 길이는 세로 길이와 같거나, 세로 길이보다 깁니다.\n",
    "\n",
    "*출처: 프로그래머스 코딩 테스트 연습, https://programmers.co.kr/learn/challenges*"
   ]
  },
  {
   "cell_type": "markdown",
   "metadata": {},
   "source": [
    "### >> 풀이"
   ]
  },
  {
   "cell_type": "code",
   "execution_count": 1,
   "metadata": {},
   "outputs": [
    {
     "name": "stdout",
     "output_type": "stream",
     "text": [
      "[4, 3]  >> [4, 3]\n",
      "[3, 3]  >> [3, 3]\n",
      "[8, 6]  >> [8, 6]\n"
     ]
    }
   ],
   "source": [
    "def solution(brown, red):\n",
    "\n",
    "    for h in range(1,red+1): # h는 세로의 길이\n",
    "        if red % h == 0: # red의 약수를 구한다\n",
    "            w = red // h # w는 가로의 길이\n",
    "            \n",
    "        if h*w == red and (h+2)*(w+2)-h*w == brown:\n",
    "            return [w+2, h+2]\n",
    "\n",
    "print(solution(10,2),\" >> [4, 3]\")\n",
    "print(solution(8,1),\" >> [3, 3]\")\n",
    "print(solution(24,24),\" >> [8, 6]\")"
   ]
  }
 ],
 "metadata": {
  "kernelspec": {
   "display_name": "Python 3",
   "language": "python",
   "name": "python3"
  },
  "language_info": {
   "codemirror_mode": {
    "name": "ipython",
    "version": 3
   },
   "file_extension": ".py",
   "mimetype": "text/x-python",
   "name": "python",
   "nbconvert_exporter": "python",
   "pygments_lexer": "ipython3",
   "version": "3.7.1"
  }
 },
 "nbformat": 4,
 "nbformat_minor": 2
}
