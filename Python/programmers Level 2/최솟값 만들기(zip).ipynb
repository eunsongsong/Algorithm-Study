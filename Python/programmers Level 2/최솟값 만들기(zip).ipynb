{
 "cells": [
  {
   "cell_type": "markdown",
   "metadata": {},
   "source": [
    "### >> 문제: programmers L2 [최솟값 만들기](https://programmers.co.kr/learn/courses/30/lessons/12941)\n",
    "\n",
    "길이가 같은 배열 A, B 두개가 있습니다. 각 배열은 자연수로 이루어져 있습니다.  \n",
    "배열 A, B에서 각각 한 개의 숫자를 뽑아 두 수를 곱합니다.   \n",
    "이러한 과정을 배열의 길이만큼 반복하며, 두 수를 곱한 값을 누적하여 더합니다.  \n",
    "이때 최종적으로 누적된 값이 최소가 되도록 만드는 것이 목표입니다.  \n",
    "(단, 각 배열에서 k번째 숫자를 뽑았다면 다음에 k번째 숫자는 다시 뽑을 수 없습니다.)  \n",
    "\n",
    "예를 들어 A = [1, 4, 2] , B = [5, 4, 4] 라면  \n",
    "\n",
    "A에서 첫번째 숫자인 1, B에서 두번째 숫자인 5를 뽑아 곱하여 더합니다. (누적된 값 : 0 + 5(1x5) = 5)  \n",
    "A에서 두번째 숫자인 4, B에서 세번째 숫자인 4를 뽑아 곱하여 더합니다. (누적된 값 : 5 + 16(4x4) = 21)  \n",
    "A에서 세번째 숫자인 2, B에서 첫번째 숫자인 4를 뽑아 곱하여 더합니다. (누적된 값 : 21 + 8(2x4) = 29)  \n",
    "즉, 이 경우가 최소가 되므로 29를 return 합니다.  \n",
    "\n",
    "배열 A, B가 주어질 때 최종적으로 누적된 최솟값을 return 하는 solution 함수를 완성해 주세요.  \n",
    "\n",
    "* 배열 A, B의 크기 : 1,000 이하의 자연수\n",
    "* 배열 A, B의 원소의 크기 : 1,000 이하의 자연수\n",
    "\n",
    "*출처: 프로그래머스 코딩 테스트 연습, https://programmers.co.kr/learn/challenges*"
   ]
  },
  {
   "cell_type": "markdown",
   "metadata": {},
   "source": [
    "### >> 풀이"
   ]
  },
  {
   "cell_type": "code",
   "execution_count": 3,
   "metadata": {},
   "outputs": [
    {
     "name": "stdout",
     "output_type": "stream",
     "text": [
      "29  >> 29\n",
      "10  >> 10\n"
     ]
    }
   ],
   "source": [
    "def solution(A,B):\n",
    "    answer = 0\n",
    "    A.sort()\n",
    "    B.sort(reverse=True)\n",
    "    \n",
    "    for i in range(len(A)):\n",
    "        answer += A[i]*B[i]\n",
    "\n",
    "    return answer\n",
    "\n",
    "print(solution([1,4,2],[5,4,4]),\" >> 29\")\n",
    "print(solution([1,2],[3,4]),\" >> 10\")"
   ]
  },
  {
   "cell_type": "code",
   "execution_count": 11,
   "metadata": {
    "scrolled": true
   },
   "outputs": [
    {
     "name": "stdout",
     "output_type": "stream",
     "text": [
      "29  >> 29\n",
      "10  >> 10\n"
     ]
    }
   ],
   "source": [
    "def solution(A,B):\n",
    "    A.sort()\n",
    "    B.sort(reverse=True)\n",
    "    \n",
    "    return sum([A[i]*B[i] for i in range(len(A))])\n",
    "\n",
    "print(solution([1,4,2],[5,4,4]),\" >> 29\")\n",
    "print(solution([1,2],[3,4]),\" >> 10\")"
   ]
  },
  {
   "cell_type": "markdown",
   "metadata": {},
   "source": [
    "zip"
   ]
  },
  {
   "cell_type": "code",
   "execution_count": 20,
   "metadata": {},
   "outputs": [
    {
     "name": "stdout",
     "output_type": "stream",
     "text": [
      "29  >> 29\n",
      "10  >> 10\n"
     ]
    }
   ],
   "source": [
    "def solution(A,B):\n",
    "    return sum([i * j for i, j in zip(sorted(A), sorted(B, reverse = True))])\n",
    "\n",
    "print(solution([1,4,2],[5,4,4]),\" >> 29\")\n",
    "print(solution([1,2],[3,4]),\" >> 10\")"
   ]
  }
 ],
 "metadata": {
  "kernelspec": {
   "display_name": "Python 3",
   "language": "python",
   "name": "python3"
  },
  "language_info": {
   "codemirror_mode": {
    "name": "ipython",
    "version": 3
   },
   "file_extension": ".py",
   "mimetype": "text/x-python",
   "name": "python",
   "nbconvert_exporter": "python",
   "pygments_lexer": "ipython3",
   "version": "3.7.1"
  }
 },
 "nbformat": 4,
 "nbformat_minor": 2
}
