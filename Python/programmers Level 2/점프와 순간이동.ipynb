{
 "cells": [
  {
   "cell_type": "markdown",
   "metadata": {},
   "source": [
    "### >> 문제: programmers L2 [점프와 순간 이동](https://programmers.co.kr/learn/courses/30/lessons/12980)\n",
    "\n",
    "OO 연구소는 한 번에 K 칸을 앞으로 점프하거나,  \n",
    "(현재까지 온 거리) x 2 에 해당하는 위치로 순간이동을 할 수 있는 아이언 슈트를 판매하고 있습니다.  \n",
    "\n",
    "이 아이언 슈트는 건전지로 작동되는데, 순간이동을 하면 건전지 사용량이 줄지 않지만,  \n",
    "앞으로 K 칸을 점프하면 K 만큼의 건전지 사용량이 듭니다.  \n",
    "그러므로 아이언 슈트를 착용하고 이동할 때는 순간 이동을 하는 것이 더 효율적입니다.  \n",
    "\n",
    "아이언 슈트 구매자는 아이언 슈트를 착용하고 거리가 N 만큼 떨어져 있는 장소로 가려고 합니다.  \n",
    "단, 건전지 사용량을 줄이기 위해 점프로 이동하는 것은 최소로 하려고 합니다.  \n",
    "아이언 슈트 구매자가 이동하려는 거리 N이 주어졌을 때,  \n",
    "사용해야 하는 건전지 사용량의 최솟값을 return하는 solution 함수를 만들어 주세요.  \n",
    "\n",
    "예를 들어, 거리가 5만큼 떨어져 있는 장소로 가려고 합니다.  \n",
    "아이언 슈트를 입고 거리가 5만큼 떨어져 있는 장소로 갈 수 있는 경우의 수는 여러 가지입니다.  \n",
    "\n",
    "* 처음 위치 0 에서 5 칸을 앞으로 점프하면 바로 도착하지만, 건전지 사용량이 5 만큼 듭니다.  \n",
    "* 처음 위치 0 에서 2 칸을 앞으로 점프한 다음 순간이동 하면  \n",
    "(현재까지 온 거리 : 2) x 2에 해당하는 위치로 이동할 수 있으므로 위치 4로 이동합니다.  \n",
    "이때 1 칸을 앞으로 점프하면 도착하므로 건전지 사용량이 3 만큼 듭니다.  \n",
    "* 처음 위치 0 에서 1 칸을 앞으로 점프한 다음 순간이동 하면  \n",
    "(현재까지 온 거리 : 1) x 2에 해당하는 위치로 이동할 수 있으므로 위치 2로 이동됩니다.  \n",
    "이때 다시 순간이동 하면 (현재까지 온 거리 : 2) x 2 만큼 이동할 수 있으므로 위치 4로 이동합니다.  \n",
    "이때 1 칸을 앞으로 점프하면 도착하므로 건전지 사용량이 2 만큼 듭니다.  \n",
    "\n",
    "위의 3가지 경우, 거리가 5만큼 떨어져 있는 장소로 가기 위해서  \n",
    "3번째 경우가 건전지 사용량이 가장 적으므로 답은 2가 됩니다.\n",
    "\n",
    "* 숫자 N: 1 이상 10억 이하의 자연수\n",
    "* 숫자 K: 1 이상의 자연수\n",
    "\n",
    "*출처: 프로그래머스 코딩 테스트 연습, https://programmers.co.kr/learn/challenges*"
   ]
  },
  {
   "cell_type": "markdown",
   "metadata": {},
   "source": [
    "### >> 풀이"
   ]
  },
  {
   "cell_type": "markdown",
   "metadata": {},
   "source": [
    "순간이동으로 가능한 이동 거리는 2, 4, 8, 16, ... 2의 제곱승이다  \n",
    "\n",
    "1. 점프는 1칸만 하고, \n",
    "2. n을 넘지 않고, 순간이동으로 이동 가능한 최대 거리를 구한다\n",
    "3. 총 이동 거리가 n이 될 때까지 1, 2번을 반복 "
   ]
  },
  {
   "cell_type": "code",
   "execution_count": 1,
   "metadata": {},
   "outputs": [
    {
     "name": "stdout",
     "output_type": "stream",
     "text": [
      "teleport: [1, 2, 4, 8]  temp: 4\n",
      "2  >> 2\n",
      "teleport: [1, 2, 4, 8]  temp: 4\n",
      "2  >> 2\n",
      "teleport: [1, 2, 4, 8, 16, 32, 64, 128, 256, 512, 1024, 2048, 4096, 8192]  temp: 4096\n",
      "5  >> 5\n",
      "teleport: [1, 2, 4, 8, 16, 32, 64, 128, 256, 512, 1024, 2048]  temp: 1024\n",
      "1  >> 1\n"
     ]
    }
   ],
   "source": [
    "def solution(n):\n",
    "    \n",
    "    # 순간이동으로 이동 가능한 거리를 리스트에 담는다\n",
    "    teleport = [1]\n",
    "    while teleport[-1] <= n:\n",
    "        teleport.append(teleport[-1]*2)\n",
    "   \n",
    "    # 1, 2\n",
    "    answer = 1 # 사용한 건전지\n",
    "    temp = teleport[-2] # 한 번의 순간이동으로 이동 가능한 최댓값\n",
    "    print(\"teleport:\",teleport,\" temp:\", temp)\n",
    "    \n",
    "    # 1, 2 반복\n",
    "    while temp != n:\n",
    "        for i in range(len(teleport)):\n",
    "            if temp + teleport[i] > n:\n",
    "                temp += teleport[i-1]\n",
    "                answer += 1\n",
    "                break\n",
    "            elif temp + teleport[i] == n:\n",
    "                temp += teleport[i]\n",
    "                answer += 1\n",
    "                break\n",
    "    return answer\n",
    "\n",
    "print(solution(5),\" >> 2\")\n",
    "print(solution(6),\" >> 2\")\n",
    "print(solution(5000),\" >> 5\")\n",
    "print(solution(1024),\" >> 1\")"
   ]
  },
  {
   "cell_type": "markdown",
   "metadata": {},
   "source": [
    "### >> 다른풀이"
   ]
  },
  {
   "cell_type": "markdown",
   "metadata": {},
   "source": [
    "순간이동으로 가능한 이동 거리는 **2의 제곱승**이므로  \n",
    "n까지 갈 수 있는 건전지 사용량(점프 횟수)의 최솟값은  \n",
    "n이 0이 될 때까지 n을 2로 나누었을 때, 나머지가 1인 갯수과 같다"
   ]
  },
  {
   "cell_type": "code",
   "execution_count": 2,
   "metadata": {},
   "outputs": [
    {
     "name": "stdout",
     "output_type": "stream",
     "text": [
      "2  >> 2\n",
      "2  >> 2\n",
      "5  >> 5\n",
      "1  >> 1\n"
     ]
    }
   ],
   "source": [
    "def solution(n):\n",
    "    answer = 0\n",
    "    \n",
    "    while n > 0:\n",
    "        answer += n % 2\n",
    "        n //= 2\n",
    "        \n",
    "    return answer\n",
    "\n",
    "print(solution(5),\" >> 2\")\n",
    "print(solution(6),\" >> 2\")\n",
    "print(solution(5000),\" >> 5\")\n",
    "print(solution(1024),\" >> 1\")"
   ]
  },
  {
   "cell_type": "markdown",
   "metadata": {},
   "source": [
    "즉, n이 0이 될 때까지 n을 2로 나누었을 때 나머지가 1인 갯수는  \n",
    "n을 이진수로 변환했을 때 1의 갯수와 같다"
   ]
  },
  {
   "cell_type": "code",
   "execution_count": 3,
   "metadata": {},
   "outputs": [
    {
     "name": "stdout",
     "output_type": "stream",
     "text": [
      "2  >> 2\n",
      "2  >> 2\n",
      "5  >> 5\n",
      "1  >> 1\n"
     ]
    }
   ],
   "source": [
    "def solution(n):        \n",
    "    return bin(n).count(\"1\")\n",
    "\n",
    "print(solution(5),\" >> 2\")\n",
    "print(solution(6),\" >> 2\")\n",
    "print(solution(5000),\" >> 5\")\n",
    "print(solution(1024),\" >> 1\")"
   ]
  }
 ],
 "metadata": {
  "kernelspec": {
   "display_name": "Python 3",
   "language": "python",
   "name": "python3"
  },
  "language_info": {
   "codemirror_mode": {
    "name": "ipython",
    "version": 3
   },
   "file_extension": ".py",
   "mimetype": "text/x-python",
   "name": "python",
   "nbconvert_exporter": "python",
   "pygments_lexer": "ipython3",
   "version": "3.7.1"
  }
 },
 "nbformat": 4,
 "nbformat_minor": 2
}
