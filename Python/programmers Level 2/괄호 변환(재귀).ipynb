{
 "cells": [
  {
   "cell_type": "markdown",
   "metadata": {},
   "source": [
    "### >> 문제: programmers L2 [괄호 변환](https://programmers.co.kr/learn/courses/30/lessons/60058)\n",
    "\n",
    "괄호가 개수는 맞지만 짝이 맞지 않은 형태로 작성된 괄호를  \n",
    "올바른 순서대로 배치된 괄호 문자열을 알려주는 프로그램을 다음과 같이 개발하려고 합니다.  \n",
    "\n",
    "'(' 와 ')' 로만 이루어진 문자열이 있을 경우,\n",
    "* **균형잡힌 괄호 문자열: '(' 와 ')' 의 개수가 같음**\n",
    "* **올바른 괄호 문자열: '('와 ')'의 괄호의 짝도 모두 맞음**  \n",
    "\n",
    "예를 들어, \"(()))(\"와 같은 문자열은 **균형잡힌 괄호 문자열** 이지만 **올바른 괄호 문자열은 아닙니다**.  \n",
    "반면에 \"(())()\"와 같은 문자열은 **균형잡힌 괄호 문자열** 이면서 동시에 **올바른 괄호 문자열** 입니다.  \n",
    "\n",
    "'(' 와 ')' 로만 이루어진 문자열 w가 **균형잡힌 괄호 문자열** 이라면  \n",
    "다음과 같은 과정을 통해 올바른 괄호 문자열로 변환할 수 있습니다.\n",
    "\n",
    "1. 입력이 빈 문자열인 경우, 빈 문자열을 반환합니다.  \n",
    "2. 문자열 w를 두 \"균형잡힌 괄호 문자열\" u, v로 분리합니다.  \n",
    "단, u는 \"균형잡힌 괄호 문자열\"로 더 이상 분리할 수 없어야 하며, v는 빈 문자열이 될 수 있습니다. \n",
    "3. **문자열 u가 \"올바른 괄호 문자열\" 이라면 문자열 v에 대해 1단계부터 다시 수행합니다**.  \n",
    "    3-1. 수행한 결과 문자열을 u에 이어 붙인 후 반환합니다. \n",
    "4. 문자열 u가 \"올바른 괄호 문자열\"이 아니라면 아래 과정을 수행합니다.   \n",
    "    4-1. 빈 문자열에 첫 번째 문자로 '('를 붙입니다.   \n",
    "    4-2. 문자열 v에 대해 1단계부터 재귀적으로 수행한 결과 문자열을 이어 붙입니다.   \n",
    "    4-3. ')'를 다시 붙입니다.   \n",
    "    4-4. u의 첫 번째와 마지막 문자를 제거하고, 나머지 문자열의 괄호 방향을 뒤집어서 뒤에 붙입니다.   \n",
    "    4-5. 생성된 문자열을 반환합니다.  \n",
    "    \n",
    "균형잡힌 괄호 문자열 p가 매개변수로 주어질 때,  \n",
    "주어진 알고리즘을 수행해 올바른 괄호 문자열로 변환한 결과를 return 하도록 solution 함수를 완성해 주세요.\n",
    "\n",
    "* p는 '(' 와 ')' 로만 이루어진 문자열이며 길이는 2 이상 1,000 이하인 짝수입니다.\n",
    "* 문자열 p를 이루는 '(' 와 ')' 의 개수는 항상 같습니다.\n",
    "* 만약 p가 이미 올바른 괄호 문자열이라면 그대로 return 하면 됩니다.\n",
    "\n",
    "\n",
    "*출처: 프로그래머스 코딩 테스트 연습, https://programmers.co.kr/learn/challenges*"
   ]
  },
  {
   "cell_type": "markdown",
   "metadata": {},
   "source": [
    "### >> 오답노트  "
   ]
  },
  {
   "cell_type": "markdown",
   "metadata": {},
   "source": [
    "4번 과정을 잘못 이해했다. \"))()(( ()(())\" 인 경우,  \n",
    "```python\n",
    "u1 = \"))()((\" # 균형잡힌 괄호 문자열\n",
    "v1 = \"()(())\"  \n",
    "u = \"(\" + 'u1[1:-1]의 괄호 방향을 뒤집은 것' + \")\" + 'v1을 1단계부터 재귀적으로 수행'  \n",
    "u = \"(\" + \"()()\" + \")\" + 'v1을 1단계부터 재귀적으로 수행'  \n",
    "\n",
    "u2 = \"()\" # 올바른 괄호 문자열\n",
    "v2 = \"(())\"\n",
    "u += 'u2 + v2을 1단계부터 재귀적으로 수행'  \n",
    "u = \"(()())\" + \"()\" + 'v2을 1단계부터 재귀적으로 수행'     \n",
    "\n",
    "u3 = \"(())\" # 올바른 괄호 문자열\n",
    "v3 = \"\"\n",
    "u += u2   \n",
    "u = \"(()())()\" + \"(()) = \"(()())()(())\"\n",
    "```\n",
    "이렇게 푸는 것이 아니다."
   ]
  },
  {
   "cell_type": "code",
   "execution_count": 1,
   "metadata": {
    "scrolled": true
   },
   "outputs": [
    {
     "name": "stdout",
     "output_type": "stream",
     "text": [
      "(()())()  >> (()())()\n",
      "()  >> ()\n",
      "()(())()  >> ()(())()\n",
      "\n",
      "오답\n",
      "(()())()(())  >> (()(()))()()\n",
      "()()()()  >> (((())))\n"
     ]
    }
   ],
   "source": [
    "def solution(p):\n",
    "    answer = ''\n",
    "    u, v = divide_uv(p)\n",
    "    if complete(u):\n",
    "        answer += u\n",
    "    else:\n",
    "        answer += \"(\"+u[1:-1].replace(\"(\",\"#\").replace(\")\",\"(\").replace(\"#\",\")\")+\")\"\n",
    "    if v != \"\":\n",
    "        answer += solution(v)\n",
    "    return answer\n",
    "\n",
    "def complete(p):\n",
    "    left = right = 0\n",
    "    for i in range(len(p)):\n",
    "        if p[i] == \"(\":\n",
    "            left += 1\n",
    "        else:\n",
    "            right += 1\n",
    "        if left < right:\n",
    "            return False\n",
    "    return True\n",
    "\n",
    "def divide_uv(p):\n",
    "    left = right = 0\n",
    "    for i in range(len(p)):\n",
    "        if p[i] == \"(\": \n",
    "            left += 1\n",
    "        else: \n",
    "            right += 1\n",
    "        if left == right:\n",
    "            return p[:i+1], p[i+1:]\n",
    "    \n",
    "print(solution(\"(()())()\"),\" >> (()())()\")\n",
    "print(solution(\")(\"), \" >> ()\")\n",
    "print(solution(\"()))((()\"), \" >> ()(())()\")\n",
    "print(\"\")\n",
    "print(\"오답\")\n",
    "print(solution(\"))()((()(())\"), \" >> (()(()))()()\")\n",
    "print(solution(\")()()()(\"), \" >> (((())))\")"
   ]
  },
  {
   "cell_type": "markdown",
   "metadata": {},
   "source": [
    "### >> 풀이"
   ]
  },
  {
   "cell_type": "markdown",
   "metadata": {},
   "source": [
    "4. 문자열 u가 \"올바른 괄호 문자열\"이 아니라면 아래 과정을 수행합니다.   \n",
    "    4-1. 빈 문자열에 첫 번째 문자로 **'('**를 붙입니다.   \n",
    "    4-2. **문자열 v에 대해 1단계부터 재귀적으로 수행한 결과 문자열을 이어 붙입니다.**   \n",
    "    4-3. **')'**를 다시 붙입니다.   \n",
    "    4-4. **u의 첫 번째와 마지막 문자를 제거하고, 나머지 문자열의 괄호 방향을 뒤집어서 뒤에 붙입니다.**   \n",
    "    4-5. 생성된 문자열을 반환합니다.  \n",
    "    \n",
    "\"))()(( ()(())\" 인 경우,  \n",
    "```python\n",
    "u1 = \"))()((\" # 균형잡힌 괄호 문자열\n",
    "v1 = \"()(())\"  \n",
    "u = \"(\" + 'v1을 1단계부터 재귀적으로 수행' + \")\" + 'u1[1:-1]의 괄호 방향을 뒤집은 것'  \n",
    "u = \"(\" + 'v1을 1단계부터 재귀적으로 수행' + \")\" + \"()()\"\n",
    "\n",
    "# v1을 1단계부터 재귀적으로 수행\n",
    "u2 = \"()\" # 올바른 괄호 문자열\n",
    "v2 = \"(())\"\n",
    "u = \"(\" + \"()\" + 'v2을 1단계부터 재귀적으로 수행' + \")\" + \"()()\"\n",
    "\n",
    "u3 = \"(())\" # 올바른 괄호 문자열\n",
    "v3 = \"\"\n",
    "u = \"(\" + \"()\" \"(())\" + \")\" + \"()()\" = \"(()(()))()()\"\n",
    "```\n",
    "이렇게 푸는 것이 올바른 풀이이다."
   ]
  },
  {
   "cell_type": "code",
   "execution_count": 2,
   "metadata": {},
   "outputs": [
    {
     "name": "stdout",
     "output_type": "stream",
     "text": [
      "(()())()  >> (()())()\n",
      "()  >> ()\n",
      "()(())()  >> ()(())()\n",
      "(()(()))()()  >> (()(()))()()\n",
      "(((())))  >> (((())))\n"
     ]
    }
   ],
   "source": [
    "def solution(p):\n",
    "    answer = ''\n",
    "    u, v = divide_uv(p)\n",
    "    if complete(u):\n",
    "        answer += u\n",
    "        if v != \"\":\n",
    "            answer += solution(v)\n",
    "    else:\n",
    "        answer += \"(\"\n",
    "        if v != \"\":\n",
    "            answer += solution(v)\n",
    "        answer += \")\"\n",
    "        answer += u[1:-1].replace(\"(\",\"#\").replace(\")\",\"(\").replace(\"#\",\")\")\n",
    "    return answer\n",
    "\n",
    "def complete(p):\n",
    "    left = right = 0\n",
    "    for i in range(len(p)):\n",
    "        if p[i] == \"(\":\n",
    "            left += 1\n",
    "        else:\n",
    "            right += 1\n",
    "        if left < right:\n",
    "            return False\n",
    "    return True\n",
    "\n",
    "def divide_uv(p):\n",
    "    left = right = 0\n",
    "    for i in range(len(p)):\n",
    "        if p[i] == \"(\": \n",
    "            left += 1\n",
    "        else: \n",
    "            right += 1\n",
    "        if left == right:\n",
    "            return p[:i+1], p[i+1:]\n",
    "    \n",
    "\n",
    "print(solution(\"(()())()\"),\" >> (()())()\")\n",
    "print(solution(\")(\"), \" >> ()\")\n",
    "print(solution(\"()))((()\"), \" >> ()(())()\")\n",
    "print(solution(\"))()((()(())\"), \" >> (()(()))()()\")\n",
    "print(solution(\")()()()(\"), \" >> (((())))\")"
   ]
  }
 ],
 "metadata": {
  "kernelspec": {
   "display_name": "Python 3",
   "language": "python",
   "name": "python3"
  },
  "language_info": {
   "codemirror_mode": {
    "name": "ipython",
    "version": 3
   },
   "file_extension": ".py",
   "mimetype": "text/x-python",
   "name": "python",
   "nbconvert_exporter": "python",
   "pygments_lexer": "ipython3",
   "version": "3.7.1"
  }
 },
 "nbformat": 4,
 "nbformat_minor": 2
}
