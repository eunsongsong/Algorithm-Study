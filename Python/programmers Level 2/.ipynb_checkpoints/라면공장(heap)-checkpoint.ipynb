{
 "cells": [
  {
   "cell_type": "markdown",
   "metadata": {},
   "source": [
    "### >> 문제: programmers L2 [라면공장](https://programmers.co.kr/learn/courses/30/lessons/42629)\n",
    "\n",
    "라면 공장에서는 하루에 밀가루를 1톤씩 사용합니다.  \n",
    "앞으로 k일 이후에야 밀가루를 공급받을 수 있기 때문에 밀가루를 수입해야 합니다.  \n",
    "\n",
    "해외 공장에서는 향후 밀가루를 공급할 수 있는 날짜와 수량을 알려주었고,  \n",
    "라면 공장에서는 운송비를 줄이기 위해 최소한의 횟수로 밀가루를 공급받고 싶습니다.\n",
    "\n",
    "현재 공장에 남아있는 밀가루 수량 stock,  \n",
    "밀가루 공급 일정(dates)과 해당 시점에 공급 가능한 밀가루 수량(supplies),  \n",
    "원래 공장으로부터 공급받을 수 있는 시점 k가 주어질 때,  \n",
    "밀가루가 떨어지지 않고 공장을 운영하기 위해서 최소한 몇 번  \n",
    "해외 공장으로부터 밀가루를 공급받아야 하는지를 return 하도록 solution 함수를 완성하세요.  \n",
    "\n",
    "dates[i]에는 i번째 공급 가능일이 들어있으며,  \n",
    "supplies[i]에는 dates[i] 날짜에 공급 가능한 밀가루 수량이 들어 있습니다.   \n",
    "\n",
    "* stock에 있는 밀가루는 오늘(0일 이후)부터 사용됩니다.\n",
    "* stock과 k는 2 이상 100,000 이하입니다.\n",
    "* dates의 각 원소는 1 이상 k 이하입니다.\n",
    "* supplies의 각 원소는 1 이상 1,000 이하입니다.\n",
    "* dates와 supplies의 길이는 1 이상 20,000 이하입니다.\n",
    "* k일 째에는 밀가루가 충분히 공급되기 때문에 k-1일에 사용할 수량까지만 확보하면 됩니다.\n",
    "* dates에 들어있는 날짜는 오름차순 정렬되어 있습니다.\n",
    "* dates에 들어있는 날짜에 공급되는 밀가루는 작업 시작 전 새벽에 공급되는 것을 기준으로 합니다.  \n",
    "예를 들어 9일째에 밀가루가 바닥나더라도, 10일째에 공급받으면 10일째에는 공장을 운영할 수 있습니다. \n",
    "* 밀가루가 바닥나는 경우는 주어지지 않습니다.\n",
    "\n",
    "*출처: 프로그래머스 코딩 테스트 연습, https://programmers.co.kr/learn/challenges*"
   ]
  },
  {
   "cell_type": "markdown",
   "metadata": {},
   "source": [
    "### >> 풀이\n",
    "수입 일정보다 남아있는 수량이 적으면, 수입 일정보다 남아있는 수량이 커질때 까지  \n",
    "그 기간 동안 수입 가능한 수량이 가장 큰 값부터 공급한다.  \n",
    "dates = [4, 10, 25, 30(k)]  \n",
    "stock = 4  \n",
    "1. dates = 4 일때 stock = 4 이므로 4일 째 까지 공급 가능하므로,  \n",
    "4일 째 수입 가능한 수량은 그 다음 공급을 위해 후보로 올린다  \n",
    "candidate.append(4일 째 수입 가능한 수량)   \n",
    "2. dates = 10 일때 stock = 4 (stock < dates)이면, 10일 째 까지 밀가루를 충분히 공급하지 못하므로  \n",
    "stock > dates가 될 때까지 candidate에서 수입 가능한 수량이 큰 것부터 공급 받는다  \n",
    "stock += max(candidate)  \n",
    "\n"
   ]
  },
  {
   "cell_type": "code",
   "execution_count": 117,
   "metadata": {},
   "outputs": [
    {
     "name": "stdout",
     "output_type": "stream",
     "text": [
      "2  >> 2\n",
      "3  >> 3\n"
     ]
    }
   ],
   "source": [
    "def solution(stock, dates, supplies, k):\n",
    "    answer = 0\n",
    "    candidate = [] # 수입 가능한 밀가루 후보\n",
    "    dates.append(k) # 밀가루 공급 가능일 k 추가\n",
    "    supplies.append(0) # k일에는 밀가루 공급 가능하므로 수입 밀가수 수량 0 추가\n",
    "    \n",
    "    for i in range(len(dates)):\n",
    "        # 2.\n",
    "        if stock < dates[i]: # 수입 일정보다 남아있는 수량이 적으면 \n",
    "            while stock <= dates[i]: # 수입 일정보다 남아있는 수량이 커질때 까지\n",
    "                                     # 수입 가능한 수량이 가장 큰 것을 더한다\n",
    "                stock += candidate.pop(candidate.index(max(candidate))) \n",
    "                answer += 1\n",
    "        # 1.\n",
    "        # 수입 일정보다 남아있는 수량이 크면, 수입 가능한 밀가루 후보에 올린다\n",
    "        candidate.append(supplies[i])    \n",
    "                \n",
    "    return answer\n",
    "\n",
    "print(solution(4,[4,10,15],[20,5,10],30),\" >> 2\")\n",
    "print(solution(4,[4,10,15],[20,4,3],30),\" >> 3\")"
   ]
  },
  {
   "cell_type": "markdown",
   "metadata": {},
   "source": [
    "heap"
   ]
  },
  {
   "cell_type": "code",
   "execution_count": 116,
   "metadata": {},
   "outputs": [
    {
     "name": "stdout",
     "output_type": "stream",
     "text": [
      "2  >> 2\n",
      "3  >> 3\n"
     ]
    }
   ],
   "source": [
    "import heapq\n",
    "\n",
    "def solution(stock, dates, supplies, k):\n",
    "    answer = 0\n",
    "    candidate = [] # 수입 가능한 밀가루 후보\n",
    "    dates.append(k) # 밀가루 공급 가능일 k 추가\n",
    "    supplies.append(0) # k일에는 밀가루 공급 가능하므로 수입 밀가수 수량 0 추가\n",
    "    \n",
    "    for i in range(len(dates)):\n",
    "        # 2.\n",
    "        if stock < dates[i]: # 수입 일정보다 남아있는 수량이 적으면 \n",
    "            while stock <= dates[i]: # 수입 일정보다 남아있는 수량이 커질때 까지\n",
    "                stock += -heapq.heappop(candidate) # 수입 가능한 수량이 가장 큰 것을 더한다\n",
    "                answer += 1\n",
    "        # 1.\n",
    "        # 수입 일정보다 남아있는 수량이 크면, 수입 가능한 밀가루 후보에 heap으로 push\n",
    "        # heapq 모듈을 최소힙 자료구조를 제공하므로 최댓값을 출력하기 위해 음수(-)로 push\n",
    "        heapq.heappush(candidate, -supplies[i]) \n",
    "    \n",
    "                \n",
    "    return answer\n",
    "\n",
    "print(solution(4,[4,10,15],[20,5,10],30),\" >> 2\")\n",
    "print(solution(4,[4,10,15],[20,4,3],30),\" >> 3\")"
   ]
  }
 ],
 "metadata": {
  "kernelspec": {
   "display_name": "Python 3",
   "language": "python",
   "name": "python3"
  },
  "language_info": {
   "codemirror_mode": {
    "name": "ipython",
    "version": 3
   },
   "file_extension": ".py",
   "mimetype": "text/x-python",
   "name": "python",
   "nbconvert_exporter": "python",
   "pygments_lexer": "ipython3",
   "version": "3.7.1"
  }
 },
 "nbformat": 4,
 "nbformat_minor": 2
}
