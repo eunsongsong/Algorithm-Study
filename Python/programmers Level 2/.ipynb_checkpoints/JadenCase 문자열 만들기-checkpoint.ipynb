{
 "cells": [
  {
   "cell_type": "markdown",
   "metadata": {},
   "source": [
    "### >> 문제: programmers L2 [JadenCase 문자열 만들기](https://programmers.co.kr/learn/courses/30/lessons/12951)\n",
    "\n",
    "JadenCase란 모든 단어의 첫 문자가 대문자이고, 그 외의 알파벳은 소문자인 문자열입니다.  \n",
    "문자열 s가 주어졌을 때, s를 JadenCase로 바꾼 문자열을 리턴하는 함수, solution을 완성해주세요.  \n",
    "\n",
    "* s는 길이 1 이상인 문자열입니다.\n",
    "* s는 알파벳과 공백문자(\" \")로 이루어져 있습니다.\n",
    "* 첫 문자가 영문이 아닐때에는 이어지는 영문은 소문자로 씁니다.\n",
    "\n",
    "*출처: 프로그래머스 코딩 테스트 연습, https://programmers.co.kr/learn/challenges*"
   ]
  },
  {
   "cell_type": "markdown",
   "metadata": {},
   "source": [
    "### >> 풀이"
   ]
  },
  {
   "cell_type": "code",
   "execution_count": 1,
   "metadata": {},
   "outputs": [
    {
     "name": "stdout",
     "output_type": "stream",
     "text": [
      "3people Unfollowed Me  >> 3people Unfollowed Me\n",
      "For The Last Week  >> For The Last Week\n"
     ]
    }
   ],
   "source": [
    "def solution(s):\n",
    "    answer = s[0].upper()+s[1:].lower() \n",
    "    for i in range(1,len(s)):\n",
    "        if answer[i-1] == \" \":\n",
    "            answer = answer[:i] + answer[i].upper() + answer[i+1:]\n",
    "    return answer\n",
    "\n",
    "print(solution(\"3people unFollowed me\"),\" >> 3people Unfollowed Me\")\n",
    "print(solution(\"for the last week\"),\" >> For The Last Week\")"
   ]
  },
  {
   "cell_type": "code",
   "execution_count": null,
   "metadata": {},
   "outputs": [],
   "source": []
  }
 ],
 "metadata": {
  "kernelspec": {
   "display_name": "Python 3",
   "language": "python",
   "name": "python3"
  },
  "language_info": {
   "codemirror_mode": {
    "name": "ipython",
    "version": 3
   },
   "file_extension": ".py",
   "mimetype": "text/x-python",
   "name": "python",
   "nbconvert_exporter": "python",
   "pygments_lexer": "ipython3",
   "version": "3.7.1"
  }
 },
 "nbformat": 4,
 "nbformat_minor": 2
}
