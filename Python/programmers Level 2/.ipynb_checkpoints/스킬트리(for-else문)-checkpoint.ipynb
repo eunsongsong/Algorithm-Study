{
 "cells": [
  {
   "cell_type": "markdown",
   "metadata": {},
   "source": [
    "### >> 문제: programmers L2 [스킬트리](https://programmers.co.kr/learn/courses/30/lessons/49993)\n",
    "\n",
    "선행 스킬이란 어떤 스킬을 배우기 전에 먼저 배워야 하는 스킬을 뜻합니다.  \n",
    "\n",
    "예를 들어 선행 스킬 순서가 ```스파크 → 라이트닝 볼트 → 썬더```일때,  \n",
    "썬더를 배우려면 먼저 라이트닝 볼트를 배워야 하고, 라이트닝 볼트를 배우려면 먼저 스파크를 배워야 합니다.  \n",
    "\n",
    "위 순서에 없는 다른 스킬(힐링 등)은 순서에 상관없이 배울 수 있습니다.  \n",
    "따라서 ```스파크 → 힐링 → 라이트닝 볼트 → 썬더```와 같은 스킬트리는 가능하지만,  \n",
    "```썬더 → 스파크나 라이트닝 볼트 → 스파크 → 힐링 → 썬더```와 같은 스킬트리는 불가능합니다.  \n",
    "\n",
    "선행 스킬 순서 skill과 유저들이 만든 스킬트리를 담은 배열 skill_trees가 매개변수로 주어질 때,  \n",
    "가능한 스킬트리 개수를 return 하는 solution 함수를 작성해주세요.  \n",
    "\n",
    "- 스킬은 알파벳 대문자로 표기하며, 모든 문자열은 알파벳 대문자로만 이루어져 있습니다.\n",
    "- 스킬 순서와 스킬트리는 문자열로 표기합니다.\n",
    "    - 예를 들어, C → B → D 라면 CBD로 표기합니다\n",
    "- 선행 스킬 순서 skill의 길이는 1 이상 26 이하이며, 스킬은 중복해 주어지지 않습니다.\n",
    "- skill_trees는 길이 1 이상 20 이하인 배열입니다.\n",
    "- skill_trees의 원소는 스킬을 나타내는 문자열입니다.\n",
    "    - skill_trees의 원소는 길이가 2 이상 26 이하인 문자열이며, 스킬이 중복해 주어지지 않습니다.\n",
    "\n",
    "*출처: 프로그래머스 코딩 테스트 연습, https://programmers.co.kr/learn/challenges*"
   ]
  },
  {
   "cell_type": "markdown",
   "metadata": {},
   "source": [
    "### >> 풀이"
   ]
  },
  {
   "cell_type": "code",
   "execution_count": 1,
   "metadata": {},
   "outputs": [
    {
     "name": "stdout",
     "output_type": "stream",
     "text": [
      "2  >> 2\n"
     ]
    }
   ],
   "source": [
    "def solution(skill, skill_trees):\n",
    "    answer = 0\n",
    "    \n",
    "    for s in skill_trees:\n",
    "        compare = [] # 스킬 트리의 스킬을 저장할 리스트\n",
    "        isSkill = True # 가능한 스킬트리이면 True\n",
    "\n",
    "        for i in range(len(s)):\n",
    "            if s[i] in skill: # 스킬트리에서 스킬을 찾으면\n",
    "                compare.append(s[i]) # compare에 스킬 저장\n",
    "                \n",
    "        # compare와 skill의 문자를 하나씩 비교\n",
    "        for i in range(len(compare)):\n",
    "            if skill[i] != compare[i]: \n",
    "                isSkill = False # 비교한 값이 같지 않으면 불가능한 스킬트리\n",
    "                break\n",
    "        if isSkill: # 가능한 스킬트리이면\n",
    "            answer += 1 # answer += 1\n",
    "\n",
    "    return answer\n",
    "\n",
    "print(solution(\"CBD\", [\"BACDE\", \"CBADF\", \"AECB\", \"BDA\"]),\" >> 2\")"
   ]
  },
  {
   "cell_type": "markdown",
   "metadata": {},
   "source": [
    "### >> 다른풀이"
   ]
  },
  {
   "cell_type": "code",
   "execution_count": 2,
   "metadata": {},
   "outputs": [
    {
     "name": "stdout",
     "output_type": "stream",
     "text": [
      "2  >> 2\n"
     ]
    }
   ],
   "source": [
    "def solution(skill,skill_tree):\n",
    "    answer=0\n",
    "    \n",
    "    for s in skill_tree:\n",
    "        temp = '' # 스킬트리의 스킬을 저장할 문자열\n",
    "        for i in s:\n",
    "            if i in skill: # 스킬트리에서 스킬을 찾으면\n",
    "                temp += i # 문자열에 추가\n",
    "        if skill[:len(temp)] == temp: # 가능한 스킬트리이면 answer += 1\n",
    "            answer += 1\n",
    "    return answer\n",
    "\n",
    "print(solution(\"CBD\", [\"BACDE\", \"CBADF\", \"AECB\", \"BDA\"]),\" >> 2\")"
   ]
  },
  {
   "cell_type": "markdown",
   "metadata": {},
   "source": [
    "### >> 다른풀이(for-else문)"
   ]
  },
  {
   "cell_type": "code",
   "execution_count": 3,
   "metadata": {},
   "outputs": [
    {
     "name": "stdout",
     "output_type": "stream",
     "text": [
      "2  >> 2\n"
     ]
    }
   ],
   "source": [
    "def solution(skill, skill_trees):\n",
    "    answer = 0\n",
    "\n",
    "    for s in skill_trees:\n",
    "        skill_list = list(skill) # skill을 리스트로 만든다\n",
    "\n",
    "        for i in s: # 스킬트리의 문자를 하나씩 탐색\n",
    "            if i in skill: # 스킬트리에서 스킬을 찾으면\n",
    "                if i != skill_list.pop(0): # 스킬의 순서가 맞는지 검사\n",
    "                    break # 순서가 맞지 않으면 종료\n",
    "        else: # 스킬트리의 스킬 순서가 모두 맞다면 answer += 1\n",
    "            answer += 1\n",
    "\n",
    "    return answer\n",
    "\n",
    "print(solution(\"CBD\", [\"BACDE\", \"CBADF\", \"AECB\", \"BDA\"]),\" >> 2\")"
   ]
  },
  {
   "cell_type": "markdown",
   "metadata": {},
   "source": [
    "# for-else문\n",
    "for 문이 break문으로 인해 중간에 끊기지 않고 끝까지 수행되었을 때 else문이 수행된다"
   ]
  },
  {
   "cell_type": "code",
   "execution_count": 4,
   "metadata": {},
   "outputs": [
    {
     "name": "stdout",
     "output_type": "stream",
     "text": [
      "a에 7보다 큰 수는 없다\n"
     ]
    }
   ],
   "source": [
    "a = [1,2,3,4,5,6,7,8,9]\n",
    "for i in range(5):\n",
    "    if i > 7:\n",
    "        print('a에 7보다 큰 수가 있다')\n",
    "        break\n",
    "else:\n",
    "    print('a에 7보다 큰 수는 없다')"
   ]
  },
  {
   "cell_type": "code",
   "execution_count": 5,
   "metadata": {},
   "outputs": [
    {
     "name": "stdout",
     "output_type": "stream",
     "text": [
      "a에 10보다 큰 수는 없다\n"
     ]
    }
   ],
   "source": [
    "a = [1,2,3,4,5,6,7,8,9]\n",
    "for i in range(5):\n",
    "    if i > 10:\n",
    "        print('a에 10보다 큰 수가 있다')\n",
    "        break\n",
    "else:\n",
    "    print('a에 10보다 큰 수는 없다')"
   ]
  }
 ],
 "metadata": {
  "kernelspec": {
   "display_name": "Python 3",
   "language": "python",
   "name": "python3"
  },
  "language_info": {
   "codemirror_mode": {
    "name": "ipython",
    "version": 3
   },
   "file_extension": ".py",
   "mimetype": "text/x-python",
   "name": "python",
   "nbconvert_exporter": "python",
   "pygments_lexer": "ipython3",
   "version": "3.7.1"
  }
 },
 "nbformat": 4,
 "nbformat_minor": 2
}
