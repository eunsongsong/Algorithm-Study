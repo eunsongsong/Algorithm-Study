{
 "cells": [
  {
   "cell_type": "markdown",
   "metadata": {},
   "source": [
    "### >> 문제: programmers L2 [튜플](https://programmers.co.kr/learn/courses/30/lessons/64065)\n",
    "\n",
    "셀수있는 수량의 순서있는 열거 또는 어떤 **순서**를 따르는 요소들의 모음을 튜플(tuple)이라고 합니다.  \n",
    "n개의 요소를 가진 튜플을 n-튜플(n-tuple)이라고 하며, 다음과 같이 표현할 수 있습니다.  \n",
    "* (a1, a2, a3, ..., an)  \n",
    "\n",
    "튜플은 다음과 같은 성질을 가지고 있습니다. \n",
    "1. **중복된 원소가 있을 수 있습니다. ex : (2, 3, 1, 2)**  \n",
    "2. **원소에 정해진 순서가 있으며, 원소의 순서가 다르면 서로 다른 튜플입니다.**  \n",
    "**ex : (1, 2, 3) ≠ (1, 3, 2)**  \n",
    "3. **튜플의 원소 개수는 유한합니다.**  \n",
    "\n",
    "원소의 개수가 n개이고, 중복되는 원소가 없는 튜플 (a1, a2, a3, ..., an)이 주어질 때  \n",
    "(단, a1, a2, ..., an은 자연수), 이는 다음과 같이 집합 기호 '{', '}'를 이용해 표현할 수 있습니다.  \n",
    "* {{a1}, {a1, a2}, {a1, a2, a3}, {a1, a2, a3, a4}, ... {a1, a2, a3, a4, ..., an}}  \n",
    "\n",
    "예를 들어 튜플이 (2, 1, 3, 4)인 경우 이는\n",
    "* {{2}, {2, 1}, {2, 1, 3}, {2, 1, 3, 4}}  \n",
    "\n",
    "와 같이 표현할 수 있습니다. 이때, 집합은 원소의 순서가 바뀌어도 상관없으므로  \n",
    "* {{2}, {2, 1}, {2, 1, 3}, {2, 1, 3, 4}}\n",
    "* {{2, 1, 3, 4}, {2}, {2, 1, 3}, {2, 1}}\n",
    "* {{1, 2, 3}, {2, 1}, {1, 2, 4, 3}, {2}}  \n",
    "\n",
    "는 모두 같은 튜플 (2, 1, 3, 4)를 나타냅니다.\n",
    "\n",
    "특정 튜플을 표현하는 집합이 담긴 문자열 s가 매개변수로 주어질 때,  \n",
    "s가 표현하는 튜플을 배열에 담아 return 하도록 solution 함수를 완성해주세요.\n",
    "\n",
    "* s의 길이는 5 이상 1,000,000 이하입니다.\n",
    "* s는 숫자와 '{', '}', ',' 로만 이루어져 있습니다.\n",
    "* 숫자가 0으로 시작하는 경우는 없습니다.\n",
    "* s는 항상 중복되는 원소가 없는 튜플을 올바르게 표현하고 있습니다.\n",
    "* s가 표현하는 튜플의 원소는 1 이상 100,000 이하인 자연수입니다.\n",
    "* return 하는 배열의 길이가 1 이상 500 이하인 경우만 입력으로 주어집니다.\n",
    "\n",
    "\n",
    "*출처: 프로그래머스 코딩 테스트 연습, https://programmers.co.kr/learn/challenges*"
   ]
  },
  {
   "cell_type": "markdown",
   "metadata": {},
   "source": [
    "### >> 풀이"
   ]
  },
  {
   "cell_type": "code",
   "execution_count": 1,
   "metadata": {},
   "outputs": [
    {
     "name": "stdout",
     "output_type": "stream",
     "text": [
      "[2, 1, 3, 4]  >> [2, 1, 3, 4]\n",
      "[2, 1, 3, 4]  >> [2, 1, 3, 4]\n",
      "[111, 20]  >> [111, 20]\n",
      "[123]  >> [123]\n",
      "[3, 2, 4, 1]  >> [3, 2, 4, 1]\n"
     ]
    }
   ],
   "source": [
    "def solution(s):\n",
    "    answer = []\n",
    "    \n",
    "    # 원소를 쪼갠다\n",
    "    tupleSet = []\n",
    "    left = 0\n",
    "    for i in range(len(s)):\n",
    "        if s[i].isdigit():\n",
    "            if s[i-1] == \"{\":\n",
    "                tupleSet.append([])\n",
    "            if s[i-1].isdigit() == False:\n",
    "                left = i\n",
    "            if s[i+1].isdigit() == False: \n",
    "                tupleSet[-1].append(int(s[left:i+1]))\n",
    "                \n",
    "    tupleSet.sort(key=lambda x:len(x)) # 원소의 길이가 작은 순으로 정렬\n",
    "    \n",
    "    for t in tupleSet: # s가 표현하는 튜플\n",
    "        for i in t:\n",
    "            if i in answer:\n",
    "                continue\n",
    "            else:\n",
    "                answer.append(i)\n",
    "    return answer\n",
    "\n",
    "print(solution(\"{{2},{2,1},{2,1,3},{2,1,3,4}}\"),\" >> [2, 1, 3, 4]\")\n",
    "print(solution(\"{{1,2,3},{2,1},{1,2,4,3},{2}}\"),\" >> [2, 1, 3, 4]\")\n",
    "print(solution(\"{{20,111},{111}}\"),\" >> [111, 20]\")\n",
    "print(solution(\"{{123}}\"),\" >> [123]\")\n",
    "print(solution(\"{{4,2,3},{3},{2,3,4,1},{2,3}}\"),\" >> [3, 2, 4, 1]\")"
   ]
  },
  {
   "cell_type": "markdown",
   "metadata": {},
   "source": [
    "split"
   ]
  },
  {
   "cell_type": "code",
   "execution_count": 2,
   "metadata": {},
   "outputs": [
    {
     "name": "stdout",
     "output_type": "stream",
     "text": [
      "[2, 1, 3, 4]  >> [2, 1, 3, 4]\n",
      "[2, 1, 3, 4]  >> [2, 1, 3, 4]\n",
      "[111, 20]  >> [111, 20]\n",
      "[123]  >> [123]\n",
      "[3, 2, 4, 1]  >> [3, 2, 4, 1]\n"
     ]
    }
   ],
   "source": [
    "def solution(s):\n",
    "    answer = []\n",
    "    \n",
    "    # 원소를 쪼갠다\n",
    "    tupleSet = []\n",
    "    s = s.replace(\"{{\",\"\").replace(\"}}\",\"\")\n",
    "    tupleSet = s.split(\"},{\")\n",
    "    for i in range(len(tupleSet)):\n",
    "        tupleSet[i] = list(map(int,tupleSet[i].split(\",\")))\n",
    "\n",
    "    tupleSet.sort(key=lambda x:len(x)) # 원소의 길이가 작은 순으로 정렬\n",
    "    \n",
    "    for t in tupleSet: # s가 표현하는 튜플\n",
    "        for i in t:\n",
    "            if i in answer:\n",
    "                continue\n",
    "            else:\n",
    "                answer.append(i)    \n",
    "    return answer\n",
    "\n",
    "print(solution(\"{{2},{2,1},{2,1,3},{2,1,3,4}}\"),\" >> [2, 1, 3, 4]\")\n",
    "print(solution(\"{{1,2,3},{2,1},{1,2,4,3},{2}}\"),\" >> [2, 1, 3, 4]\")\n",
    "print(solution(\"{{20,111},{111}}\"),\" >> [111, 20]\")\n",
    "print(solution(\"{{123}}\"),\" >> [123]\")\n",
    "print(solution(\"{{4,2,3},{3},{2,3,4,1},{2,3}}\"),\" >> [3, 2, 4, 1]\")"
   ]
  },
  {
   "cell_type": "markdown",
   "metadata": {},
   "source": [
    "### >> 다른풀이"
   ]
  },
  {
   "cell_type": "markdown",
   "metadata": {},
   "source": [
    "strip"
   ]
  },
  {
   "cell_type": "code",
   "execution_count": 3,
   "metadata": {},
   "outputs": [
    {
     "name": "stdout",
     "output_type": "stream",
     "text": [
      "[2, 1, 3, 4]  >> [2, 1, 3, 4]\n",
      "[2, 1, 3, 4]  >> [2, 1, 3, 4]\n",
      "[111, 20]  >> [111, 20]\n",
      "[123]  >> [123]\n",
      "[3, 2, 4, 1]  >> [3, 2, 4, 1]\n"
     ]
    }
   ],
   "source": [
    "def solution(s):\n",
    "    answer = []\n",
    "    \n",
    "    # 원소를 쪼갠다\n",
    "    tupleSet = []\n",
    "    tupleSet = s.lstrip('{').rstrip('}').split('},{') # 문자열을 쪼개서 list 타입으로 변함\n",
    "    for i in range(len(tupleSet)):\n",
    "        tupleSet[i] = tupleSet[i].split(',')\n",
    "        \n",
    "    tupleSet.sort(key = len) # 원소의 길이가 작은 순으로 정렬\n",
    "\n",
    "    for t in tupleSet: # s가 표현하는 튜플\n",
    "        for i in range(len(t)):\n",
    "            if int(t[i]) not in answer:\n",
    "                answer.append(int(t[i]))\n",
    "    return answer\n",
    "\n",
    "print(solution(\"{{2},{2,1},{2,1,3},{2,1,3,4}}\"),\" >> [2, 1, 3, 4]\")\n",
    "print(solution(\"{{1,2,3},{2,1},{1,2,4,3},{2}}\"),\" >> [2, 1, 3, 4]\")\n",
    "print(solution(\"{{20,111},{111}}\"),\" >> [111, 20]\")\n",
    "print(solution(\"{{123}}\"),\" >> [123]\")\n",
    "print(solution(\"{{4,2,3},{3},{2,3,4,1},{2,3}}\"),\" >> [3, 2, 4, 1]\")"
   ]
  }
 ],
 "metadata": {
  "kernelspec": {
   "display_name": "Python 3",
   "language": "python",
   "name": "python3"
  },
  "language_info": {
   "codemirror_mode": {
    "name": "ipython",
    "version": 3
   },
   "file_extension": ".py",
   "mimetype": "text/x-python",
   "name": "python",
   "nbconvert_exporter": "python",
   "pygments_lexer": "ipython3",
   "version": "3.7.1"
  }
 },
 "nbformat": 4,
 "nbformat_minor": 2
}
