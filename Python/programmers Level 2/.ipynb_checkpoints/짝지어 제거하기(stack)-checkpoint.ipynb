{
 "cells": [
  {
   "cell_type": "markdown",
   "metadata": {},
   "source": [
    "### >> 문제: programmers L2 [짝지어 제거하기](https://programmers.co.kr/learn/courses/30/lessons/12973)\n",
    "\n",
    "짝지어 제거하기는, 알파벳 소문자로 이루어진 문자열을 가지고 시작합니다.  \n",
    "먼저 문자열에서 같은 알파벳이 2개 붙어 있는 짝을 찾습니다.  \n",
    "그다음, 그 둘을 제거한 뒤, 앞뒤로 문자열을 이어 붙입니다.  \n",
    "이 과정을 반복해서 문자열을 모두 제거한다면 짝지어 제거하기가 종료됩니다.  \n",
    "문자열 S가 주어졌을 때, 짝지어 제거하기를 성공적으로 수행할 수 있는지 반환하는 함수를 완성해 주세요.  \n",
    "성공적으로 수행할 수 있으면 1을, 아닐 경우 0을 리턴해주면 됩니다.  \n",
    "\n",
    "예를 들어, 문자열 S = baabaa 라면  \n",
    "\n",
    "b aa baa → bb aa → aa →  \n",
    "\n",
    "의 순서로 문자열을 모두 제거할 수 있으므로 1을 반환합니다.  \n",
    "\n",
    "* 문자열의 길이 : 1,000,000이하의 자연수\n",
    "* 문자열은 모두 소문자로 이루어져 있습니다.\n",
    "\n",
    "\n",
    "*출처: 프로그래머스 코딩 테스트 연습, https://programmers.co.kr/learn/challenges*"
   ]
  },
  {
   "cell_type": "markdown",
   "metadata": {},
   "source": [
    "### >> 오답노트(효율성)\n",
    "알파벳이 2개 붙어 있는 짝을 찾으면, 붙어있는 알파벳을 제외하고 문자열을 이어붙인다"
   ]
  },
  {
   "cell_type": "code",
   "execution_count": 1,
   "metadata": {},
   "outputs": [
    {
     "name": "stdout",
     "output_type": "stream",
     "text": [
      "1  >> 1\n",
      "0  >> 0\n"
     ]
    }
   ],
   "source": [
    "def solution(s):\n",
    "    answer = 0\n",
    "    \n",
    "    i = 1\n",
    "    while i < len(s) and len(s) > 1:\n",
    "        if s[i-1] == s[i]:\n",
    "            s = s[:i-1] + s[i+1:]\n",
    "            i -= 1\n",
    "            if i < 1:\n",
    "                i = 1\n",
    "        else:\n",
    "            i += 1\n",
    "    \n",
    "    if s == \"\": # 문자열을 모두 제거한 경우 answer=1\n",
    "        answer = 1\n",
    "    return answer\n",
    "\n",
    "print(solution(\"baabaa\"), \" >> 1\")\n",
    "print(solution(\"cdcd\"), \" >> 0\")"
   ]
  },
  {
   "cell_type": "markdown",
   "metadata": {},
   "source": [
    "### >> 풀이(stack)\n",
    "문자열을 하나씩 탐색하면서 stack에 담고, 알파벳이 2개 붙어 있는 짝을 찾으면 pop한다"
   ]
  },
  {
   "cell_type": "code",
   "execution_count": 2,
   "metadata": {},
   "outputs": [
    {
     "name": "stdout",
     "output_type": "stream",
     "text": [
      "1  >> 1\n",
      "0  >> 0\n"
     ]
    }
   ],
   "source": [
    "def solution(s):\n",
    "    answer = 0\n",
    "    stack = []\n",
    "    \n",
    "    for i in s:\n",
    "        stack.append(i)\n",
    "        if len(stack) > 1 and stack[-1] == stack[-2]:\n",
    "            stack.pop()\n",
    "            stack.pop()\n",
    "            \n",
    "    if not stack:# stack이 비어있으면, 문자열을 모두 제거한 것\n",
    "        answer = 1\n",
    "    return answer\n",
    "\n",
    "print(solution(\"baabaa\"), \" >> 1\")\n",
    "print(solution(\"cdcd\"), \" >> 0\")"
   ]
  }
 ],
 "metadata": {
  "kernelspec": {
   "display_name": "Python 3",
   "language": "python",
   "name": "python3"
  },
  "language_info": {
   "codemirror_mode": {
    "name": "ipython",
    "version": 3
   },
   "file_extension": ".py",
   "mimetype": "text/x-python",
   "name": "python",
   "nbconvert_exporter": "python",
   "pygments_lexer": "ipython3",
   "version": "3.7.1"
  }
 },
 "nbformat": 4,
 "nbformat_minor": 2
}
