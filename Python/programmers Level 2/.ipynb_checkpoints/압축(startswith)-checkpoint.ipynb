{
 "cells": [
  {
   "cell_type": "markdown",
   "metadata": {},
   "source": [
    "### >> 문제: programmers L2 [압축](https://programmers.co.kr/learn/courses/30/lessons/17684)\n",
    "\n",
    "LZW 압축은 다음 과정을 거친다.  \n",
    "\n",
    "1. 길이가 1인 모든 단어를 포함하도록 사전을 초기화한다.\n",
    "2. 사전에서 현재 입력과 일치하는 가장 긴 문자열 w를 찾는다.\n",
    "3. w에 해당하는 사전의 색인 번호를 출력하고, 입력에서 w를 제거한다.\n",
    "4. 입력에서 처리되지 않은 다음 글자가 남아있다면(c), w+c에 해당하는 단어를 사전에 등록한다.\n",
    "5. 단계 2로 돌아간다.  \n",
    "\n",
    "압축 알고리즘이 **영문 대문자**만 처리한다고 할 때, 사전은 다음과 같이 초기화된다.  \n",
    "**사전의 색인 번호는 정수값으로 주어지며, 1부터 시작**한다고 하자.  \n",
    "\n",
    "|색인 번호|1\t|2\t|3\t|...\t|24\t|25\t|26|\n",
    "|:---:|:---:|:---:|:---:|:---:|:---:|:---:|:---:|\n",
    "|단어|A\t|B\t|C\t|...\t|X\t|Y\t|Z|  \n",
    "\n",
    "예를 들어 입력으로 KAKAO가 들어온다고 하자.  \n",
    "\n",
    "1. 현재 사전에는 KAKAO의 첫 글자 K는 등록되어 있으나, 두 번째 글자까지인 KA는 없으므로,  \n",
    "첫 글자 K에 해당하는 색인 번호 11을 출력하고, 다음 글자인 A를 포함한 KA를 사전에 27 번째로 등록한다.  \n",
    "2. 두 번째 글자 A는 사전에 있으나, 세 번째 글자까지인 AK는 사전에 없으므로,  \n",
    "A의 색인 번호 1을 출력하고, AK를 사전에 28 번째로 등록한다.  \n",
    "3. 세 번째 글자에서 시작하는 KA가 사전에 있으므로, KA에 해당하는 색인 번호 27을 출력하고,  \n",
    "다음 글자 O를 포함한 KAO를 29 번째로 등록한다.  \n",
    "4. 마지막으로 처리되지 않은 글자 O에 해당하는 색인 번호 15를 출력한다.  \n",
    "\n",
    "|현재 입력(w)|\t다음 글자(c)|\t출력|\t사전 추가(w+c)|\n",
    "|:---:|:---:|:---:|:---:|\n",
    "|K|\tA|\t11|\t27: KA|\n",
    "|A\t|K\t|1\t|28: AK|\n",
    "|KA|\tO|\t27|\t29: KAO|\n",
    "| O |-| 15 |-|  \n",
    "\n",
    "이 과정을 거쳐 다섯 글자의 문장 KAKAO가 4개의 색인 번호 [11, 1, 27, 15]로 압축된다.  \n",
    "\n",
    "입력으로 TOBEORNOTTOBEORTOBEORNOT가 들어오면 다음과 같이 압축이 진행된다.  \n",
    "\n",
    "|현재 입력(w)|\t다음 글자(c)|\t출력|\t사전 추가(w+c)|\n",
    "|:---:|:---:|:---:|:---:|\n",
    "|T\t|O\t|20\t|27: TO|\n",
    "|O\t|B\t|15\t|28: OB|\n",
    "|B\t|E\t|2\t|29: BE|\n",
    "|E\t|O\t|5\t|30: EO|\n",
    "|O\t|R\t|15\t|31: OR|\n",
    "|R\t|N\t|18\t|32: RN|\n",
    "|N\t|O\t|14\t|33: NO|\n",
    "|O\t|T\t|15\t|34: OT|\n",
    "|T\t|T\t|20\t|35: TT|\n",
    "|TO\t|B\t|27\t|36: TOB|\n",
    "|BE\t|O\t|29\t|37: BEO|\n",
    "|OR\t|T\t|31\t|38: ORT|\n",
    "|TOB|E\t|36\t|39: TOBE|\n",
    "|EO\t|R\t|30\t|40: EOR|\n",
    "|RN\t|O\t|32|\t41: RNO|\n",
    "|OT|-|34|-|  \n",
    "\n",
    "[입력 형식]  \n",
    "입력으로 영문 대문자로만 이뤄진 문자열 msg가 주어진다. msg의 길이는 1 글자 이상, 1000 글자 이하이다.  \n",
    "\n",
    "[출력 형식]  \n",
    "주어진 문자열을 압축한 후의 사전 색인 번호를 배열로 출력하라.  \n",
    "\n",
    "*출처: 프로그래머스 코딩 테스트 연습, https://programmers.co.kr/learn/challenges*"
   ]
  },
  {
   "cell_type": "markdown",
   "metadata": {},
   "source": [
    "### >> 풀이"
   ]
  },
  {
   "cell_type": "code",
   "execution_count": 1,
   "metadata": {},
   "outputs": [
    {
     "name": "stdout",
     "output_type": "stream",
     "text": [
      "[11, 1, 27, 15] True\n",
      "[20, 15, 2, 5, 15, 18, 14, 15, 20, 27, 29, 31, 36, 30, 32, 34] True\n",
      "[1, 2, 27, 29, 28, 31, 30] True\n",
      "True\n"
     ]
    }
   ],
   "source": [
    "def solution(msg):\n",
    "    answer = []\n",
    "    msg += \"&\" # 마지막 문자 처리를 위해 문자열 마지막에 특수문자 추가\n",
    "    # 사전에 A~Z를 추가, 인덱스 번호가 색인 번호이다 dic = ['@','A','B',~,'Z']\n",
    "    dic = [chr(i) for i in range(ord(\"A\")-1,ord(\"Z\")+1)]\n",
    "          \n",
    "    index = 0\n",
    "    while index < len(msg)-1:\n",
    "        # 가장 긴 문자열 w를 찾아야 하므로 사전 탐색 역순으로 탐색\n",
    "        for i in range(len(dic)-1,0,-1): \n",
    "            # msg의 시작위치 index에서 사전과 일치하는 것 찾으면\n",
    "            if msg.startswith(dic[i], index): \n",
    "                answer.append(i) # 색인 번호 출력\n",
    "                w = dic[i]\n",
    "                index += len(w)\n",
    "                c = msg[index]\n",
    "                if w+c not in dic: # w+c가 사전에 없으면 \n",
    "                    dic.append(w+c) # w+c를 사전에 추가\n",
    "                break # 사전을 탐색하는 반복문 종료\n",
    "                \n",
    "    return answer\n",
    "\n",
    "print(solution(\"KAKAO\"), \n",
    "      solution(\"KAKAO\")==[11, 1, 27, 15])\n",
    "print(solution(\"TOBEORNOTTOBEORTOBEORNOT\"), \n",
    "     solution(\"TOBEORNOTTOBEORTOBEORNOT\")==[20, 15, 2, 5, 15, 18, 14, 15, 20, 27, 29, 31, 36, 30, 32, 34])\n",
    "print(solution(\"ABABABABABABABAB\"),\n",
    "     solution(\"ABABABABABABABAB\")==[1, 2, 27, 29, 28, 31, 30])\n",
    "print(solution(\"THATTHATISISTHATTHATISNOTISNOTISTHATITITISTHATTHATISISTHATTHATISNOTISNOTISTHATITITISTHATTHATISISTHATTHATISNOTISNOTISTHATITITISTHATTHATISISTHATTHATISNOTISNOTISTHATITITISTHATTHATISISTHATTHATISNOTISNOTISTHATITITISTHATTHATISISTHATTHATISNOTISNOTISTHATITITISTHATTHATISISTHATTHATISNOTISNOTISTHATITITISTHATTHATISISTHATTHATISNOTISNOTISTHATITITISTHATTHATISISTHATTHATISNOTISNOTISTHATITITISTHATTHATISISTHATTHATISNOTISNOTISTHATITITISTHATTHATISISTHATTHATISNOTISNOTISTHATITITISTHATTHATISISTHATTHATISNOTISNOTISTHATITITISTHATTHATISISTHATTHATISNOTISNOTISTHATITITISTHATTHATISISTHATTHATISNOTISNOTISTHATITITISTHATTHATISISTHATTHATISNOTISNOTISTHATITITISTHATTHATISISTHATTHATISNOTISNOTISTHATITITISTHATTHATISISTHATTHATISNOTISNOTISTHATITITISTHATTHATISISTHATTHATISNOTISNOTISTHATITITISTHATTHATISISTHATTHATISNOTISNOTISTHATITITISTHATTHATISISTHATTHATISNOTISNOTISTHATITITISTHATTHATISISTHATTHATISNOTISNOTISTHATITITISTHATTHATISISTHATTHATISNOTISNOTISTHATITITISTHATTHATISISTHATTHATISNOTISNOTISTHATITITIS\")==\t[20, 8, 1, 20, 27, 29, 9, 19, 33, 31, 30, 28, 20, 33, 14, 15, 39, 19, 41, 43, 36, 9, 39, 46, 38, 47, 34, 19, 36, 52, 45, 40, 42, 35, 38, 48, 62, 54, 51, 61, 53, 55, 66, 57, 44, 59, 64, 32, 49, 60, 29, 52, 76, 37, 32, 71, 43, 70, 47, 75, 73, 80, 43, 79, 56, 72, 84, 61, 86, 68, 81, 90, 69, 92, 72, 85, 63, 96, 89, 87, 91, 83, 101, 94, 103, 65, 97, 106, 99, 108, 50, 74, 111, 77, 66, 98, 81, 70, 93, 118, 117, 88, 33, 122, 116, 58, 127, 62, 127, 78, 114, 123, 100, 133, 95, 112, 105, 104, 132, 145, 87, 134, 130, 129, 137, 131, 82, 79, 148, 151, 150, 144, 153, 159, 102, 135, 121, 156, 159, 125, 75, 162, 113, 158, 124, 109, 126, 149, 67, 142, 146, 166, 155, 158, 174, 171, 140, 119, 128, 175, 120, 138, 152, 161, 174, 181, 139, 154, 141, 187, 143, 176, 165, 172, 167, 191, 164, 182, 194, 184, 136, 170, 193, 147, 86])"
   ]
  }
 ],
 "metadata": {
  "kernelspec": {
   "display_name": "Python 3",
   "language": "python",
   "name": "python3"
  },
  "language_info": {
   "codemirror_mode": {
    "name": "ipython",
    "version": 3
   },
   "file_extension": ".py",
   "mimetype": "text/x-python",
   "name": "python",
   "nbconvert_exporter": "python",
   "pygments_lexer": "ipython3",
   "version": "3.7.1"
  }
 },
 "nbformat": 4,
 "nbformat_minor": 2
}
