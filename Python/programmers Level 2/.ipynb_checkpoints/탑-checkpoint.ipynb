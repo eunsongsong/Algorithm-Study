{
 "cells": [
  {
   "cell_type": "markdown",
   "metadata": {},
   "source": [
    "### >> 문제: programmers L2 [탑](https://programmers.co.kr/learn/courses/30/lessons/42588)\n",
    "\n",
    "수평 직선에 탑 N대를 세웠습니다. 모든 탑의 꼭대기에는 신호를 송/수신하는 장치를 설치했습니다.  \n",
    "발사한 신호는 신호를 보낸 탑보다 높은 탑에서만 수신합니다.  \n",
    "또한, 한 번 수신된 신호는 다른 탑으로 송신되지 않습니다.  \n",
    "\n",
    "예를 들어 높이가 6, 9, 5, 7, 4인 다섯 탑이 **왼쪽으로 동시에 레이저 신호를 발사**합니다.  \n",
    "그러면, 탑은 다음과 같이 신호를 주고받습니다.  \n",
    "높이가 4인 다섯 번째 탑에서 발사한 신호는 높이가 7인 네 번째 탑이 수신하고,  \n",
    "높이가 7인 네 번째 탑의 신호는 높이가 9인 두 번째 탑이,  \n",
    "높이가 5인 세 번째 탑의 신호도 높이가 9인 두 번째 탑이 수신합니다.  \n",
    "높이가 9인 두 번째 탑과 높이가 6인 첫 번째 탑이 보낸 레이저 신호는 어떤 탑에서도 수신할 수 없습니다.\n",
    "\n",
    "|송신 탑(높이)|\t수신 탑(높이)|\n",
    "|:-:|:-:|\n",
    "|5(4)|\t4(7)|\n",
    "|4(7)|\t2(9)|\n",
    "|3(5)|\t2(9)|\n",
    "|2(9)|\t-|\n",
    "|1(6)|\t-|  \n",
    "\n",
    "맨 왼쪽부터 순서대로 탑의 높이를 담은 배열 heights가 매개변수로 주어질 때  \n",
    "각 탑이 쏜 신호를 어느 탑에서 받았는지 기록한 배열을 return 하도록 solution 함수를 작성해주세요.  \n",
    "\n",
    "- heights는 길이 2 이상 100 이하인 정수 배열입니다.\n",
    "- 모든 탑의 높이는 1 이상 100 이하입니다.\n",
    "- 신호를 수신하는 탑이 없으면 0으로 표시합니다.\n",
    "\n",
    "*출처: 프로그래머스 코딩 테스트 연습, https://programmers.co.kr/learn/challenges*"
   ]
  },
  {
   "cell_type": "markdown",
   "metadata": {},
   "source": [
    "### >> 풀이"
   ]
  },
  {
   "cell_type": "code",
   "execution_count": 1,
   "metadata": {},
   "outputs": [
    {
     "name": "stdout",
     "output_type": "stream",
     "text": [
      "True [0, 0, 2, 2, 4]\n",
      "True [0, 0, 0, 3, 3, 3, 6]\n",
      "True [0, 0, 2, 0, 0, 5, 6]\n"
     ]
    }
   ],
   "source": [
    "def solution(heights):\n",
    "    answer = [0 for i in range(len(heights))] # 탑의 수 만큼 원소가 0인 리스트 만든다\n",
    "    \n",
    "    for i in range(len(heights)-1,-1,-1): # 오른쪽부터\n",
    "        for j in range(i-1,-1,-1): # 왼쪽으로 탐색\n",
    "            if heights[j] > heights[i]: # 송신 탑 보다 수신 답의 높이가 높은 것을 찾으면\n",
    "                answer[i] = j+1 # 송신탑의 위치에 수신답의 위치를 저장\n",
    "                break\n",
    "    return answer\n",
    "\n",
    "print(solution([6,9,5,7,4])==[0,0,2,2,4], solution([6,9,5,7,4]))\n",
    "print(solution([3,9,9,3,5,7,2])==[0,0,0,3,3,3,6], solution([3,9,9,3,5,7,2]))\n",
    "print(solution([1,5,3,6,7,6,5])==[0,0,2,0,0,5,6], solution([1,5,3,6,7,6,5]))"
   ]
  }
 ],
 "metadata": {
  "kernelspec": {
   "display_name": "Python 3",
   "language": "python",
   "name": "python3"
  },
  "language_info": {
   "codemirror_mode": {
    "name": "ipython",
    "version": 3
   },
   "file_extension": ".py",
   "mimetype": "text/x-python",
   "name": "python",
   "nbconvert_exporter": "python",
   "pygments_lexer": "ipython3",
   "version": "3.7.1"
  }
 },
 "nbformat": 4,
 "nbformat_minor": 2
}
