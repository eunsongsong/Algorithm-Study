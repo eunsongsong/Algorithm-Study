{
 "cells": [
  {
   "cell_type": "markdown",
   "metadata": {},
   "source": [
    "### >> 문제: programmers L2 [124 나라의 숫자](https://programmers.co.kr/learn/courses/30/lessons/12899)\n",
    "\n",
    "124 나라가 있습니다. 124 나라에서는 10진법이 아닌 다음과 같은 자신들만의 규칙으로 수를 표현합니다.\n",
    "\n",
    "124 나라에는 자연수만 존재합니다. 124 나라에는 모든 수를 표현할 때 1, 2, 4만 사용합니다.  \n",
    "예를 들어서 124 나라에서 사용하는 숫자는 다음과 같이 변환됩니다.\n",
    "\n",
    "자연수 n이 매개변수로 주어질 때,  \n",
    "n을 124 나라에서 사용하는 숫자로 바꾼 값을 return 하도록 solution 함수를 완성해 주세요.\n",
    "\n",
    "* n은 500,000,000이하의 자연수 입니다.  \n",
    "\n",
    "|10진법|124 나라|10진법|124 나라|\n",
    "|:---:|:---:|:---:|:---:|\n",
    "|1|1|\t6|\t14|\n",
    "|2|2|\t7|\t21|\n",
    "|3|4|\t8|\t22|\n",
    "|4|11|\t9|\t24|\n",
    "|5|12|\t10|\t41|\n",
    "\n",
    "*출처: 프로그래머스 코딩 테스트 연습, https://programmers.co.kr/learn/challenges*"
   ]
  },
  {
   "cell_type": "markdown",
   "metadata": {},
   "source": [
    "### >> 풀이"
   ]
  },
  {
   "cell_type": "code",
   "execution_count": 22,
   "metadata": {},
   "outputs": [
    {
     "name": "stdout",
     "output_type": "stream",
     "text": [
      "1  >> 1\n",
      "2  >> 2\n",
      "4  >> 4\n",
      "11  >> 11\n"
     ]
    }
   ],
   "source": [
    "def solution(n):\n",
    "    answer = ''\n",
    "    \n",
    "    while n != 0:\n",
    "        q = n // 3\n",
    "        r = n % 3\n",
    "        n = q\n",
    "        \n",
    "        if r == 1:\n",
    "            answer = '1' + answer\n",
    "        elif r == 2:\n",
    "            answer = '2' + answer\n",
    "        elif r == 0:\n",
    "            answer = '4' + answer\n",
    "            n -= 1  # 3진법은 0부터 시작하여 0,1,2,10,11,12,20,....이지만\n",
    "                    # 124 나라의 숫자는 1부터 시작하여 \n",
    "                    # 1,2,4,11,12,14,21,22,24,...이므로\n",
    "                    # 나머지가 0일때, 몫을 1만큼 빼준다\n",
    "    return answer\n",
    "\n",
    "print(solution(1),\" >> 1\")\n",
    "print(solution(2),\" >> 2\")\n",
    "print(solution(3),\" >> 4\")\n",
    "print(solution(4),\" >> 11\")"
   ]
  },
  {
   "cell_type": "code",
   "execution_count": 21,
   "metadata": {
    "scrolled": true
   },
   "outputs": [
    {
     "name": "stdout",
     "output_type": "stream",
     "text": [
      "1  >> 1\n",
      "2  >> 2\n",
      "4  >> 4\n",
      "11  >> 11\n"
     ]
    }
   ],
   "source": [
    "def solution(n):\n",
    "    answer = ''\n",
    "    num = [\"4\", \"1\", \"2\"]\n",
    "    \n",
    "    while n != 0:\n",
    "        r = n % 3\n",
    "        n //= 3\n",
    "    \n",
    "        answer = num[r] + answer\n",
    "        if r == 0:\n",
    "            n -= 1  # 3진법은 0부터 시작하여 0,1,2,10,11,12,20,....이지만\n",
    "                    # 124 나라의 숫자는 1부터 시작하여 \n",
    "                    # 1,2,4,11,12,14,21,22,24,...이므로\n",
    "                    # 나머지가 0일때, 몫을 1만큼 빼준다\n",
    "    return answer\n",
    "\n",
    "print(solution(1),\" >> 1\")\n",
    "print(solution(2),\" >> 2\")\n",
    "print(solution(3),\" >> 4\")\n",
    "print(solution(4),\" >> 11\")"
   ]
  },
  {
   "cell_type": "markdown",
   "metadata": {},
   "source": []
  }
 ],
 "metadata": {
  "kernelspec": {
   "display_name": "Python 3",
   "language": "python",
   "name": "python3"
  },
  "language_info": {
   "codemirror_mode": {
    "name": "ipython",
    "version": 3
   },
   "file_extension": ".py",
   "mimetype": "text/x-python",
   "name": "python",
   "nbconvert_exporter": "python",
   "pygments_lexer": "ipython3",
   "version": "3.7.1"
  }
 },
 "nbformat": 4,
 "nbformat_minor": 2
}
