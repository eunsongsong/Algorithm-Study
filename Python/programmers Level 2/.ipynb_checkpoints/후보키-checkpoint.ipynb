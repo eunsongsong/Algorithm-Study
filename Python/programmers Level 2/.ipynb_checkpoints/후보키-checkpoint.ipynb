{
 "cells": [
  {
   "cell_type": "markdown",
   "metadata": {},
   "source": [
    "### >> 문제: programmers L1 [후보키](https://programmers.co.kr/learn/courses/30/lessons/42890)\n",
    "\n",
    "프렌즈대학교 컴퓨터공학과 조교인 제이지는 학생들의 인적사항을 정리하는 업무를 담당하게 되었다.  \n",
    "\n",
    "모든 인적사항을 데이터베이스에 넣기로 하였고,   \n",
    "이를 위해 정리를 하던 중에 후보키(Candidate Key)에 대한 고민이 필요하게 되었다.  \n",
    "\n",
    "관계 데이터베이스에서 릴레이션(Relation)의 튜플(Tuple)을  \n",
    "유일하게 식별할 수 있는 속성(Attribute) 또는 속성의 집합 중,  \n",
    "다음 두 성질을 만족하는 것을 후보 키(Candidate Key)라고 한다.  \n",
    "\n",
    "* 유일성(uniqueness) : 릴레이션에 있는 모든 튜플에 대해 유일하게 식별되어야 한다.  \n",
    "* 최소성(minimality) : 유일성을 가진 키를 구성하는 속성(Attribute) 중   \n",
    "하나라도 제외하는 경우 유일성이 깨지는 것을 의미한다.   \n",
    "즉, 릴레이션의 모든 튜플을 유일하게 식별하는 데 꼭 필요한 속성들로만 구성되어야 한다.  \n",
    "\n",
    "제이지를 위해, 아래와 같은 학생들의 인적사항이 주어졌을 때, 후보 키의 최대 개수를 구하라.  \n",
    "<br>\n",
    "\n",
    "<img src=\"https://grepp-programmers.s3.amazonaws.com/files/production/f1a3a40ede/005eb91e-58e5-4109-9567-deb5e94462e3.jpg\" title=\"[출처: https://programmers.co.kr/learn/challenges]\" align=\"left\"><br><br><br><br><br><br><br><br><br><br>\n",
    "\n",
    "위의 예를 설명하면, 학생의 인적사항 릴레이션에서 모든 학생은 각자 유일한 학번을 가지고 있다.  \n",
    "따라서 학번은 릴레이션의 후보 키가 될 수 있다.  \n",
    "\n",
    "그다음 이름에 대해서는 같은 이름(apeach)을 사용하는 학생이 있기 때문에, 이름은 후보 키가 될 수 없다.  \n",
    "그러나, 만약 [이름, 전공]을 함께 사용한다면 릴레이션의 모든 튜플을 유일하게 식별 가능하므로 후보 키가 될 수 있게 된다.  \n",
    "물론 [이름, 전공, 학년]을 함께 사용해도 릴레이션의 모든 튜플을 유일하게 식별할 수 있지만,  \n",
    "최소성을 만족하지 못하기 때문에 후보 키가 될 수 없다.  \n",
    "따라서, 위의 학생 인적사항의 후보키는 학번, [이름, 전공] 두 개가 된다.  \n",
    "\n",
    "릴레이션을 나타내는 문자열 배열 relation이 매개변수로 주어질 때,  \n",
    "이 릴레이션에서 후보 키의 개수를 return 하도록 solution 함수를 완성하라.  \n",
    "\n",
    "[제한사항]\n",
    "* relation은 2차원 문자열 배열이다.\n",
    "* relation의 컬럼(column)의 길이는 1 이상 8 이하이며, 각각의 컬럼은 릴레이션의 속성을 나타낸다.\n",
    "* relation의 로우(row)의 길이는 1 이상 20 이하이며, 각각의 로우는 릴레이션의 튜플을 나타낸다.\n",
    "* relation의 모든 문자열의 길이는 1 이상 8 이하이며, 알파벳 소문자와 숫자로만 이루어져 있다.\n",
    "* relation의 모든 튜플은 유일하게 식별 가능하다.(즉, 중복되는 튜플은 없다.)\n",
    "\n",
    "*출처: 프로그래머스 코딩 테스트 연습, https://programmers.co.kr/learn/challenges*"
   ]
  },
  {
   "cell_type": "markdown",
   "metadata": {},
   "source": [
    "### >> 풀이"
   ]
  },
  {
   "cell_type": "code",
   "execution_count": null,
   "metadata": {},
   "outputs": [],
   "source": [
    "def solution(relation):\n",
    "    answer = 0\n",
    "    \n",
    "    \n",
    "    return answer\n",
    "\n"
   ]
  }
 ],
 "metadata": {
  "kernelspec": {
   "display_name": "Python 3",
   "language": "python",
   "name": "python3"
  },
  "language_info": {
   "codemirror_mode": {
    "name": "ipython",
    "version": 3
   },
   "file_extension": ".py",
   "mimetype": "text/x-python",
   "name": "python",
   "nbconvert_exporter": "python",
   "pygments_lexer": "ipython3",
   "version": "3.7.1"
  }
 },
 "nbformat": 4,
 "nbformat_minor": 2
}
