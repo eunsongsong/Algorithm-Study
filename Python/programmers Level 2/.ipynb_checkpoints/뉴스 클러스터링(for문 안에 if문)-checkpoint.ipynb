{
 "cells": [
  {
   "cell_type": "markdown",
   "metadata": {},
   "source": [
    "### >> 문제: programmers L2 [뉴스 클러스터링](https://programmers.co.kr/learn/courses/30/lessons/17677)\n",
    "\n",
    "신입사원 튜브는 사용자들이 편리하게 다양한 뉴스를 찾아볼 수 있도록 문제점을 개선하는 업무를 맡게 되었다.  \n",
    "\n",
    "개발의 방향을 잡기 위해 튜브는 우선 최근 화제가 되고 있는 카카오 신입 개발자 공채 관련 기사를 검색해보았다.  \n",
    "\n",
    "* 카카오 첫 공채..'블라인드' 방식 채용  \n",
    "* 카카오, 합병 후 첫 공채.. 블라인드 전형으로 개발자 채용  \n",
    "* 카카오, 블라인드 전형으로 신입 개발자 공채  \n",
    "* 카카오 공채, 신입 개발자 코딩 능력만 본다  \n",
    "* 카카오, 신입 공채.. 코딩 실력만 본다  \n",
    "* 카카오 코딩 능력만으로 2018 신입 개발자 뽑는다  \n",
    "\n",
    "기사의 제목을 기준으로 **블라인드 전형**에 주목하는 기사와 **코딩 테스트**에 주목하는 기사로 나뉘는 걸 발견했다.  \n",
    "튜브는 이들을 각각 묶어서 보여주면 카카오 공채 관련 기사를 찾아보는 사용자에게 유용할 듯싶었다.  \n",
    "\n",
    "유사한 기사를 묶는 기준을 정하기 위해서 논문과 자료를 조사하던 튜브는 자카드 유사도라는 방법을 찾아냈다.  \n",
    "\n",
    "자카드 유사도는 집합 간의 유사도를 검사하는 여러 방법 중의 하나로 알려져 있다.  \n",
    "두 집합 A, B 사이의 자카드 유사도 J(A, B)는 **두 집합의 교집합 크기를 두 집합의 합집합 크기로 나눈 값**으로 정의된다.  \n",
    "\n",
    "예를 들어, 집합 A = {1, 2, 3}, 집합 B = {2, 3, 4}라고 할 때,  \n",
    "교집합 A ∩ B = {2, 3}, 합집합 A ∪ B = {1, 2, 3, 4}이 되므로,  \n",
    "집합 A, B 사이의 자카드 유사도 J(A, B) = 2/4 = 0.5가 된다.  \n",
    "**집합 A와 집합 B가 모두 공집합일 경우에는 나눗셈이 정의되지 않으니 따로 J(A, B) = 1로 정의**한다.  \n",
    "\n",
    "자카드 유사도는 원소의 중복을 허용하는 다중집합에 대해서 확장할 수 있다.  \n",
    "다중집합 A는 원소 1을 3개 가지고 있고, 다중집합 B는 원소 1을 5개 가지고 있다고 하자.  \n",
    "이 다중집합의 교집합 A ∩ B는 원소 1을 min(3, 5)인 3개, 합집합 A ∪ B는 원소 1을 max(3, 5)인 5개 가지게 된다.  \n",
    "다중집합 A = {1, 1, 2, 2, 3}, 다중집합 B = {1, 2, 2, 4, 5}라고 하면,  \n",
    "교집합 A ∩ B = {1, 2, 2}, 합집합 A ∪ B = {1, 1, 2, 2, 3, 4, 5}가 되므로, 자카드 유사도 J(A, B) = 3/7, 약 0.42가 된다.  \n",
    "\n",
    "이를 이용하여 문자열 사이의 유사도를 계산하는데 이용할 수 있다.  \n",
    "문자열 FRANCE와 FRENCH가 주어졌을 때, 이를 **두 글자씩 끊어서 다중집합을 만들 수 있다**.  \n",
    "각각 {FR, RA, AN, NC, CE}, {FR, RE, EN, NC, CH}가 되며, 교집합은 {FR, NC},  \n",
    "합집합은 {FR, RA, AN, NC, CE, RE, EN, CH}가 되므로,  \n",
    "두 문자열 사이의 자카드 유사도 J(\"FRANCE\", \"FRENCH\") = 2/8 = 0.25가 된다.  \n",
    "\n",
    "[입력 형식]  \n",
    "* 입력으로는 str1과 str2의 두 문자열이 들어온다. 각 문자열의 길이는 2 이상, 1,000 이하이다.  \n",
    "* 입력으로 들어온 **문자열은 두 글자씩 끊어서 다중집합의 원소로 만든다**.  \n",
    "이때 **영문자로 된 글자 쌍만 유효**하고, 기타 공백이나 숫자, 특수 문자가 들어있는 경우는 그 글자 쌍을 버린다.  \n",
    "예를 들어 ab+가 입력으로 들어오면, ab만 다중집합의 원소로 삼고, b+는 버린다.  \n",
    "* 다중집합 원소 사이를 비교할 때, **대문자와 소문자의 차이는 무시**한다. AB와 Ab, ab는 같은 원소로 취급한다.   \n",
    "\n",
    "[출력 형식]  \n",
    "* 입력으로 들어온 두 문자열의 자카드 유사도를 출력한다.  \n",
    "유사도 값은 0에서 1 사이의 실수이므로, 이를 다루기 쉽도록 **65536을 곱한 후에 소수점 아래를 버리고 정수부만 출력**한다.\n",
    "\n",
    "\n",
    "*출처: 프로그래머스 코딩 테스트 연습, https://programmers.co.kr/learn/challenges*"
   ]
  },
  {
   "cell_type": "markdown",
   "metadata": {},
   "source": [
    "### >> 풀이"
   ]
  },
  {
   "cell_type": "code",
   "execution_count": 1,
   "metadata": {
    "scrolled": true
   },
   "outputs": [
    {
     "name": "stdout",
     "output_type": "stream",
     "text": [
      "16384 True\n",
      "65536 True\n",
      "43690 True\n",
      "65536 True\n",
      "65536 True\n"
     ]
    }
   ],
   "source": [
    "def solution(str1, str2):\n",
    "    set1 = [str1[i-1:i+1].lower() for i in range(1,len(str1)) if str1[i-1:i+1].isalpha()]\n",
    "    set2 = [str2[i-1:i+1].lower() for i in range(1,len(str2)) if str2[i-1:i+1].isalpha()]\n",
    "    \n",
    "    if not set1 and not set2:\n",
    "        return 65536\n",
    "    \n",
    "    # 중복을 제거한 교집합, 합집합\n",
    "    intersection = set(set1).intersection(set(set2))   \n",
    "    union = set(set1).union(set(set2))\n",
    "\n",
    "    # 중복을 허용하는 다중집합의 교집합, 합집합 크기\n",
    "    mul_intersection = 0\n",
    "    for i in intersection:\n",
    "        mul_intersection += min(set1.count(i), set2.count(i))\n",
    "    mul_union = len(set1+set2) - mul_intersection\n",
    "    \n",
    "    return int((mul_intersection / mul_union)*65536)\n",
    "\n",
    "print(solution(\"FRANCE\", \"french\"), solution(\"FRANCE\", \"french\") == 16384)\n",
    "print(solution(\"handshake\", \"shake hands\"), solution(\"handshake\", \"shake hands\") == 65536)\n",
    "print(solution(\"aa1+aa2\", \"AAAA12\"), solution(\"aa1+aa2\", \"AAAA12\") == 43690)\n",
    "print(solution(\"E=M*C^2\", \"e=m*c^2\"), solution(\"E=M*C^2\", \"e=m*c^2\") == 65536)\n",
    "print(solution(\"\", \"\"), solution(\"\", \"\") == 65536)"
   ]
  },
  {
   "cell_type": "markdown",
   "metadata": {},
   "source": [
    "### >> 다른풀이"
   ]
  },
  {
   "cell_type": "markdown",
   "metadata": {},
   "source": [
    "문자열 또는 리스트에 포함되지 않은 요소를 count하면 0을 반환한다"
   ]
  },
  {
   "cell_type": "code",
   "execution_count": 2,
   "metadata": {},
   "outputs": [
    {
     "name": "stdout",
     "output_type": "stream",
     "text": [
      "0\n",
      "0\n"
     ]
    }
   ],
   "source": [
    "a = [1,2,3]\n",
    "b = \"aaaaa\"\n",
    "print(a.count(5))\n",
    "print(b.count(\"z\"))"
   ]
  },
  {
   "cell_type": "code",
   "execution_count": 3,
   "metadata": {},
   "outputs": [
    {
     "name": "stdout",
     "output_type": "stream",
     "text": [
      "16384 True\n",
      "65536 True\n",
      "43690 True\n",
      "65536 True\n",
      "65536 True\n"
     ]
    }
   ],
   "source": [
    "def solution(str1, str2):\n",
    "    set1 = [str1[i-1:i+1].lower() for i in range(1,len(str1)) if str1[i-1:i+1].isalpha()]\n",
    "    set2 = [str2[i-1:i+1].lower() for i in range(1,len(str2)) if str2[i-1:i+1].isalpha()]\n",
    "    \n",
    "    if not set1 and not set2:\n",
    "        return 65536\n",
    "    \n",
    "    # 중복을 제거한 교집합, 합집합\n",
    "    intersection = set(set1).intersection(set(set2))   \n",
    "    union = set(set1).union(set(set2))\n",
    "\n",
    "    # 중복을 허용하는 다중집합의 교집합, 합집합 크기\n",
    "    mul_intersection = sum([min(set1.count(i), set2.count(i)) for i in intersection])\n",
    "    mul_union = sum([max(set1.count(i), set2.count(i)) for i in union])\n",
    "    \n",
    "    return int((mul_intersection / mul_union)*65536)\n",
    "\n",
    "print(solution(\"FRANCE\", \"french\"), solution(\"FRANCE\", \"french\") == 16384)\n",
    "print(solution(\"handshake\", \"shake hands\"), solution(\"handshake\", \"shake hands\") == 65536)\n",
    "print(solution(\"aa1+aa2\", \"AAAA12\"), solution(\"aa1+aa2\", \"AAAA12\") == 43690)\n",
    "print(solution(\"E=M*C^2\", \"e=m*c^2\"), solution(\"E=M*C^2\", \"e=m*c^2\") == 65536)\n",
    "print(solution(\"\", \"\"), solution(\"\", \"\") == 65536)"
   ]
  },
  {
   "cell_type": "markdown",
   "metadata": {},
   "source": [
    "# for문 안에 if문 쓰기"
   ]
  },
  {
   "cell_type": "markdown",
   "metadata": {},
   "source": [
    "(if 조건을 충족한 결과) if (if 조건) else (if 조건을 충족하지 않은 결과) for문"
   ]
  },
  {
   "cell_type": "code",
   "execution_count": 4,
   "metadata": {
    "scrolled": true
   },
   "outputs": [
    {
     "name": "stdout",
     "output_type": "stream",
     "text": [
      "[-1, -2, -3, 40, 50]\n"
     ]
    }
   ],
   "source": [
    "temp = [1, 2, 3, 4, 5]\n",
    "print([ i * 10  if  i > 3 else -(i) for i in temp ])"
   ]
  },
  {
   "cell_type": "markdown",
   "metadata": {},
   "source": [
    "else문이 없으면 if문을 for문 뒤에 쓴다  \n",
    "(if 조건을 충족한 결과) for문 if (if 조건)"
   ]
  },
  {
   "cell_type": "code",
   "execution_count": 5,
   "metadata": {},
   "outputs": [
    {
     "name": "stdout",
     "output_type": "stream",
     "text": [
      "[4, 5]\n"
     ]
    }
   ],
   "source": [
    "temp = [1, 2, 3, 4, 5]\n",
    "print([ i for i in temp if i > 3 ])"
   ]
  }
 ],
 "metadata": {
  "kernelspec": {
   "display_name": "Python 3",
   "language": "python",
   "name": "python3"
  },
  "language_info": {
   "codemirror_mode": {
    "name": "ipython",
    "version": 3
   },
   "file_extension": ".py",
   "mimetype": "text/x-python",
   "name": "python",
   "nbconvert_exporter": "python",
   "pygments_lexer": "ipython3",
   "version": "3.7.1"
  }
 },
 "nbformat": 4,
 "nbformat_minor": 2
}
