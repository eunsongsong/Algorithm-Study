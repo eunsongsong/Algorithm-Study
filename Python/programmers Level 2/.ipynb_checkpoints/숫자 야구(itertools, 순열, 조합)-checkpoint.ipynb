{
 "cells": [
  {
   "cell_type": "markdown",
   "metadata": {},
   "source": [
    "### >> 문제: programmers L2 [숫자 야구](https://programmers.co.kr/learn/courses/30/lessons/42841?language=python3)\n",
    "\n",
    "숫자 야구 게임이란 2명이 서로가 생각한 숫자를 맞추는 게임입니다.\n",
    "\n",
    "각자 서로 다른 1~9까지 3자리 임의의 숫자를 정한 뒤 서로에게 3자리의 숫자를 불러서 결과를 확인합니다.  \n",
    "그리고 그 결과를 토대로 상대가 정한 숫자를 예상한 뒤 맞힙니다.\n",
    "\n",
    "* 숫자는 맞지만, 위치가 틀렸을 때는 볼\n",
    "* 숫자와 위치가 모두 맞을 때는 스트라이크\n",
    "* 숫자와 위치가 모두 틀렸을 때는 아웃  \n",
    "\n",
    "예를 들어, 아래의 경우가 있으면\n",
    "\n",
    "A : 123  \n",
    "B : 1스트라이크 1볼.  \n",
    "A : 356  \n",
    "B : 1스트라이크 0볼.  \n",
    "A : 327  \n",
    "B : 2스트라이크 0볼.  \n",
    "A : 489  \n",
    "B : 0스트라이크 1볼.  \n",
    "\n",
    "이때 가능한 답은 324와 328 두 가지입니다.\n",
    "\n",
    "질문한 세 자리의 수, 스트라이크의 수, 볼의 수를 담은 2차원 배열 baseball이 매개변수로 주어질 때,  \n",
    "가능한 답의 개수를 return 하도록 solution 함수를 작성해주세요.\n",
    "\n",
    "* 질문의 수는 1 이상 100 이하의 자연수입니다.\n",
    "* baseball의 각 행은 [세 자리의 수, 스트라이크의 수, 볼의 수] 를 담고 있습니다.\n",
    "\n",
    "*출처: 프로그래머스 코딩 테스트 연습, https://programmers.co.kr/learn/challenges*"
   ]
  },
  {
   "cell_type": "markdown",
   "metadata": {},
   "source": [
    "### >> 풀이"
   ]
  },
  {
   "cell_type": "code",
   "execution_count": 17,
   "metadata": {},
   "outputs": [],
   "source": [
    "from itertools import permutations"
   ]
  },
  {
   "cell_type": "code",
   "execution_count": 18,
   "metadata": {
    "scrolled": true
   },
   "outputs": [
    {
     "name": "stdout",
     "output_type": "stream",
     "text": [
      "2  >> 2\n"
     ]
    }
   ],
   "source": [
    "def solution(baseball):\n",
    "    # 1~9로 만들 수 있는 모든 세 자리의 수\n",
    "    cases = list(map(''.join, permutations([str(i+1) for i in range(9)],3)))\n",
    "    \n",
    "    for ball in baseball: # 질문을 한번씩 검사\n",
    "        cases = check(cases, str(ball[0]), ball[1], ball[2])\n",
    "    return len(cases)\n",
    "\n",
    "# 질문을 확인하는 함수\n",
    "# cases: 남아 있는 경우의 수를 담은 리스트\n",
    "# question: 질문한 숫자를 str 타입으로 변환한 것\n",
    "# s, b는 각 질문의 스트라이크, 볼의 수\n",
    "def check(cases, question, s, b):\n",
    "    temp = [] # 불가능 한 경우의 수를 제거한 리스트\n",
    "    for c in cases:\n",
    "        strike, ball = 0, 0\n",
    "        for i in range(3): # 질문의 각 자릿수를 비교\n",
    "            if c[i] == question[i]: # 숫자와 위치가 모두 같으면\n",
    "                strike += 1 # 스트라이크 하나 증가\n",
    "            elif c[i] in question: # 숫자는 맞지만, 위치가 다르면\n",
    "                ball += 1 # ball 하나 증가\n",
    "        # 체크한 스트라이크, 볼의 수가 질문의 스트라이크, 볼의 수와 같으면\n",
    "        if strike == s and ball == b:  \n",
    "            temp.append(c) # 가능한 경우이므로 temp에 담는다\n",
    "            \n",
    "    return temp\n",
    "\n",
    "\n",
    "print(solution([[123, 1, 1], [356, 1, 0], [327, 2, 0], [489, 0, 1]]),\" >> 2\")"
   ]
  },
  {
   "cell_type": "markdown",
   "metadata": {},
   "source": [
    "# itertools, 순열, 조합"
   ]
  },
  {
   "cell_type": "code",
   "execution_count": 6,
   "metadata": {},
   "outputs": [],
   "source": [
    "import itertools"
   ]
  },
  {
   "cell_type": "code",
   "execution_count": 9,
   "metadata": {
    "scrolled": true
   },
   "outputs": [
    {
     "name": "stdout",
     "output_type": "stream",
     "text": [
      "순열 :  ['AB', 'AC', 'AD', 'BA', 'BC', 'BD', 'CA', 'CB', 'CD', 'DA', 'DB', 'DC']\n"
     ]
    }
   ],
   "source": [
    "items = ['A', 'B', 'C', 'D'] \n",
    "\n",
    "print('순열 : ', list(map(''.join, itertools.permutations(items, 2))))"
   ]
  },
  {
   "cell_type": "code",
   "execution_count": 13,
   "metadata": {},
   "outputs": [
    {
     "name": "stdout",
     "output_type": "stream",
     "text": [
      "조합 :  ['AB', 'AC', 'AD', 'BC', 'BD', 'CD']\n"
     ]
    }
   ],
   "source": [
    "items = ['A', 'B', 'C', 'D'] \n",
    " \n",
    "print('조합 : ', list(map(''.join, itertools.combinations(items, 2))))"
   ]
  }
 ],
 "metadata": {
  "kernelspec": {
   "display_name": "Python 3",
   "language": "python",
   "name": "python3"
  },
  "language_info": {
   "codemirror_mode": {
    "name": "ipython",
    "version": 3
   },
   "file_extension": ".py",
   "mimetype": "text/x-python",
   "name": "python",
   "nbconvert_exporter": "python",
   "pygments_lexer": "ipython3",
   "version": "3.7.1"
  }
 },
 "nbformat": 4,
 "nbformat_minor": 2
}
