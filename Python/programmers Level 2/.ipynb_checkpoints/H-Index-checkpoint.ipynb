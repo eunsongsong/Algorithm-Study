{
 "cells": [
  {
   "cell_type": "markdown",
   "metadata": {},
   "source": [
    "### >> 문제: programmers L2 [H-Index](https://programmers.co.kr/learn/courses/30/lessons/42747)\n",
    "H-Index는 과학자의 생산성과 영향력을 나타내는 지표입니다.  \n",
    "어느 과학자의 H-Index를 나타내는 값인 h를 구하려고 합니다.  \n",
    "위키백과1에 따르면, H-Index는 다음과 같이 구합니다.  \n",
    "\n",
    "어떤 과학자가 발표한 논문 n편 중, h번 이상 인용된 논문이 h편 이상이고  \n",
    "나머지 논문이 h번 이하 인용되었다면 h의 최댓값이 이 과학자의 H-Index입니다.  \n",
    "\n",
    "어떤 과학자가 발표한 논문의 인용 횟수를 담은 배열 citations가 매개변수로 주어질 때,  \n",
    "이 과학자의 H-Index를 return 하도록 solution 함수를 작성해주세요.\n",
    "\n",
    "* 과학자가 발표한 논문의 수는 1편 이상 1,000편 이하입니다.\n",
    "* 논문별 인용 횟수는 0회 이상 10,000회 이하입니다.\n",
    "\n",
    "*출처: 프로그래머스 코딩 테스트 연습, https://programmers.co.kr/learn/challenges*"
   ]
  },
  {
   "cell_type": "markdown",
   "metadata": {},
   "source": [
    "### >> 오답노트(정확성: 12.5, 합계: 12.5 / 100.0)\n",
    "[0,3,5]인 경우,  \n",
    "h = 5일 때, 5번 이상 인용된 논문이 1편( < h)  \n",
    "h = 3일 때, 3번 이상 인용된 논문이 2편( < h)  \n",
    "h = 0일 때, 0번 이상 인용된 논문이 3편( > h) 이므로 h = 0을 리턴하는 것이 아니다"
   ]
  },
  {
   "cell_type": "code",
   "execution_count": 1,
   "metadata": {},
   "outputs": [
    {
     "name": "stdout",
     "output_type": "stream",
     "text": [
      "3  >> 3\n",
      "3  >> 5\n",
      "0  >> 2\n"
     ]
    }
   ],
   "source": [
    "def solution(citations):\n",
    "    answer = 0\n",
    "    citations.sort()\n",
    "    \n",
    "    for i in range(1,len(citations)+1):\n",
    "        if citations[-i] <= i:\n",
    "            answer = citations[-i]\n",
    "            break\n",
    "    \n",
    "    return answer\n",
    "\n",
    "print(solution([3, 0, 6, 1, 5]), \" >> 3\")\n",
    "print(solution([7,7,7,7,7,3,3]), \" >> 5\")\n",
    "print(solution([0,3,5]), \" >> 2\")"
   ]
  },
  {
   "cell_type": "markdown",
   "metadata": {},
   "source": [
    "### >> 풀이(정확성: 100.0, 합계: 100.0 / 100.0)"
   ]
  },
  {
   "cell_type": "markdown",
   "metadata": {},
   "source": [
    "[0,3,5]인 경우,  \n",
    "h=5번 이상 인용된 논문이 1편이므로 h편 이하  \n",
    "h=4번 이상 인용된 논문이 1편이므로 h편 이하  \n",
    "h=3번 이상 인용된 논문이 2편이므로 h편 이하  \n",
    "h=2번 이상 인용된 논문이 2편이므로 h편 이상  \n",
    "h=1번 이상 인용된 논문이 2편이므로 h편 이상  \n",
    "h=0번 이상 인용된 논문이 3편이므로 h편 이상\n",
    "\n",
    "h번 이상 인용된 논문이 h번 이상인 h = 2, 1, 0 중 최댓값 2를 리턴하는 것이다."
   ]
  },
  {
   "cell_type": "code",
   "execution_count": 2,
   "metadata": {},
   "outputs": [
    {
     "name": "stdout",
     "output_type": "stream",
     "text": [
      "3  >> 3\n",
      "5  >> 5\n",
      "2  >> 2\n",
      "0\n",
      "1\n",
      "3\n"
     ]
    }
   ],
   "source": [
    "def solution(citations):\n",
    "    answer = 0\n",
    "    citations.sort()\n",
    "    \n",
    "    for i in range(1,len(citations)+1):\n",
    "        if citations[-i] >= i and answer < i:\n",
    "            answer = i\n",
    "    \n",
    "    return answer\n",
    "\n",
    "\n",
    "print(solution([3, 0, 6, 1, 5]), \" >> 3\")\n",
    "print(solution([7,7,7,7,7,3,3]), \" >> 5\")\n",
    "print(solution([0,3,5]), \" >> 2\")\n",
    "print(solution([0,0,0,0]))\n",
    "print(solution([0,0,0,0,2]))\n",
    "print(solution([7,7,7]))"
   ]
  }
 ],
 "metadata": {
  "kernelspec": {
   "display_name": "Python 3",
   "language": "python",
   "name": "python3"
  },
  "language_info": {
   "codemirror_mode": {
    "name": "ipython",
    "version": 3
   },
   "file_extension": ".py",
   "mimetype": "text/x-python",
   "name": "python",
   "nbconvert_exporter": "python",
   "pygments_lexer": "ipython3",
   "version": "3.7.1"
  }
 },
 "nbformat": 4,
 "nbformat_minor": 2
}
