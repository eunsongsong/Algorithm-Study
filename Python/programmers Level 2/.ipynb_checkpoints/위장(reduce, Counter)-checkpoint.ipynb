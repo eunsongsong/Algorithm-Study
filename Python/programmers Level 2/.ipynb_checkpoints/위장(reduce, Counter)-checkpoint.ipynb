{
 "cells": [
  {
   "cell_type": "markdown",
   "metadata": {},
   "source": [
    "### >> 문제: programmers L2 [위장](https://programmers.co.kr/learn/courses/30/lessons/42578)\n",
    "\n",
    "스파이들은 매일 다른 옷을 조합하여 입어 자신을 위장합니다.  \n",
    "\n",
    "예를 들어 스파이가 가진 옷이 아래와 같고  \n",
    "오늘 스파이가 동그란 안경, 긴 코트, 파란색 티셔츠를 입었다면  \n",
    "다음날은 청바지를 추가로 입거나 동그란 안경 대신 검정 선글라스를 착용하거나 해야 합니다.  \n",
    "\n",
    "|종류\t|이름|\n",
    "|:-:|:-:|\n",
    "|얼굴|\t동그란 안경, 검정 선글라스|\n",
    "|상의\t|파란색 티셔츠|\n",
    "|하의\t|청바지|\n",
    "|겉옷\t|긴 코트|  \n",
    "\n",
    "스파이가 가진 의상들이 담긴 2차원 배열 clothes가 주어질 때  \n",
    "서로 다른 옷의 조합의 수를 return 하도록 solution 함수를 작성해주세요.\n",
    "\n",
    "- clothes의 각 행은 **[의상의 이름, 의상의 종류]**로 이루어져 있습니다.\n",
    "- 스파이가 가진 의상의 수는 1개 이상 30개 이하입니다.\n",
    "- 같은 이름을 가진 의상은 존재하지 않습니다.\n",
    "- clothes의 모든 원소는 문자열로 이루어져 있습니다.\n",
    "- 모든 문자열의 길이는 1 이상 20 이하인 자연수이고 알파벳 소문자 또는 '_' 로만 이루어져 있습니다.\n",
    "- 스파이는 **하루에 최소 한 개의 의상**은 입습니다.\n",
    "\n",
    "*출처: 프로그래머스 코딩 테스트 연습, https://programmers.co.kr/learn/challenges*"
   ]
  },
  {
   "cell_type": "markdown",
   "metadata": {},
   "source": [
    "### >> 풀이"
   ]
  },
  {
   "cell_type": "code",
   "execution_count": 1,
   "metadata": {},
   "outputs": [
    {
     "name": "stdout",
     "output_type": "stream",
     "text": [
      "5  >> 5\n",
      "3  >> 3\n"
     ]
    }
   ],
   "source": [
    "def solution(clothes):\n",
    "    answer = 1\n",
    "    \n",
    "    clothes.sort(key=lambda x:x[1]) # 의상 종류를 기준으로 정렬\n",
    "    \n",
    "    # 의상의 종류끼리 의상의 이름을 묶는다\n",
    "    temp = [[clothes[0][0]]]\n",
    "    for i in range(1,len(clothes)):\n",
    "        if clothes[i-1][1] == clothes[i][1]:\n",
    "            temp[-1].append(clothes[i][0])\n",
    "        else:\n",
    "            temp.append([clothes[i][0]])\n",
    "            \n",
    "    # 서로 다른 옷의 조합의 수를 구한다\n",
    "    for i in range(len(temp)):\n",
    "        answer *= len(temp[i]) + 1 # 의상의 1개만 입는 경우도 있으므로 +1\n",
    "            \n",
    "    return answer - 1 # 의상의 0개 입는 경우를 뺀다\n",
    "\n",
    "print(solution([['yellow_hat', 'headgear'], ['blue_sunglasses', 'eyewear'], ['green_turban', 'headgear']]),\" >> 5\")\n",
    "print(solution([['crow_mask', 'face'], ['blue_sunglasses', 'face'], ['smoky_makeup', 'face']]),\" >> 3\")"
   ]
  },
  {
   "cell_type": "markdown",
   "metadata": {},
   "source": [
    "### >> 다른풀이(reduce, Counter)"
   ]
  },
  {
   "cell_type": "code",
   "execution_count": 2,
   "metadata": {},
   "outputs": [
    {
     "name": "stdout",
     "output_type": "stream",
     "text": [
      "5  >> 5\n",
      "3  >> 3\n"
     ]
    }
   ],
   "source": [
    "from functools import reduce\n",
    "from collections import Counter\n",
    "\n",
    "def solution(clothes):\n",
    "    return reduce(lambda x, y: x * y, [i+1 for i in Counter(map(lambda x:x[1], clothes)).values()]) - 1\n",
    "\n",
    "print(solution([['yellow_hat', 'headgear'], ['blue_sunglasses', 'eyewear'], ['green_turban', 'headgear']]),\" >> 5\")\n",
    "print(solution([['crow_mask', 'face'], ['blue_sunglasses', 'face'], ['smoky_makeup', 'face']]),\" >> 3\")"
   ]
  },
  {
   "cell_type": "markdown",
   "metadata": {},
   "source": [
    "# from functools import reduce \n",
    "누적 집계를 내기 위해 사용한다  \n",
    "reduce(집계 함수, 순회 가능한 데이터, 초기값)"
   ]
  },
  {
   "cell_type": "code",
   "execution_count": 3,
   "metadata": {},
   "outputs": [],
   "source": [
    "from functools import reduce"
   ]
  },
  {
   "cell_type": "code",
   "execution_count": 4,
   "metadata": {},
   "outputs": [
    {
     "name": "stdout",
     "output_type": "stream",
     "text": [
      ">> reduce()를 사용하여 리스트의 곱을 구할 수 있다\n",
      "120\n",
      "12000\n",
      "\n",
      ">> reduce()를 사용하여 최댓값을 구할 수 있다\n",
      "9\n"
     ]
    }
   ],
   "source": [
    "a = [1,2,3,4,5]\n",
    "print('>> reduce()를 사용하여 리스트의 곱을 구할 수 있다')\n",
    "print(reduce(lambda x, y: x*y, a))\n",
    "print(reduce(lambda x, y: x*y, a, 100)) # 초기값을 줄 수 있다\n",
    "\n",
    "findMax = lambda x, y: x if x > y else y\n",
    "print('\\n>> reduce()를 사용하여 최댓값을 구할 수 있다')\n",
    "print(reduce(findMax, [1,9,4,2,5]))"
   ]
  },
  {
   "cell_type": "markdown",
   "metadata": {},
   "source": [
    "# from collections import Counter\n",
    "동일한 값의 자료가 몇개 있는지 파악하기 위해 사용한다"
   ]
  },
  {
   "cell_type": "code",
   "execution_count": 5,
   "metadata": {},
   "outputs": [],
   "source": [
    "from collections import Counter"
   ]
  },
  {
   "cell_type": "code",
   "execution_count": 6,
   "metadata": {},
   "outputs": [
    {
     "name": "stdout",
     "output_type": "stream",
     "text": [
      ">> collections.Counter()는 요소의 개수가 많은 것부터 출력한다\n",
      "Counter({'A': 3, 'B': 2, 'C': 1})\n",
      "\n",
      ">> \"값 = 갯수\"의 형태로 입력한다\n",
      ">> elements()는 딕셔너리 형태의 Counter값을 풀어서 반환한다(단, 0이하의 값은 반환하지 않음)\n",
      "Counter({'F': 3, 'E': 2, 'G': -1})\n",
      "['E', 'E', 'F', 'F', 'F']\n",
      "\n",
      ">> update()는 값을 갱신할 수 있다\n",
      "Counter({'E': 7, 'F': 3, 'H': 1, 'G': -1})\n"
     ]
    }
   ],
   "source": [
    "a = ['A', 'B', 'B', 'C', 'A', 'A']\n",
    "print('>> collections.Counter()는 요소의 개수가 많은 것부터 출력한다')\n",
    "print(Counter(a))\n",
    "\n",
    "b = Counter(E = 2, F = 3, G = -1)\n",
    "print('\\n>> \"값 = 갯수\"의 형태로 입력한다')\n",
    "print('>> elements()는 딕셔너리 형태의 Counter값을 풀어서 반환한다(단, 0이하의 값은 반환하지 않음)')\n",
    "print(b)\n",
    "print(list(b.elements()))\n",
    "\n",
    "b.update({'E' : 5, 'H' : 1})\n",
    "print('\\n>> update()는 값을 갱신할 수 있다')\n",
    "print(b)"
   ]
  },
  {
   "cell_type": "code",
   "execution_count": 7,
   "metadata": {
    "scrolled": true
   },
   "outputs": [
    {
     "name": "stdout",
     "output_type": "stream",
     "text": [
      ">> 문자열에도 사용 가능하다\n",
      "Counter({'a': 5, 'b': 3, 'c': 2, 'd': 1})\n",
      "\n",
      ">> 빈도수가 높은 n개의 요소를 튜플 형태로 반환한다\n",
      "[('a', 5), ('b', 3)]\n",
      "\n",
      ">> subtract()로 요소를 뺄 수 있다(요소가 없는 경우는 음수 값이 출력됨)\n",
      "Counter({'a': 2, 'c': 2, 'd': 1, 'b': 0, 'z': -3})\n"
     ]
    }
   ],
   "source": [
    "a = Counter('aaaaabbbccd')\n",
    "print('>> 문자열에도 사용 가능하다')\n",
    "print(a)\n",
    "\n",
    "print('\\n>> 빈도수가 높은 n개의 요소를 튜플 형태로 반환한다')\n",
    "print(a.most_common(2))\n",
    "\n",
    "b = Counter('aaabbbzzz')\n",
    "a.subtract(b)\n",
    "print('\\n>> subtract()로 요소를 뺄 수 있다(요소가 없는 경우는 음수 값이 출력됨)')\n",
    "print(a)"
   ]
  },
  {
   "cell_type": "code",
   "execution_count": 8,
   "metadata": {},
   "outputs": [
    {
     "name": "stdout",
     "output_type": "stream",
     "text": [
      "덧셈:    Counter({'a': 8, 'b': 6, 'z': 3, 'c': 2, 'd': 1})\n",
      "뺄셈:    Counter({'a': 2, 'c': 2, 'd': 1})\n",
      "교집합:  Counter({'a': 3, 'b': 3})\n",
      "합집합:  Counter({'a': 5, 'b': 3, 'z': 3, 'c': 2, 'd': 1})\n"
     ]
    }
   ],
   "source": [
    "a = Counter('aaaaabbbccd')\n",
    "b = Counter('aaabbbzzz')\n",
    "\n",
    "print('덧셈:   ', a + b)\n",
    "print('뺄셈:   ', a - b)\n",
    "print('교집합: ', a & b)\n",
    "print('합집합: ', a | b)\n"
   ]
  },
  {
   "cell_type": "code",
   "execution_count": null,
   "metadata": {},
   "outputs": [],
   "source": []
  }
 ],
 "metadata": {
  "kernelspec": {
   "display_name": "Python 3",
   "language": "python",
   "name": "python3"
  },
  "language_info": {
   "codemirror_mode": {
    "name": "ipython",
    "version": 3
   },
   "file_extension": ".py",
   "mimetype": "text/x-python",
   "name": "python",
   "nbconvert_exporter": "python",
   "pygments_lexer": "ipython3",
   "version": "3.7.1"
  }
 },
 "nbformat": 4,
 "nbformat_minor": 2
}
