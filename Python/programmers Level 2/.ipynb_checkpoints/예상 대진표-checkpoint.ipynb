{
 "cells": [
  {
   "cell_type": "markdown",
   "metadata": {},
   "source": [
    "### >> 문제: programmers L2 [예상 대진표](https://programmers.co.kr/learn/courses/30/lessons/12985)\n",
    "\n",
    "대회는 N명이 참가하고, __토너먼트__ 형식으로 진행됩니다.  \n",
    "N명의 참가자는 각각 1부터 N번을 차례대로 배정받습니다.  \n",
    "그리고, 1번↔2번, 3번↔4번, ... , N-1번↔N번의 참가자끼리 게임을 진행합니다.  \n",
    "각 게임에서 이긴 사람은 다음 라운드에 진출할 수 있습니다.  \n",
    "\n",
    "이때, 다음 라운드에 진출할 참가자의 번호는 다시 1번부터 N/2번을 차례대로 배정받습니다.  \n",
    "만약 1번↔2번 끼리 겨루는 게임에서 2번이 승리했다면 다음 라운드에서 1번을 부여받고,  \n",
    "3번↔4번에서 겨루는 게임에서 3번이 승리했다면 다음 라운드에서 2번을 부여받게 됩니다.  \n",
    "게임은 최종 한 명이 남을 때까지 진행됩니다.  \n",
    "\n",
    "이때, 처음 라운드에서 A번을 가진 참가자는  \n",
    "경쟁자로 생각하는 B번 참가자와 몇 번째 라운드에서 만나는지 궁금해졌습니다.  \n",
    "\n",
    "게임 참가자 수 N, 참가자 번호 A, 경쟁자 번호 B가 함수 solution의 매개변수로 주어질 때,  \n",
    "처음 라운드에서 A번을 가진 참가자는 경쟁자로 생각하는 B번 참가자와  \n",
    "몇 번째 라운드에서 만나는지 return 하는 solution 함수를 완성해 주세요.  \n",
    "단, A번 참가자와 B번 참가자는 서로 붙게 되기 전까지 항상 이긴다고 가정합니다.\n",
    "\n",
    "* N : 21 이상 220 이하인 자연수 (2의 지수 승으로 주어지므로 부전승은 발생하지 않습니다.)\n",
    "* A, B : N 이하인 자연수 (단, A ≠ B 입니다.)\n",
    "\n",
    "*출처: 프로그래머스 코딩 테스트 연습, https://programmers.co.kr/learn/challenges*"
   ]
  },
  {
   "cell_type": "markdown",
   "metadata": {},
   "source": [
    "### >> 풀이"
   ]
  },
  {
   "cell_type": "code",
   "execution_count": 1,
   "metadata": {},
   "outputs": [
    {
     "name": "stdout",
     "output_type": "stream",
     "text": [
      "3  >> 3\n",
      "\n",
      "4 >> 4\n",
      "\n",
      "2  >> 2\n",
      "\n",
      "4  >> 4\n",
      "\n",
      "2  >> 2\n",
      "\n",
      "1  >> 1\n"
     ]
    }
   ],
   "source": [
    "def solution(n,a,b):\n",
    "    answer = 0\n",
    "    \n",
    "    while a != b:\n",
    "        a = (a+1)//2\n",
    "        b = (b+1)//2\n",
    "        answer += 1\n",
    "    \n",
    "    return answer\n",
    "\n",
    "\n",
    "print(solution(8,4,7),\" >> 3\")\n",
    "print(\"\")\n",
    "print(solution(16,1,10), \">> 4\")\n",
    "print(\"\")\n",
    "print(solution(16,5,7),\" >> 2\")\n",
    "print(\"\")\n",
    "print(solution(16,7,9),\" >> 4\")\n",
    "print(\"\")\n",
    "print(solution(16,6,8),\" >> 2\")\n",
    "print(\"\")\n",
    "print(solution(8,1,2),\" >> 1\")"
   ]
  },
  {
   "cell_type": "code",
   "execution_count": null,
   "metadata": {},
   "outputs": [],
   "source": []
  }
 ],
 "metadata": {
  "kernelspec": {
   "display_name": "Python 3",
   "language": "python",
   "name": "python3"
  },
  "language_info": {
   "codemirror_mode": {
    "name": "ipython",
    "version": 3
   },
   "file_extension": ".py",
   "mimetype": "text/x-python",
   "name": "python",
   "nbconvert_exporter": "python",
   "pygments_lexer": "ipython3",
   "version": "3.7.1"
  }
 },
 "nbformat": 4,
 "nbformat_minor": 2
}
