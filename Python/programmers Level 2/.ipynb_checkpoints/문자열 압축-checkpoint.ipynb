{
 "cells": [
  {
   "cell_type": "markdown",
   "metadata": {},
   "source": [
    "### >> 문제: programmers L2 [문자열 압축](https://programmers.co.kr/learn/courses/30/lessons/60057)\n",
    "\n",
    "데이터 처리 전문가가 되고 싶은 어피치는 문자열을 압축하는 방법에 대해 공부를 하고 있습니다.  \n",
    "최근에 대량의 데이터 처리를 위한 간단한 비손실 압축 방법에 대해 공부를 하고 있는데,  \n",
    "문자열에서 같은 값이 연속해서 나타나는 것을 그 문자의 개수와 반복되는 값으로 표현하여  \n",
    "더 짧은 문자열로 줄여서 표현하는 알고리즘을 공부하고 있습니다.  \n",
    "\n",
    "간단한 예로 aabbaccc의 경우 2a2ba3c(문자가 반복되지 않아 한번만 나타난 경우 1은 생략함)와 같이 표현할 수 있는데,  \n",
    "이러한 방식은 반복되는 문자가 적은 경우 압축률이 낮다는 단점이 있습니다.  \n",
    "\n",
    "예를 들면, abcabcdede와 같은 문자열은 전혀 압축되지 않습니다.  \n",
    "어피치는 이러한 단점을 해결하기 위해 문자열을 1개 이상의 단위로 잘라서 압축하여  \n",
    "더 짧은 문자열로 표현할 수 있는지 방법을 찾아보려고 합니다.  \n",
    "\n",
    "예를 들어, ababcdcdababcdcd의 경우 문자를 1개 단위로 자르면 전혀 압축되지 않지만,  \n",
    "2개 단위로 잘라서 압축한다면 2ab2cd2ab2cd로 표현할 수 있습니다.  \n",
    "\n",
    "다른 방법으로 8개 단위로 잘라서 압축한다면 2ababcdcd로 표현할 수 있으며,  \n",
    "이때가 가장 짧게 압축하여 표현할 수 있는 방법입니다.\n",
    "\n",
    "다른 예로, abcabcdede와 같은 경우, 문자를 2개 단위로 잘라서 압축하면 abcabc2de가 되지만,  \n",
    "3개 단위로 자른다면 2abcdede가 되어 3개 단위가 가장 짧은 압축 방법이 됩니다.  \n",
    "이때 3개 단위로 자르고 마지막에 남는 문자열은 그대로 붙여주면 됩니다.\n",
    "\n",
    "압축할 문자열 s가 매개변수로 주어질 때, 위에 설명한 방법으로 1개 이상 단위로 문자열을 잘라  \n",
    "압축하여 표현한 문자열 중 가장 짧은 것의 길이를 return 하도록 solution 함수를 완성해주세요.  \n",
    "\n",
    "* s의 길이는 1 이상 1,000 이하입니다.\n",
    "* s는 알파벳 소문자로만 이루어져 있습니다.\n",
    "\n",
    "[입출력 예 #5]  \n",
    "**s = \"xababcdcdababcdcd\"**  \n",
    "문자열은 제일 앞부터 정해진 길이만큼 잘라야 합니다.  \n",
    "따라서 주어진 문자열을 **x / ababcdcd / ababcdcd 로 자르는 것은 불가능** 합니다.  \n",
    "이 경우 어떻게 문자열을 잘라도 압축되지 않으므로 가장 짧은 길이는 17이 됩니다.\n",
    "\n",
    "*출처: 프로그래머스 코딩 테스트 연습, https://programmers.co.kr/learn/challenges*"
   ]
  },
  {
   "cell_type": "markdown",
   "metadata": {},
   "source": [
    "### >> 풀이"
   ]
  },
  {
   "cell_type": "code",
   "execution_count": 2,
   "metadata": {
    "scrolled": true
   },
   "outputs": [
    {
     "name": "stdout",
     "output_type": "stream",
     "text": [
      "7  >> 7\n",
      "9  >> 9\n",
      "8  >> 8\n",
      "14  >> 14\n",
      "17  >> 17\n"
     ]
    }
   ],
   "source": [
    "def solution(s):\n",
    "    answer = 1000 # s의 길이는 1이상 1000이하\n",
    "    # i개 단위로 압축한 문자열의 최소 길이를 구한다\n",
    "    for i in range(1, ((len(s)+1)//2)+1): # 최대 압축 가능한 단위는 s의 절반 \n",
    "        temp = overlap(i,s)\n",
    "        if answer > temp:\n",
    "            answer = temp\n",
    "    return answer\n",
    "\n",
    "\n",
    "# 문자열을 압축하는 함수\n",
    "def overlap(n, s): # n개 단위로 압축, s는 문자열\n",
    "    answer = ''\n",
    "    count = 1\n",
    "    # 문자열을 제일 앞부터 정해진 길이만큼 자를 수 있다 !!\n",
    "    for i in range(n, len(s)+n, n):\n",
    "        if s[i-n:i] == s[i:i+n]:\n",
    "            count += 1\n",
    "        else:\n",
    "            if count == 1:\n",
    "                answer += s[i-n:i]\n",
    "            else:\n",
    "                answer += str(count) + s[i-n:i]\n",
    "                count = 1\n",
    "    return len(answer)\n",
    "\n",
    "\n",
    "print(solution(\"aabbaccc\"),\" >> 7\")\n",
    "print(solution(\"ababcdcdababcdcd\"),\" >> 9\")\n",
    "print(solution(\"abcabcdede\"),\" >> 8\")\n",
    "print(solution(\"abcabcabcabcdededededede\"),\" >> 14\")\n",
    "print(solution(\"xababcdcdababcdcd\"),\" >> 17\")"
   ]
  }
 ],
 "metadata": {
  "kernelspec": {
   "display_name": "Python 3",
   "language": "python",
   "name": "python3"
  },
  "language_info": {
   "codemirror_mode": {
    "name": "ipython",
    "version": 3
   },
   "file_extension": ".py",
   "mimetype": "text/x-python",
   "name": "python",
   "nbconvert_exporter": "python",
   "pygments_lexer": "ipython3",
   "version": "3.7.1"
  }
 },
 "nbformat": 4,
 "nbformat_minor": 2
}
