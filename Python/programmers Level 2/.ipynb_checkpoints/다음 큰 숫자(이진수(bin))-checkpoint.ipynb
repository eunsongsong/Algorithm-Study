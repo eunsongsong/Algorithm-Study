{
 "cells": [
  {
   "cell_type": "markdown",
   "metadata": {},
   "source": [
    "### >> 문제: programmers L2 [다음 큰 숫자](https://programmers.co.kr/learn/courses/30/lessons/12911)\n",
    "\n",
    "자연수 n이 주어졌을 때, n의 다음 큰 숫자는 다음과 같이 정의 합니다.  \n",
    "\n",
    "1. n의 다음 큰 숫자는 n보다 큰 자연수 입니다.  \n",
    "2. n의 다음 큰 숫자와 n은 2진수로 변환했을 때 1의 갯수가 같습니다.  \n",
    "3. n의 다음 큰 숫자는 조건 1, 2를 만족하는 수 중 가장 작은 수 입니다.  \n",
    "\n",
    "예를 들어서 78(1001110)의 다음 큰 숫자는 83(1010011)입니다.  \n",
    "\n",
    "자연수 n이 매개변수로 주어질 때, n의 다음 큰 숫자를 return 하는 solution 함수를 완성해주세요.  \n",
    "\n",
    "* n은 1,000,000 이하의 자연수 입니다.\n",
    "\n",
    "*출처: 프로그래머스 코딩 테스트 연습, https://programmers.co.kr/learn/challenges*"
   ]
  },
  {
   "cell_type": "markdown",
   "metadata": {},
   "source": [
    "### >> 풀이 "
   ]
  },
  {
   "cell_type": "code",
   "execution_count": 19,
   "metadata": {},
   "outputs": [
    {
     "name": "stdout",
     "output_type": "stream",
     "text": [
      "83  >> 83\n",
      "23  >> 23\n"
     ]
    }
   ],
   "source": [
    "def solution(n):\n",
    "    count1 = bin(n)[2:].count(\"1\") # n을 2진수로 변환했을 때, 1의 갯수\n",
    "    \n",
    "    answer = n\n",
    "    while True:\n",
    "        answer += 1\n",
    "        if count1 == bin(answer)[2:].count(\"1\"):\n",
    "            break        \n",
    "    \n",
    "    return answer\n",
    "\n",
    "print(solution(78),\" >> 83\")\n",
    "print(solution(15),\" >> 23\")"
   ]
  },
  {
   "cell_type": "code",
   "execution_count": null,
   "metadata": {},
   "outputs": [],
   "source": []
  }
 ],
 "metadata": {
  "kernelspec": {
   "display_name": "Python 3",
   "language": "python",
   "name": "python3"
  },
  "language_info": {
   "codemirror_mode": {
    "name": "ipython",
    "version": 3
   },
   "file_extension": ".py",
   "mimetype": "text/x-python",
   "name": "python",
   "nbconvert_exporter": "python",
   "pygments_lexer": "ipython3",
   "version": "3.7.1"
  }
 },
 "nbformat": 4,
 "nbformat_minor": 2
}
