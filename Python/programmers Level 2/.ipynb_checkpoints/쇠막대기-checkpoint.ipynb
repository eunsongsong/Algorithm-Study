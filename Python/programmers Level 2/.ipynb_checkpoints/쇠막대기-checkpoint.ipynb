{
 "cells": [
  {
   "cell_type": "markdown",
   "metadata": {},
   "source": [
    "### >> 문제: programmers L2 [쇠막대기](https://programmers.co.kr/learn/courses/30/lessons/42585)\n",
    "\n",
    "여러 개의 쇠막대기를 레이저로 절단하려고 합니다.  \n",
    "효율적인 작업을 위해서 쇠막대기를 아래에서 위로 겹쳐 놓고, 레이저를 위에서 수직으로 발사하여 쇠막대기들을 자릅니다.  \n",
    "쇠막대기와 레이저의 배치는 다음 조건을 만족합니다.\n",
    "\n",
    "* 쇠막대기는 자신보다 긴 쇠막대기 위에만 놓일 수 있습니다.\n",
    "* 쇠막대기를 다른 쇠막대기 위에 놓는 경우 완전히 포함되도록 놓되, 끝점은 겹치지 않도록 놓습니다.\n",
    "* 각 쇠막대기를 자르는 레이저는 적어도 하나 존재합니다.\n",
    "* 레이저는 어떤 쇠막대기의 양 끝점과도 겹치지 않습니다.  \n",
    "\n",
    "수평으로 그려진 굵은 실선은 쇠막대기이고, 점은 레이저의 위치, 수직으로 그려진 점선 화살표는 레이저의 발사 방향입니다.  \n",
    "\n",
    "<img src=\"https://grepp-programmers.s3.amazonaws.com/files/ybm/dbd166625b/d3ae656b-bb7b-421c-9f74-fa9ea800b860.png\" title=\"[출처: https://programmers.co.kr/learn/challenges]\" width=\"40%\" height=\"40%\" align=\"right\">    \n",
    "\n",
    "* 레이저는 여는 괄호와 닫는 괄호의 인접한 쌍 '()'으로 표현합니다.  \n",
    "* 또한 모든 '()'는 반드시 레이저를 표현합니다.   \n",
    "* 쇠막대기의 왼쪽 끝은 여는 괄호 '('로, 오른쪽 끝은 닫힌 괄호 ')'로 표현됩니다.\n",
    "\n",
    "쇠막대기는 레이저에 의해 몇 개의 조각으로 잘리는데,  \n",
    "오른쪽 예에서 가장 위에 있는 두 개의 쇠막대기는 각각 3개와 2개의 조각으로 잘리고,  \n",
    "이와 같은 방식으로 주어진 쇠막대기들은 총 17개의 조각으로 잘립니다.  \n",
    "\n",
    "쇠막대기와 레이저의 배치를 표현한 문자열 arrangement가 매개변수로 주어질 때,  \n",
    "잘린 쇠막대기 조각의 총 개수를 return 하도록 solution 함수를 작성해주세요.\n",
    "\n",
    "* arrangement의 길이는 최대 100,000입니다.\n",
    "* arrangement의 여는 괄호와 닫는 괄호는 항상 쌍을 이룹니다.\n",
    "\n",
    "*출처: 프로그래머스 코딩 테스트 연습, https://programmers.co.kr/learn/challenges*"
   ]
  },
  {
   "cell_type": "markdown",
   "metadata": {},
   "source": [
    "### >> 풀이"
   ]
  },
  {
   "cell_type": "code",
   "execution_count": 7,
   "metadata": {},
   "outputs": [
    {
     "name": "stdout",
     "output_type": "stream",
     "text": [
      "17  >> 17\n"
     ]
    }
   ],
   "source": [
    "def solution(arrangement):\n",
    "    answer = 0\n",
    "    count = 0 # 열린 괄호 +1, 닫힌 괄호 -1\n",
    "    for i in range(len(arrangement)):\n",
    "        if arrangement[i] == \"(\":\n",
    "            count += 1\n",
    "        else:\n",
    "            count -= 1\n",
    "            if arrangement[i-1] == \"(\": # 레이저\n",
    "                answer += count\n",
    "            else: # 막대기가 끝나는 지점\n",
    "                answer += 1\n",
    "    return answer\n",
    "\n",
    "print(solution(\"()(((()())(())()))(())\"), \" >> 17\")"
   ]
  }
 ],
 "metadata": {
  "kernelspec": {
   "display_name": "Python 3",
   "language": "python",
   "name": "python3"
  },
  "language_info": {
   "codemirror_mode": {
    "name": "ipython",
    "version": 3
   },
   "file_extension": ".py",
   "mimetype": "text/x-python",
   "name": "python",
   "nbconvert_exporter": "python",
   "pygments_lexer": "ipython3",
   "version": "3.7.1"
  }
 },
 "nbformat": 4,
 "nbformat_minor": 2
}
