{
 "cells": [
  {
   "cell_type": "markdown",
   "metadata": {},
   "source": [
    "### >> 문제: programmers L2 [행렬의 곱셈](https://programmers.co.kr/learn/courses/30/lessons/12949)\n",
    "\n",
    "2차원 행렬 arr1과 arr2를 입력받아, arr1에 arr2를 곱한 결과를 반환하는 함수, solution을 완성해주세요.\n",
    "\n",
    "* 행렬 arr1, arr2의 행과 열의 길이는 2 이상 100 이하입니다.\n",
    "* 행렬 arr1, arr2의 원소는 -10 이상 20 이하인 자연수입니다.\n",
    "* 곱할 수 있는 배열만 주어집니다.\n",
    "\n",
    "*출처: 프로그래머스 코딩 테스트 연습, https://programmers.co.kr/learn/challenges*"
   ]
  },
  {
   "cell_type": "markdown",
   "metadata": {},
   "source": [
    "### >> 풀이"
   ]
  },
  {
   "cell_type": "code",
   "execution_count": 106,
   "metadata": {},
   "outputs": [
    {
     "name": "stdout",
     "output_type": "stream",
     "text": [
      "[[15, 15], [15, 15], [15, 15]]  >> [[15, 15], [15, 15], [15, 15]]\n",
      "[[22, 22, 11], [36, 28, 18], [29, 20, 14]]  >> [[22, 22, 11], [36, 28, 18], [29, 20, 14]]\n",
      "[[14, 32], [32, 77]]  >> [[14, 32], [32, 77]]\n"
     ]
    }
   ],
   "source": [
    "def solution(arr1, arr2):\n",
    "    answer = [[0 for j in range(len(arr2[0]))] for i in range(len(arr1))]\n",
    "    \n",
    "    for i in range(len(arr1)): # ixj행렬 arr1의 i행\n",
    "        for j in range(len(arr2)): # ixj행렬 arr1의 j열, jxk행렬 arr2의 j행\n",
    "            for k in range(len(arr2[0])): # jxk행렬 arr2의 k열\n",
    "                answer[i][k] += arr1[i][j]*arr2[j][k]\n",
    "            \n",
    "    return answer\n",
    "\n",
    "print(solution([[1, 4], [3, 2], [4, 1]], [[3, 3], [3, 3]]),\n",
    "      \" >> [[15, 15], [15, 15], [15, 15]]\")\n",
    "print(solution([[2, 3, 2], [4, 2, 4], [3, 1, 4]], [[5, 4, 3], [2, 4, 1], [3, 1, 1]]),\n",
    "      \" >> [[22, 22, 11], [36, 28, 18], [29, 20, 14]]\")\n",
    "print(solution([[1, 2, 3], [4, 5, 6]], [[1, 4], [2, 5], [3, 6]]),\n",
    "     \" >> [[14, 32], [32, 77]]\")\n"
   ]
  },
  {
   "cell_type": "code",
   "execution_count": 107,
   "metadata": {
    "scrolled": true
   },
   "outputs": [
    {
     "name": "stdout",
     "output_type": "stream",
     "text": [
      "[[15, 15], [15, 15], [15, 15]]  >> [[15, 15], [15, 15], [15, 15]]\n",
      "[[22, 22, 11], [36, 28, 18], [29, 20, 14]]  >> [[22, 22, 11], [36, 28, 18], [29, 20, 14]]\n"
     ]
    }
   ],
   "source": [
    "def solution(A, B):\n",
    "    return [[sum(a*b for a, b in zip(A_row,B_col)) for B_col in zip(*B)] for A_row in A]\n",
    "\n",
    "print(solution([[1, 4], [3, 2], [4, 1]], [[3, 3], [3, 3]]),\n",
    "      \" >> [[15, 15], [15, 15], [15, 15]]\")\n",
    "print(solution([[2, 3, 2], [4, 2, 4], [3, 1, 4]], [[5, 4, 3], [2, 4, 1], [3, 1, 1]]),\n",
    "      \" >> [[22, 22, 11], [36, 28, 18], [29, 20, 14]]\")"
   ]
  },
  {
   "cell_type": "markdown",
   "metadata": {},
   "source": [
    "### >> 다른풀이(zip)"
   ]
  },
  {
   "cell_type": "code",
   "execution_count": 108,
   "metadata": {
    "scrolled": true
   },
   "outputs": [
    {
     "name": "stdout",
     "output_type": "stream",
     "text": [
      "[[15, 15], [15, 15], [15, 15]]  >> [[15, 15], [15, 15], [15, 15]]\n",
      "[[22, 22, 11], [36, 28, 18], [29, 20, 14]]  >> [[22, 22, 11], [36, 28, 18], [29, 20, 14]]\n"
     ]
    }
   ],
   "source": [
    "def solution(arr1, arr2):\n",
    "    return [[sum(i*j for i,j in zip(row,col)) for col in zip(*arr2)] for row in arr1]\n",
    "\n",
    "print(solution([[1, 4], [3, 2], [4, 1]], [[3, 3], [3, 3]]),\n",
    "      \" >> [[15, 15], [15, 15], [15, 15]]\")\n",
    "print(solution([[2, 3, 2], [4, 2, 4], [3, 1, 4]], [[5, 4, 3], [2, 4, 1], [3, 1, 1]]),\n",
    "      \" >> [[22, 22, 11], [36, 28, 18], [29, 20, 14]]\")"
   ]
  },
  {
   "cell_type": "markdown",
   "metadata": {},
   "source": [
    "# zip(*iterable)"
   ]
  },
  {
   "cell_type": "markdown",
   "metadata": {},
   "source": [
    "zip(*iterable)은 동일한 개수로 이루어진 자료형을 묶어 주는 역할을 하는 함수이다.  \n",
    "\n",
    "(여기서 사용한 *iterable은 반복 가능(iterable)한 자료형 여러 개를 입력할 수 있다는 의미이다.)"
   ]
  },
  {
   "cell_type": "code",
   "execution_count": 109,
   "metadata": {},
   "outputs": [
    {
     "data": {
      "text/plain": [
       "[(1, 4), (2, 5), (3, 6)]"
      ]
     },
     "execution_count": 109,
     "metadata": {},
     "output_type": "execute_result"
    }
   ],
   "source": [
    "list(zip([1, 2, 3], [4, 5, 6]))"
   ]
  },
  {
   "cell_type": "code",
   "execution_count": 110,
   "metadata": {},
   "outputs": [
    {
     "data": {
      "text/plain": [
       "[(1, 4, 7), (2, 5, 8), (3, 6, 9)]"
      ]
     },
     "execution_count": 110,
     "metadata": {},
     "output_type": "execute_result"
    }
   ],
   "source": [
    "list(zip([1, 2, 3], [4, 5, 6], [7, 8, 9]))"
   ]
  },
  {
   "cell_type": "code",
   "execution_count": 111,
   "metadata": {},
   "outputs": [
    {
     "data": {
      "text/plain": [
       "[('a', 'd'), ('b', 'e'), ('c', 'f')]"
      ]
     },
     "execution_count": 111,
     "metadata": {},
     "output_type": "execute_result"
    }
   ],
   "source": [
    "list(zip(\"abc\", \"def\"))"
   ]
  },
  {
   "cell_type": "code",
   "execution_count": 112,
   "metadata": {},
   "outputs": [
    {
     "name": "stdout",
     "output_type": "stream",
     "text": [
      "[(1, 4, 7), (2, 5, 8), (3, 6, 9)]\n"
     ]
    }
   ],
   "source": [
    "a = [[1, 2, 3], [4, 5, 6], [7, 8, 9]]\n",
    "print([i for i in zip(*a)])"
   ]
  },
  {
   "cell_type": "code",
   "execution_count": 113,
   "metadata": {},
   "outputs": [
    {
     "name": "stdout",
     "output_type": "stream",
     "text": [
      "[([1, 2], [5, 6], [9, 10]), ([3, 4], [7, 8], [11, 12])]\n"
     ]
    }
   ],
   "source": [
    "a = [[[1,2],[3,4]], [[5,6],[7,8]], [[9,10],[11,12]]]\n",
    "print([i for i in zip(*a)])"
   ]
  },
  {
   "cell_type": "code",
   "execution_count": null,
   "metadata": {},
   "outputs": [],
   "source": []
  }
 ],
 "metadata": {
  "kernelspec": {
   "display_name": "Python 3",
   "language": "python",
   "name": "python3"
  },
  "language_info": {
   "codemirror_mode": {
    "name": "ipython",
    "version": 3
   },
   "file_extension": ".py",
   "mimetype": "text/x-python",
   "name": "python",
   "nbconvert_exporter": "python",
   "pygments_lexer": "ipython3",
   "version": "3.7.1"
  }
 },
 "nbformat": 4,
 "nbformat_minor": 2
}
