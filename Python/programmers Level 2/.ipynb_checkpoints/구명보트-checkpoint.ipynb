{
 "cells": [
  {
   "cell_type": "markdown",
   "metadata": {},
   "source": [
    "### >> 문제: programmers L2 [구명보트](https://programmers.co.kr/learn/courses/30/lessons/42885)\n",
    "\n",
    "무인도에 갇힌 사람들을 구명보트를 이용하여 구출하려고 합니다.  \n",
    "구명보트는 작아서 **한 번에 최대 2명씩** 밖에 탈 수 없고, 무게 제한도 있습니다.  \n",
    "\n",
    "예를 들어, 사람들의 몸무게가 [70kg, 50kg, 80kg, 50kg]이고 구명보트의 무게 제한이 100kg이라면  \n",
    "2번째 사람과 4번째 사람은 같이 탈 수 있지만 1번째 사람과 3번째 사람의 무게의 합은 150kg이므로  \n",
    "구명보트의 무게 제한을 초과하여 같이 탈 수 없습니다.  \n",
    "\n",
    "구명보트를 최대한 적게 사용하여 모든 사람을 구출하려고 합니다.  \n",
    "\n",
    "사람들의 몸무게를 담은 배열 people과 구명보트의 무게 제한 limit가 매개변수로 주어질 때,  \n",
    "모든 사람을 구출하기 위해 필요한 구명보트 개수의 최솟값을 return 하도록 solution 함수를 작성해주세요.  \n",
    "\n",
    "- 무인도에 갇힌 사람은 1명 이상 50,000명 이하입니다.\n",
    "- 각 사람의 몸무게는 40kg 이상 240kg 이하입니다.\n",
    "- 구명보트의 무게 제한은 40kg 이상 240kg 이하입니다.\n",
    "- 구명보트의 무게 제한은 항상 사람들의 몸무게 중 최댓값보다 크게 주어지므로  \n",
    "사람들을 구출할 수 없는 경우는 없습니다.\n",
    "\n",
    "*출처: 프로그래머스 코딩 테스트 연습, https://programmers.co.kr/learn/challenges*"
   ]
  },
  {
   "cell_type": "markdown",
   "metadata": {},
   "source": [
    "### >> 풀이"
   ]
  },
  {
   "cell_type": "code",
   "execution_count": 12,
   "metadata": {},
   "outputs": [
    {
     "name": "stdout",
     "output_type": "stream",
     "text": [
      "3  >> 3\n",
      "3  >> 3\n"
     ]
    }
   ],
   "source": [
    "def solution(people, limit):\n",
    "    answer = 0\n",
    "    \n",
    "    people.sort() \n",
    "    left, right = 0, len(people)-1\n",
    "    while left <= right:\n",
    "        if people[left] + people[right] <= limit:\n",
    "            left += 1\n",
    "        right -= 1\n",
    "        answer += 1\n",
    "        \n",
    "    return answer\n",
    "\n",
    "print(solution([70, 50, 80, 50],100),\" >> 3\")\n",
    "print(solution([70, 80, 50],100),\" >> 3\")"
   ]
  }
 ],
 "metadata": {
  "kernelspec": {
   "display_name": "Python 3",
   "language": "python",
   "name": "python3"
  },
  "language_info": {
   "codemirror_mode": {
    "name": "ipython",
    "version": 3
   },
   "file_extension": ".py",
   "mimetype": "text/x-python",
   "name": "python",
   "nbconvert_exporter": "python",
   "pygments_lexer": "ipython3",
   "version": "3.7.1"
  }
 },
 "nbformat": 4,
 "nbformat_minor": 2
}
