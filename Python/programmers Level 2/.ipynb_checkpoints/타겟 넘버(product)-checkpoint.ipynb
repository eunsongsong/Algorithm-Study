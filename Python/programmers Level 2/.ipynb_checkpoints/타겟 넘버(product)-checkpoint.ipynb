{
 "cells": [
  {
   "cell_type": "markdown",
   "metadata": {},
   "source": [
    "### >> 문제: programmers L2 [타겟 넘버](https://programmers.co.kr/learn/courses/30/lessons/43165)\n",
    "\n",
    "n개의 음이 아닌 정수가 있습니다. 이 수를 적절히 더하거나 빼서 타겟 넘버를 만들려고 합니다.  \n",
    "예를 들어 [1, 1, 1, 1, 1]로 숫자 3을 만들려면 다음 다섯 방법을 쓸 수 있습니다.  \n",
    "\n",
    "```\n",
    "-1+1+1+1+1 = 3\n",
    "+1-1+1+1+1 = 3\n",
    "+1+1-1+1+1 = 3\n",
    "+1+1+1-1+1 = 3\n",
    "+1+1+1+1-1 = 3\n",
    "```\n",
    "사용할 수 있는 숫자가 담긴 배열 numbers, 타겟 넘버 target이 매개변수로 주어질 때  \n",
    "숫자를 적절히 더하고 빼서 타겟 넘버를 만드는 방법의 수를 return 하도록 solution 함수를 작성해주세요.  \n",
    "\n",
    "- 주어지는 숫자의 개수는 2개 이상 20개 이하입니다.\n",
    "- 각 숫자는 1 이상 50 이하인 자연수입니다.\n",
    "- 타겟 넘버는 1 이상 1000 이하인 자연수입니다.\n",
    "\n",
    "*출처: 프로그래머스 코딩 테스트 연습, https://programmers.co.kr/learn/challenges*"
   ]
  },
  {
   "cell_type": "markdown",
   "metadata": {},
   "source": [
    "### >> 풀이(product)"
   ]
  },
  {
   "cell_type": "code",
   "execution_count": 7,
   "metadata": {},
   "outputs": [
    {
     "name": "stdout",
     "output_type": "stream",
     "text": [
      "5  >> 5\n",
      "3  >> 3\n"
     ]
    }
   ],
   "source": [
    "from itertools import product\n",
    "\n",
    "def solution(numbers, target):\n",
    "    answer = 0\n",
    "    \n",
    "    # 더하고 뺄 수 있는 모든 경우의 수\n",
    "    calculation = list(product([1,-1],repeat=len(numbers)))\n",
    "\n",
    "    # 타켓 넘버를 찾는다\n",
    "    for i in range(len(calculation)):\n",
    "        temp = 0\n",
    "        for j in range(len(numbers)):\n",
    "            temp += numbers[j] * calculation[i][j]\n",
    "        if temp == target:\n",
    "            answer += 1\n",
    "    \n",
    "    return answer\n",
    "\n",
    "print(solution([1, 1, 1, 1, 1],3),\" >> 5\")\n",
    "print(solution([1, 2, 3, 4, 5],5),\" >> 3\")"
   ]
  },
  {
   "cell_type": "markdown",
   "metadata": {},
   "source": [
    "### >> 다른풀이(product)"
   ]
  },
  {
   "cell_type": "code",
   "execution_count": 9,
   "metadata": {},
   "outputs": [
    {
     "name": "stdout",
     "output_type": "stream",
     "text": [
      "[(1, -1), (2, -2), (3, -3), (4, -4), (5, -5)]\n",
      "3  >> 3\n"
     ]
    }
   ],
   "source": [
    "from itertools import product\n",
    "def solution(numbers, target):\n",
    "    add_sum = [(i, -i) for i in numbers]\n",
    "    print(add_sum)\n",
    "    calculation = list(map(sum, product(*add_sum)))\n",
    "    return calculation.count(target)\n",
    "\n",
    "print(solution([1, 2, 3, 4, 5],5),\" >> 3\")"
   ]
  }
 ],
 "metadata": {
  "kernelspec": {
   "display_name": "Python 3",
   "language": "python",
   "name": "python3"
  },
  "language_info": {
   "codemirror_mode": {
    "name": "ipython",
    "version": 3
   },
   "file_extension": ".py",
   "mimetype": "text/x-python",
   "name": "python",
   "nbconvert_exporter": "python",
   "pygments_lexer": "ipython3",
   "version": "3.7.1"
  }
 },
 "nbformat": 4,
 "nbformat_minor": 2
}
