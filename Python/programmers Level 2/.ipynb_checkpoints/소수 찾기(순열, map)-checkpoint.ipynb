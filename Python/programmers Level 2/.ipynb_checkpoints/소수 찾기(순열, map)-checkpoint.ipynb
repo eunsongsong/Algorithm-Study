{
 "cells": [
  {
   "cell_type": "markdown",
   "metadata": {},
   "source": [
    "### >> 문제: programmers L2 [소수 찾기](https://programmers.co.kr/learn/courses/30/lessons/42839)\n",
    "\n",
    "한자리 숫자가 적힌 종이 조각이 흩어져있습니다.  \n",
    "흩어진 종이 조각을 붙여 소수를 몇 개 만들 수 있는지 알아내려 합니다.\n",
    "\n",
    "각 종이 조각에 적힌 숫자가 적힌 문자열 numbers가 주어졌을 때,  \n",
    "종이 조각으로 만들 수 있는 소수가 몇 개인지 return 하도록 solution 함수를 완성해주세요.\n",
    "\n",
    "* numbers는 길이 1 이상 7 이하인 문자열입니다.\n",
    "* numbers는 0~9까지 숫자만으로 이루어져 있습니다.\n",
    "* \"013\"은 0, 1, 3 숫자가 적힌 종이 조각이 흩어져있다는 의미입니다.\n",
    "\n",
    "*출처: 프로그래머스 코딩 테스트 연습, https://programmers.co.kr/learn/challenges*"
   ]
  },
  {
   "cell_type": "markdown",
   "metadata": {},
   "source": [
    "### >> 풀이"
   ]
  },
  {
   "cell_type": "code",
   "execution_count": 1,
   "metadata": {},
   "outputs": [
    {
     "name": "stdout",
     "output_type": "stream",
     "text": [
      "3  >> 3: [7, 17, 71]\n",
      "2  >> 2: [11, 101]\n"
     ]
    }
   ],
   "source": [
    "from itertools import permutations\n",
    "\n",
    "def solution(numbers):\n",
    "    answer = 0\n",
    "    prime = []\n",
    "    \n",
    "    # 종이 조각으로 만들 수 있는 모든 숫자 조합\n",
    "    for i in range(1,len(numbers)+1):\n",
    "        prime += set(map(''.join, permutations(numbers,i)))\n",
    "    prime = set(map(int,prime)) # 문자열을 int형으로 \n",
    "    prime -= {0, 1} # 0, 1은 소수가 아니므로 제거\n",
    "    \n",
    "    composite = set() # 합성수를 저장할 변수\n",
    "    for num in prime:\n",
    "        for i in range(2,num//2+1):\n",
    "            if num % i == 0: # 나누어 떨어지는 수가 있으면 합성수\n",
    "                composite.add(num)\n",
    "    prime -= composite # 숫자 조합에서 합성수를 제거\n",
    "    answer = len(prime)\n",
    "        \n",
    "    return answer\n",
    "\n",
    "print(solution(\"17\"), \" >> 3: [7, 17, 71]\")\n",
    "print(solution(\"011\"), \" >> 2: [11, 101]\")"
   ]
  },
  {
   "cell_type": "code",
   "execution_count": null,
   "metadata": {},
   "outputs": [],
   "source": []
  }
 ],
 "metadata": {
  "kernelspec": {
   "display_name": "Python 3",
   "language": "python",
   "name": "python3"
  },
  "language_info": {
   "codemirror_mode": {
    "name": "ipython",
    "version": 3
   },
   "file_extension": ".py",
   "mimetype": "text/x-python",
   "name": "python",
   "nbconvert_exporter": "python",
   "pygments_lexer": "ipython3",
   "version": "3.7.1"
  }
 },
 "nbformat": 4,
 "nbformat_minor": 2
}
