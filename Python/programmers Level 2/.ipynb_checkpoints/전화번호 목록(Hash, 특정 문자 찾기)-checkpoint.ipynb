{
 "cells": [
  {
   "cell_type": "markdown",
   "metadata": {},
   "source": [
    "# 해시(Hash)"
   ]
  },
  {
   "cell_type": "markdown",
   "metadata": {},
   "source": [
    "#### Hash Table: key에 value를 저장하는 데이터 구조\n",
    "* key를 통해 데이터를 바로 받아올 수 있으므로 빠르다  \n",
    "* python에서는 딕셔너리 자료형을 사용하면 되므로 Hash를 별도 구현할 필요가 없다  \n",
    "보통 Hash Table 사이즈만큼 배열을 미리 생성한 후에 사용함 (탐색 시간과 공간을 바꾸는 것)\n"
   ]
  },
  {
   "cell_type": "markdown",
   "metadata": {},
   "source": [
    "### >> 문제: Programmers Level 2 [전화번호 목록](https://programmers.co.kr/learn/courses/30/lessons/42577)\n",
    "전화번호부에 적힌 전화번호 중, 한 번호가 다른 번호의 접두어인 경우가 있는지 확인하려 합니다.  \n",
    "전화번호가 다음과 같을 경우, 구조대 전화번호는 영석이의 전화번호의 접두사입니다.  \n",
    "\n",
    "구조대 : 119  \n",
    "박준영 : 97 674 223  \n",
    "지영석 : 11 9552 4421  \n",
    "\n",
    "전화번호부에 적힌 전화번호를 담은 배열 phone_book 이 solution 함수의 매개변수로 주어질 때,  \n",
    "어떤 번호가 다른 번호의 접두어인 경우가 있으면 false를 그렇지 않으면 true를 return 하도록 solution 함수를 작성해주세요.\n",
    "\n",
    "* phone_book의 길이는 1 이상 1,000,000 이하입니다.\n",
    "* 각 전화번호의 길이는 1 이상 20 이하입니다.\n",
    "\n",
    "\n",
    "*출처: 프로그래머스 코딩 테스트 연습, https://programmers.co.kr/learn/challenges*"
   ]
  },
  {
   "cell_type": "markdown",
   "metadata": {},
   "source": [
    "### >> 오답노트\n",
    "예를들어 23,123인 경우 23이 123에 포함되지만 접두사가 아니다"
   ]
  },
  {
   "cell_type": "code",
   "execution_count": 1,
   "metadata": {
    "scrolled": true
   },
   "outputs": [
    {
     "name": "stdout",
     "output_type": "stream",
     "text": [
      "False   >> false\n",
      "\n",
      "True   >> true\n",
      "\n",
      "False   >> false\n",
      "\n"
     ]
    }
   ],
   "source": [
    "def solution(phone_book):\n",
    "    answer = True\n",
    "    \n",
    "    for i in range(len(phone_book)):\n",
    "        temp = 0\n",
    "        for phone in phone_book:\n",
    "            if phone.find(phone_book[i]) is not -1: # 포함된 경우만 찾는 것이지 접두사는 찾을 수 없다\n",
    "                temp += 1\n",
    "        if temp > 1:\n",
    "            answer = False\n",
    "            break\n",
    "\n",
    "    \n",
    "    return answer\n",
    "\n",
    "print(solution([\"119\", \"97674223\", \"1195524421\"]), \"  >> false\\n\")\n",
    "print(solution([\"123\",\"456\",\"789\"]), \"  >> true\\n\")\n",
    "print(solution([\"12\",\"123\",\"1235\",\"567\",\"88\"]), \"  >> false\\n\")"
   ]
  },
  {
   "cell_type": "markdown",
   "metadata": {},
   "source": [
    "### >> 풀이"
   ]
  },
  {
   "cell_type": "code",
   "execution_count": 2,
   "metadata": {},
   "outputs": [
    {
     "name": "stdout",
     "output_type": "stream",
     "text": [
      "False   >> false\n",
      "\n",
      "True   >> true\n",
      "\n",
      "False   >> false\n",
      "\n"
     ]
    }
   ],
   "source": [
    "def solution(phone_book):\n",
    "    answer = True\n",
    "    \n",
    "    for i in range(len(phone_book)):\n",
    "        temp = 0 # 접두사가 있는지 세는 변수\n",
    "        for phone in phone_book:\n",
    "            if phone.find(phone_book[i]) is 0: # 찾는 문자열의 위치가 0이면 접두사 \n",
    "                temp += 1\n",
    "        if temp > 1:\n",
    "            answer = False\n",
    "            break\n",
    "            \n",
    "    return answer\n",
    "\n",
    "\n",
    "print(solution([\"119\", \"97674223\", \"1195524421\"]), \"  >> false\\n\")\n",
    "print(solution([\"123\",\"456\",\"789\"]), \"  >> true\\n\")\n",
    "print(solution([\"12\",\"123\",\"1235\",\"567\",\"88\"]), \"  >> false\\n\")"
   ]
  },
  {
   "cell_type": "markdown",
   "metadata": {},
   "source": [
    "### >> 다른풀이"
   ]
  },
  {
   "cell_type": "code",
   "execution_count": 3,
   "metadata": {
    "scrolled": true
   },
   "outputs": [
    {
     "name": "stdout",
     "output_type": "stream",
     "text": [
      "['11185524421', '1119', '11197674223']\n",
      "False   >> false\n",
      "\n",
      "['119', '1195524421', '97674223']\n",
      "False   >> false\n",
      "\n",
      "['123', '456', '789']\n",
      "True   >> true\n",
      "\n",
      "['12', '123', '1235', '567', '88']\n",
      "False   >> false\n",
      "\n"
     ]
    }
   ],
   "source": [
    "def solution(phone_book):\n",
    "    answer = True\n",
    "    phone_book = sorted(phone_book) # 정렬\n",
    "    print(phone_book)\n",
    "    \n",
    "    for i, j in zip(phone_book, phone_book[1:]): # 정렬을 했으므로 바로 다음 값이랑만 비교하면 된다\n",
    "        if j.startswith(i): # startswith는 문자열이 특정 문자로 시작하는지 여부를 알려준다(true/false)\n",
    "            answer = False\n",
    "            break\n",
    "    \n",
    "    return answer\n",
    "\n",
    "\n",
    "print(solution([\"11197674223\", \"11185524421\", \"1119\"]), \"  >> false\\n\")\n",
    "print(solution([\"97674223\", \"1195524421\", \"119\"]), \"  >> false\\n\")\n",
    "print(solution([\"123\",\"456\",\"789\"]), \"  >> true\\n\")\n",
    "print(solution([\"1235\",\"12\",\"123\",\"567\",\"88\"]), \"  >> false\\n\")"
   ]
  },
  {
   "cell_type": "markdown",
   "metadata": {},
   "source": [
    "# 특정 문자 찾기"
   ]
  },
  {
   "cell_type": "markdown",
   "metadata": {},
   "source": [
    "### find(찾을 문자, 찾기 시작할 위치)\n",
    "문자열 위치를 반환"
   ]
  },
  {
   "cell_type": "code",
   "execution_count": 4,
   "metadata": {},
   "outputs": [
    {
     "name": "stdout",
     "output_type": "stream",
     "text": [
      "1\n",
      "6\n"
     ]
    }
   ],
   "source": [
    "s = \"abcd abcdefg\"\n",
    "print(s.find(\"b\"))\n",
    "print(s.find(\"b\", 3))"
   ]
  },
  {
   "cell_type": "markdown",
   "metadata": {},
   "source": [
    "### startswith(시작하는 문자, 시작할 위치)\n",
    "true/false 값을 반환"
   ]
  },
  {
   "cell_type": "code",
   "execution_count": 5,
   "metadata": {},
   "outputs": [
    {
     "name": "stdout",
     "output_type": "stream",
     "text": [
      "True\n",
      "False\n",
      "False\n",
      "True\n"
     ]
    }
   ],
   "source": [
    "s = \"abcd abcdefg\"\n",
    "print(s.startswith(\"a\"))\n",
    "print(s.startswith(\"b\"))\n",
    "print(s.startswith(\"a\",2))\n",
    "print(s.startswith(\"a\",s.find(\"a\")))"
   ]
  },
  {
   "cell_type": "markdown",
   "metadata": {},
   "source": [
    "### endswith(끝나는 문자, 시작할 위치, 마지막 위치)"
   ]
  },
  {
   "cell_type": "code",
   "execution_count": 6,
   "metadata": {},
   "outputs": [
    {
     "name": "stdout",
     "output_type": "stream",
     "text": [
      "False\n",
      "True\n",
      "False\n",
      "True\n"
     ]
    }
   ],
   "source": [
    "s = \"abcd abcdefg\"\n",
    "print(s.endswith(\"a\"))\n",
    "print(s.endswith(\"g\"))\n",
    "print(s.endswith(\"g\",1,4))\n",
    "print(s.endswith(\"d\",1,4))"
   ]
  }
 ],
 "metadata": {
  "kernelspec": {
   "display_name": "Python 3",
   "language": "python",
   "name": "python3"
  },
  "language_info": {
   "codemirror_mode": {
    "name": "ipython",
    "version": 3
   },
   "file_extension": ".py",
   "mimetype": "text/x-python",
   "name": "python",
   "nbconvert_exporter": "python",
   "pygments_lexer": "ipython3",
   "version": "3.7.1"
  }
 },
 "nbformat": 4,
 "nbformat_minor": 2
}
