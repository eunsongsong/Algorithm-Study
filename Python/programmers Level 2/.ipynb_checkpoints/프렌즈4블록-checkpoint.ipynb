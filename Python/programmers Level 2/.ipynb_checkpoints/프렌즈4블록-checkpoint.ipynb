{
 "cells": [
  {
   "cell_type": "markdown",
   "metadata": {},
   "source": [
    "### >> 문제: programmers L2 [프렌즈4블록](https://programmers.co.kr/learn/courses/30/lessons/17679)\n",
    "<br>\n",
    "같은 모양의 카카오프렌즈 블록이 2×2 형태로 4개가 붙어있을 경우 사라지면서 점수를 얻는 게임이다.  \n",
    "<br>\n",
    "<img src=\"http://t1.kakaocdn.net/welcome2018/pang1.png\" align=\"left\" width=\"25%\" title=\"1. [출처: https://programmers.co.kr/learn/challenges]\"/><img src=\"http://t1.kakaocdn.net/welcome2018/pang2.png\" align=\"left\" width=\"25%\" title=\"2. [출처: https://programmers.co.kr/learn/challenges]\"/><img src=\"http://t1.kakaocdn.net/welcome2018/pang3.png\" align=\"left\" width=\"25%\" title=\"3. [출처: https://programmers.co.kr/learn/challenges]\"/><br><br><br><br><br><br><br><br><br><br><br><br><br><br>\n",
    "\n",
    "1. 만약 판이 위와 같이 주어질 경우, 라이언이 2×2로 배치된 7개 블록과 콘이 2×2로 배치된 4개 블록이 지워진다.  \n",
    "같은 블록은 여러 2×2에 포함될 수 있으며, 지워지는 조건에 만족하는 2×2 모양이 여러 개 있다면 한꺼번에 지워진다.\n",
    "2. 블록이 지워진 후에 위에 있는 블록이 아래로 떨어져 빈 공간을 채우게 된다.  \n",
    "3. 만약 빈 공간을 채운 후에 다시 2×2 형태로 같은 모양의 블록이 모이면 다시 지워지고 떨어지고를 반복하게 된다.  \n",
    "\n",
    "위 초기 배치를 문자로 표시하면 아래와 같다.  \n",
    "각 문자는 라이언(R), 무지(M), 어피치(A), 프로도(F), 네오(N), 튜브(T), 제이지(J), 콘(C)을 의미한다.  \n",
    "\n",
    "T T T A N T  \n",
    "R R F A C C  \n",
    "R R R F C C  \n",
    "T R R R A A  \n",
    "T T M M M F  \n",
    "T M M T T J  \n",
    "\n",
    "입력으로 블록의 첫 배치가 주어졌을 때, 지워지는 블록은 모두 몇 개인지 판단하는 프로그램을 제작하라.\n",
    "\n",
    "[입력 형식]  \n",
    "* 입력으로 판의 높이 m, 폭 n과 판의 배치 정보 board가 들어온다.\n",
    "* 2 ≦ n, m ≦ 30\n",
    "* board는 길이 n인 문자열 m개의 배열로 주어진다. 블록을 나타내는 문자는 대문자 A에서 Z가 사용된다.\n",
    "\n",
    "[출력 형식]  \n",
    "* 입력으로 주어진 판 정보를 가지고 몇 개의 블록이 지워질지 출력하라.\n",
    "\n",
    "*출처: 프로그래머스 코딩 테스트 연습, https://programmers.co.kr/learn/challenges*"
   ]
  },
  {
   "cell_type": "markdown",
   "metadata": {},
   "source": [
    "### >> 풀이"
   ]
  },
  {
   "cell_type": "code",
   "execution_count": 1,
   "metadata": {},
   "outputs": [
    {
     "name": "stdout",
     "output_type": "stream",
     "text": [
      "15  >> 15\n",
      "14  >> 14\n"
     ]
    }
   ],
   "source": [
    "def solution(m, n, board):\n",
    "    answer = 0\n",
    "    board = [list(row) for row in board] # board를 리스트로 변환\n",
    "    \n",
    "    # board의 전치행렬 board_t\n",
    "    board_t = [[] for i in range(len(board[0]))]\n",
    "    for i in range(len(board)):\n",
    "        for j in range(len(board[0])):\n",
    "            board_t[j].append(board[i][j])\n",
    "            \n",
    "    temp = [\"#\"] \n",
    "    while temp:\n",
    "        temp = []\n",
    "        for i in range(len(board_t)-1):\n",
    "            for j in range(len(board_t[0])-1):\n",
    "                if square(i,j,board_t):\n",
    "                    temp += square(i,j,board_t)\n",
    "        board_t = drop(sorted(list(set(temp))),board_t)\n",
    "        answer += len(set(temp)) \n",
    "    return answer\n",
    "\n",
    "# 같은 모양이 2x2 형태로 붙어있는지 확인하는 함수\n",
    "def square(x, y, board):\n",
    "    if board[x][y]!=\"#\" and board[x][y]==board[x][y+1] and board[x][y]==board[x+1][y] and board[x][y]==board[x+1][y+1]:\n",
    "        return (x,y),(x,y+1),(x+1,y),(x+1,y+1) # 같은 모양이 2x2로 붙어있는 좌료를 반환\n",
    "    return False\n",
    "\n",
    "# 블록을 지운 후 아래로 떨어뜨리는 함수\n",
    "def drop(set_xy, board):\n",
    "    for i,j in set_xy: # set_xy는 지울 수 있는 모든 블록의 좌표\n",
    "        board[i] = [\"#\"] + board[i][:j] + board[i][j+1:] # \"#\"은 빈 공간\n",
    "    return board\n",
    "\n",
    "print(solution(6,6,[\"TTTANT\", \"RRFACC\", \"RRRFCC\", \"TRRRAA\", \"TTMMMF\", \"TMMTTJ\"]), \" >> 15\")\n",
    "print(solution(4,5,[\"CCBDE\", \"AAADE\", \"AAABF\", \"CCBBF\"]), \" >> 14\")"
   ]
  }
 ],
 "metadata": {
  "kernelspec": {
   "display_name": "Python 3",
   "language": "python",
   "name": "python3"
  },
  "language_info": {
   "codemirror_mode": {
    "name": "ipython",
    "version": 3
   },
   "file_extension": ".py",
   "mimetype": "text/x-python",
   "name": "python",
   "nbconvert_exporter": "python",
   "pygments_lexer": "ipython3",
   "version": "3.7.1"
  }
 },
 "nbformat": 4,
 "nbformat_minor": 2
}
