{
 "cells": [
  {
   "cell_type": "markdown",
   "metadata": {},
   "source": [
    "### >> 문제: programmers L2 [멀쩡한 사각형](https://programmers.co.kr/learn/courses/30/lessons/62048)\n",
    "\n",
    "<img src=\"https://grepp-programmers.s3.amazonaws.com/files/production/ee895b2cd9/567420db-20f4-4064-afc3-af54c4a46016.png\" title=\"[출처: https://programmers.co.kr/learn/challenges]\" width=\"30%\" height=\"30%\" align=\"right\">\n",
    "\n",
    "\n",
    "가로 길이가 Wcm, 세로 길이가 Hcm인 직사각형 종이가 있습니다.  \n",
    "종이에는 가로, 세로 방향과 평행하게 격자 형태로 선이 그어져 있으며,  \n",
    "모든 격자칸은 1cm x 1cm 크기입니다.  \n",
    "\n",
    "이 종이를 격자 선을 따라 1cm × 1cm의 정사각형으로 잘라 사용할 예정이었는데,  \n",
    "누군가가 이 종이를 대각선 꼭지점 2개를 잇는 방향으로 잘라 놓았습니다.  \n",
    "그러므로 현재 직사각형 종이는 크기가 같은 직각삼각형 2개로 나누어진 상태입니다.  \n",
    "\n",
    "새로운 종이를 구할 수 없는 상태이기 때문에,  \n",
    "이 종이에서 원래 종이의 가로, 세로 방향과 평행하게  \n",
    "1cm × 1cm로 잘라 사용할 수 있는 만큼만 사용하기로 하였습니다.  \n",
    "\n",
    "가로의 길이 W와 세로의 길이 H가 주어질 때,  \n",
    "사용할 수 있는 정사각형의 개수를 구하는 solution 함수를 완성해 주세요.\n",
    "\n",
    "* W, H : 1억 이하의 자연수\n",
    "\n",
    "*출처: 프로그래머스 코딩 테스트 연습, https://programmers.co.kr/learn/challenges*"
   ]
  },
  {
   "cell_type": "markdown",
   "metadata": {},
   "source": [
    "### >> 풀이"
   ]
  },
  {
   "cell_type": "code",
   "execution_count": 17,
   "metadata": {},
   "outputs": [
    {
     "name": "stdout",
     "output_type": "stream",
     "text": [
      "80.0  >> 80\n"
     ]
    }
   ],
   "source": [
    "def solution(w,h):\n",
    "    answer = w * h\n",
    "    \n",
    "    # 큰 값을 a, 작은 값을 b\n",
    "    a, b = max(w,h), min(w,h)\n",
    "    \n",
    "    # 유클리드 호제법으로 최대공약수(b) 구하기\n",
    "    while a % b != 0:\n",
    "        a, b = b, a % b\n",
    "    \n",
    "    w, h = w/b, h/b\n",
    "    answer -= (w + h - 1) * b\n",
    "    \n",
    "    return answer\n",
    "\n",
    "print(solution(8,12), \" >> 80\")"
   ]
  },
  {
   "cell_type": "code",
   "execution_count": 18,
   "metadata": {},
   "outputs": [
    {
     "name": "stdout",
     "output_type": "stream",
     "text": [
      "80  >> 80\n"
     ]
    }
   ],
   "source": [
    "def solution(w,h):\n",
    "    answer = w * h\n",
    "    \n",
    "    # 큰 값을 a, 작은 값을 b\n",
    "    a, b = max(w,h), min(w,h)\n",
    "    \n",
    "    \n",
    "    # 유클리드 호제법으로 최대공약수, 최소공배수 구하기\n",
    "    while a % b != 0:\n",
    "        a, b = b, a % b\n",
    "    \n",
    "    answer -= w + h - b\n",
    "    \n",
    "    return answer\n",
    "\n",
    "print(solution(8,12), \" >> 80\")"
   ]
  }
 ],
 "metadata": {
  "kernelspec": {
   "display_name": "Python 3",
   "language": "python",
   "name": "python3"
  },
  "language_info": {
   "codemirror_mode": {
    "name": "ipython",
    "version": 3
   },
   "file_extension": ".py",
   "mimetype": "text/x-python",
   "name": "python",
   "nbconvert_exporter": "python",
   "pygments_lexer": "ipython3",
   "version": "3.7.1"
  }
 },
 "nbformat": 4,
 "nbformat_minor": 2
}
