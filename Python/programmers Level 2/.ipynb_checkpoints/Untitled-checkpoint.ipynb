{
 "cells": [
  {
   "cell_type": "markdown",
   "metadata": {},
   "source": [
    "### >> 문제: programmers L2 [소수 찾기](https://programmers.co.kr/learn/courses/30/lessons/42839)\n",
    "\n",
    "한자리 숫자가 적힌 종이 조각이 흩어져있습니다.  \n",
    "흩어진 종이 조각을 붙여 소수를 몇 개 만들 수 있는지 알아내려 합니다.\n",
    "\n",
    "각 종이 조각에 적힌 숫자가 적힌 문자열 numbers가 주어졌을 때,  \n",
    "종이 조각으로 만들 수 있는 소수가 몇 개인지 return 하도록 solution 함수를 완성해주세요.\n",
    "\n",
    "* numbers는 길이 1 이상 7 이하인 문자열입니다.\n",
    "* numbers는 0~9까지 숫자만으로 이루어져 있습니다.\n",
    "* \"013\"은 0, 1, 3 숫자가 적힌 종이 조각이 흩어져있다는 의미입니다.\n",
    "\n",
    "*출처: 프로그래머스 코딩 테스트 연습, https://programmers.co.kr/learn/challenges*"
   ]
  },
  {
   "cell_type": "code",
   "execution_count": 1,
   "metadata": {},
   "outputs": [
    {
     "name": "stdout",
     "output_type": "stream",
     "text": [
      "0  >> 3\n",
      "0  >> 2\n"
     ]
    }
   ],
   "source": [
    "def solution(numbers):\n",
    "    answer = 0\n",
    "    return answer\n",
    "\n",
    "print(solution(\"17\"), \" >> 3\")\n",
    "print(solution(\"011\"), \" >> 2\")"
   ]
  }
 ],
 "metadata": {
  "kernelspec": {
   "display_name": "Python 3",
   "language": "python",
   "name": "python3"
  },
  "language_info": {
   "codemirror_mode": {
    "name": "ipython",
    "version": 3
   },
   "file_extension": ".py",
   "mimetype": "text/x-python",
   "name": "python",
   "nbconvert_exporter": "python",
   "pygments_lexer": "ipython3",
   "version": "3.7.1"
  }
 },
 "nbformat": 4,
 "nbformat_minor": 2
}
