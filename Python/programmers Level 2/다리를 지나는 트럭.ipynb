{
 "cells": [
  {
   "cell_type": "markdown",
   "metadata": {},
   "source": [
    "### >> 문제: programmers L2 [다리를 지나는 트럭](https://programmers.co.kr/learn/courses/30/lessons/42583)\n",
    "\n",
    "트럭 여러 대가 강을 가로지르는 일 차선 다리를 정해진 순으로 건너려 합니다.  \n",
    "모든 트럭이 다리를 건너려면 최소 몇 초가 걸리는지 알아내야 합니다.  \n",
    "\n",
    "트럭은 1초에 1만큼 움직이며, 다리 길이는 bridge_length이고 다리는 무게 weight까지 견딥니다.  \n",
    "※ 트럭이 다리에 완전히 오르지 않은 경우, 이 트럭의 무게는 고려하지 않습니다.  \n",
    "\n",
    "예를 들어, 길이가 2이고 10kg 무게를 견디는 다리가 있습니다.  \n",
    "무게가 [7, 4, 5, 6]kg인 트럭이 순서대로 최단 시간 안에 다리를 건너려면 다음과 같이 건너야 합니다.  \n",
    "\n",
    "|경과 시간|\t다리를 지난 트럭|\t다리를 건너는 트럭\t|대기 트럭|\n",
    "|:-:|:-:|:-:|:-:|\n",
    "|0|\t[]\t|[]\t|[7,4,5,6]|\n",
    "|1~2\t|[]\t|[7]|\t[4,5,6]|\n",
    "|3|\t[7]|\t[4]|\t[5,6]|\n",
    "|4\t|[7]\t|[4,5]\t|[6]|\n",
    "|5\t|[7,4]\t|[5]\t|[6]|\n",
    "|6~7|\t[7,4,5]\t|[6]|\t[]|\n",
    "|8|\t[7,4,5,6]\t|[]|\t[]|  \n",
    "\n",
    "따라서, 모든 트럭이 다리를 지나려면 최소 8초가 걸립니다.  \n",
    "\n",
    "solution 함수의 매개변수로 다리 길이 bridge_length,  \n",
    "다리가 견딜 수 있는 무게 weight, 트럭별 무게 truck_weights가 주어집니다.  \n",
    "이때 모든 트럭이 다리를 건너려면 최소 몇 초가 걸리는지 return 하도록 solution 함수를 완성하세요.  \n",
    "\n",
    "- bridge_length는 1 이상 10,000 이하입니다.\n",
    "- weight는 1 이상 10,000 이하입니다.\n",
    "- truck_weights의 길이는 1 이상 10,000 이하입니다.\n",
    "- 모든 트럭의 무게는 1 이상 weight 이하입니다.\n",
    "\n",
    "*출처: 프로그래머스 코딩 테스트 연습, https://programmers.co.kr/learn/challenges*"
   ]
  },
  {
   "cell_type": "markdown",
   "metadata": {},
   "source": [
    "### >> 오답노트(테스트케이스5:시간초과, 정확성: 92.9, 합계: 92.9 / 100.0)"
   ]
  },
  {
   "cell_type": "code",
   "execution_count": 1,
   "metadata": {},
   "outputs": [
    {
     "name": "stdout",
     "output_type": "stream",
     "text": [
      "8  >> 8\n",
      "101  >> 101\n",
      "110  >> 110\n"
     ]
    }
   ],
   "source": [
    "def solution(bridge_length, weight, truck_weights):\n",
    "    answer = bridge_length # 마지막에 올라간 트럭이 다리를 지나는데 걸리는 시간을 더해줌\n",
    "    truck_on_bridge = [0 for i in range(bridge_length)] # 다리 위에 있는 트럭의 위치를 저장\n",
    "    \n",
    "    while truck_weights: # 모든 트럭이 다리를 건너면 반복문 종료\n",
    "        answer += 1 # 시간을 +1초\n",
    "        truck_on_bridge.pop(0) # 다리가 끝나는 지점에 있는 트럭을 다리에서 내려준다\n",
    "        \n",
    "        # 다리 위에 있는 트럭의 무게와 대기중인 첫 번째 트럭의 무게가 weight보다 작으면\n",
    "        if sum(truck_on_bridge) + truck_weights[0] <= weight:\n",
    "            truck_on_bridge.append(truck_weights.pop(0)) # 대기중인 첫 번째 트럭을 다리에 위에 올린다\n",
    "        else: # 다리 위에 있는 트럭의 무게와 대기중인 첫 번째 트럭의 무게가 weight보다 크면\n",
    "            truck_on_bridge.append(0) # 무게가 0인 트럭을 올린다\n",
    "    \n",
    "    return answer\n",
    "\n",
    "print(solution(2,10,[7,4,5,6]),\" >> 8\")\n",
    "print(solution(100,100,[10]),\" >> 101\")\n",
    "print(solution(100,100,[10,10,10,10,10,10,10,10,10,10]),\" >> 110\")"
   ]
  },
  {
   "cell_type": "markdown",
   "metadata": {},
   "source": [
    "### >> 풀이(정확성: 100.0, 합계: 100.0 / 100.0)\n",
    "반복문을 실행할 때마다 sum(truck_on_bridge)연산이 실행되므로  \n",
    "sum(truck_on_bridge)한 결과를 담은 bridge_weigth 변수로 대체한다"
   ]
  },
  {
   "cell_type": "code",
   "execution_count": 2,
   "metadata": {},
   "outputs": [
    {
     "name": "stdout",
     "output_type": "stream",
     "text": [
      "8  >> 8\n",
      "101  >> 101\n",
      "110  >> 110\n"
     ]
    }
   ],
   "source": [
    "def solution(bridge_length, weight, truck_weights):\n",
    "    answer = bridge_length \n",
    "    truck_on_bridge = [0 for i in range(bridge_length)] \n",
    "    bridge_weight = 0 # 다리 위에 있는 트럭의 무게\n",
    "    \n",
    "    while truck_weights:\n",
    "        answer += 1 \n",
    "        # 다리가 끝나는 지점에 있는 트럭의 무게를 다리 위에 있는 트럭의 무게에거 뺀다\n",
    "        bridge_weight -= truck_on_bridge.pop(0) \n",
    "        \n",
    "        # 다리 위에 있는 트럭의 무게와 대기중인 첫 번째 트럭의 무게 합이 weight 보다 작으면\n",
    "        if bridge_weight + truck_weights[0] <= weight:\n",
    "            bridge_weight += truck_weights[0] # 대기중인 첫 번째 트럭을 다리 위의 트럭의 무게에 더하고\n",
    "            truck_on_bridge.append(truck_weights.pop(0)) # 대기중인 첫 번째 트럭을 다리 위에 올린다\n",
    "        else: \n",
    "            truck_on_bridge.append(0) \n",
    "            \n",
    "    return answer \n",
    "\n",
    "print(solution(2,10,[7,4,5,6]),\" >> 8\")\n",
    "print(solution(100,100,[10]),\" >> 101\")\n",
    "print(solution(100,100,[10,10,10,10,10,10,10,10,10,10]),\" >> 110\")"
   ]
  }
 ],
 "metadata": {
  "kernelspec": {
   "display_name": "Python 3",
   "language": "python",
   "name": "python3"
  },
  "language_info": {
   "codemirror_mode": {
    "name": "ipython",
    "version": 3
   },
   "file_extension": ".py",
   "mimetype": "text/x-python",
   "name": "python",
   "nbconvert_exporter": "python",
   "pygments_lexer": "ipython3",
   "version": "3.7.1"
  }
 },
 "nbformat": 4,
 "nbformat_minor": 2
}
