{
 "cells": [
  {
   "cell_type": "markdown",
   "metadata": {},
   "source": [
    "### >> 문제: programmers L2 [더 맵게](https://programmers.co.kr/learn/courses/30/lessons/42626)\n",
    "\n",
    "매운 것을 좋아하는 Leo는 모든 음식의 스코빌 지수를 K 이상으로 만들고 싶습니다.  \n",
    "모든 음식의 스코빌 지수를 K 이상으로 만들기 위해 Leo는  \n",
    "스코빌 지수가 가장 낮은 두 개의 음식을 아래와 같이 특별한 방법으로 섞어 새로운 음식을 만듭니다.  \n",
    "\n",
    "**섞은 음식의 스코빌 지수 = 가장 맵지 않은 음식의 스코빌 지수 + (두 번째로 맵지 않은 음식의 스코빌 지수 * 2)**\n",
    "\n",
    "Leo는 모든 음식의 스코빌 지수가 K 이상이 될 때까지 반복하여 섞습니다.  \n",
    "Leo가 가진 음식의 스코빌 지수를 담은 배열 scoville과 원하는 스코빌 지수 K가 주어질 때,  \n",
    "모든 음식의 스코빌 지수를 K 이상으로 만들기 위해 섞어야 하는 최소 횟수를 return 하도록 solution 함수를 작성해주세요.  \n",
    "\n",
    "- scoville의 길이는 2 이상 1,000,000 이하입니다.\n",
    "- K는 0 이상 1,000,000,000 이하입니다.\n",
    "- scoville의 원소는 각각 0 이상 1,000,000 이하입니다.\n",
    "- **모든 음식의 스코빌 지수를 K 이상으로 만들 수 없는 경우에는 -1을 return **합니다.\n",
    "\n",
    "*출처: 프로그래머스 코딩 테스트 연습, https://programmers.co.kr/learn/challenges*"
   ]
  },
  {
   "cell_type": "markdown",
   "metadata": {},
   "source": [
    "### >> 풀이"
   ]
  },
  {
   "cell_type": "code",
   "execution_count": 1,
   "metadata": {},
   "outputs": [
    {
     "name": "stdout",
     "output_type": "stream",
     "text": [
      "2  >> 2\n"
     ]
    }
   ],
   "source": [
    "import heapq\n",
    "\n",
    "def solution(scoville, K):\n",
    "    answer = 0\n",
    "    \n",
    "    heapq.heapify(scoville) # 최솟값을 빠르게 찾기 위해 힙으로 정렬\n",
    "    while True:\n",
    "        min_1 = heapq.heappop(scoville) # 최솟갑\n",
    "        if min_1 >= K: # 최솟값이 K 이상이면 종료\n",
    "            break\n",
    "        elif len(scoville) == 0: # 최솟값이 K 미만이고 scoville에 남은 원소가 없으면\n",
    "            return -1 # -1을 리턴\n",
    "        else: # 섞은 음식의 스코빌 지수를 힙으로 push한다\n",
    "            min_2 = heapq.heappop(scoville)\n",
    "            heapq.heappush(scoville, (min_1 + (min_2 * 2)))\n",
    "            answer += 1\n",
    "            \n",
    "    return answer\n",
    "\n",
    "print(solution([1, 2, 3, 9, 10, 12], 7), \" >> 2\")"
   ]
  }
 ],
 "metadata": {
  "kernelspec": {
   "display_name": "Python 3",
   "language": "python",
   "name": "python3"
  },
  "language_info": {
   "codemirror_mode": {
    "name": "ipython",
    "version": 3
   },
   "file_extension": ".py",
   "mimetype": "text/x-python",
   "name": "python",
   "nbconvert_exporter": "python",
   "pygments_lexer": "ipython3",
   "version": "3.7.1"
  }
 },
 "nbformat": 4,
 "nbformat_minor": 2
}
