{
 "cells": [
  {
   "cell_type": "markdown",
   "metadata": {},
   "source": [
    "### >> 문제: programmers L2 [조이스틱](https://programmers.co.kr/learn/courses/30/lessons/42860)\n",
    "\n",
    "조이스틱으로 알파벳 이름을 완성하세요. 맨 처음엔 A로만 이루어져 있습니다.  \n",
    "ex) 완성해야 하는 이름이 세 글자면 AAA, 네 글자면 AAAA\n",
    "\n",
    "조이스틱을 각 방향으로 움직이면 아래와 같습니다.  \n",
    "\n",
    "▲ - 다음 알파벳  \n",
    "▼ - 이전 알파벳 **(A에서 아래쪽으로 이동하면 Z로)**  \n",
    "◀ - 커서를 왼쪽으로 이동 **(첫 번째 위치에서 왼쪽으로 이동하면 마지막 문자에 커서)**  \n",
    "▶ - 커서를 오른쪽으로 이동  \n",
    "\n",
    "예를 들어 아래의 방법으로 JAZ를 만들 수 있습니다.  \n",
    "\n",
    "- 첫 번째 위치에서 조이스틱을 위로 9번 조작하여 J를 완성합니다.  \n",
    "- 조이스틱을 왼쪽으로 1번 조작하여 커서를 마지막 문자 위치로 이동시킵니다.  \n",
    "- 마지막 위치에서 조이스틱을 아래로 1번 조작하여 Z를 완성합니다.  \n",
    "- 따라서 11번 이동시켜 \"JAZ\"를 만들 수 있고, 이때가 최소 이동입니다.\n",
    "\n",
    "만들고자 하는 이름 name이 매개변수로 주어질 때,  \n",
    "이름에 대해 조이스틱 조작 횟수의 **최솟값**을 return 하도록 solution 함수를 만드세요.\n",
    "\n",
    "* name은 알파벳 대문자로만 이루어져 있습니다.\n",
    "* name의 길이는 1 이상 20 이하입니다.\n",
    "\n",
    "*출처: 프로그래머스 코딩 테스트 연습, https://programmers.co.kr/learn/challenges*"
   ]
  },
  {
   "cell_type": "markdown",
   "metadata": {},
   "source": [
    "### >> 오답노트"
   ]
  },
  {
   "cell_type": "markdown",
   "metadata": {},
   "source": [
    "\"ABABAAAAAAABA\"와 같이 문자열의 마지막 문자가 \"A\"인 경우를 처리하지 못함"
   ]
  },
  {
   "cell_type": "code",
   "execution_count": 167,
   "metadata": {},
   "outputs": [
    {
     "name": "stdout",
     "output_type": "stream",
     "text": [
      "56  >> 56\n",
      "[[1, 1]]\n",
      "23  >> 23\n",
      "[[2, 2]]\n",
      "8  >> 8\n"
     ]
    }
   ],
   "source": [
    "def solution(name):\n",
    "    answer = len(name)-1 # 한 방향으로 커서만 한번씩 이동했을 때\n",
    "    \n",
    "    # 조이스틱을 위/아래로 움직여 이동한 경우\n",
    "    for i in name:\n",
    "        up_down = ord(i)-ord(\"A\") # 맞추려는 문자와 \"A\" 사이의 거리\n",
    "        if up_down < 13: # 알파벳을 26개 이므로 \"A\"와 거리가 13보다 작으면\n",
    "            answer += up_down # 조이스틱을 위로 움직인다\n",
    "        else: # \"A\"와의 거리가 13보다 같거나 크면 \n",
    "            answer += 26 - up_down # 조리스틱을 아래로 움직인다\n",
    "    \n",
    "    count = 0 # 연속된 A의 길이\n",
    "    A_info = [] # 연속된 A의 위치와 길이를 담을 리스트\n",
    "    if name[1:].find(\"A\") != -1:\n",
    "        for a in range(1,len(name)):\n",
    "            if name[a] == \"A\": # 연속된 \"A\"의 길이를 count+1\n",
    "                count += 1\n",
    "                if name[a-1] != \"A\": # \"A\"의 시작 위치를 저장\n",
    "                    A_info.append([a])\n",
    "            elif name[a] != \"A\" and name[a-1] == \"A\": # 연속된 \"A\"가 끝나면\n",
    "                A_info[-1].append(count) # 연속된 \"A\"의 길이를 저장하고\n",
    "                count = 0 # 연속된 \"A\"의 길이 초기화\n",
    "        print(A_info)\n",
    "        longest = max(A_info, key=lambda x:x[1]) # 가장 긴 \"A\"의 정보를 담는다[위치,길이]\n",
    "        if longest[0]-1 < longest[1]: # \"A\"의 길이가 \"A\"가 시작하는 위치보다 길면\n",
    "            answer -= longest[1]-(longest[0]-1) # 왔던 길을 되돌아간다\n",
    "            \n",
    "    return answer\n",
    "\n",
    "print(solution(\"JEROEN\"),\" >> 56\")\n",
    "print(solution(\"JAN\"),\" >> 23\")\n",
    "print(solution(\"BBAABB\"), \" >> 8\")\n",
    "# print(solution(\"ABABAAAAAAABA\"), \" >> 10\")"
   ]
  },
  {
   "cell_type": "markdown",
   "metadata": {},
   "source": [
    "\"A B A B A A A A A A A B A\"인 경우,  \n",
    "0 -> 12 -> 11(B) -> 12 -> 0 -> 1(B) -> 2 -> 3(B) 순으로 이동하여  \n",
    "조이스틱 조작 횟수의 최솟값이 **10**이 나와야 한다.\n",
    "\n",
    "하지만 아래 코드는 \"코드 채점\"은 통과했지만,  \n",
    "0 -> 1(B) -> 2 -> 3(B) -> 2 -> 1 -> 0 -> 12 -> 12(B) 순으로 이동하여  \n",
    "조이스틱 조작 횟수의 최솟값이 **11**이 나온다."
   ]
  },
  {
   "cell_type": "code",
   "execution_count": 168,
   "metadata": {},
   "outputs": [
    {
     "name": "stdout",
     "output_type": "stream",
     "text": [
      "56  >> 56\n",
      "[[1, 1]]\n",
      "23  >> 23\n",
      "[[2, 2]]\n",
      "8  >> 8\n",
      "[[2, 1], [4, 7], [12, 1]]\n",
      "11  >> 10\n"
     ]
    }
   ],
   "source": [
    "def solution(name):\n",
    "    answer = len(name)-1\n",
    "    \n",
    "    for i in name:\n",
    "        up_down = ord(i)-ord(\"A\")\n",
    "        if up_down < 13:\n",
    "            answer += up_down\n",
    "        else:\n",
    "            answer += 26 - up_down\n",
    "    \n",
    "    count = 0\n",
    "    A_info = []\n",
    "    if name[1:].find(\"A\") != -1:\n",
    "        for a in range(1,len(name)):\n",
    "            if name[a] == \"A\":\n",
    "                count += 1\n",
    "                if name[a-1] != \"A\":\n",
    "                    A_info.append([a])\n",
    "                if a == len(name)-1: # 문자열의 마지막 문자가 \"A\"일 때\n",
    "                    A_info[-1].append(count)\n",
    "            elif a > 1 and name[a] != \"A\" and name[a-1] == \"A\":\n",
    "                A_info[-1].append(count)\n",
    "                count = 0\n",
    "        print(A_info)\n",
    "        longest = max(A_info, key=lambda x:x[1])\n",
    "        if longest[0]-1 < longest[1]:\n",
    "            answer -= longest[1]-(longest[0]-1)\n",
    "            \n",
    "    return answer\n",
    "\n",
    "print(solution(\"JEROEN\"),\" >> 56\")\n",
    "print(solution(\"JAN\"),\" >> 23\")\n",
    "print(solution(\"BBAABB\"), \" >> 8\")\n",
    "print(solution(\"ABABAAAAAAABA\"), \" >> 10\")"
   ]
  },
  {
   "cell_type": "markdown",
   "metadata": {},
   "source": [
    "### >> 풀이"
   ]
  },
  {
   "cell_type": "code",
   "execution_count": 169,
   "metadata": {
    "scrolled": false
   },
   "outputs": [
    {
     "name": "stdout",
     "output_type": "stream",
     "text": [
      "56  >> 56\n",
      "[[1, 2, 1]]\n",
      "23  >> 23\n",
      "[[2, 4, 2]]\n",
      "8  >> 8\n",
      "[[2, 4, 2], [6, 10, 4]]\n",
      "17\n",
      "[[2, 2, 1]]\n",
      "8\n",
      "[[2, 3, 1], [4, 11, 7], [12, 12, 1]]\n",
      "10  >> 10\n"
     ]
    }
   ],
   "source": [
    "def solution(name):\n",
    "    answer = len(name)-1\n",
    "    \n",
    "    for i in name:\n",
    "        up_down = ord(i)-ord(\"A\")\n",
    "        if up_down < 13:\n",
    "            answer += up_down\n",
    "        else:\n",
    "            answer += 26 - up_down\n",
    "    \n",
    "    count = 0\n",
    "    A_info = [] # 연속된 \"A\"의 [시작 위치, 끝위치, 길이]를 담을 리스트\n",
    "    if name[1:].find(\"A\") != -1:\n",
    "        for a in range(1,len(name)):\n",
    "            if name[a] == \"A\":\n",
    "                count += 1\n",
    "                if name[a-1] != \"A\":\n",
    "                    A_info.append([a])\n",
    "            elif a > 1 and name[a] != \"A\" and name[a-1] == \"A\":\n",
    "                A_info[-1].append(a) # 연속된 \"A\"의 끝위치 저장\n",
    "                A_info[-1].append(count)\n",
    "                count = 0\n",
    "        if name[-1] == \"A\": # 문자열의 마지막 문자가 \"A\"인 경우\n",
    "            A_info[-1].append(a)\n",
    "            A_info[-1].append(count)\n",
    "        print(A_info)\n",
    "        longest = max(A_info, key=lambda x:x[2]) # 가장 긴 \"A\"의 정보를 담는다[시작위치,끝위치,길이]\n",
    "        if longest[0]-1 < longest[2]: # \"A\"의 길이가 \"A\"가 시작하는 위치보다 길면\n",
    "            if len(name)-longest[1] < longest[0]-1: # \"A\"의 시작 위치 보다 끝 위치로 이동하는 것이 더 가까우면\n",
    "                answer -= longest[2]-(len(name)-longest[1]) # 왼쪽 방향으로 먼저 이동\n",
    "            else:\n",
    "                answer -= longest[2]-(longest[0]-1) # 왔던 위치를 되돌아간다\n",
    "            \n",
    "    return answer\n",
    "\n",
    "print(solution(\"JEROEN\"),\" >> 56\")\n",
    "print(solution(\"JAN\"),\" >> 23\")\n",
    "print(solution(\"BBAABB\"), \" >> 8\")\n",
    "print(solution(\"BBAABBAAAABB\"))\n",
    "print(solution(\"DDA\"))\n",
    "print(solution(\"ABABAAAAAAABA\"), \" >> 10\")"
   ]
  }
 ],
 "metadata": {
  "kernelspec": {
   "display_name": "Python 3",
   "language": "python",
   "name": "python3"
  },
  "language_info": {
   "codemirror_mode": {
    "name": "ipython",
    "version": 3
   },
   "file_extension": ".py",
   "mimetype": "text/x-python",
   "name": "python",
   "nbconvert_exporter": "python",
   "pygments_lexer": "ipython3",
   "version": "3.7.1"
  }
 },
 "nbformat": 4,
 "nbformat_minor": 2
}
