{
 "cells": [
  {
   "cell_type": "markdown",
   "metadata": {},
   "source": [
    "### >> 문제: programmers L2 [N개의 최소공배수](https://programmers.co.kr/learn/courses/30/lessons/12953)\n",
    "\n",
    "두 수의 최소공배수(Least Common Multiple)란 입력된 두 수의 배수 중 공통이 되는 가장 작은 숫자를 의미합니다.  \n",
    "\n",
    "예를 들어 2와 7의 최소공배수는 14가 됩니다.  \n",
    "\n",
    "정의를 확장해서, n개의 수의 최소공배수는 n 개의 수들의 배수 중 공통이 되는 가장 작은 숫자가 됩니다.  \n",
    "n개의 숫자를 담은 배열 arr이 입력되었을 때 이 수들의 최소공배수를 반환하는 함수, solution을 완성해 주세요.\n",
    "\n",
    "* arr은 길이 1이상, 15이하인 배열입니다.\n",
    "* arr의 원소는 100 이하인 자연수입니다.\n",
    "\n",
    "*출처: 프로그래머스 코딩 테스트 연습, https://programmers.co.kr/learn/challenges*"
   ]
  },
  {
   "cell_type": "markdown",
   "metadata": {},
   "source": [
    "### >> 풀이\n",
    "1. 배열에 있는 수 2개를 꺼내서 최소공배수를 구한다  \n",
    "2. 1번에서 구한 최소공배수와 배열의 수 하나를 꺼내서 최소공배수를 구한다\n",
    "3. 배열의 수를 다 꺼낼 때까지 2번 반복 "
   ]
  },
  {
   "cell_type": "code",
   "execution_count": 1,
   "metadata": {},
   "outputs": [
    {
     "name": "stdout",
     "output_type": "stream",
     "text": [
      "168.0  >> 168\n",
      "6.0  >> 6\n"
     ]
    }
   ],
   "source": [
    "def solution(arr):\n",
    "    answer = arr[0] \n",
    "    \n",
    "    for i in range(1,len(arr)):\n",
    "        a, b = answer, arr[i] \n",
    "        if a < b: # a에 큰 수\n",
    "            a, b = b, a\n",
    "        while a % b != 0:\n",
    "            a, b = b, a % b # b가 최대공약수\n",
    "        answer = (answer*arr[i])/b\n",
    "        \n",
    "    return answer\n",
    "\n",
    "print(solution([2,6,8,14]), \" >> 168\")\n",
    "print(solution([1,2,3]), \" >> 6\")"
   ]
  }
 ],
 "metadata": {
  "kernelspec": {
   "display_name": "Python 3",
   "language": "python",
   "name": "python3"
  },
  "language_info": {
   "codemirror_mode": {
    "name": "ipython",
    "version": 3
   },
   "file_extension": ".py",
   "mimetype": "text/x-python",
   "name": "python",
   "nbconvert_exporter": "python",
   "pygments_lexer": "ipython3",
   "version": "3.7.1"
  }
 },
 "nbformat": 4,
 "nbformat_minor": 2
}
