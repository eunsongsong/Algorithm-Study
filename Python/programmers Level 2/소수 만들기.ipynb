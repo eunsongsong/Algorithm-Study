{
 "cells": [
  {
   "cell_type": "markdown",
   "metadata": {},
   "source": [
    "### >> 문제: programmers L2 [소수 만들기](https://programmers.co.kr/learn/courses/30/lessons/12977)\n",
    "\n",
    "주어진 숫자 중 3개의 수를 더했을 때 소수가 되는 경우의 개수를 구하려고 합니다.  \n",
    "숫자들이 들어있는 배열 nums가 매개변수로 주어질 때,  \n",
    "nums에 있는 숫자들 중 **서로 다른 3개를 골라 더했을 때 소수**가 되는 경우의 개수를  \n",
    "return 하도록 solution 함수를 완성해주세요.\n",
    "\n",
    "- nums에 들어있는 숫자의 개수는 3개 이상 50개 이하입니다.\n",
    "- nums의 각 원소는 1 이상 1,000 이하의 자연수이며, **중복된 숫자가 들어있지 않습니다**.\n",
    "\n",
    "*출처: 프로그래머스 코딩 테스트 연습, https://programmers.co.kr/learn/challenges*"
   ]
  },
  {
   "cell_type": "markdown",
   "metadata": {},
   "source": [
    "### >> 풀이"
   ]
  },
  {
   "cell_type": "code",
   "execution_count": 6,
   "metadata": {},
   "outputs": [
    {
     "name": "stdout",
     "output_type": "stream",
     "text": [
      "1  >> 1\n",
      "4  >> 4\n"
     ]
    }
   ],
   "source": [
    "from itertools import combinations\n",
    "\n",
    "def solution(nums):\n",
    "    answer = 0\n",
    "    for i in map(sum, combinations(nums,3)): # 3개의 수를 더한 값을 탐색\n",
    "        if isPrime(i):\n",
    "            answer += 1\n",
    "    return answer\n",
    "        \n",
    "# 소수를 판별하는 함수\n",
    "def isPrime(n):\n",
    "    for i in range(2,n):\n",
    "        if n % i == 0:\n",
    "            return False\n",
    "    return True\n",
    "\n",
    "print(solution([1,2,3,4]),\" >> 1\")\n",
    "print(solution([1,2,7,6,4]),\" >> 4\")"
   ]
  }
 ],
 "metadata": {
  "kernelspec": {
   "display_name": "Python 3",
   "language": "python",
   "name": "python3"
  },
  "language_info": {
   "codemirror_mode": {
    "name": "ipython",
    "version": 3
   },
   "file_extension": ".py",
   "mimetype": "text/x-python",
   "name": "python",
   "nbconvert_exporter": "python",
   "pygments_lexer": "ipython3",
   "version": "3.7.1"
  }
 },
 "nbformat": 4,
 "nbformat_minor": 2
}
