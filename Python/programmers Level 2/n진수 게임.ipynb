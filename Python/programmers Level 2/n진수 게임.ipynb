{
 "cells": [
  {
   "cell_type": "markdown",
   "metadata": {},
   "source": [
    "### >> 문제: programmers L2 [n진수 게임](https://programmers.co.kr/learn/courses/30/lessons/17687)\n",
    "\n",
    "튜브가 활동하는 코딩 동아리에서는 전통적으로 해오는 게임이 있다.  \n",
    "이 게임은 여러 사람이 둥글게 앉아서 숫자를 하나씩 차례대로 말하는 게임인데, 규칙은 다음과 같다.  \n",
    "\n",
    "숫자를 0부터 시작해서 차례대로 말한다.  \n",
    "첫 번째 사람은 0, 두 번째 사람은 1, … 열 번째 사람은 9를 말한다.  \n",
    "\n",
    "10 이상의 숫자부터는 한 자리씩 끊어서 말한다.  \n",
    "즉 열한 번째 사람은 10의 첫 자리인 1, 열두 번째 사람은 둘째 자리인 0을 말한다.  \n",
    "\n",
    "이렇게 게임을 진행할 경우,  \n",
    "\n",
    "0, 1, 2, 3, 4, 5, 6, 7, 8, 9, 1, 0, 1, 1, 1, 2, 1, 3, 1, 4, …  \n",
    "\n",
    "순으로 숫자를 말하면 된다.  \n",
    "\n",
    "한편 코딩 동아리 일원들은 컴퓨터를 다루는 사람답게 이진수로 이 게임을 진행하기도 하는데,  \n",
    "\n",
    "이 경우에는  \n",
    "\n",
    "0, 1, 1, 0, 1, 1, 1, 0, 0, 1, 0, 1, 1, 1, 0, 1, 1, 1, …  \n",
    "\n",
    "순으로 숫자를 말하면 된다.  \n",
    "\n",
    "이진수로 진행하는 게임에 익숙해져 질려가던 사람들은 좀 더 난이도를 높이기 위해  \n",
    "이진법에서 십육진법까지 모든 진법으로 게임을 진행해보기로 했다.  \n",
    "\n",
    "숫자 게임이 익숙하지 않은 튜브는 게임에 져서 벌칙을 받는 굴욕을 피하기 위해,  \n",
    "자신이 말해야 하는 숫자를 스마트폰에 미리 출력해주는 프로그램을 만들려고 한다.  \n",
    "튜브의 프로그램을 구현하라.  \n",
    "\n",
    "[입력 형식]  \n",
    "진법 n, 미리 구할 숫자의 갯수 t, 게임에 참가하는 인원 m, 튜브의 순서 p 가 주어진다.  \n",
    "* 2 ≦ n ≦ 16\n",
    "* 0 ＜ t ≦ 1000\n",
    "* 2 ≦ m ≦ 100\n",
    "* 1 ≦ p ≦ m\n",
    "\n",
    "[출력 형식]  \n",
    "튜브가 말해야 하는 숫자 t개를 공백 없이 차례대로 나타낸 문자열. 단, 10~15는 각각 대문자 A~F로 출력한다.\n",
    "\n",
    "*출처: 프로그래머스 코딩 테스트 연습, https://programmers.co.kr/learn/challenges*"
   ]
  },
  {
   "cell_type": "markdown",
   "metadata": {},
   "source": [
    "### >> 풀이"
   ]
  },
  {
   "cell_type": "code",
   "execution_count": 1,
   "metadata": {},
   "outputs": [
    {
     "name": "stdout",
     "output_type": "stream",
     "text": [
      "True 0111\n",
      "True 02468ACE11111111\n",
      "True 13579BDF01234567\n"
     ]
    }
   ],
   "source": [
    "# 진법 n, 미리 구할 숫자의 갯수 t, 게임에 참가하는 인원 m, 튜브의 순서 p\n",
    "def solution(n, t, m, p): \n",
    "    answer = ''\n",
    "    \n",
    "    i, temp = 1, ['0']\n",
    "    while len(temp) < (t)*m:\n",
    "        temp += transformation(i, n)\n",
    "        i += 1\n",
    "    \n",
    "    for i in range(t):\n",
    "        answer += temp[p-1]\n",
    "        p += m\n",
    "        \n",
    "    return answer\n",
    "\n",
    "# 10진수 num을 n진수로 변환하는 함수\n",
    "def transformation(num, n): \n",
    "    answer = []\n",
    "    temp = ['0', '1', '2', '3', '4', '5', '6', '7', '8', '9', 'A', 'B', 'C', 'D', 'E', 'F']\n",
    "    while num != 0:\n",
    "        r = num % n\n",
    "        num //= n\n",
    "        answer.insert(0, temp[r])\n",
    "    return answer\n",
    "\n",
    "print(solution(2,4,2,1) == \"0111\", solution(2,4,2,1))\n",
    "print(solution(16,16,2,1) == \"02468ACE11111111\", solution(16,16,2,1))\n",
    "print(solution(16,16,2,2) == \"13579BDF01234567\", solution(16,16,2,2))"
   ]
  }
 ],
 "metadata": {
  "kernelspec": {
   "display_name": "Python 3",
   "language": "python",
   "name": "python3"
  },
  "language_info": {
   "codemirror_mode": {
    "name": "ipython",
    "version": 3
   },
   "file_extension": ".py",
   "mimetype": "text/x-python",
   "name": "python",
   "nbconvert_exporter": "python",
   "pygments_lexer": "ipython3",
   "version": "3.7.1"
  }
 },
 "nbformat": 4,
 "nbformat_minor": 2
}
