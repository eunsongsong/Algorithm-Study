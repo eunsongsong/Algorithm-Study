{
 "cells": [
  {
   "cell_type": "markdown",
   "metadata": {},
   "source": [
    "### >> 문제: programmers L2 [가장 큰 수](https://programmers.co.kr/learn/courses/30/lessons/42746)\n",
    "\n",
    "\n",
    "0 또는 양의 정수가 주어졌을 때, 정수를 이어 붙여 만들 수 있는 가장 큰 수를 알아내 주세요. \n",
    "\n",
    "예를 들어, 주어진 정수가 [6, 10, 2]라면 [6102, 6210, 1062, 1026, 2610, 2106]를 만들 수 있고,  \n",
    "이중 가장 큰 수는 6210입니다.\n",
    "\n",
    "0 또는 양의 정수가 담긴 배열 numbers가 매개변수로 주어질 때,  \n",
    "순서를 재배치하여 만들 수 있는 가장 큰 수를 문자열로 바꾸어 return 하도록 solution 함수를 작성해주세요.  \n",
    "\n",
    "* numbers의 길이는 1 이상 100,000 이하입니다.\n",
    "* numbers의 원소는 0 이상 1,000 이하입니다.\n",
    "* 정답이 너무 클 수 있으니 문자열로 바꾸어 return 합니다.\n",
    "\n",
    "*출처: 프로그래머스 코딩 테스트 연습, https://programmers.co.kr/learn/challenges*"
   ]
  },
  {
   "cell_type": "markdown",
   "metadata": {},
   "source": [
    "### >> 오답노트"
   ]
  },
  {
   "cell_type": "markdown",
   "metadata": {},
   "source": [
    "시간초과"
   ]
  },
  {
   "cell_type": "code",
   "execution_count": 1,
   "metadata": {},
   "outputs": [
    {
     "name": "stdout",
     "output_type": "stream",
     "text": [
      "6210  >> 6210\n",
      "9534330  >> 9534330\n"
     ]
    }
   ],
   "source": [
    "from itertools import permutations\n",
    "\n",
    "def solution(numbers):\n",
    "    \n",
    "    # 리스트 원소로 str 타입으로 바꾼 후, 모든 순열을 구해서 최댓값을 찾는다\n",
    "    numbers = list(map(''.join, permutations(map(str, numbers))))\n",
    "    return max(numbers)\n",
    "\n",
    "print(solution([6, 10, 2]),\" >> 6210\")\n",
    "print(solution([3, 30, 34, 5, 9]), \" >> 9534330\")"
   ]
  },
  {
   "cell_type": "markdown",
   "metadata": {},
   "source": [
    "[0,0,0,0]인 경우 결과는 \"0000\"이 아니라 \"0\"이 나와야 한다!"
   ]
  },
  {
   "cell_type": "code",
   "execution_count": 2,
   "metadata": {},
   "outputs": [
    {
     "name": "stdout",
     "output_type": "stream",
     "text": [
      "6210  >> 6210\n",
      "9534330  >> 9534330\n",
      "0000  >> 0\n"
     ]
    }
   ],
   "source": [
    "def solution(numbers):\n",
    "    # numbers의 원소를 str타입으로 바꾸고, \n",
    "    # numbers의 원소는 1000이하 이므로 3자리 수까지 맞추어 정렬한다\n",
    "    return ''.join(sorted(map(str, numbers), key=lambda x:x*3, reverse=True))\n",
    "\n",
    "print(solution([6, 10, 2]),\" >> 6210\")\n",
    "print(solution([3, 30, 34, 5, 9]), \" >> 9534330\")\n",
    "print(solution([0,0,0,0]), \" >> 0\")"
   ]
  },
  {
   "cell_type": "markdown",
   "metadata": {},
   "source": [
    "### >> 풀이"
   ]
  },
  {
   "cell_type": "code",
   "execution_count": 3,
   "metadata": {},
   "outputs": [
    {
     "name": "stdout",
     "output_type": "stream",
     "text": [
      "6210  >> 6210\n",
      "9534330  >> 9534330\n",
      "0  >> 0\n"
     ]
    }
   ],
   "source": [
    "def solution(numbers):\n",
    "    # numbers의 원소를 str타입으로 바꾸고, \n",
    "    # numbers의 원소는 1000이하 이므로 3자리 수까지 맞추어 정렬한다\n",
    "    # [0,0,0,0]인 경우 결과는 \"0000\"이 아니라 \"0\"이 나와야 한다!\n",
    "    return str(int(''.join(sorted(map(str, numbers), key=lambda x:x*3, reverse=True))))\n",
    "\n",
    "print(solution([6, 10, 2]),\" >> 6210\")\n",
    "print(solution([3, 30, 34, 5, 9]), \" >> 9534330\")\n",
    "print(solution([0,0,0,0]), \" >> 0\")"
   ]
  },
  {
   "cell_type": "markdown",
   "metadata": {},
   "source": [
    "# 정렬, lambda"
   ]
  },
  {
   "cell_type": "markdown",
   "metadata": {},
   "source": [
    "자리수를 맞추어 정렬할 수 있다"
   ]
  },
  {
   "cell_type": "code",
   "execution_count": 4,
   "metadata": {},
   "outputs": [
    {
     "name": "stdout",
     "output_type": "stream",
     "text": [
      "1 10 100 101 11 110 1101 111 1110 1111\n",
      "100 10 101 1 110 1101 1110 11 111 1111\n",
      "100 10 101 110 1101 1 1110 11 111 1111\n",
      "100 10 101 110 1101 1110 1 11 111 1111\n"
     ]
    }
   ],
   "source": [
    "numbers = [1,11,111,1111,10,100,101,110,1101,1110]\n",
    "\n",
    "print(' '.join(sorted((map(str, numbers)), key=lambda x:x*1))) # 1자리수까지 맞춤\n",
    "print(' '.join(sorted((map(str, numbers)), key=lambda x:x*2))) # 2자리수까지 맞춤\n",
    "print(' '.join(sorted((map(str, numbers)), key=lambda x:x*3))) # 3자리수까지 맞춤\n",
    "print(' '.join(sorted((map(str, numbers)), key=lambda x:x*4))) # 4자리수까지 맞춤"
   ]
  },
  {
   "cell_type": "code",
   "execution_count": 5,
   "metadata": {},
   "outputs": [
    {
     "name": "stdout",
     "output_type": "stream",
     "text": [
      "0 001 0011 01 0101 011 1 10 100 101 11 110 1101 111 1110 1111\n",
      "0 001 0011 01 0101 011 100 10 101 1 110 1101 1110 11 111 1111\n",
      "0 001 0011 01 0101 011 100 10 101 110 1101 1 1110 11 111 1111\n",
      "0 001 0011 01 0101 011 100 10 101 110 1101 1110 1 11 111 1111\n"
     ]
    }
   ],
   "source": [
    "numbers = ['0','01','001','0011','0101','011','1','11','111','1111','10','100','101','110','1101','1110']\n",
    "\n",
    "print(' '.join(sorted(numbers, key=lambda x:x*1))) # 1자리수까지 맞춤\n",
    "print(' '.join(sorted(numbers, key=lambda x:x*2))) # 2자리수까지 맞춤\n",
    "print(' '.join(sorted(numbers, key=lambda x:x*3))) # 3자리수까지 맞춤\n",
    "print(' '.join(sorted(numbers, key=lambda x:x*4))) # 4자리수까지 맞춤"
   ]
  },
  {
   "cell_type": "markdown",
   "metadata": {},
   "source": [
    "첫 번째, 두 번째, 세 번째 순으로 정렬 조건을 줄 수 있다"
   ]
  },
  {
   "cell_type": "code",
   "execution_count": 6,
   "metadata": {},
   "outputs": [
    {
     "name": "stdout",
     "output_type": "stream",
     "text": [
      "[(0, 3, 1), (0, 3, 5), (0, 1, 1), (1, 5, 5), (1, 4, 2), (1, 4, 9), (1, 3, 1), (1, 3, 9), (2, 4, 8)]\n"
     ]
    }
   ],
   "source": [
    "# 첫 번째 인자를 기준으로 오름차순 정렬 후,\n",
    "# 그 안에서 두 번째 인자를 기준으로 내림차순 정렬 후,\n",
    "# 그 안에서 세 번째 인자를 기중르오 오름차순 정렬\n",
    "a = [(1, 3, 1), (1, 3, 9), (0, 3, 5), (1, 4, 2), (1, 4, 9), (1, 5, 5), (0, 3, 1), (0, 1, 1), (2, 4, 8)] \n",
    "print(sorted(a, key = lambda x : (x[0], -x[1], x[2])))"
   ]
  },
  {
   "cell_type": "code",
   "execution_count": 7,
   "metadata": {},
   "outputs": [
    {
     "name": "stdout",
     "output_type": "stream",
     "text": [
      "[(1, 9, 2), (1, 9, 7), (1, 5, 5), (3, 7, 1), (3, 7, 5), (3, 3, 2), (5, 9, 2)]\n"
     ]
    }
   ],
   "source": [
    "# 첫 번째 인자를 기준으로 오름차순 정렬 후,\n",
    "# 그 안에서 두 번째 인자를 기준으로 내림차순 정렬 후,\n",
    "# 그 안에서 세 번째 인자를 기중르오 오름차순 정렬\n",
    "a = [(1, 9, 2), (3, 3, 2), (5, 9, 2), (1, 9, 7), (3, 7, 5), (1, 5, 5), (3, 7, 1)]\n",
    "print(sorted(a, key = lambda x : (x[0], -x[1], x[2])))"
   ]
  }
 ],
 "metadata": {
  "kernelspec": {
   "display_name": "Python 3",
   "language": "python",
   "name": "python3"
  },
  "language_info": {
   "codemirror_mode": {
    "name": "ipython",
    "version": 3
   },
   "file_extension": ".py",
   "mimetype": "text/x-python",
   "name": "python",
   "nbconvert_exporter": "python",
   "pygments_lexer": "ipython3",
   "version": "3.7.1"
  }
 },
 "nbformat": 4,
 "nbformat_minor": 2
}
