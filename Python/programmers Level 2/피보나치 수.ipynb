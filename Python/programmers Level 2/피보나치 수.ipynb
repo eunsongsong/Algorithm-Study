{
 "cells": [
  {
   "cell_type": "markdown",
   "metadata": {},
   "source": [
    "### >> 문제: programmers L2 [피보나치 수](https://programmers.co.kr/learn/courses/30/lessons/12945)\n",
    "\n",
    "피보나치 수는 F(0) = 0, F(1) = 1일 때,  \n",
    "1 이상의 n에 대하여 F(n) = F(n-1) + F(n-2) 가 적용되는 수 입니다.  \n",
    "\n",
    "예를들어 아래와 같이 이어집니다.\n",
    "```\n",
    "F(2) = F(0) + F(1) = 0 + 1 = 1\n",
    "F(3) = F(1) + F(2) = 1 + 1 = 2\n",
    "F(4) = F(2) + F(3) = 1 + 2 = 3\n",
    "F(5) = F(3) + F(4) = 2 + 3 = 5\n",
    "```\n",
    "\n",
    "2 이상의 n이 입력되었을 때,  \n",
    "n번째 피보나치 수를 **1234567으로 나눈 나머지**를 리턴하는 함수, solution을 완성해 주세요.  \n",
    "\n",
    "* n은 1이상, 100000이하인 자연수입니다.\n",
    "\n",
    "*출처: 프로그래머스 코딩 테스트 연습, https://programmers.co.kr/learn/challenges*"
   ]
  },
  {
   "cell_type": "markdown",
   "metadata": {},
   "source": [
    "### >> 풀이"
   ]
  },
  {
   "cell_type": "code",
   "execution_count": 4,
   "metadata": {},
   "outputs": [
    {
     "name": "stdout",
     "output_type": "stream",
     "text": [
      "2  >> 2\n",
      "5  >> 5\n"
     ]
    }
   ],
   "source": [
    "def solution(n):\n",
    "    fibonacci = [0,1]\n",
    "    \n",
    "    for i in range(2, n+1):\n",
    "        fibonacci.append(fibonacci[-1]+fibonacci[-2])\n",
    "    \n",
    "    return fibonacci[-1] % 1234567\n",
    "\n",
    "print(solution(3),' >> 2')\n",
    "print(solution(5),' >> 5')"
   ]
  },
  {
   "cell_type": "code",
   "execution_count": null,
   "metadata": {},
   "outputs": [],
   "source": []
  }
 ],
 "metadata": {
  "kernelspec": {
   "display_name": "Python 3",
   "language": "python",
   "name": "python3"
  },
  "language_info": {
   "codemirror_mode": {
    "name": "ipython",
    "version": 3
   },
   "file_extension": ".py",
   "mimetype": "text/x-python",
   "name": "python",
   "nbconvert_exporter": "python",
   "pygments_lexer": "ipython3",
   "version": "3.7.1"
  }
 },
 "nbformat": 4,
 "nbformat_minor": 2
}
