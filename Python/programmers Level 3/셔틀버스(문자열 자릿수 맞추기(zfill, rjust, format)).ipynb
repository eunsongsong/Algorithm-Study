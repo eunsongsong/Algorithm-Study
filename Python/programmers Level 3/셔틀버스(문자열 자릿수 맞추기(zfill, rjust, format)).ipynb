{
 "cells": [
  {
   "cell_type": "markdown",
   "metadata": {},
   "source": [
    "### >> 문제: programmers L3 [셔틀버스](https://programmers.co.kr/learn/courses/30/lessons/17678)\n",
    "\n",
    "카카오에서는 무료 셔틀버스를 운행하기 때문에 판교역에서 편하게 사무실로 올 수 있다.  \n",
    "카카오의 직원은 서로를 '크루'라고 부르는데, 아침마다 많은 크루들이 이 셔틀을 이용하여 출근한다.  \n",
    "\n",
    "이 문제에서는 편의를 위해 셔틀은 다음과 같은 규칙으로 운행한다고 가정하자.  \n",
    "\n",
    "- **셔틀은 09:00부터 총 n회 t분 간격**으로 역에 도착하며, 하나의 셔틀에는 **최대 m명의 승객이 탈 수 있다**.\n",
    "- 셔틀은 도착했을 때 도착한 순간에 대기열에 선 크루까지 포함해서 대기 순서대로 태우고 바로 출발한다.  \n",
    "예를 들어 09:00에 도착한 셔틀은 자리가 있다면 09:00에 줄을 선 크루도 탈 수 있다.  \n",
    "\n",
    "일찍 나와서 셔틀을 기다리는 것이 귀찮았던 콘은,  \n",
    "일주일간의 집요한 관찰 끝에 어떤 크루가 몇 시에 셔틀 대기열에 도착하는지 알아냈다.  \n",
    "**콘이 셔틀을 타고 사무실로 갈 수 있는 도착 시각 중 제일 늦은 시각**을 구하여라.  \n",
    "\n",
    "단, 콘은 게으르기 때문에 같은 시각에 도착한 크루 중 대기열에서 제일 뒤에 선다.  \n",
    "또한, 모든 크루는 잠을 자야 하므로 23:59에 집에 돌아간다. 따라서 어떤 크루도 다음날 셔틀을 타는 일은 없다.  \n",
    "\n",
    "[입력 형식]  \n",
    "셔틀 운행 횟수 n, 셔틀 운행 간격 t, 한 셔틀에 탈 수 있는 최대 크루 수 m,  \n",
    "크루가 대기열에 도착하는 시각을 모은 배열 timetable이 입력으로 주어진다.  \n",
    "- 0 ＜ n ≦ 10\n",
    "- 0 ＜ t ≦ 60\n",
    "- 0 ＜ m ≦ 45  \n",
    "- timetable은 최소 길이 1이고 최대 길이 2000인 배열로,  \n",
    "하루 동안 크루가 대기열에 도착하는 시각이 HH:MM 형식으로 이루어져 있다.  \n",
    "- **크루의 도착 시각 HH:MM은 00:01에서 23:59 사이**이다.  \n",
    "\n",
    "[출력 형식]  \n",
    "콘이 무사히 셔틀을 타고 사무실로 갈 수 있는 제일 늦은 도착 시각을 출력한다.  \n",
    "도착 시각은 HH:MM 형식이며, 00:00에서 23:59 사이의 값이 될 수 있다.  \n",
    "\n",
    "*출처: 프로그래머스 코딩 테스트 연습, https://programmers.co.kr/learn/challenges*"
   ]
  },
  {
   "cell_type": "markdown",
   "metadata": {},
   "source": [
    "### >> 풀이"
   ]
  },
  {
   "cell_type": "code",
   "execution_count": 1,
   "metadata": {},
   "outputs": [
    {
     "name": "stdout",
     "output_type": "stream",
     "text": [
      "09:00  >> 09:00\n",
      "09:09  >> 09:09\n",
      "08:59  >> 08:59\n",
      "00:00  >> 00:00\n",
      "09:00  >> 09:00\n",
      "18:00  >> 18:00\n"
     ]
    }
   ],
   "source": [
    "def solution(n, t, m, timetable):\n",
    "\n",
    "    bus = [9*60+(i*t) for i in range(n)] # 버스 시간표\n",
    "    timetable = [60*int(i[:2])+int(i[3:]) for i in sorted(timetable)] # timetable을 정렬\n",
    "    \n",
    "    index = 0\n",
    "    temp = [[] for i in range(n)] # timetable의 크루가 탈 수 있는 버스\n",
    "    for i in range(len(bus)):\n",
    "        while index < len(timetable):\n",
    "            if timetable[index] <= bus[i] and len(temp[i]) < m:\n",
    "                temp[i].append(timetable[index])\n",
    "                index += 1\n",
    "            else: break\n",
    "                \n",
    "    if len(temp[-1]) < m: # 마지막 버스가 만석이 아니면 마지막 버스 시간에 오면 된다\n",
    "        return str(bus[-1]//60).zfill(2)+\":\"+str(bus[-1]%60).rjust(2,'0')\n",
    "    else: # 마지막 버스가 만석이면, 마지막 버스의 m번째 크루보다 1분 일찍 오면 된다\n",
    "        return '%02d:%02d' % ((temp[-1][-1]-1)//60, (temp[-1][-1]-1)%60)\n",
    "    \n",
    "    \n",
    "print(solution(1,1,5,['08:00', '08:01', '08:02', '08:03']),' >> 09:00')\n",
    "print(solution(2,10,2,['09:10', '09:09', '08:00']),' >> 09:09')\n",
    "print(solution(2,1,2,['09:00', '09:00', '09:00', '09:00']),' >> 08:59')\n",
    "print(solution(1,1,5,['00:01', '00:01', '00:01', '00:01', '00:01']),' >> 00:00')\n",
    "print(solution(1,1,1,['23:59']),' >> 09:00')\n",
    "print(solution(10,60,45,['23:59','23:59', '23:59', '23:59', '23:59', '23:59', '23:59', '23:59', '23:59', '23:59', \n",
    "                         '23:59', '23:59', '23:59', '23:59', '23:59', '23:59']),' >> 18:00')"
   ]
  },
  {
   "cell_type": "markdown",
   "metadata": {},
   "source": [
    "# 문자열 자릿수 맞추기(zfill, rjust, format)"
   ]
  },
  {
   "cell_type": "code",
   "execution_count": 2,
   "metadata": {},
   "outputs": [
    {
     "name": "stdout",
     "output_type": "stream",
     "text": [
      "001\n",
      "00001\n",
      "10000\n",
      "0000001\n",
      "====hi====\n",
      "hi********\n",
      "********hi\n"
     ]
    }
   ],
   "source": [
    "a = '1'\n",
    "\n",
    "print(a.zfill(3))\n",
    "print(a.rjust(5,'0'))\n",
    "print(a.ljust(5,'0'))\n",
    "print('%07d' % int(a))\n",
    "print(\"{0:=^10}\".format(\"hi\"))\n",
    "print(\"{0:*<10}\".format(\"hi\"))\n",
    "print(\"{0:*>10}\".format(\"hi\"))"
   ]
  }
 ],
 "metadata": {
  "kernelspec": {
   "display_name": "Python 3",
   "language": "python",
   "name": "python3"
  },
  "language_info": {
   "codemirror_mode": {
    "name": "ipython",
    "version": 3
   },
   "file_extension": ".py",
   "mimetype": "text/x-python",
   "name": "python",
   "nbconvert_exporter": "python",
   "pygments_lexer": "ipython3",
   "version": "3.7.1"
  }
 },
 "nbformat": 4,
 "nbformat_minor": 2
}
