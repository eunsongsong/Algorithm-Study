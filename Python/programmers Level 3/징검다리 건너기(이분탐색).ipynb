{
 "cells": [
  {
   "cell_type": "markdown",
   "metadata": {},
   "source": [
    "### >> 문제: programmers L3 [징검다리 건너기](https://programmers.co.kr/learn/courses/30/lessons/64062)\n",
    "\n",
    "징검다리는 일렬로 놓여 있고 각 징검다리의 디딤돌에는 모두 숫자가 적혀 있으며  \n",
    "디딤돌의 숫자는 한 번 밟을 때마다 1씩 줄어듭니다.  \n",
    "\n",
    "디딤돌의 숫자가 0이 되면 더 이상 밟을 수 없으며 이때는 그 다음 디딤돌로 한번에 여러 칸을 건너 뛸 수 있습니다.  \n",
    "단, 다음으로 밟을 수 있는 디딤돌이 여러 개인 경우 무조건 가장 가까운 디딤돌로만 건너뛸 수 있습니다.  \n",
    "\n",
    "니니즈 친구들은 개울의 왼쪽에 있으며, 개울의 오른쪽 건너편에 도착해야 징검다리를 건넌 것으로 인정합니다.  \n",
    "니니즈 친구들은 한 번에 한 명씩 징검다리를 건너야 하며,  \n",
    "한 친구가 징검다리를 모두 건넌 후에 그 다음 친구가 건너기 시작합니다.  \n",
    "\n",
    "디딤돌에 적힌 숫자가 순서대로 담긴 배열 stones와  \n",
    "한 번에 건너뛸 수 있는 디딤돌의 최대 칸수 k가 매개변수로 주어질 때,  \n",
    "최대 몇 명까지 징검다리를 건널 수 있는지 return 하도록 solution 함수를 완성해주세요.  \n",
    "\n",
    "[제한사항]\n",
    "* 징검다리를 건너야 하는 니니즈 친구들의 수는 무제한 이라고 간주합니다.\n",
    "* stones 배열의 크기는 1 이상 200,000 이하입니다.\n",
    "* stones 배열 각 원소들의 값은 1 이상 200,000,000 이하인 자연수입니다.\n",
    "* k는 1 이상 stones의 길이 이하인 자연수입니다.\n",
    "\n",
    "<img src=\"https://grepp-programmers.s3.ap-northeast-2.amazonaws.com/files/production/4560e242-cf83-4e77-a14c-174f3831499d/step_stones_104.png\" title=\"[출처: https://programmers.co.kr/learn/courses/30/lessons/43105]\">\n",
    "<img src=\"https://grepp-programmers.s3.ap-northeast-2.amazonaws.com/files/production/d64f29ac-3e35-4fd3-91fa-4d70e3b6c80a/step_stones_101.png\" title=\"[출처: https://programmers.co.kr/learn/courses/30/lessons/43105]\">\n",
    "<img src=\"https://grepp-programmers.s3.ap-northeast-2.amazonaws.com/files/production/369bc8a1-7017-4135-a499-505247ab9cfc/step_stones_102.png\" title=\"[출처: https://programmers.co.kr/learn/courses/30/lessons/43105]\">\n",
    "<img src=\"https://grepp-programmers.s3.ap-northeast-2.amazonaws.com/files/production/e44e0a83-e637-48ad-858c-4c135c3b078f/step_stones_103.png\" title=\"[출처: https://programmers.co.kr/learn/courses/30/lessons/43105]\">\n",
    "\n",
    "*출처: 프로그래머스 코딩 테스트 연습, https://programmers.co.kr/learn/challenges*"
   ]
  },
  {
   "cell_type": "markdown",
   "metadata": {},
   "source": [
    "### >> 오답노트(효율성)"
   ]
  },
  {
   "cell_type": "markdown",
   "metadata": {},
   "source": [
    "징검다리를 k개씩 끊어서 k개가 모두 0이 되는 것을 찾는다"
   ]
  },
  {
   "cell_type": "code",
   "execution_count": 1,
   "metadata": {},
   "outputs": [
    {
     "name": "stdout",
     "output_type": "stream",
     "text": [
      "[2, 4, 5]\n",
      "[4, 5, 3]\n",
      "[5, 3, 2]\n",
      "[3, 2, 1]\n",
      "[2, 1, 4]\n",
      "[1, 4, 2]\n",
      "[4, 2, 5]\n",
      "[2, 5, 1]\n",
      "3  >> 3\n"
     ]
    }
   ],
   "source": [
    "def solution(stones, k):\n",
    "    answer = 200000000\n",
    "   \n",
    "    for i in range(len(stones)-k+1):\n",
    "        print(stones[i:i+k])\n",
    "        temp = max(stones[i:i+k])\n",
    "        if answer > temp:\n",
    "            answer = temp\n",
    "    \n",
    "    return answer\n",
    "\n",
    "print(solution([2, 4, 5, 3, 2, 1, 4, 2, 5, 1],3), \" >> 3\")"
   ]
  },
  {
   "cell_type": "markdown",
   "metadata": {},
   "source": [
    "### >> 풀이(이분탐색)"
   ]
  },
  {
   "cell_type": "markdown",
   "metadata": {},
   "source": [
    "#### [효율성 해설](https://tech.kakao.com/2020/04/01/2019-internship-test/)\n",
    "\n",
    "연속된 K개의 디딤돌에 적힌 숫자가 모두 0인 구간이 있으면 더 이상 징검다리를 건널 수 없으며,  \n",
    "이를 이용해 **이분 탐색**하면 문제를 해결할 수 있습니다.  \n",
    "\n",
    "먼저 M번째 친구가 징검다리를 건널 수 있는지 확인하기 위해  \n",
    "M – 1 번째 친구까지 징검다리를 건넌 상황을 구합니다.  \n",
    "이때, M – 1번째 친구까지는 K값에 관계없이 모두 징검다리를 건넜다고 가정합니다.  \n",
    "\n",
    "따라서, 징검다리에 적힌 숫자가 M보다 작다면 숫자가 0이 됐다고 표시해주면 됩니다.  \n",
    "이제 M번째 친구가 징검다리를 건널 수 있는지 확인하기 위해  \n",
    "징검다리에서 0이 연속으로 K개가 나오는 구간이 있는지 확인합니다.  \n",
    "\n",
    "* **0이 연속으로 K개가 나오는 구간이 있는 경우 : M번째 친구는 징검다리를 건널 수 없습니다**.  \n",
    "또한, M번째 친구보다 뒤에 건너는 친구들은 모두 징검다리를 건널 수 없습니다.  \n",
    "따라서 찾아야 하는 답은 0 이상 M – 1 이하인 정수 중 하나입니다.  \n",
    "* **0이 연속으로 K개가 나오는 구간이 없는 경우 : M번째 친구는 징검다리를 건널 수 있습니다**.  \n",
    "이 경우 첫 번째 ~ M – 1 번째 친구들은 모두 정상적으로 징검다리를 건널 수 있습니다.  \n",
    "따라서 찾아야 하는 답은 M 이상 MAX값 이하인 정수 중 하나입니다.  \n",
    "\n",
    "**답이 될 수 있는 최솟값과 최댓값의 중간값으로 M값을 계속 변경**해 주면 효율적으로 탐색 범위를 줄여나갈 수 있습니다.  \n",
    "\n",
    "위 풀이의 경우 시간 복잡도는 O(nlogm)이 되며, n은 디딤돌의 개수, m은 디딤돌에 적힌 숫자의 최댓값입니다.\n",
    "\n",
    "*출처: kakao Tech, https://tech.kakao.com/2020/04/01/2019-internship-test/*"
   ]
  },
  {
   "cell_type": "code",
   "execution_count": 2,
   "metadata": {},
   "outputs": [
    {
     "name": "stdout",
     "output_type": "stream",
     "text": [
      "3  >> 3\n"
     ]
    }
   ],
   "source": [
    "def solution(stones, k):\n",
    "    min_stones = 1 # stones의 각 원소는 1 이상 이므로 1번째 친구는 항상 징검다리를 건널 수 있다\n",
    "    max_stones = max(stones)\n",
    "    while min_stones < max_stones:\n",
    "        median = (max_stones+min_stones+1)//2\n",
    "        if check(stones, k, median): # 0이 연속 k개인 구간이 있으면 M은 징검다리를 건널 수 없다\n",
    "            max_stones = median-1 # 따라서 찾아야 하는 답은 0~M-1\n",
    "        else: # 0이 연속 k개인 구간이 없으면 M은 징검다리를 건널 수 있다\n",
    "            min_stones = median # 따라서 찾아야 하는 답은 M~max\n",
    "    return min_stones\n",
    "\n",
    "# 0이 연속으로 k개가 나오는 구간이 있는지 확인하는 함수\n",
    "def check(stones, k, median):\n",
    "    count = 0\n",
    "    for stone in stones:\n",
    "        if stone < median: # 0이 되면 count + 1\n",
    "            count += 1\n",
    "        else: # 0이 되지 않으면 연속이 아니므로 count 초기화\n",
    "            count = 0\n",
    "        if count == k: # 연속으로 k개의 0이 나오는 구간이 있으면 \n",
    "            return True\n",
    "    return False\n",
    "\n",
    "print(solution([2, 4, 5, 3, 2, 1, 4, 2, 5, 1],3), \" >> 3\")"
   ]
  }
 ],
 "metadata": {
  "kernelspec": {
   "display_name": "Python 3",
   "language": "python",
   "name": "python3"
  },
  "language_info": {
   "codemirror_mode": {
    "name": "ipython",
    "version": 3
   },
   "file_extension": ".py",
   "mimetype": "text/x-python",
   "name": "python",
   "nbconvert_exporter": "python",
   "pygments_lexer": "ipython3",
   "version": "3.7.1"
  }
 },
 "nbformat": 4,
 "nbformat_minor": 2
}
