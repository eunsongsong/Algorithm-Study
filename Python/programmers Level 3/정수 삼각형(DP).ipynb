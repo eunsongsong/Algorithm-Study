{
 "cells": [
  {
   "cell_type": "markdown",
   "metadata": {},
   "source": [
    "# 동적계획법(Dynamic Programming)"
   ]
  },
  {
   "cell_type": "markdown",
   "metadata": {},
   "source": [
    "* 전체 문제를 여러 개의 하위 문제로 나누어 풀고,  \n",
    "하위 문제의 해결 방법을 결합하여 최종 문제를 해결하는 상향식 문제 해결 방식  \n",
    "(즉, 최종 문제를 해결하기 위해 모두 탐색한다)\n",
    "\n",
    "\n",
    "* Memoization 기법: 하위 문제의 답을 구한 후, 저장하여 상위 문제를 위해 재활용 하는 기법"
   ]
  },
  {
   "cell_type": "markdown",
   "metadata": {},
   "source": [
    "### >> 문제: programmers L3 [정수 삼각형](https://programmers.co.kr/learn/courses/30/lessons/43105)\n",
    "<img src=\"https://grepp-programmers.s3.amazonaws.com/files/production/97ec02cc39/296a0863-a418-431d-9e8c-e57f7a9722ac.png\" align=\"right\" title=\"[출처: https://programmers.co.kr/learn/courses/30/lessons/43105]\">  \n",
    "삼각형의 꼭대기에서 바닥까지 이어지는 경로 중,  \n",
    "거쳐간 숫자의 합이 가장 큰 경우를 찾아보려고 합니다.  \n",
    "아래 칸으로 이동할 때는 대각선 방향으로 한 칸 오른쪽 또는 왼쪽으로만 이동 가능합니다.  \n",
    "예를 들어 3에서는 그 아래칸의 8 또는 1로만 이동이 가능합니다.  \n",
    "\n",
    "삼각형의 정보가 담긴 배열 triangle이 매개변수로 주어질 때,  \n",
    "거쳐간 숫자의 최댓값을 return 하도록 solution 함수를 완성하세요.\n",
    "\n",
    "*출처: 프로그래머스 코딩 테스트 연습, https://programmers.co.kr/learn/challenges*"
   ]
  },
  {
   "cell_type": "markdown",
   "metadata": {},
   "source": [
    "### >> 풀이\n",
    "바닥까지 이어지는 **모든 경우를 계산**한 후 가장 큰 값을 찾는다  \n",
    "예를 들어 1은 3 또는 8에서 이동한 것이다  \n",
    "(3 + 1) 과 (8 + 1) 중 더 큰 값을 남겨둔다."
   ]
  },
  {
   "cell_type": "code",
   "execution_count": 1,
   "metadata": {},
   "outputs": [
    {
     "name": "stdout",
     "output_type": "stream",
     "text": [
      "30  >> 30\n"
     ]
    }
   ],
   "source": [
    "def solution(triangle):\n",
    "    answer = 0\n",
    "    \n",
    "    for h in range(1,len(triangle)):\n",
    "        for w in range(h+1):\n",
    "            if w == 0: # 맨 왼쪽 값은 무조건 위에 칸의 0번 인덱스에서 내려온다\n",
    "                triangle[h][0] += triangle[h-1][0]\n",
    "            elif w == h: # 맨 오른쪽 값은 무조건 위에 칸의 마지막 인덱스에서 내려온다\n",
    "                triangle[h][w] += triangle[h-1][w-1]\n",
    "            else: # 위에서 내려온 값 중 더 큰 값을 남겨둔다\n",
    "                triangle[h][w] += max(triangle[h-1][w-1], triangle[h-1][w])\n",
    "                \n",
    "    answer = max(triangle[-1])\n",
    "            \n",
    "    return answer\n",
    "\n",
    "print(solution([[7], [3, 8], [8, 1, 0], [2, 7, 4, 4], [4, 5, 2, 6, 5]]), \" >> 30\")"
   ]
  }
 ],
 "metadata": {
  "kernelspec": {
   "display_name": "Python 3",
   "language": "python",
   "name": "python3"
  },
  "language_info": {
   "codemirror_mode": {
    "name": "ipython",
    "version": 3
   },
   "file_extension": ".py",
   "mimetype": "text/x-python",
   "name": "python",
   "nbconvert_exporter": "python",
   "pygments_lexer": "ipython3",
   "version": "3.7.1"
  }
 },
 "nbformat": 4,
 "nbformat_minor": 2
}
