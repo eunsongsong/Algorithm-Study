{
 "cells": [
  {
   "cell_type": "markdown",
   "metadata": {},
   "source": [
    "### >> 문제: programmers L3 [자물쇠와 열쇠](https://programmers.co.kr/learn/courses/30/lessons/60059)\n",
    "\n",
    "고고학자인 튜브는 고대 유적지에서 보물과 유적이 가득할 것으로 추정되는 비밀의 문을 발견하였습니다.  \n",
    "그런데 문을 열려고 살펴보니 특이한 형태의 자물쇠로 잠겨 있었고  \n",
    "문 앞에는 특이한 형태의 열쇠와 함께 자물쇠를 푸는 방법에 대해 다음과 같이 설명해 주는 종이가 발견되었습니다.  \n",
    "\n",
    "잠겨있는 자물쇠는 격자 한 칸의 크기가 1 x 1인 N x N 크기의 정사각 격자 형태이고  \n",
    "특이한 모양의 열쇠는 M x M 크기인 정사각 격자 형태로 되어 있습니다.  \n",
    "\n",
    "자물쇠에는 홈이 파여 있고 열쇠 또한 홈과 돌기 부분이 있습니다.  \n",
    "열쇠는 회전과 이동이 가능하며 열쇠의 돌기 부분을 자물쇠의 홈 부분에 딱 맞게 채우면 자물쇠가 열리게 되는 구조입니다. \n",
    "\n",
    "자물쇠 영역을 벗어난 부분에 있는 열쇠의 홈과 돌기는 자물쇠를 여는 데 영향을 주지 않지만,  \n",
    "자물쇠 영역 내에서는 열쇠의 돌기 부분과 자물쇠의 홈 부분이 정확히 일치해야 하며  \n",
    "열쇠의 돌기와 자물쇠의 돌기가 만나서는 안됩니다.  \n",
    "\n",
    "**또한 자물쇠의 모든 홈을 채워 비어있는 곳이 없어야 자물쇠를 열 수 있습니다**.\n",
    "\n",
    "열쇠를 나타내는 2차원 배열 key와 자물쇠를 나타내는 2차원 배열 lock이 매개변수로 주어질 때,  \n",
    "열쇠로 자물쇠를 열수 있으면 true를, 열 수 없으면 false를 return 하도록 solution 함수를 완성해주세요. \n",
    "\n",
    "- key는 M x M(3 ≤ M ≤ 20, M은 자연수)크기 2차원 배열입니다.\n",
    "- lock은 N x N(3 ≤ N ≤ 20, N은 자연수)크기 2차원 배열입니다.\n",
    "- M은 항상 N 이하입니다.\n",
    "- key와 lock의 원소는 0 또는 1로 이루어져 있습니다.\n",
    "- 0은 홈 부분, 1은 돌기 부분을 나타냅니다.\n",
    "\n",
    "<img src=\"https://grepp-programmers.s3.amazonaws.com/files/production/469703690b/79f2f473-5d13-47b9-96e0-a10e17b7d49a.jpg\" width=\"30%\" align=\"right\"><br><br>\n",
    "\n",
    "&nbsp;예를들어 오른쪽 그림은  \n",
    "&nbsp;key를 시계 방향으로 90도 회전하고, 오른쪽으로 한 칸, 아래로 한 칸 이동하면  \n",
    "&nbsp;lock의 홈 부분을 정확히 모두 채울 수 있습니다.\n",
    "\n",
    "<br><br>\n",
    "*출처: 프로그래머스 코딩 테스트 연습, https://programmers.co.kr/learn/challenges*"
   ]
  },
  {
   "cell_type": "markdown",
   "metadata": {},
   "source": [
    "### >> 풀이\n",
    "\n",
    "<img src=\"https://github.com/eunsongsong/Algorithm-Study/blob/master/Python/programmers%20Level%203/%EC%9E%90%EB%AC%BC%EC%87%A0%EC%99%80%20%EC%97%B4%EC%87%A0.png\" width=\"30%\" align=\"right\"><br><br>\n",
    "\n",
    "1. 자물쇠의 상/하/좌/우를 len(key)-1 만큼 확장\n",
    "2. 확장된 자물쇠의 (0,0) 위치부터 key를 한 칸씩 옮겨가며 자물쇠가 열리는지 확인\n"
   ]
  },
  {
   "cell_type": "code",
   "execution_count": 1,
   "metadata": {},
   "outputs": [
    {
     "name": "stdout",
     "output_type": "stream",
     "text": [
      "True  >> true\n"
     ]
    }
   ],
   "source": [
    "def solution(key, lock):    \n",
    "    for k in range(4): # key를 90도씩 회전\n",
    "        # 확장된 자물쇠에 key의 위치를 이동하면서 열리는지 확인\n",
    "        for i in range(len(key)+len(lock)-1):\n",
    "            for j in range(len(key)+len(lock)-1):\n",
    "                if isUnlock(key, lock, i, j):\n",
    "                    return True\n",
    "        key = rotate(key)  \n",
    "    return False\n",
    "\n",
    "# key를 오른쪽으로 90도 회전시키는 함수\n",
    "def rotate(key):\n",
    "    answer = [[0 for j in range(len(key))] for i in range(len(key[0]))]\n",
    "    for i in range(len(key)):\n",
    "        for j in range(len(key[0])):\n",
    "            answer[j][len(key)-i-1] = (key[i][j])\n",
    "    return answer\n",
    "\n",
    "# 자물쇠를 열 수 있는지 확인하는 함수\n",
    "def isUnlock(key, lock, keyRow, keyCol):\n",
    "    extendSize = len(lock) + (len(key)-1)*2\n",
    "    temp = [[0]*extendSize for i in range(extendSize)] # 죄물쇠 확장\n",
    "    \n",
    "    # 확장된 자물쇠에 키 표시\n",
    "    for i in range(len(key)):\n",
    "        for j in range(len(key)):\n",
    "            if key[i][j] == 1:\n",
    "                temp[i+keyRow][j+keyCol] = 1\n",
    "\n",
    "    # 확장된 자물쇠에 원래 자물쇠 위치 표시\n",
    "    lockStart = len(key)-1\n",
    "    for i in range(len(lock)):\n",
    "        for j in range(len(lock)):\n",
    "            # 열쇠가 자물쇠와 맞지 않으면 열 수 없음\n",
    "            if temp[i+lockStart][j+lockStart] == lock[i][j]:\n",
    "                return False\n",
    "    else: return True\n",
    "                \n",
    "        \n",
    "print(solution([[0, 0, 0], \n",
    "                [1, 0, 0], \n",
    "                [0, 1, 1]],[[1, 1, 1], \n",
    "                            [1, 1, 0], \n",
    "                            [1, 0, 1]]),\" >> true\")"
   ]
  }
 ],
 "metadata": {
  "kernelspec": {
   "display_name": "Python 3",
   "language": "python",
   "name": "python3"
  },
  "language_info": {
   "codemirror_mode": {
    "name": "ipython",
    "version": 3
   },
   "file_extension": ".py",
   "mimetype": "text/x-python",
   "name": "python",
   "nbconvert_exporter": "python",
   "pygments_lexer": "ipython3",
   "version": "3.7.1"
  }
 },
 "nbformat": 4,
 "nbformat_minor": 2
}
