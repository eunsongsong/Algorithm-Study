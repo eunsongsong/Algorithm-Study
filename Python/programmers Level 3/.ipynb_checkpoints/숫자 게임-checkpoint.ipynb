{
 "cells": [
  {
   "cell_type": "markdown",
   "metadata": {},
   "source": [
    "### >> 문제: programmers L3 [숫자 게임](https://programmers.co.kr/learn/courses/30/lessons/12987)\n",
    "\n",
    "xx 회사의 2xN명의 사원들은 N명씩 두 팀으로 나눠 숫자 게임을 하려고 합니다.  \n",
    "두 개의 팀을 각각 A팀과 B팀이라고 하겠습니다.  \n",
    "\n",
    "숫자 게임의 규칙은 다음과 같습니다.\n",
    "\n",
    "- 먼저 모든 사원이 무작위로 자연수를 하나씩 부여받습니다.\n",
    "- 각 사원은 딱 한 번씩 경기를 합니다.\n",
    "- 각 경기당 A팀에서 한 사원이, B팀에서 한 사원이 나와 서로의 수를 공개합니다.  \n",
    "그때 숫자가 큰 쪽이 승리하게 되고, 승리한 사원이 속한 팀은 승점을 1점 얻게 됩니다.\n",
    "- 만약 숫자가 같다면 누구도 승점을 얻지 않습니다.  \n",
    "\n",
    "전체 사원들은 우선 무작위로 자연수를 하나씩 부여받았습니다.  \n",
    "그다음 A팀은 빠르게 출전순서를 정했고 자신들의 출전 순서를 B팀에게 공개해버렸습니다.  \n",
    "B팀은 그것을 보고 자신들의 최종 승점을 가장 높이는 방법으로 팀원들의 출전 순서를 정했습니다.  \n",
    "이때의 B팀이 얻는 승점을 구해주세요.\n",
    "\n",
    "A 팀원들이 부여받은 수가 출전 순서대로 나열되어있는 배열 A와  \n",
    "i번째 원소가 B팀의 i번 팀원이 부여받은 수를 의미하는 배열 B가 주어질 때,  \n",
    "B 팀원들이 얻을 수 있는 최대 승점을 return 하도록 solution 함수를 완성해주세요.  \n",
    "\n",
    "[제한사항]\n",
    "- A와 B의 길이는 같습니다.\n",
    "- A와 B의 길이는 1 이상 100,000 이하입니다.\n",
    "- A와 B의 각 원소는 1 이상 1,000,000,000 이하의 자연수입니다.\n",
    "\n",
    "[입출력 예]  \n",
    "<img src='https://res.cloudinary.com/sgc109/image/upload/c_scale,w_500/v1516695907/number_game2_yt913p.png' width='40%' title=\"[출처: https://programmers.co.kr/learn/challenges]\">\n",
    "A = [5,1,3,7]\n",
    "B = [2,2,6,8]\n",
    "\n",
    "A 팀은 숫자 5를 부여받은 팀원이 첫번째로 출전하고,  \n",
    "이어서 1,3,7을 부여받은 팀원들이 차례대로 출전합니다.  \n",
    "\n",
    "B 팀원들을 4번, 2번, 3번, 1번의 순서대로 출전시킬 경우  \n",
    "팀원들이 부여받은 숫자들은 차례대로 8,2,6,2가 됩니다.  \n",
    "그러면, 첫 번째, 두 번째, 세 번째 경기에서 승리하여 3점을 얻게 되고,  \n",
    "이때가 최대의 승점입니다.\n",
    "<br><br>\n",
    "\n",
    "\n",
    "*출처: 프로그래머스 코딩 테스트 연습, https://programmers.co.kr/learn/challenges*"
   ]
  },
  {
   "cell_type": "markdown",
   "metadata": {},
   "source": [
    "### >> 오답노트(정확성: 85.7, 효율성: 0.0, 합계: 85.7 / 100.0)"
   ]
  },
  {
   "cell_type": "code",
   "execution_count": 1,
   "metadata": {},
   "outputs": [
    {
     "name": "stdout",
     "output_type": "stream",
     "text": [
      "3  >> 3\n",
      "0  >> 0\n"
     ]
    }
   ],
   "source": [
    "def solution(A, B):\n",
    "    answer = 0\n",
    "    A.sort()\n",
    "    B.sort()\n",
    "    \n",
    "    for b in B:\n",
    "        for i in range(len(A)):\n",
    "            if b > A[i]:\n",
    "                answer += 1\n",
    "                A = A[i+1:]\n",
    "                break\n",
    "                \n",
    "    return answer\n",
    "\n",
    "print(solution([5,1,3,7], [2,2,6,8]), \" >> 3\")\n",
    "print(solution([2,2,2,2], [1,1,1,1]), \" >> 0\")"
   ]
  },
  {
   "cell_type": "markdown",
   "metadata": {},
   "source": [
    "### >> 풀이(정확성: 85.7, 효율성: 14.3, 합계: 100.0 / 100.0)"
   ]
  },
  {
   "cell_type": "code",
   "execution_count": 2,
   "metadata": {},
   "outputs": [
    {
     "name": "stdout",
     "output_type": "stream",
     "text": [
      "3  >> 3\n",
      "0  >> 0\n"
     ]
    }
   ],
   "source": [
    "def solution(A, B):\n",
    "    answer = 0\n",
    "    A.sort()\n",
    "    B.sort()\n",
    "    \n",
    "    for b in B:\n",
    "        for i in range(len(A)):\n",
    "            if b > A[i]:\n",
    "                answer += 1\n",
    "                del A[i]\n",
    "                break\n",
    "                \n",
    "    return answer\n",
    "\n",
    "print(solution([5,1,3,7], [2,2,6,8]), \" >> 3\")\n",
    "print(solution([2,2,2,2], [1,1,1,1]), \" >> 0\")"
   ]
  },
  {
   "cell_type": "code",
   "execution_count": 3,
   "metadata": {},
   "outputs": [
    {
     "name": "stdout",
     "output_type": "stream",
     "text": [
      "3  >> 3\n",
      "0  >> 0\n"
     ]
    }
   ],
   "source": [
    "def solution(A, B):\n",
    "    answer = 0\n",
    "    A.sort()\n",
    "    B.sort()\n",
    "    \n",
    "    j = 0\n",
    "    for i in range(len(A)):\n",
    "        if B[i] > A[j]:\n",
    "            answer += 1\n",
    "            j += 1\n",
    "\n",
    "    return answer\n",
    "\n",
    "print(solution([5,1,3,7], [2,2,6,8]), \" >> 3\")\n",
    "print(solution([2,2,2,2], [1,1,1,1]), \" >> 0\")"
   ]
  }
 ],
 "metadata": {
  "kernelspec": {
   "display_name": "Python 3",
   "language": "python",
   "name": "python3"
  },
  "language_info": {
   "codemirror_mode": {
    "name": "ipython",
    "version": 3
   },
   "file_extension": ".py",
   "mimetype": "text/x-python",
   "name": "python",
   "nbconvert_exporter": "python",
   "pygments_lexer": "ipython3",
   "version": "3.7.1"
  }
 },
 "nbformat": 4,
 "nbformat_minor": 2
}
