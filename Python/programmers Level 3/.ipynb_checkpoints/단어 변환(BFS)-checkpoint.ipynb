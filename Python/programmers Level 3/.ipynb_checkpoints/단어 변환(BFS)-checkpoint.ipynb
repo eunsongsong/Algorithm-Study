{
 "cells": [
  {
   "cell_type": "markdown",
   "metadata": {},
   "source": [
    "### >> 문제: programmers L3 [단어 변환](https://programmers.co.kr/learn/courses/30/lessons/43163)\n",
    "두 개의 단어 begin, target과 단어의 집합 words가 있습니다.  \n",
    "아래와 같은 규칙을 이용하여 begin에서 target으로 변환하는 가장 짧은 변환 과정을 찾으려고 합니다.\n",
    "1. 한 번에 한 개의 알파벳만 바꿀 수 있습니다.\n",
    "2. words에 있는 단어로만 변환할 수 있습니다.  \n",
    "\n",
    "예를 들어 begin이 hit, target가 cog, words가 [hot,dot,dog,lot,log,cog]라면  \n",
    "hit -> hot -> dot -> dog -> cog와 같이 4단계를 거쳐 변환할 수 있습니다.\n",
    "\n",
    "두 개의 단어 begin, target과 단어의 집합 words가 매개변수로 주어질 때,  \n",
    "최소 몇 단계의 과정을 거쳐 begin을 target으로 변환할 수 있는지 return 하도록 solution 함수를 작성해주세요.\n",
    "\n",
    "* 각 단어는 알파벳 소문자로만 이루어져 있습니다.\n",
    "* 각 단어의 길이는 3 이상 10 이하이며 모든 단어의 길이는 같습니다.\n",
    "* words에는 3개 이상 50개 이하의 단어가 있으며 중복되는 단어는 없습니다.\n",
    "* begin과 target은 같지 않습니다.\n",
    "* 변환할 수 없는 경우에는 0를 return 합니다.\n",
    "\n",
    "*출처: 프로그래머스 코딩 테스트 연습, https://programmers.co.kr/learn/challenges*"
   ]
  },
  {
   "cell_type": "markdown",
   "metadata": {},
   "source": [
    "### >> 정답"
   ]
  },
  {
   "cell_type": "code",
   "execution_count": 33,
   "metadata": {},
   "outputs": [
    {
     "name": "stdout",
     "output_type": "stream",
     "text": [
      "[['hit'], ['hot'], ['dot', 'lot'], ['dog', 'log'], ['cog']]\n",
      "4  >> 4\n",
      "0  >> 0\n"
     ]
    }
   ],
   "source": [
    "def solution(begin, target, words):\n",
    "    answer = 0\n",
    "    bfs = [[begin]] # 단어 변환 단계를 저장할 2차원 리스트\n",
    "    \n",
    "    if target not in words: # target이 words에 없으면 변환할 수 없으므로 \n",
    "        return answer # 0(answer)을 리턴\n",
    "    \n",
    "    while words:\n",
    "        bfs.append([]) # 단어 변환 단계 추가\n",
    "        for temp in bfs[-2]: # 탐색할 bfs\n",
    "            for word in words: # 단어 집합을 탐색\n",
    "                count = 0 \n",
    "                # 한 번에 한 개의 알파벳만 바꿀 수 있으므로 \n",
    "                # 알파벳이 다른 경우를 count += 1\n",
    "                for i in range(len(target)):\n",
    "                    if word[i] is not temp[i]:\n",
    "                        count += 1 \n",
    "                # count가 1이면 한 개의 알파벳만 다른 것이다\n",
    "                # 즉, 변환 가능한 단어이므로 bfs에 추가\n",
    "                if count is 1:\n",
    "                    bfs[-1].append(word) \n",
    "                    words.remove(word)\n",
    "        answer += 1 # 단어 변환 단계 += 1\n",
    "        \n",
    "        # target이 words에 있으면 변환이 끝난 것이므로 answer를 리턴\n",
    "        if target in bfs[-1]: \n",
    "            print(bfs)\n",
    "            return answer\n",
    "        \n",
    "    return answer\n",
    "                \n",
    "\n",
    "\n",
    "print(solution(\"hit\",\"cog\",[\"hot\", \"dot\", \"dog\", \"lot\", \"log\", \"cog\"]), \" >> 4\")\n",
    "print(solution(\"hit\",\"cog\",[\"hot\", \"dot\", \"dog\", \"lot\", \"log\"]), \" >> 0\")"
   ]
  },
  {
   "cell_type": "code",
   "execution_count": null,
   "metadata": {},
   "outputs": [],
   "source": []
  }
 ],
 "metadata": {
  "kernelspec": {
   "display_name": "Python 3",
   "language": "python",
   "name": "python3"
  },
  "language_info": {
   "codemirror_mode": {
    "name": "ipython",
    "version": 3
   },
   "file_extension": ".py",
   "mimetype": "text/x-python",
   "name": "python",
   "nbconvert_exporter": "python",
   "pygments_lexer": "ipython3",
   "version": "3.7.1"
  }
 },
 "nbformat": 4,
 "nbformat_minor": 2
}
