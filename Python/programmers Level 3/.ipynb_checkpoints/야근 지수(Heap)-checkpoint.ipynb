{
 "cells": [
  {
   "cell_type": "markdown",
   "metadata": {},
   "source": [
    "# 힙(Heap)"
   ]
  },
  {
   "cell_type": "markdown",
   "metadata": {},
   "source": [
    "* **최댓값, 최솟값**을 빠르게 찾기 위해 고안된 완전이진트리  \n",
    "(완전이진트리: 왼쪽 하단부터 차례로 노드를 채우는 트리)\n",
    "* 최대 힙(Max Heap): 부모 노드의 값이 자식 노드의 값보다 크다\n",
    "* 최소 힙(Min Heap): 부모 노드의 값이 자식 노드의 값보다 작다"
   ]
  },
  {
   "cell_type": "markdown",
   "metadata": {},
   "source": [
    "# import heapq\n",
    "heapq 모듈은 최소 힙(Min Heap) 자료구조를 제공한다"
   ]
  },
  {
   "cell_type": "markdown",
   "metadata": {},
   "source": [
    "* **heapq.heappush(heap,item)**: item 값을 heap으로 push한다\n",
    "* **heapq.heappop(heap)**: heap에서 최솟값을 pop한다  \n",
    "(heap이 비어 있으면 IndexError 발생)  \n",
    "(pop하지 않고 가장 작은 항목에 엑세스하려면 heap[0]을 사용)  \n",
    "* **heapq.heappushpop(heap, item)**: heap에 item을 **push한 후**, heap에서 최솟값을 pop한다\n",
    "* **heapq.heapify(x)**:기존 리스트 x를 heap으로 변환  \n",
    "* **heapq.heapreplace(haep,item)**: heap에서 최솟값을 **pop한 후**, item을 push한다  \n",
    "(heap이 비어 있으면 IndexError 발생)\n",
    "* **heapq.nlargest(n,iterable,key=None)**:  \n",
    "iterable에 의해 정의된 데이터 집합에서 n개의 가장 큰 요소로 구성된 **리스트**를 반환\n",
    "* **heapq.nsmallest(n,iterable,key=None)**:  \n",
    "iterable에 의해 정의된 데이터 집합에서 n개의 가장 작은 요소로 구성된 **리스트**를 반환"
   ]
  },
  {
   "cell_type": "code",
   "execution_count": 1,
   "metadata": {},
   "outputs": [],
   "source": [
    "import heapq"
   ]
  },
  {
   "cell_type": "code",
   "execution_count": 2,
   "metadata": {},
   "outputs": [
    {
     "data": {
      "text/plain": [
       "[1, 3, 2, 4, 6, 7, 9, 8, 5]"
      ]
     },
     "execution_count": 2,
     "metadata": {},
     "output_type": "execute_result"
    }
   ],
   "source": [
    "a = [9,3,1,5,6,7,2,8,4]\n",
    "heapq.heapify(a)\n",
    "heapq.nlargest(3,a)\n",
    "a"
   ]
  },
  {
   "cell_type": "markdown",
   "metadata": {},
   "source": [
    "### >> 문제: programmers L3 [야근 지수](https://programmers.co.kr/learn/courses/30/lessons/12927)\n",
    "야근 피로도는 야근을 시작한 시점에서 남은 일의 작업량을 제곱하여 더한 값입니다.  \n",
    "N시간 동안 야근 피로도를 최소화하도록 일할 겁니다.  \n",
    "1시간 동안 작업량 1만큼을 처리할 수 있다고 할 때, 퇴근까지 남은 N 시간과  \n",
    "각 일에 대한 작업량 works에 대해 야근 피로도를 최소화한 값을 리턴하는 함수 solution을 완성해주세요.\n",
    "* 입출력 예 #1\n",
    "n=4 일 때, 남은 일의 작업량이 [4, 3, 3] 이라면,  \n",
    "야근 지수를 최소화하기 위해 4시간동안 일을 한 결과는 [2, 2, 2]입니다.  \n",
    "이 때, 야근 지수는 $2^2 + 2^2 + 2^2 = 12$ 입니다.\n",
    "\n",
    "*출처: 프로그래머스 코딩 테스트 연습, https://programmers.co.kr/learn/challenges*"
   ]
  },
  {
   "cell_type": "markdown",
   "metadata": {},
   "source": [
    "### >> 오답노트(정확성: 86.7, 효율성: 0.0, 합계: 86.7 / 100.0)"
   ]
  },
  {
   "cell_type": "code",
   "execution_count": 3,
   "metadata": {},
   "outputs": [
    {
     "name": "stdout",
     "output_type": "stream",
     "text": [
      "12  >> 12\n",
      "6  >> 6\n",
      "0  >> 0\n"
     ]
    }
   ],
   "source": [
    "def solution(n, works):\n",
    "    answer = 0\n",
    "    \n",
    "    for i in range(n):\n",
    "        if max(works) is 0:\n",
    "            break\n",
    "        works[works.index(max(works))] -= 1 # 최댓값을 찾아서 값을 하나씩 줄여준다\n",
    "    \n",
    "    for work in works:\n",
    "        answer += work**2\n",
    "            \n",
    "    return answer\n",
    "\n",
    "print(solution(4,[4,3,3]) , \" >> 12\")\n",
    "print(solution(1,[2,1,2]), \" >> 6\")\n",
    "print(solution(3,[1,1]), \" >> 0\")"
   ]
  },
  {
   "cell_type": "code",
   "execution_count": 4,
   "metadata": {},
   "outputs": [
    {
     "name": "stdout",
     "output_type": "stream",
     "text": [
      "12  >> 12\n",
      "6  >> 6\n",
      "0  >> 0\n"
     ]
    }
   ],
   "source": [
    "def solution(n, works):\n",
    "    answer = 0\n",
    "    \n",
    "    if n >= sum(works):\n",
    "        return answer\n",
    "    \n",
    "    for i in range(n):\n",
    "        works.sort()\n",
    "        works[-1] -= 1\n",
    "            \n",
    "    for work in works:\n",
    "        answer += work**2\n",
    "        \n",
    "    return answer\n",
    "\n",
    "print(solution(4,[4,3,3]) , \" >> 12\")\n",
    "print(solution(1,[2,1,2]), \" >> 6\")\n",
    "print(solution(3,[1,1]), \" >> 0\")"
   ]
  },
  {
   "cell_type": "markdown",
   "metadata": {},
   "source": [
    "### >> 풀이(정확성: 86.7, 효율성: 13.3, 합계: 100.0 / 100.0)\n",
    "최댓값을 빠르게 찾기 위해 heap 사용"
   ]
  },
  {
   "cell_type": "code",
   "execution_count": 5,
   "metadata": {},
   "outputs": [
    {
     "name": "stdout",
     "output_type": "stream",
     "text": [
      "12  >> 12\n",
      "6  >> 6\n",
      "0  >> 0\n"
     ]
    }
   ],
   "source": [
    "import heapq\n",
    "def solution(n, works):\n",
    "    answer = 0\n",
    "    heap= [] # heap으로 정렬한 works를 저장할 리스트\n",
    "    \n",
    "    if n >= sum(works): # 남은 작업량의 합이 남은 야근 시간보다 작으면\n",
    "        return answer # 야근 피로도가 없으므로 0을 리턴\n",
    "    \n",
    "    # heap 모듈은 최소 힙을 제공, works의 원소는 자연수이므로 \n",
    "    # 최댓값을 찾기 위해 works의 원소를 음수로 바꾸어 heap으로 push한다\n",
    "    for work in works:\n",
    "        heapq.heappush(heap,-work)\n",
    "    # heap의 원소는 모두 음수이므로 pop한 값의 절댓값은 최댓값이다\n",
    "    for i in range(n):\n",
    "        # pop한 값이 음수이므로 +1하여 다시 heap에 push\n",
    "        temp = heapq.heappop(heap) + 1\n",
    "        heapq.heappush(heap,temp)\n",
    "       \n",
    "    for i in heap:\n",
    "        answer += i**2\n",
    "\n",
    "    return answer\n",
    "\n",
    "print(solution(4,[4,3,3]) , \" >> 12\")\n",
    "print(solution(1,[2,1,2]), \" >> 6\")\n",
    "print(solution(3,[1,1]), \" >> 0\")"
   ]
  }
 ],
 "metadata": {
  "kernelspec": {
   "display_name": "Python 3",
   "language": "python",
   "name": "python3"
  },
  "language_info": {
   "codemirror_mode": {
    "name": "ipython",
    "version": 3
   },
   "file_extension": ".py",
   "mimetype": "text/x-python",
   "name": "python",
   "nbconvert_exporter": "python",
   "pygments_lexer": "ipython3",
   "version": "3.7.1"
  }
 },
 "nbformat": 4,
 "nbformat_minor": 2
}
