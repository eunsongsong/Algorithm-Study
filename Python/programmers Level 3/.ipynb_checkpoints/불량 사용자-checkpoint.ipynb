{
 "cells": [
  {
   "cell_type": "markdown",
   "metadata": {},
   "source": [
    "### >> 문제: programmers L3 [불량 사용자](https://programmers.co.kr/learn/courses/30/lessons/64064)\n",
    "\n",
    "개발팀 내에서 이벤트 개발을 담당하고 있는 무지는  \n",
    "최근 진행된 카카오이모티콘 이벤트에 비정상적인 방법으로 당첨을 시도한 응모자들을 발견하였습니다.  \n",
    "이런 응모자들을 따로 모아 불량 사용자라는 이름으로 목록을 만들어서  \n",
    "당첨 처리 시 제외하도록 이벤트 당첨자 담당자인 프로도 에게 전달하려고 합니다.  \n",
    "\n",
    "이 때 개인정보 보호을 위해 사용자 아이디 중 일부 문자를 `'*'` 문자로 가려서 전달했습니다.  \n",
    "가리고자 하는 문자 하나에 `'*'` 문자 하나를 사용하였고 아이디 당 최소 하나 이상의 `'*'`문자를 사용하였습니다.  \n",
    "무지와 프로도는 불량 사용자 목록에 매핑된 응모자 아이디를 제재 아이디 라고 부르기로 하였습니다.  \n",
    "\n",
    "예를 들어, 이벤트에 응모한 전체 사용자 아이디 목록이 다음과 같다면  \n",
    "\n",
    "|응모자 아이디|\n",
    "|:-:|\n",
    "|frodo|\n",
    "|fradi|\n",
    "|crodo|\n",
    "|abc123|\n",
    "|frodoc|  \n",
    "\n",
    "다음과 같이 불량 사용자 아이디 목록이 전달된 경우, \n",
    "\n",
    "|불량 사용자|\n",
    "|:-:|\n",
    "|fr\\*d\\*|\n",
    "|abc1\\*\\*|  \n",
    "\n",
    "불량 사용자에 매핑되어 당첨에서 제외되어야 야 할 제재 아이디 목록은 다음과 같이 두 가지 경우가 있을 수 있습니다.  \n",
    "\n",
    "|제재 아이디|\n",
    "|:-:|\n",
    "|frodo|\n",
    "|abc123|  \n",
    "\n",
    "|제재 아이디|\n",
    "|:-:|\n",
    "|fradi|\n",
    "|abc123|  \n",
    "\n",
    "이벤트 응모자 아이디 목록이 담긴 배열 user_id와  \n",
    "불량 사용자 아이디 목록이 담긴 배열 banned_id가 매개변수로 주어질 때,  \n",
    "당첨에서 제외되어야 할 제재 아이디 목록은 몇가지 경우의 수가 가능한 지 return 하도록 solution 함수를 완성해주세요. \n",
    "\n",
    "[제한사항]\n",
    "- user_id 배열의 크기는 1 이상 8 이하입니다.\n",
    "- user_id 배열 각 원소들의 값은 길이가 1 이상 8 이하인 문자열입니다.\n",
    "    - 응모한 사용자 아이디들은 서로 중복되지 않습니다.\n",
    "    - 응모한 사용자 아이디는 알파벳 소문자와 숫자로만으로 구성되어 있습니다.\n",
    "- banned_id 배열의 크기는 1 이상 user_id 배열의 크기 이하입니다.\n",
    "- banned_id 배열 각 원소들의 값은 길이가 1 이상 8 이하인 문자열입니다.\n",
    "    - 불량 사용자 아이디는 알파벳 소문자와 숫자, 가리기 위한 문자 `'*'` 로만 이루어져 있습니다.\n",
    "    - 불량 사용자 아이디는 `'*'` 문자를 하나 이상 포함하고 있습니다.\n",
    "    - 불량 사용자 아이디 하나는 응모자 아이디 중 하나에 해당하고  \n",
    "    같은 응모자 아이디가 중복해서 제재 아이디 목록에 들어가는 경우는 없습니다.\n",
    "- 제재 아이디 목록들을 구했을 때 아이디들이 나열된 순서와 관계없이  \n",
    "아이디 목록의 내용이 동일하다면 같은 것으로 처리하여 하나로 세면 됩니다.\n",
    "\n",
    "*출처: 프로그래머스 코딩 테스트 연습, https://programmers.co.kr/learn/challenges*"
   ]
  },
  {
   "cell_type": "markdown",
   "metadata": {},
   "source": [
    "### >> 오답노트 (정확성: 90.9, 합계: 90.9 / 100.0)"
   ]
  },
  {
   "cell_type": "markdown",
   "metadata": {},
   "source": [
    "불량 사용자 가능성이 있는 응모자 아이디를 모두 찾은 후에  \n",
    "찾은 아이디로 만들 수 있는 모든 조합을 구하고 중복을 제거했다.  \n",
    "\\>> 테스트 5: 시간초과"
   ]
  },
  {
   "cell_type": "code",
   "execution_count": 1,
   "metadata": {
    "scrolled": false
   },
   "outputs": [],
   "source": [
    "from itertools import product\n",
    "\n",
    "def solution(user_id, banned_id):\n",
    "    answer = []\n",
    "    temp = []\n",
    "    \n",
    "    # 불량 사용자 가능성이 있는 응모자 아이디를 모두 찾는다\n",
    "    for banned in banned_id:\n",
    "        temp.append([])\n",
    "        for user in user_id:\n",
    "            if len(banned) == len(user): \n",
    "                count = 0\n",
    "                for i in range(len(banned)):\n",
    "                    if banned[i] == '*' or banned[i] == user[i]:\n",
    "                        count += 1\n",
    "                    else: break\n",
    "                if count == len(banned):\n",
    "                    temp[-1].append(user)\n",
    "    print(temp)\n",
    "    temp = list(map(set, product(*temp))) # 제재 아이디 후보 중 가능한 모든 조합(중복제거)\n",
    "    for i in temp:\n",
    "        if len(i) == len(banned_id): # 제외되어야 할 제재 아이디 목록을 찾는다 \n",
    "            if i not in answer: \n",
    "                answer.append(i)\n",
    "    \n",
    "    return len(answer)\n",
    "\n",
    "print(solution([\"frodo\", \"fradi\", \"crodo\", \"abc123\", \"frodoc\"],[\"fr*d*\", \"abc1**\"]),\" >> 2\")\n",
    "print(solution([\"frodo\", \"fradi\", \"crodo\", \"abc123\", \"frodoc\"],[\"*rodo\", \"*rodo\", \"******\"]),\" >> 2\")\n",
    "print(solution([\"frodo\", \"fradi\", \"crodo\", \"abc123\", \"frodoc\"],[\"fr*d*\", \"*rodo\", \"******\", \"******\"]),\" >> 3\")"
   ]
  },
  {
   "cell_type": "markdown",
   "metadata": {},
   "source": [
    "# >> 풀이\n",
    "[문제풀이](https://tech.kakao.com/2020/04/01/2019-internship-test/)\n",
    "\n",
    "제한사항이 비교적 작으므로, 가능한 모든 방법을 시도해 보는 방식으로 문제를 해결할 수 있습니다.  \n",
    "응모자 아이디 목록의 길이가 N, 불량 사용자 아이디 목록의 길이가 K 일 때,  \n",
    "응모자 아이디 N개 중 K개를 선택하는 모든 방법을 시도해 봅니다.  \n",
    "선택된 아이디 목록이 불량 사용자 목록으로 매핑될 수 있다면 카운트를 하나 증가시킵니다.  \n",
    "최종적으로 매핑에 성공한 횟수를 반환하면 됩니다.\n",
    "\n",
    "*출처: kakao Tech, https://tech.kakao.com/2020/04/01/2019-internship-test/*"
   ]
  },
  {
   "cell_type": "markdown",
   "metadata": {},
   "source": [
    "1. user_id의 banned_id의 길이만큼 순열을 먼저 구한다 **permutations(user_id, len(banned_id)**  \n",
    "2. 그 후, banned_id와 일치 여부를 구한다"
   ]
  },
  {
   "cell_type": "markdown",
   "metadata": {},
   "source": [
    "### (정확성: 100.0, 합계: 100.0 / 100.0)"
   ]
  },
  {
   "cell_type": "code",
   "execution_count": 2,
   "metadata": {},
   "outputs": [],
   "source": [
    "from itertools import permutations\n",
    "\n",
    "def isBanned(user, banned):    \n",
    "    for i in range(len(user)):\n",
    "        if len(banned[i]) == len(user[i]):\n",
    "            for j in range(len(banned[i])):\n",
    "                if banned[i][j] == '*' or banned[i][j] == user[i][j]:\n",
    "                    continue\n",
    "                else: return False\n",
    "        else: return False\n",
    "    return True\n",
    "\n",
    "def solution(user_id, banned_id):\n",
    "    answer = []\n",
    "    for candidate in permutations(user_id, len(banned_id)):\n",
    "        if isBanned(candidate, banned_id):\n",
    "            temp = set(candidate)\n",
    "            if temp not in answer:\n",
    "                answer.append(temp) \n",
    "    return len(answer)\n",
    "\n",
    "\n",
    "print(solution([\"frodo\", \"fradi\", \"crodo\", \"abc123\", \"frodoc\"],[\"fr*d*\", \"abc1**\"]),\" >> 2\")\n",
    "print(solution([\"frodo\", \"fradi\", \"crodo\", \"abc123\", \"frodoc\"],[\"*rodo\", \"*rodo\", \"******\"]),\" >> 2\")\n",
    "print(solution([\"frodo\", \"fradi\", \"crodo\", \"abc123\", \"frodoc\"],[\"fr*d*\", \"*rodo\", \"******\", \"******\"]),\" >> 3\")"
   ]
  },
  {
   "cell_type": "code",
   "execution_count": null,
   "metadata": {},
   "outputs": [],
   "source": []
  }
 ],
 "metadata": {
  "kernelspec": {
   "display_name": "Python 3",
   "language": "python",
   "name": "python3"
  },
  "language_info": {
   "codemirror_mode": {
    "name": "ipython",
    "version": 3
   },
   "file_extension": ".py",
   "mimetype": "text/x-python",
   "name": "python",
   "nbconvert_exporter": "python",
   "pygments_lexer": "ipython3",
   "version": "3.7.1"
  }
 },
 "nbformat": 4,
 "nbformat_minor": 2
}
