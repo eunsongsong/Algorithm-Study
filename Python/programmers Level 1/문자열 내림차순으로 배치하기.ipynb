{
 "cells": [
  {
   "cell_type": "markdown",
   "metadata": {},
   "source": [
    "### >> 문제: programmers L1: [문자열 내림차순으로 배치하기](https://programmers.co.kr/learn/courses/30/lessons/12917)\n",
    "\n",
    "문자열 s에 나타나는 문자를 큰것부터 작은 순으로 정렬해 새로운 문자열을 리턴하는 함수, solution을 완성해주세요.  \n",
    "s는 영문 대소문자로만 구성되어 있으며, 대문자는 소문자보다 작은 것으로 간주합니다.\n",
    "\n",
    "* str은 길이 1 이상인 문자열입니다.\n",
    "\n",
    "*출처: 프로그래머스 코딩 테스트 연습, https://programmers.co.kr/learn/challenges*"
   ]
  },
  {
   "cell_type": "code",
   "execution_count": 9,
   "metadata": {},
   "outputs": [
    {
     "name": "stdout",
     "output_type": "stream",
     "text": [
      "gfedcbZ  >> gfedcbZ\n"
     ]
    }
   ],
   "source": [
    "def solution(s):\n",
    "    answer = ''\n",
    "    lower = [] # 소문자를 저장할 배열\n",
    "    upper = [] # 대문자를 저장할 배열\n",
    "    for i in s:\n",
    "        if \"a\" <= i <= \"z\": \n",
    "            lower.append(i)\n",
    "        else:\n",
    "            upper.append(i)\n",
    "    lower.sort(reverse=True) # 소문자 배열 정렬\n",
    "    upper.sort(reverse=True) # 대문자 배열 정렬\n",
    "    \n",
    "    for u in upper:\n",
    "        lower.append(u) # 소문자 배열 뒤에 대문자 추가\n",
    "    answer = \"\".join(lower) # 배열을 문자열으로 \n",
    "    return answer\n",
    "\n",
    "print(solution(\"Zbcdefg\"), \" >> gfedcbZ\")"
   ]
  },
  {
   "cell_type": "code",
   "execution_count": 10,
   "metadata": {},
   "outputs": [
    {
     "name": "stdout",
     "output_type": "stream",
     "text": [
      "gfedcbZ  >> gfedcbZ\n"
     ]
    }
   ],
   "source": [
    "def solution(s):\n",
    "    # 기본적으로 대문자는 소문자보다 작은 것으로 간주되어있다\n",
    "    # 따라서 역순으로 정렬하면 끝이다\n",
    "    answer = ''.join(sorted(s, reverse=True))\n",
    "    return answer\n",
    "\n",
    "print(solution(\"Zbcdefg\"), \" >> gfedcbZ\")"
   ]
  }
 ],
 "metadata": {
  "kernelspec": {
   "display_name": "Python 3",
   "language": "python",
   "name": "python3"
  },
  "language_info": {
   "codemirror_mode": {
    "name": "ipython",
    "version": 3
   },
   "file_extension": ".py",
   "mimetype": "text/x-python",
   "name": "python",
   "nbconvert_exporter": "python",
   "pygments_lexer": "ipython3",
   "version": "3.7.1"
  }
 },
 "nbformat": 4,
 "nbformat_minor": 2
}
