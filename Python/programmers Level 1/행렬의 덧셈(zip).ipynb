{
 "cells": [
  {
   "cell_type": "markdown",
   "metadata": {},
   "source": [
    "### >> 문제: programmers L1: [행렬의 덧셈](https://programmers.co.kr/learn/courses/30/lessons/12950)\n",
    "\n",
    "행렬의 덧셈은 행과 열의 크기가 같은 두 행렬의 같은 행, 같은 열의 값을 서로 더한 결과가 됩니다.  \n",
    "2개의 행렬 arr1과 arr2를 입력받아, 행렬 덧셈의 결과를 반환하는 함수, solution을 완성해주세요.\n",
    "\n",
    "* 행렬 arr1, arr2의 행과 열의 길이는 500을 넘지 않습니다.\n",
    "\n",
    "*출처: 프로그래머스 코딩 테스트 연습, https://programmers.co.kr/learn/challenges*"
   ]
  },
  {
   "cell_type": "markdown",
   "metadata": {},
   "source": [
    "### >> 풀이"
   ]
  },
  {
   "cell_type": "code",
   "execution_count": 1,
   "metadata": {},
   "outputs": [
    {
     "name": "stdout",
     "output_type": "stream",
     "text": [
      "[[4, 6], [7, 9]]  >> [[4,6],[7,9]]\n",
      "[[4], [6]]  >> [[4],[6]]\n"
     ]
    }
   ],
   "source": [
    "def solution(arr1, arr2):\n",
    "    answer = []\n",
    "    for i in range(len(arr1)):\n",
    "        answer.append([])\n",
    "        for j in range(len(arr1[i])):\n",
    "            answer[i].append(arr1[i][j]+arr2[i][j])\n",
    "    \n",
    "    return answer\n",
    "\n",
    "print(solution([[1,2],[2,3]],[[3,4],[5,6]]),\" >> [[4,6],[7,9]]\")\n",
    "print(solution([[1],[2]],[[3],[4]]),\" >> [[4],[6]]\")"
   ]
  },
  {
   "cell_type": "markdown",
   "metadata": {},
   "source": [
    "### >> 다른풀이"
   ]
  },
  {
   "cell_type": "code",
   "execution_count": 2,
   "metadata": {},
   "outputs": [
    {
     "name": "stdout",
     "output_type": "stream",
     "text": [
      "[[4, 6], [7, 9]]  >> [[4,6],[7,9]]\n",
      "[[4], [6]]  >> [[4],[6]]\n"
     ]
    }
   ],
   "source": [
    "def solution(arr1, arr2):\n",
    "    return [[col1+col2 for col1,col2 in zip(row1,row2)] for row1, row2 in zip(arr1, arr2)]\n",
    "\n",
    "print(solution([[1,2],[2,3]],[[3,4],[5,6]]),\" >> [[4,6],[7,9]]\")\n",
    "print(solution([[1],[2]],[[3],[4]]),\" >> [[4],[6]]\")"
   ]
  }
 ],
 "metadata": {
  "kernelspec": {
   "display_name": "Python 3",
   "language": "python",
   "name": "python3"
  },
  "language_info": {
   "codemirror_mode": {
    "name": "ipython",
    "version": 3
   },
   "file_extension": ".py",
   "mimetype": "text/x-python",
   "name": "python",
   "nbconvert_exporter": "python",
   "pygments_lexer": "ipython3",
   "version": "3.7.1"
  }
 },
 "nbformat": 4,
 "nbformat_minor": 2
}
