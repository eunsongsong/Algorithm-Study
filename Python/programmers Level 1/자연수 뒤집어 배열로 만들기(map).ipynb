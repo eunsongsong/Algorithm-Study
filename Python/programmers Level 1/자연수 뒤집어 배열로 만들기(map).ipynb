{
 "cells": [
  {
   "cell_type": "markdown",
   "metadata": {},
   "source": [
    "### >> 문제: programmers L1:[자연수 뒤집어 배열로 만들기](https://programmers.co.kr/learn/courses/30/lessons/12932)\n",
    "\n",
    "자연수 n을 뒤집어 각 자리 숫자를 원소로 가지는 배열 형태로 리턴해주세요.  \n",
    "예를들어, n이 12345이면 [5,4,3,2,1]을 리턴합니다.\n",
    "\n",
    "* n은 10,000,000,000이하인 자연수입니다.\n",
    "\n",
    "*출처: 프로그래머스 코딩 테스트 연습, https://programmers.co.kr/learn/challenges*"
   ]
  },
  {
   "cell_type": "markdown",
   "metadata": {},
   "source": [
    "### >> 풀이"
   ]
  },
  {
   "cell_type": "code",
   "execution_count": 1,
   "metadata": {},
   "outputs": [
    {
     "name": "stdout",
     "output_type": "stream",
     "text": [
      "[5, 4, 3, 2, 1]  >> [5,4,3,2,1]\n"
     ]
    }
   ],
   "source": [
    "def solution(n):\n",
    "    answer = []\n",
    "    s = str(n) # 주어진 자연수를 문자열으로\n",
    "    for i in range(len(s)):\n",
    "        answer.append(int(s[i]))\n",
    "    answer.reverse()\n",
    "    return answer\n",
    "\n",
    "print(solution(12345),\" >> [5,4,3,2,1]\")"
   ]
  },
  {
   "cell_type": "markdown",
   "metadata": {},
   "source": [
    "### >> 다른풀이"
   ]
  },
  {
   "cell_type": "code",
   "execution_count": 3,
   "metadata": {
    "scrolled": false
   },
   "outputs": [
    {
     "name": "stdout",
     "output_type": "stream",
     "text": [
      "[5, 4, 3, 2, 1]  >> [5,4,3,2,1]\n",
      "[3, 2, 1, 3, 2, 1]  >> [3,2,1,3,2,1]\n"
     ]
    }
   ],
   "source": [
    "def solution(n):\n",
    "    return list(map(int, reversed(str(n))))\n",
    "\n",
    "print(solution(12345),\" >> [5,4,3,2,1]\")\n",
    "print(solution(123123), \" >> [3,2,1,3,2,1]\")"
   ]
  }
 ],
 "metadata": {
  "kernelspec": {
   "display_name": "Python 3",
   "language": "python",
   "name": "python3"
  },
  "language_info": {
   "codemirror_mode": {
    "name": "ipython",
    "version": 3
   },
   "file_extension": ".py",
   "mimetype": "text/x-python",
   "name": "python",
   "nbconvert_exporter": "python",
   "pygments_lexer": "ipython3",
   "version": "3.7.1"
  }
 },
 "nbformat": 4,
 "nbformat_minor": 2
}
