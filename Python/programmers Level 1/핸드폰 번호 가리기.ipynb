{
 "cells": [
  {
   "cell_type": "markdown",
   "metadata": {},
   "source": [
    "### >> 문제: programmers L1: [핸드폰 번호 가리기](https://programmers.co.kr/learn/courses/30/lessons/12948)\n",
    "\n",
    "프로그래머스 모바일은 개인정보 보호를 위해 고지서를 보낼 때 고객들의 전화번호의 일부를 가립니다.  \n",
    "전화번호가 문자열 phone_number로 주어졌을 때,  \n",
    "전화번호의 뒷 4자리를 제외한 나머지 숫자를 전부 *으로 가린 문자열을 리턴하는 함수, solution을 완성해주세요.\n",
    "\n",
    "* s는 길이 4 이상, 20이하인 문자열입니다.\n",
    "\n",
    "*출처: 프로그래머스 코딩 테스트 연습, https://programmers.co.kr/learn/challenges*"
   ]
  },
  {
   "cell_type": "markdown",
   "metadata": {},
   "source": [
    "### >> 풀이"
   ]
  },
  {
   "cell_type": "code",
   "execution_count": 1,
   "metadata": {},
   "outputs": [
    {
     "name": "stdout",
     "output_type": "stream",
     "text": [
      "*******4444  >> *******4444\n",
      "*****8888  >> *****8888\n"
     ]
    }
   ],
   "source": [
    "def solution(phone_number):\n",
    "    return phone_number.replace(phone_number[0:-4], \"*\"*(len(phone_number)-4))\n",
    "    \n",
    "print(solution(\"01033334444\"), \" >> *******4444\")\n",
    "print(solution(\"027778888\"), \" >> *****8888\")"
   ]
  },
  {
   "cell_type": "code",
   "execution_count": 2,
   "metadata": {},
   "outputs": [
    {
     "name": "stdout",
     "output_type": "stream",
     "text": [
      "*******4444  >> *******4444\n",
      "*****8888  >> *****8888\n"
     ]
    }
   ],
   "source": [
    "def solution(phone_number):\n",
    "    return \"*\"*(len(phone_number)-4) + phone_number[-4:]\n",
    "    \n",
    "print(solution(\"01033334444\"), \" >> *******4444\")\n",
    "print(solution(\"027778888\"), \" >> *****8888\")"
   ]
  }
 ],
 "metadata": {
  "kernelspec": {
   "display_name": "Python 3",
   "language": "python",
   "name": "python3"
  },
  "language_info": {
   "codemirror_mode": {
    "name": "ipython",
    "version": 3
   },
   "file_extension": ".py",
   "mimetype": "text/x-python",
   "name": "python",
   "nbconvert_exporter": "python",
   "pygments_lexer": "ipython3",
   "version": "3.7.1"
  }
 },
 "nbformat": 4,
 "nbformat_minor": 2
}
