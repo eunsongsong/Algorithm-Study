{
 "cells": [
  {
   "cell_type": "markdown",
   "metadata": {},
   "source": [
    "### >> 문제: programmers L1:[하샤드 수](https://programmers.co.kr/learn/courses/30/lessons/12947)\n",
    "\n",
    "양의 정수 x가 하샤드 수이려면 x의 자릿수의 합으로 x가 나누어져야 합니다.  \n",
    "예를 들어, 18의 자릿수 합은 1+8=9이고, 18은 9로 나누어 떨어지므로 18은 하샤드 수입니다.  \n",
    "자연수 x를 입력받아 x가 하샤드 수인지 아닌지 검사하는 함수, solution을 완성해주세요.\n",
    "\n",
    "* x는 1 이상, 10000 이하인 정수입니다.\n",
    "\n",
    "*출처: 프로그래머스 코딩 테스트 연습, https://programmers.co.kr/learn/challenges*"
   ]
  },
  {
   "cell_type": "markdown",
   "metadata": {},
   "source": [
    "### >> 풀이"
   ]
  },
  {
   "cell_type": "code",
   "execution_count": 11,
   "metadata": {},
   "outputs": [
    {
     "name": "stdout",
     "output_type": "stream",
     "text": [
      "True  >> True\n",
      "True  >> True\n",
      "False  >> False\n",
      "False  >> False\n"
     ]
    }
   ],
   "source": [
    "def solution(x):\n",
    "    answer = True\n",
    "    s = str(x) # 숫자를 문자열으로\n",
    "    arr = []\n",
    "    add = 0\n",
    "    for i in range(len(s)): # 각 자릿수를 리스트로\n",
    "        arr.append(s[i])\n",
    "    for i in arr: # 각 자릿수를 합\n",
    "        i = int(i)\n",
    "        add += i\n",
    "    if x % add != 0: # 하샤드 수가 아니면 false\n",
    "        answer = False\n",
    "        \n",
    "    return answer\n",
    "\n",
    "print(solution(10), \" >> True\")\n",
    "print(solution(12), \" >> True\")\n",
    "print(solution(11), \" >> False\")\n",
    "print(solution(13), \" >> False\")"
   ]
  },
  {
   "cell_type": "markdown",
   "metadata": {},
   "source": [
    "map"
   ]
  },
  {
   "cell_type": "code",
   "execution_count": 8,
   "metadata": {},
   "outputs": [
    {
     "name": "stdout",
     "output_type": "stream",
     "text": [
      "True  >> True\n",
      "True  >> True\n",
      "False  >> False\n",
      "False  >> False\n"
     ]
    }
   ],
   "source": [
    "def solution(x):\n",
    "    return True if x % sum(map(int, str(x))) == 0 else False\n",
    "\n",
    "print(solution(10), \" >> True\")\n",
    "print(solution(12), \" >> True\")\n",
    "print(solution(11), \" >> False\")\n",
    "print(solution(13), \" >> False\")"
   ]
  }
 ],
 "metadata": {
  "kernelspec": {
   "display_name": "Python 3",
   "language": "python",
   "name": "python3"
  },
  "language_info": {
   "codemirror_mode": {
    "name": "ipython",
    "version": 3
   },
   "file_extension": ".py",
   "mimetype": "text/x-python",
   "name": "python",
   "nbconvert_exporter": "python",
   "pygments_lexer": "ipython3",
   "version": "3.7.1"
  }
 },
 "nbformat": 4,
 "nbformat_minor": 2
}
