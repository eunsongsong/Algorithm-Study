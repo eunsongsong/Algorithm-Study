{
 "cells": [
  {
   "cell_type": "markdown",
   "metadata": {},
   "source": [
    "### >> 문제: programmers L1: [키패드 누르기](https://programmers.co.kr/learn/courses/30/lessons/67256)\n",
    "\n",
    "<img src=\"https://grepp-programmers.s3.ap-northeast-2.amazonaws.com/files/production/4b69a271-5f4a-4bf4-9ebf-6ebed5a02d8d/kakao_phone1.png\" title=\"[출처: https://programmers.co.kr/learn/challenges]\" width=30% align=\"right\">  \n",
    "스마트폰 전화 키패드의 각 칸에 다음과 같이 숫자들이 적혀 있습니다.  \n",
    "\n",
    "이 전화 키패드에서 왼손과 오른손의 엄지손가락만을 이용해서 숫자만을 입력하려고 합니다.  \n",
    "맨 처음 왼손 엄지손가락은 * 키패드에 오른손 엄지손가락은 # 키패드 위치에서 시작하며,  \n",
    "엄지손가락을 사용하는 규칙은 다음과 같습니다.\n",
    "\n",
    "1. 엄지손가락은 상하좌우 4가지 방향으로만 이동할 수 있으며 키패드 이동 한 칸은 거리로 1에 해당합니다.  \n",
    "2. 왼쪽 열의 3개의 숫자 1, 4, 7을 입력할 때는 왼손 엄지손가락을 사용합니다.  \n",
    "3. 오른쪽 열의 3개의 숫자 3, 6, 9를 입력할 때는 오른손 엄지손가락을 사용합니다.  \n",
    "4. **가운데 열의 4개의 숫자 2, 5, 8, 0을 입력할 때는 두 엄지손가락의 현재 키패드의 위치에서 더 가까운 엄지손가락을 사용**합니다. \n",
    "    - 만약 두 엄지손가락의 **거리가 같다면, 오른손잡이는 오른손 엄지손가락, 왼손잡이는 왼손 엄지손가락을 사용**합니다. 순서대로 누를 번호가 담긴 배열 numbers, 왼손잡이인지 오른손잡이인 지를 나타내는 문자열 hand가 매개변수로 주어질 때, 각 번호를 누른 엄지손가락이 왼손인 지 오른손인 지를 나타내는 연속된 문자열 형태로 return 하도록 solution 함수를 완성해주세요.\n",
    "\n",
    "[제한사항]  \n",
    "- numbers 배열의 크기는 1 이상 1,000 이하입니다.\n",
    "- numbers 배열 원소의 값은 0 이상 9 이하인 정수입니다.\n",
    "- hand는 \"left\" 또는 \"right\" 입니다.\n",
    "- \"left\"는 왼손잡이, \"right\"는 오른손잡이를 의미합니다.\n",
    "- 왼손 엄지손가락을 사용한 경우는 L, 오른손 엄지손가락을 사용한 경우는 R을 순서대로 이어붙여 문자열 형태로 return 해주세요.\n",
    "\n",
    "\n",
    "*출처: 프로그래머스 코딩 테스트 연습, https://programmers.co.kr/learn/challenges*"
   ]
  },
  {
   "cell_type": "markdown",
   "metadata": {},
   "source": [
    "### >> 풀이"
   ]
  },
  {
   "cell_type": "code",
   "execution_count": 4,
   "metadata": {},
   "outputs": [
    {
     "name": "stdout",
     "output_type": "stream",
     "text": [
      "True\n",
      "True\n",
      "True\n"
     ]
    }
   ],
   "source": [
    "def solution(numbers, hand):\n",
    "    answer = ''\n",
    "    position = [[1,4,7,\"*\"],[2,5,8,0],[3,6,9,\"#\"]] # 키패드 모양을 담은 리스트\n",
    "    position_L = (0, 3) # 왼손의 위치\n",
    "    position_R = (2, 3) # 오른손의 위치\n",
    "\n",
    "    for num in numbers:\n",
    "        if num in position[0]: # num이 왼쪽 열의 숫자일 경우\n",
    "            answer += 'L'\n",
    "            position_L = (0, position[0].index(num))\n",
    "        elif num in position[2]: # num이 오른쪽 열의 숫자일 경우\n",
    "            answer += 'R'\n",
    "            position_R = (2, position[2].index(num))\n",
    "        else: # num이 가운데 열의 숫자일 경우\n",
    "            position_num = (1, position[1].index(num)) # num의 위치\n",
    "            # num과 왼손/오른손과의 거리를 각각 구한다\n",
    "            distanceL = abs(position_num[0]-position_L[0]) + abs(position_num[1]-position_L[1])\n",
    "            distanceR = abs(position_num[0]-position_R[0]) + abs(position_num[1]-position_R[1])\n",
    "            # num과 왼손/오른손과의 거리가 같으면 왼손잡이인지 오른손잡이인지 확인\n",
    "            if distanceL == distanceR:\n",
    "                if hand == \"left\":\n",
    "                    answer += \"L\"\n",
    "                    position_L = position_num\n",
    "                else: \n",
    "                    answer += \"R\"\n",
    "                    position_R = position_num\n",
    "            # num과 왼손과의 거리가 더 가까우면 왼속으로 클릭\n",
    "            elif distanceL < distanceR:\n",
    "                answer += \"L\"\n",
    "                position_L = position_num\n",
    "            # numr과 오른손과의 거리가 더 가까우면 오른손으로 클릭\n",
    "            else:\n",
    "                answer += \"R\"\n",
    "                position_R = position_num\n",
    "   \n",
    "    return answer\n",
    "\n",
    "print(solution([1, 3, 4, 5, 8, 2, 1, 4, 5, 9, 5],\"right\") == \"LRLLLRLLRRL\")\n",
    "print(solution([7, 0, 8, 2, 8, 3, 1, 5, 7, 6, 2],\"left\") == \"LRLLRRLLLRR\")\n",
    "print(solution([1, 2, 3, 4, 5, 6, 7, 8, 9, 0],\"right\") == \"LLRLLRLLRL\")"
   ]
  },
  {
   "cell_type": "code",
   "execution_count": null,
   "metadata": {},
   "outputs": [],
   "source": []
  },
  {
   "cell_type": "code",
   "execution_count": null,
   "metadata": {},
   "outputs": [],
   "source": []
  }
 ],
 "metadata": {
  "kernelspec": {
   "display_name": "Python 3",
   "language": "python",
   "name": "python3"
  },
  "language_info": {
   "codemirror_mode": {
    "name": "ipython",
    "version": 3
   },
   "file_extension": ".py",
   "mimetype": "text/x-python",
   "name": "python",
   "nbconvert_exporter": "python",
   "pygments_lexer": "ipython3",
   "version": "3.7.1"
  }
 },
 "nbformat": 4,
 "nbformat_minor": 2
}
