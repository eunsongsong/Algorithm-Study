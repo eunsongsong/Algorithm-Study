{
 "cells": [
  {
   "cell_type": "markdown",
   "metadata": {},
   "source": [
    "### >> 문제: programmers L1:[시저 암호](https://programmers.co.kr/learn/courses/30/lessons/12926)\n",
    "\n",
    "어떤 문장의 각 알파벳을 일정한 거리만큼 밀어서 다른 알파벳으로 바꾸는 암호화 방식을 시저 암호라고 합니다.  \n",
    "예를 들어, AB는 1만큼 밀면 BC가 되고, 3만큼 밀면 DE가 됩니다. z는 1만큼 밀면 a가 됩니다.  \n",
    "문자열 s와 거리 n을 입력받아 s를 n만큼 민 암호문을 만드는 함수, solution을 완성해 보세요.\n",
    "\n",
    "* 공백은 아무리 밀어도 공백입니다.\n",
    "* s는 알파벳 소문자, 대문자, 공백으로만 이루어져 있습니다.\n",
    "* s의 길이는 8000이하입니다.\n",
    "* n은 1 이상, 25이하인 자연수입니다.\n",
    "\n",
    "*출처: 프로그래머스 코딩 테스트 연습, https://programmers.co.kr/learn/challenges*"
   ]
  },
  {
   "cell_type": "markdown",
   "metadata": {},
   "source": [
    "### >> 풀이"
   ]
  },
  {
   "cell_type": "code",
   "execution_count": 1,
   "metadata": {},
   "outputs": [
    {
     "name": "stdout",
     "output_type": "stream",
     "text": [
      "a  >> a\n",
      "BC  >> BC\n",
      "a  >> a\n",
      "e F d  >> e F d\n",
      "Gdkkn Vnqkc  >> Gdkkn Vnqkc\n"
     ]
    }
   ],
   "source": [
    "def solution(s, n):\n",
    "    answer = \"\"\n",
    "    \n",
    "    for i in range(len(s)):\n",
    "        if s[i].islower():\n",
    "            answer += chr(((ord(s[i]) - ord(\"a\") + n) % 26) + ord(\"a\"))\n",
    "        elif s[i].isupper():\n",
    "            answer += chr(((ord(s[i]) - ord(\"A\") + n) % 26) + ord(\"A\"))\n",
    "        elif s[i] == \" \":\n",
    "            answer += \" \"\n",
    "\n",
    "    return answer\n",
    "\n",
    "print(solution(\"a\",26), \" >> a\")\n",
    "print(solution(\"AB\",1), \" >> BC\")\n",
    "print(solution(\"z\",1), \" >> a\")\n",
    "print(solution(\"a B z\",4),\" >> e F d\")\n",
    "print(solution(\"Hello World\", 25), \" >> Gdkkn Vnqkc\")"
   ]
  }
 ],
 "metadata": {
  "kernelspec": {
   "display_name": "Python 3",
   "language": "python",
   "name": "python3"
  },
  "language_info": {
   "codemirror_mode": {
    "name": "ipython",
    "version": 3
   },
   "file_extension": ".py",
   "mimetype": "text/x-python",
   "name": "python",
   "nbconvert_exporter": "python",
   "pygments_lexer": "ipython3",
   "version": "3.7.1"
  }
 },
 "nbformat": 4,
 "nbformat_minor": 2
}
