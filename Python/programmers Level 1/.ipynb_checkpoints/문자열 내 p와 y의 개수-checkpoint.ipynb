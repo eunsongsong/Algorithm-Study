{
 "cells": [
  {
   "cell_type": "markdown",
   "metadata": {},
   "source": [
    "### >> 문제: programmers L1: [문자열 내 p와 y의 개수](https://programmers.co.kr/learn/courses/30/lessons/12916)\n",
    "\n",
    "대문자와 소문자가 섞여있는 문자열 s가 주어집니다.  \n",
    "s에 'p'의 개수와 'y'의 개수를 비교해 같으면 True, 다르면 False를 return 하는 solution를 완성하세요.  \n",
    "'p', 'y' 모두 하나도 없는 경우는 항상 True를 리턴합니다.  \n",
    "단, 개수를 비교할 때 대문자와 소문자는 구별하지 않습니다.\n",
    "\n",
    "예를 들어, s가 pPoooyY면 true를 return하고 Pyy라면 false를 return합니다.\n",
    "\n",
    "* 문자열 s의 길이 : 50 이하의 자연수\n",
    "* 문자열 s는 알파벳으로만 이루어져 있습니다.\n",
    "\n",
    "*출처: 프로그래머스 코딩 테스트 연습, https://programmers.co.kr/learn/challenges*"
   ]
  },
  {
   "cell_type": "markdown",
   "metadata": {},
   "source": [
    "### >> 정답"
   ]
  },
  {
   "cell_type": "code",
   "execution_count": 1,
   "metadata": {},
   "outputs": [
    {
     "name": "stdout",
     "output_type": "stream",
     "text": [
      "True  >> True\n",
      "False  >> False\n"
     ]
    }
   ],
   "source": [
    "def solution(s):\n",
    "    answer = True\n",
    "    \n",
    "    s = s.lower()\n",
    "    if s.count(\"p\") != s.count(\"y\"):\n",
    "        answer = False\n",
    "        \n",
    "    return answer\n",
    "\n",
    "print(solution(\"pPoooyY\"), \" >> True\")\n",
    "print(solution(\"Pyy\"), \" >> False\")"
   ]
  },
  {
   "cell_type": "code",
   "execution_count": 2,
   "metadata": {},
   "outputs": [
    {
     "name": "stdout",
     "output_type": "stream",
     "text": [
      "True  >> True\n",
      "False  >> False\n"
     ]
    }
   ],
   "source": [
    "def solution(s):\n",
    "    answer = True\n",
    "    \n",
    "    if s.lower().count(\"p\") != s.lower().count(\"y\"):\n",
    "        answer = False\n",
    "        \n",
    "    return answer\n",
    "print(solution(\"pPoooyY\"), \" >> True\")\n",
    "print(solution(\"Pyy\"), \" >> False\")"
   ]
  }
 ],
 "metadata": {
  "kernelspec": {
   "display_name": "Python 3",
   "language": "python",
   "name": "python3"
  },
  "language_info": {
   "codemirror_mode": {
    "name": "ipython",
    "version": 3
   },
   "file_extension": ".py",
   "mimetype": "text/x-python",
   "name": "python",
   "nbconvert_exporter": "python",
   "pygments_lexer": "ipython3",
   "version": "3.7.1"
  }
 },
 "nbformat": 4,
 "nbformat_minor": 2
}
