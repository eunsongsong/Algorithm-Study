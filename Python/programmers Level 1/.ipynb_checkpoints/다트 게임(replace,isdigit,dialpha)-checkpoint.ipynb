{
 "cells": [
  {
   "cell_type": "markdown",
   "metadata": {},
   "source": [
    "### >> 문제: programmers L1:[다트 게임](https://programmers.co.kr/learn/courses/30/lessons/17682)\n",
    "\n",
    "1. 다트 게임은 총 3번의 기회로 구성된다.\n",
    "2. 각 기회마다 얻을 수 있는 점수는 0점에서 10점까지이다.\n",
    "3. 점수와 함께 Single(S), Double(D), Triple(T) 영역이 존재하고  \n",
    "각 영역 당첨 시 점수에서 1제곱, 2제곱, 3제곱으로 계산된다.\n",
    "4. 옵션으로 스타상(\\*) , 아차상(#)이 존재하며,  \n",
    "**스타상(\\*) 당첨 시 해당 점수와 바로 전에 얻은 점수를 각 2배로 만든다.  \n",
    "아차상(#) 당첨 시 해당 점수는 마이너스된다.**\n",
    "5. 스타상(\\*)은 첫 번째 기회에서도 나올 수 있다.  \n",
    "이 경우 첫 번째 스타상(\\*)의 점수만 2배가 된다. (예제 4번 참고)\n",
    "6. 스타상(\\*)의 효과는 다른 스타상(\\*)의 효과와 중첩될 수 있다.  \n",
    "이 경우 중첩된 스타상(\\*) 점수는 4배가 된다. (예제 4번 참고)\n",
    "7. 스타상(\\*)의 효과는 아차상(#)의 효과와 중첩될 수 있다.  \n",
    "이 경우 중첩된 아차상(#)의 점수는 -2배가 된다. (예제 5번 참고)\n",
    "8. Single(S), Double(D), Triple(T)은 점수마다 하나씩 존재한다.\n",
    "9. 스타상(\\*), 아차상(#)은 점수마다 둘 중 하나만 존재할 수 있으며, 존재하지 않을 수도 있다.  \n",
    "\n",
    "0~10의 정수와 문자 S, D, T, *, #로 구성된 문자열이 입력될 시 총점수를 반환하는 함수를 작성하라.\n",
    "\n",
    "\n",
    "* 점수|보너스|[옵션]으로 이루어진 문자열 3세트.\n",
    "예) 1S2D*3T\n",
    "\n",
    "* 점수는 0에서 10 사이의 정수이다.\n",
    "* 보너스는 S, D, T 중 하나이다.\n",
    "* 옵선은 *이나 # 중 하나이며, 없을 수도 있다.  \n",
    "\n",
    "\n",
    "*출처: 프로그래머스 코딩 테스트 연습, https://programmers.co.kr/learn/challenges*"
   ]
  },
  {
   "cell_type": "markdown",
   "metadata": {},
   "source": [
    "### >> 풀이"
   ]
  },
  {
   "cell_type": "code",
   "execution_count": 1,
   "metadata": {},
   "outputs": [
    {
     "name": "stdout",
     "output_type": "stream",
     "text": [
      "['1', 'S', '*', '2', 'T', '*', '3', 'S']\n",
      "23  >> 23\n",
      "['1', 'D', '2', 'S', '#', '10', 'S']\n",
      "9  >> 9\n",
      "['1', 'S', '2', 'D', '*', '3', 'T']\n",
      "37  >> 37\n",
      "['1', 'D', '2', 'S', '0', 'T']\n",
      "3  >> 3\n",
      "['1', 'D', '#', '2', 'S', '*', '3', 'S']\n",
      "5  >> 5\n",
      "['1', 'T', '2', 'D', '3', 'D', '#']\n",
      "-4  >> -4\n",
      "['1', 'D', '2', 'S', '3', 'T', '*']\n",
      "59  >> 59\n"
     ]
    }
   ],
   "source": [
    "def solution(dartResult):\n",
    "    score = []\n",
    "    bonus = [\"S\", \"D\", \"T\"] # 해당 문자가 나오면 index+1만큼 제곱\n",
    "    # 두 자리 숫자는 10뿐이므로 10인 경우 $로 바꿔주고,\n",
    "    # 한 글자씩 쪼개서 리스트를 만들어준다($이면 다시 10으로 바꿈)\n",
    "    dartResult = [\"10\" if i == \"$\" else i for i in dartResult.replace(\"10\",\"$\")]\n",
    "    print(dartResult)\n",
    "    \n",
    "    for i in dartResult:\n",
    "        if i.isdigit(): # 숫자이면 score에 추가\n",
    "            score.append(i)\n",
    "        elif i.isalpha(): # 알파벳이면 현재 점수를 index+1만큼 제곱\n",
    "            score[-1] = int(score[-1])**(bonus.index(i)+1)\n",
    "        elif i == \"*\": # 스타상이면 현재 점수를 두배\n",
    "            score[-1] *= 2\n",
    "            if len(score) > 1: # 이전 점수도 두배(첫 번째에서 스타상이 아닐 경우)\n",
    "                score[-2] *= 2\n",
    "        else: # 아차상이면 점수 마이너스\n",
    "            score[-1] *= (-1)\n",
    "\n",
    "    return sum(score)\n",
    "\n",
    "print(solution(\"1S*2T*3S\"), \" >> 23\")\n",
    "print(solution(\"1D2S#10S\"), \" >> 9\")\n",
    "print(solution(\"1S2D*3T\"), \" >> 37\")\n",
    "print(solution(\"1D2S0T\"), \" >> 3\")\n",
    "print(solution(\"1D#2S*3S\"), \" >> 5\")\n",
    "print(solution(\"1T2D3D#\"), \" >> -4\")\n",
    "print(solution(\"1D2S3T*\"), \" >> 59\")"
   ]
  }
 ],
 "metadata": {
  "kernelspec": {
   "display_name": "Python 3",
   "language": "python",
   "name": "python3"
  },
  "language_info": {
   "codemirror_mode": {
    "name": "ipython",
    "version": 3
   },
   "file_extension": ".py",
   "mimetype": "text/x-python",
   "name": "python",
   "nbconvert_exporter": "python",
   "pygments_lexer": "ipython3",
   "version": "3.7.1"
  }
 },
 "nbformat": 4,
 "nbformat_minor": 2
}
