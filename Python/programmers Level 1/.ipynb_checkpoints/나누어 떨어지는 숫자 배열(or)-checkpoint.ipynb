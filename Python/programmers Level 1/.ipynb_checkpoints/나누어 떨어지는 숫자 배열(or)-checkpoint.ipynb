{
 "cells": [
  {
   "cell_type": "markdown",
   "metadata": {},
   "source": [
    "### >> 문제: programmers L1: [나누어 떨어지는 숫자 배열](https://programmers.co.kr/learn/courses/30/lessons/12910)\n",
    "\n",
    "array의 각 element 중 divisor로 나누어 떨어지는 값을  \n",
    "오름차순으로 정렬한 배열을 반환하는 함수, solution을 작성해주세요.   \n",
    "divisor로 나누어 떨어지는 element가 하나도 없다면 배열에 -1을 담아 반환하세요.\n",
    "\n",
    "* arr은 자연수를 담은 배열입니다.\n",
    "* 정수 i, j에 대해 i ≠ j 이면 arr[i] ≠ arr[j] 입니다.\n",
    "* divisor는 자연수입니다.\n",
    "* array는 길이 1 이상인 배열입니다.\n",
    "\n",
    "*출처: 프로그래머스 코딩 테스트 연습, https://programmers.co.kr/learn/challenges*"
   ]
  },
  {
   "cell_type": "markdown",
   "metadata": {},
   "source": [
    "### >> 정답"
   ]
  },
  {
   "cell_type": "code",
   "execution_count": 1,
   "metadata": {},
   "outputs": [
    {
     "name": "stdout",
     "output_type": "stream",
     "text": [
      "[5, 10]  >> [5,10]\n",
      "[1, 2, 3, 36]  >> [1, 2, 3, 36]\n",
      "[-1]  >> [-1]\n"
     ]
    }
   ],
   "source": [
    "def solution(arr, divisor):\n",
    "    answer = []\n",
    "    for a in arr:\n",
    "        if a % divisor == 0: # 각 원소를 divisor로 나눈 나머지가 0이면\n",
    "            answer.append(a) # 배열 answer에 추가\n",
    "    if answer == []: # answer가 비어있으면\n",
    "        answer.append(-1) # 배열 answer에 -1 추가\n",
    "        return answer\n",
    "    answer.sort() # 배열 answer를 정렬\n",
    "    return answer\n",
    "\n",
    "print(solution([5, 9, 7, 10],5),\" >> [5,10]\")\n",
    "print(solution([2, 36, 1, 3],1),\" >> [1, 2, 3, 36]\")\n",
    "print(solution([3,2,6],10),\" >> [-1]\")"
   ]
  },
  {
   "cell_type": "markdown",
   "metadata": {},
   "source": [
    "### >> 다른풀이(or)"
   ]
  },
  {
   "cell_type": "code",
   "execution_count": 2,
   "metadata": {},
   "outputs": [
    {
     "name": "stdout",
     "output_type": "stream",
     "text": [
      "[5, 10]  >> [5,10]\n",
      "[1, 2, 3, 36]  >> [1, 2, 3, 36]\n",
      "[-1]  >> [-1]\n"
     ]
    }
   ],
   "source": [
    "def solution(arr, divisor): \n",
    "    return sorted([n for n in arr if n%divisor == 0]) or [-1]\n",
    "\n",
    "print(solution([5, 9, 7, 10],5),\" >> [5,10]\")\n",
    "print(solution([2, 36, 1, 3],1),\" >> [1, 2, 3, 36]\")\n",
    "print(solution([3,2,6],10),\" >> [-1]\")"
   ]
  }
 ],
 "metadata": {
  "kernelspec": {
   "display_name": "Python 3",
   "language": "python",
   "name": "python3"
  },
  "language_info": {
   "codemirror_mode": {
    "name": "ipython",
    "version": 3
   },
   "file_extension": ".py",
   "mimetype": "text/x-python",
   "name": "python",
   "nbconvert_exporter": "python",
   "pygments_lexer": "ipython3",
   "version": "3.7.1"
  }
 },
 "nbformat": 4,
 "nbformat_minor": 2
}
