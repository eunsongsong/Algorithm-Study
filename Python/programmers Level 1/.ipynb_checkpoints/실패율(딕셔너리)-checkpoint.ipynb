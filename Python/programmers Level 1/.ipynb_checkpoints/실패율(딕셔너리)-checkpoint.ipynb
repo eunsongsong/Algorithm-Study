{
 "cells": [
  {
   "cell_type": "markdown",
   "metadata": {},
   "source": [
    "### >> 문제: programmers L1: [실패율](https://programmers.co.kr/learn/courses/30/lessons/42889)\n",
    "\n",
    "실패율은 다음과 같이 정의한다.  \n",
    "* 스테이지에 도달했으나 아직 클리어하지 못한 플레이어의 수 / 스테이지에 도달한 플레이어 수  \n",
    "\n",
    "전체 스테이지의 개수 N,  \n",
    "게임을 이용하는 사용자가 현재 멈춰있는 스테이지의 번호가 담긴 배열 stages가 매개변수로 주어질 때,  \n",
    "실패율이 높은 스테이지부터 내림차순으로 스테이지의 번호가 담겨있는 배열을 return 하도록 solution 함수를 완성하라.\n",
    "\n",
    "\n",
    "* 스테이지의 개수 N은 1 이상 500 이하의 자연수이다.\n",
    "* stages의 길이는 1 이상 200,000 이하이다.\n",
    "* stages에는 1 이상 N + 1 이하의 자연수가 담겨있다.  \n",
    "각 자연수는 사용자가 현재 도전 중인 스테이지의 번호를 나타낸다.  \n",
    "단, N + 1 은 마지막 스테이지(N 번째 스테이지) 까지 클리어 한 사용자를 나타낸다.\n",
    "* 만약 실패율이 같은 스테이지가 있다면 작은 번호의 스테이지가 먼저 오도록 하면 된다.\n",
    "* 스테이지에 도달한 유저가 없는 경우 해당 스테이지의 실패율은 0 으로 정의한다.\n",
    "\n",
    "*출처: 프로그래머스 코딩 테스트 연습, https://programmers.co.kr/learn/challenges*"
   ]
  },
  {
   "cell_type": "markdown",
   "metadata": {},
   "source": [
    "### >> 풀이"
   ]
  },
  {
   "cell_type": "code",
   "execution_count": 1,
   "metadata": {},
   "outputs": [
    {
     "name": "stdout",
     "output_type": "stream",
     "text": [
      "{1: 0.125, 2: 0.42857142857142855, 3: 0.5, 4: 0.5, 5: 0.0}\n",
      "[3, 4, 2, 1, 5]  >> [3,4,2,1,5]\n",
      "\n",
      "{1: 0.0, 2: 0.0, 3: 0.0, 4: 1.0}\n",
      "[4, 1, 2, 3]  >> [4,1,2,3]\n"
     ]
    }
   ],
   "source": [
    "def solution(N, stages):\n",
    "    failure = dict()\n",
    "    arrival = len(stages) # 가장 낮은 스테이지에 도달한 플레이어 수 \n",
    "    for s in range(1, N+1):\n",
    "        if arrival != 0:\n",
    "            nonclear = stages.count(s) # 스테이지에 도달했으나 클리어하지 못한 수\n",
    "            failure[s] = nonclear / arrival\n",
    "            arrival -= nonclear # 다음 스테이지에 도달하지 못한 플레이어 뺌\n",
    "        else: # 도달한 플레이어가 0명\n",
    "            failure[s] = 0\n",
    "    print(failure)\n",
    "    \n",
    "    # values값을 기준으로 keys값을 역순으로 정렬\n",
    "    return sorted(failure, key=lambda x:failure[x], reverse=True)\n",
    "\n",
    "\n",
    "print(solution(5,[2, 1, 2, 6, 2, 4, 3, 3]),\" >> [3,4,2,1,5]\")\n",
    "print(\"\")\n",
    "print(solution(4,[4,4,4,4,4]),\" >> [4,1,2,3]\")"
   ]
  }
 ],
 "metadata": {
  "kernelspec": {
   "display_name": "Python 3",
   "language": "python",
   "name": "python3"
  },
  "language_info": {
   "codemirror_mode": {
    "name": "ipython",
    "version": 3
   },
   "file_extension": ".py",
   "mimetype": "text/x-python",
   "name": "python",
   "nbconvert_exporter": "python",
   "pygments_lexer": "ipython3",
   "version": "3.7.1"
  }
 },
 "nbformat": 4,
 "nbformat_minor": 2
}
