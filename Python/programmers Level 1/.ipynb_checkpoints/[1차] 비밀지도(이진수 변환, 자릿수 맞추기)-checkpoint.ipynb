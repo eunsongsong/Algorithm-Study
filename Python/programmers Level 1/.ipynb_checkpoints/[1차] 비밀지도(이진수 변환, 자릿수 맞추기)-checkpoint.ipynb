{
 "cells": [
  {
   "cell_type": "markdown",
   "metadata": {},
   "source": [
    "### >> 문제: programmers L1:[[1차] 비밀지도](https://programmers.co.kr/learn/courses/30/lessons/17681)\n",
    "<img src=\"http://t1.kakaocdn.net/welcome2018/secret8.png\" align=\"right\" height=\"30%\" width=\"30%\" title=\"[출처: https://programmers.co.kr/learn/challenges]\">  \n",
    "\n",
    "1. 지도는 한 변의 길이가 n인 정사각형 배열 형태로,  \n",
    "각 칸은 공백(\" ) 또는벽(#\") 두 종류로 이루어져 있다.  \n",
    "2. 전체 지도는 두 장의 지도를 겹쳐서 얻을 수 있다. 각각 지도 1과 지도 2라고 하자.  \n",
    "지도 1 또는 지도 2 중 어느 하나라도 벽인 부분은 전체 지도에서도 벽이다.  \n",
    "지도 1과 지도 2에서 모두 공백인 부분은 전체 지도에서도 공백이다.  \n",
    "3. 지도 1과 지도 2는 각각 정수 배열로 암호화되어 있다.  \n",
    "4. 암호화된 배열은 지도의 각 가로줄에서 벽 부분을 1, 공백 부분을 0으로  \n",
    "부호화했을 때 얻어지는 이진수에 해당하는 값의 배열이다.   \n",
    "\n",
    "\n",
    "* 1 ≦ n ≦ 16\n",
    "* arr1, arr2는 길이 n인 정수 배열로 주어진다.\n",
    "* 정수 배열의 각 원소 x를 이진수로 변환했을 때의 길이는 n 이하이다.  \n",
    "즉, 0 ≦ x ≦ 2n - 1을 만족한다.  \n",
    "\n",
    "\n",
    "원래의 비밀지도를 해독하여 '#', 공백으로 구성된 문자열 배열로 출력하라.\n",
    "\n",
    "*출처: 프로그래머스 코딩 테스트 연습, https://programmers.co.kr/learn/challenges*"
   ]
  },
  {
   "cell_type": "markdown",
   "metadata": {},
   "source": [
    "### >> 정답"
   ]
  },
  {
   "cell_type": "code",
   "execution_count": 13,
   "metadata": {},
   "outputs": [
    {
     "name": "stdout",
     "output_type": "stream",
     "text": [
      "['#####', '# # #', '### #', '#  ##', '#####']  >> [\"#####\",\"# # #\", \"### #\", \"# ##\", \"#####\"]\n",
      "['######', '###  #', '##  ##', ' #### ', ' #####', '### # ']  >> [\"######\", \"### #\", \"## ##\", \" #### \", \" #####\", \"### # \"]\n"
     ]
    }
   ],
   "source": [
    "def solution(n, arr1, arr2):\n",
    "    answer = []\n",
    "   \n",
    "    # 리스트 arr1 이진수 변환\n",
    "    for i in range(len(arr1)):\n",
    "        binary = bin(arr1[i])[2:] # bin으로 이진수 변환 하면 앞에 0b가 붙음\n",
    "        if len(binary) < n: # n자릿수 맞추기\n",
    "            arr1[i] = \"0\"*(n-len(binary))+binary\n",
    "        else:\n",
    "            arr1[i] = binary\n",
    "    # 리스트 arr2 이진수 변환\n",
    "    for i in range(len(arr2)):\n",
    "        binary = bin(arr2[i])[2:]\n",
    "        if len(binary) < n: # n자릿수 맞추기\n",
    "            arr2[i] = \"0\"*(n-len(binary))+binary\n",
    "        else:\n",
    "            arr2[i] = binary\n",
    "\n",
    "    # 두 장의 지도 겹치기, 1=벽(#), 0=공백( )\n",
    "    # 두 지도 중 하나라도 벽이면 벽\n",
    "    for i in range(n):\n",
    "        map = \"\"\n",
    "        for j in range(n):\n",
    "            if arr1[i][j] == \"1\" or arr2[i][j] == \"1\":\n",
    "                map += \"#\"\n",
    "            else:\n",
    "                map += \" \"\n",
    "        answer.append(map)\n",
    "                \n",
    "    return answer\n",
    "\n",
    "print(solution(5,[9, 20, 28, 18, 11],[30, 1, 21, 17, 28]),' >> [\"#####\",\"# # #\", \"### #\", \"# ##\", \"#####\"]')\n",
    "print(solution(6,[46, 33, 33 ,22, 31, 50],[27 ,56, 19, 14, 14, 10]), ' >> [\"######\", \"### #\", \"## ##\", \" #### \", \" #####\", \"### # \"]')"
   ]
  },
  {
   "cell_type": "markdown",
   "metadata": {},
   "source": [
    "### >> 다른풀이"
   ]
  },
  {
   "cell_type": "code",
   "execution_count": 14,
   "metadata": {},
   "outputs": [
    {
     "name": "stdout",
     "output_type": "stream",
     "text": [
      "['#####', '# # #', '### #', '#  ##', '#####']  >> [\"#####\",\"# # #\", \"### #\", \"# ##\", \"#####\"]\n",
      "['######', '###  #', '##  ##', ' #### ', ' #####', '### # ']  >> [\"######\", \"### #\", \"## ##\", \" #### \", \" #####\", \"### # \"]\n"
     ]
    }
   ],
   "source": [
    "def solution(n, arr1, arr2):\n",
    "    answer = []\n",
    "    for i,j in zip(arr1,arr2):\n",
    "        row = str(bin(i|j)[2:]) # 두 지도 합치기\n",
    "        row = row.rjust(n,'0') # 오른쪽 정렬\n",
    "        row = row.replace('1','#')\n",
    "        row = row.replace('0',' ')\n",
    "        answer.append(row)\n",
    "    return answer\n",
    "\n",
    "print(solution(5,[9, 20, 28, 18, 11],[30, 1, 21, 17, 28]),' >> [\"#####\",\"# # #\", \"### #\", \"# ##\", \"#####\"]')\n",
    "print(solution(6,[46, 33, 33 ,22, 31, 50],[27 ,56, 19, 14, 14, 10]), ' >> [\"######\", \"### #\", \"## ##\", \" #### \", \" #####\", \"### # \"]')"
   ]
  }
 ],
 "metadata": {
  "kernelspec": {
   "display_name": "Python 3",
   "language": "python",
   "name": "python3"
  },
  "language_info": {
   "codemirror_mode": {
    "name": "ipython",
    "version": 3
   },
   "file_extension": ".py",
   "mimetype": "text/x-python",
   "name": "python",
   "nbconvert_exporter": "python",
   "pygments_lexer": "ipython3",
   "version": "3.7.1"
  }
 },
 "nbformat": 4,
 "nbformat_minor": 2
}
