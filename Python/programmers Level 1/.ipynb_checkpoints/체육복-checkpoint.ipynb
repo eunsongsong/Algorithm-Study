{
 "cells": [
  {
   "cell_type": "markdown",
   "metadata": {},
   "source": [
    "### >> 문제: programmers L1: [체육복](https://programmers.co.kr/learn/courses/30/lessons/42862)\n",
    "\n",
    "점심시간에 도둑이 들어, 일부 학생이 체육복을 도난당했습니다.  \n",
    "다행히 여벌 체육복이 있는 학생이 이들에게 체육복을 빌려주려 합니다.  \n",
    "학생들의 번호는 체격 순으로 매겨져 있어,  \n",
    "바로 앞번호의 학생이나 바로 뒷번호의 학생에게만 체육복을 빌려줄 수 있습니다.  \n",
    "\n",
    "예를 들어, 4번 학생은 3번 학생이나 5번 학생에게만 체육복을 빌려줄 수 있습니다.  \n",
    "체육복이 없으면 수업을 들을 수 없기 때문에 체육복을 적절히 빌려 __최대한 많은 학생이 체육수업을 들어야 합니다__.  \n",
    "\n",
    "전체 학생의 수 n, 체육복을 도난당한 학생들의 번호가 담긴 배열 lost,  \n",
    "여벌의 체육복을 가져온 학생들의 번호가 담긴 배열 reserve가 매개변수로 주어질 때,  \n",
    "체육수업을 들을 수 있는 학생의 최댓값을 return 하도록 solution 함수를 작성해주세요.\n",
    "\n",
    "* 전체 학생의 수는 2명 이상 30명 이하입니다.\n",
    "* 체육복을 도난당한 학생의 수는 1명 이상 n명 이하이고 중복되는 번호는 없습니다.\n",
    "* 여벌의 체육복을 가져온 학생의 수는 1명 이상 n명 이하이고 중복되는 번호는 없습니다.\n",
    "* 여벌 체육복이 있는 학생만 다른 학생에게 체육복을 빌려줄 수 있습니다.\n",
    "* 여벌 체육복을 가져온 학생이 체육복을 도난당했을 수 있습니다.  \n",
    "이때 이 학생은 체육복을 하나만 도난당했다고 가정하며,  \n",
    "남은 체육복이 하나이기에 다른 학생에게는 체육복을 빌려줄 수 없습니다.\n",
    "\n",
    "*출처: 프로그래머스 코딩 테스트 연습, https://programmers.co.kr/learn/challenges*"
   ]
  },
  {
   "cell_type": "markdown",
   "metadata": {},
   "source": [
    "### >> 정답(체육복 정보를 담은 리스트를 만든다)"
   ]
  },
  {
   "cell_type": "code",
   "execution_count": 1,
   "metadata": {
    "scrolled": true
   },
   "outputs": [
    {
     "name": "stdout",
     "output_type": "stream",
     "text": [
      "5  >> 5\n",
      "4  >> 4\n",
      "2  >> 2\n"
     ]
    }
   ],
   "source": [
    "def solution(n, lost, reserve):\n",
    "    answer = n # 전체 학생 수를 answer에 저장\n",
    "    student = [1 for i in range(n)] # 길이가 학생 수 이고, 원소가 1인 배열 생성\n",
    "    for r in reserve:\n",
    "        student[r-1] = student[r-1]+1 # 여벌이 있는 학생을 +1 해준다\n",
    "    for l in lost: \n",
    "        student[l-1] = student[l-1]-1 # 체육복을 잃어버린 학생을 -1 해준다\n",
    "    # => 즉, sutdent 배열의 원소는 0,1,2으로 체육복을 가지고 있는 개수이다\n",
    "    \n",
    "    for i in range(1,len(student)): # student배열의 두 번째 인덱스부터 마지막까지 반복\n",
    "        # 앞에 학생이 체육복이 없고, 뒤에 학생이 여벌이 있으면\n",
    "        # 뒤에 학생이 앞에 학생에게 체육복을 준다\n",
    "        if student[i-1] == 0 and student[i] == 2: \n",
    "            student[i-1] = 1\n",
    "            student[i] = 1\n",
    "        # 뒤에 학생이 체육복이 없고, 앞에 학생이 여벌이 있으면\n",
    "        # 앞에 학생이 뒤에 학생에게 체육복을 준다\n",
    "        if student[i] == 0 and student[i-1] == 2:\n",
    "            student[i] = 1\n",
    "            student[i-1] = 1\n",
    "      \n",
    "    answer -= student.count(0) # 전체 학생 수에서 체육복이 없는 학생 수를 뺀다\n",
    "\n",
    "    return answer\n",
    "\n",
    "print(solution(5,[2,4],[1,3,5]), \" >> 5\")\n",
    "print(solution(5,[2,4],[3]), \" >> 4\")\n",
    "print(solution(3,[3],[1]), \" >> 2\")"
   ]
  },
  {
   "cell_type": "markdown",
   "metadata": {},
   "source": [
    "### >> 정답(체육복을 잃어버렸지만, 여분이 있는 학생을 먼저 지운다)"
   ]
  },
  {
   "cell_type": "code",
   "execution_count": 2,
   "metadata": {},
   "outputs": [
    {
     "name": "stdout",
     "output_type": "stream",
     "text": [
      "5  >> 5\n",
      "4  >> 4\n",
      "2  >> 2\n",
      "5  >> 5\n"
     ]
    }
   ],
   "source": [
    "def solution(n, lost, reserve):\n",
    "    answer = n\n",
    "    \n",
    "    # 체육복을 잃어버렸지만, 여분이 있는 학생을 lost,reserve에서 지움\n",
    "    index = 0\n",
    "    while index < len(lost):\n",
    "        if lost[index] in reserve:\n",
    "            reserve.remove(lost[index])\n",
    "            lost.remove(lost[index])\n",
    "        else:\n",
    "            index += 1  \n",
    "    \n",
    "    for i in lost:\n",
    "        if i-1 in reserve:\n",
    "            reserve.remove(i-1)\n",
    "        elif i+1 in reserve:\n",
    "            reserve.remove(i+1)\n",
    "        else:\n",
    "            answer -= 1\n",
    "            \n",
    "    return answer\n",
    "\n",
    "print(solution(5,[2,4],[1,3,5]), \" >> 5\")\n",
    "print(solution(5,[2,4],[3]), \" >> 4\")\n",
    "print(solution(3,[3],[1]), \" >> 2\")\n",
    "print(solution(5,[3,4],[1,3,5]), \" >> 5\")"
   ]
  },
  {
   "cell_type": "code",
   "execution_count": null,
   "metadata": {},
   "outputs": [],
   "source": []
  },
  {
   "cell_type": "code",
   "execution_count": null,
   "metadata": {},
   "outputs": [],
   "source": []
  }
 ],
 "metadata": {
  "kernelspec": {
   "display_name": "Python 3",
   "language": "python",
   "name": "python3"
  },
  "language_info": {
   "codemirror_mode": {
    "name": "ipython",
    "version": 3
   },
   "file_extension": ".py",
   "mimetype": "text/x-python",
   "name": "python",
   "nbconvert_exporter": "python",
   "pygments_lexer": "ipython3",
   "version": "3.7.1"
  }
 },
 "nbformat": 4,
 "nbformat_minor": 2
}
