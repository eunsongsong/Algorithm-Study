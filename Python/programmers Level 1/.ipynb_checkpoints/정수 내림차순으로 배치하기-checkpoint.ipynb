{
 "cells": [
  {
   "cell_type": "markdown",
   "metadata": {},
   "source": [
    "### >> 문제: programmers L1:[정수 내림차순으로 배치하기](https://programmers.co.kr/learn/courses/30/lessons/12933)\n",
    "\n",
    "함수 solution은 정수 n을 매개변수로 입력받습니다.  \n",
    "n의 각 자릿수를 큰것부터 작은 순으로 정렬한 새로운 정수를 리턴해주세요.  \n",
    "\n",
    "예를들어, n이 118372면 873211을 리턴하면 됩니다.  \n",
    "\n",
    "* n은 1이상 8000000000 이하인 자연수입니다.\n",
    "\n",
    "*출처: 프로그래머스 코딩 테스트 연습, https://programmers.co.kr/learn/challenges*"
   ]
  },
  {
   "cell_type": "markdown",
   "metadata": {},
   "source": [
    "### >> 정답 "
   ]
  },
  {
   "cell_type": "code",
   "execution_count": 1,
   "metadata": {},
   "outputs": [
    {
     "name": "stdout",
     "output_type": "stream",
     "text": [
      "873211  >> 873211\n"
     ]
    }
   ],
   "source": [
    "def solution(n):\n",
    "    answer = 0\n",
    "    s = str(n) # 주어진 정수를 문자열으로\n",
    "    listS = list(s) # 한 글자씩 쪼개서 리스트에 저장\n",
    "    listS.sort(reverse=True) # 내림차순으로 정렬\n",
    "    answer = \"\".join(listS) # 문자열으로 합치기\n",
    "    answer = int(answer) # 문자열을 int형으로\n",
    "    return answer\n",
    "\n",
    "print(solution(118372), \" >> 873211\")"
   ]
  },
  {
   "cell_type": "markdown",
   "metadata": {},
   "source": [
    "한 줄로 간단하게!!"
   ]
  },
  {
   "cell_type": "code",
   "execution_count": 2,
   "metadata": {},
   "outputs": [
    {
     "name": "stdout",
     "output_type": "stream",
     "text": [
      "873211  >> 873211\n"
     ]
    }
   ],
   "source": [
    "def solution(n):\n",
    "    return int(\"\".join(sorted(str(n), reverse=True)))\n",
    "\n",
    "print(solution(118372), \" >> 873211\")"
   ]
  }
 ],
 "metadata": {
  "kernelspec": {
   "display_name": "Python 3",
   "language": "python",
   "name": "python3"
  },
  "language_info": {
   "codemirror_mode": {
    "name": "ipython",
    "version": 3
   },
   "file_extension": ".py",
   "mimetype": "text/x-python",
   "name": "python",
   "nbconvert_exporter": "python",
   "pygments_lexer": "ipython3",
   "version": "3.7.1"
  }
 },
 "nbformat": 4,
 "nbformat_minor": 2
}
