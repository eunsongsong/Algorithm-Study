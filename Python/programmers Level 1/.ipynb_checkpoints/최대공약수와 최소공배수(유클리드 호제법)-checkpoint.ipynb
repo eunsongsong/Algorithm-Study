{
 "cells": [
  {
   "cell_type": "markdown",
   "metadata": {},
   "source": [
    "### >> 문제: programmers L1:[최대공약수와 최소공배수](https://programmers.co.kr/learn/courses/30/lessons/12940)\n",
    "\n",
    "두 수를 입력받아 두 수의 최대공약수와 최소공배수를 반환하는 함수, solution을 완성해 보세요.  \n",
    "배열의 맨 앞에 최대공약수, 그다음 최소공배수를 넣어 반환하면 됩니다.  \n",
    "예를 들어, 두 수 3, 12의 최대공약수는 3, 최소공배수는 12이므로 solution(3, 12)는 [3, 12]를 반환해야 합니다.\n",
    "\n",
    "* 두 수는 1이상 1000000이하의 자연수입니다.\n",
    "\n",
    "*출처: 프로그래머스 코딩 테스트 연습, https://programmers.co.kr/learn/challenges*"
   ]
  },
  {
   "cell_type": "markdown",
   "metadata": {},
   "source": [
    "### >> 풀이"
   ]
  },
  {
   "cell_type": "code",
   "execution_count": 17,
   "metadata": {},
   "outputs": [
    {
     "name": "stdout",
     "output_type": "stream",
     "text": [
      "[3, 12.0]  >> [3,12]\n",
      "[1, 10.0]  >> [1,10]\n"
     ]
    }
   ],
   "source": [
    "def solution(n, m):\n",
    "    answer = []\n",
    "    divisorN = [] # n의 약수\n",
    "    divisorM = [] # m의 약수\n",
    "    commonD = [] # n,m의 공약수\n",
    "    commonM = 1 # 최소공배수\n",
    "\n",
    "    for i in range(1,n+1): # n의 약수\n",
    "        if n % i == 0:\n",
    "            divisorN.append(i)\n",
    "    for i in range(1,m+1): # m의 약수\n",
    "        if m % i == 0:\n",
    "            divisorM.append(i)\n",
    "            \n",
    "    # n, m의 공약수\n",
    "    for d in divisorN:\n",
    "        if d in divisorM:\n",
    "            commonD.append(d)\n",
    "    answer.append(commonD[-1]) # 배열 answer에 최대공약수 추가\n",
    "    \n",
    "    # 최소공배수 구하기\n",
    "    commonM *= commonD[-1]\n",
    "    commonM *= n/commonD[-1]\n",
    "    commonM *= m/commonD[-1]\n",
    "    answer.append(commonM)\n",
    "    return answer\n",
    "\n",
    "print(solution(3,12), \" >> [3,12]\")\n",
    "print(solution(2,5), \" >> [1,10]\")"
   ]
  },
  {
   "cell_type": "markdown",
   "metadata": {},
   "source": [
    "### >> 풀이(유클리드 호제법)"
   ]
  },
  {
   "cell_type": "code",
   "execution_count": 18,
   "metadata": {},
   "outputs": [
    {
     "name": "stdout",
     "output_type": "stream",
     "text": [
      "[3, 12]  >> [3,12]\n",
      "[1, 10]  >> [1,10]\n"
     ]
    }
   ],
   "source": [
    "def solution(n, m):\n",
    "    answer = []\n",
    "    \n",
    "    # 큰 값을 a, 작은 값을 b: 시간을 줄이기 위해\n",
    "    a, b = max(n,m), min(n,m)\n",
    "    \n",
    "    # 유클리드 호제법으로 최대공약수, 최소공배수 구하기\n",
    "    while a % b != 0:\n",
    "        a, b = b, a % b\n",
    "\n",
    "    answer = [b, int((n*m)/b)]\n",
    "\n",
    "    return answer\n",
    "\n",
    "print(solution(3,12), \" >> [3,12]\")\n",
    "print(solution(2,5), \" >> [1,10]\")"
   ]
  },
  {
   "cell_type": "markdown",
   "metadata": {},
   "source": [
    "# 유클리드 호제법"
   ]
  },
  {
   "cell_type": "markdown",
   "metadata": {},
   "source": [
    "1. 최대공약수를 구하는 함수를 gcd(x,y)라 가정\n",
    "2. x % y == 0이면 gcd(x,y) = y가 성립\n",
    "3. x % y != 0이면 gcd(x,y) = gcd(y,x%y)가 성립\n",
    "4. 2번이 될 때까지 반복"
   ]
  }
 ],
 "metadata": {
  "kernelspec": {
   "display_name": "Python 3",
   "language": "python",
   "name": "python3"
  },
  "language_info": {
   "codemirror_mode": {
    "name": "ipython",
    "version": 3
   },
   "file_extension": ".py",
   "mimetype": "text/x-python",
   "name": "python",
   "nbconvert_exporter": "python",
   "pygments_lexer": "ipython3",
   "version": "3.7.1"
  }
 },
 "nbformat": 4,
 "nbformat_minor": 2
}
