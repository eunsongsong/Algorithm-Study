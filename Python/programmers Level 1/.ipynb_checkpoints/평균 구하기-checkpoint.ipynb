{
 "cells": [
  {
   "cell_type": "markdown",
   "metadata": {},
   "source": [
    "### >> 문제: programmers L1:[평균 구하기](https://programmers.co.kr/learn/courses/30/lessons/12944)\n",
    "\n",
    "정수를 담고 있는 배열 arr의 평균값을 return하는 함수, solution을 완성해보세요.\n",
    "\n",
    "* arr은 길이 1 이상, 100 이하인 배열입니다.\n",
    "* arr의 원소는 -10,000 이상 10,000 이하인 정수입니다.\n",
    "\n",
    "*출처: 프로그래머스 코딩 테스트 연습, https://programmers.co.kr/learn/challenges*"
   ]
  },
  {
   "cell_type": "markdown",
   "metadata": {},
   "source": [
    "### >> 풀이"
   ]
  },
  {
   "cell_type": "code",
   "execution_count": 3,
   "metadata": {},
   "outputs": [
    {
     "name": "stdout",
     "output_type": "stream",
     "text": [
      "2.5  >> 2.5\n",
      "5.0  >> 5\n"
     ]
    }
   ],
   "source": [
    "def solution(arr):\n",
    "    answer = 0\n",
    "    for num in arr:\n",
    "        answer += num\n",
    "    answer /= len(arr)\n",
    "    return answer\n",
    "\n",
    "print(solution([1,2,3,4]), \" >> 2.5\")\n",
    "print(solution([5,5]),\" >> 5\")"
   ]
  },
  {
   "cell_type": "code",
   "execution_count": 2,
   "metadata": {},
   "outputs": [
    {
     "name": "stdout",
     "output_type": "stream",
     "text": [
      "2.5  >> 2.5\n",
      "5.0  >> 5\n"
     ]
    }
   ],
   "source": [
    "def solution(arr):\n",
    "    return sum(arr)/len(arr)\n",
    "\n",
    "print(solution([1,2,3,4]), \" >> 2.5\")\n",
    "print(solution([5,5]),\" >> 5\")"
   ]
  }
 ],
 "metadata": {
  "kernelspec": {
   "display_name": "Python 3",
   "language": "python",
   "name": "python3"
  },
  "language_info": {
   "codemirror_mode": {
    "name": "ipython",
    "version": 3
   },
   "file_extension": ".py",
   "mimetype": "text/x-python",
   "name": "python",
   "nbconvert_exporter": "python",
   "pygments_lexer": "ipython3",
   "version": "3.7.1"
  }
 },
 "nbformat": 4,
 "nbformat_minor": 2
}
