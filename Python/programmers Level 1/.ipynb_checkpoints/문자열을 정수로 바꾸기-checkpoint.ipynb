{
 "cells": [
  {
   "cell_type": "markdown",
   "metadata": {},
   "source": [
    "### >> 문제: programmers L1:[문자열을 정수로 바꾸기](https://programmers.co.kr/learn/courses/30/lessons/12925)\n",
    "\n",
    "문자열 s를 숫자로 변환한 결과를 반환하는 함수, solution을 완성하세요.\n",
    "\n",
    "* s의 길이는 1 이상 5이하입니다.\n",
    "* s의 맨앞에는 부호(+, -)가 올 수 있습니다.\n",
    "* s는 부호와 숫자로만 이루어져있습니다.\n",
    "* s는 0으로 시작하지 않습니다.\n",
    "\n",
    "*출처: 프로그래머스 코딩 테스트 연습, https://programmers.co.kr/learn/challenges*"
   ]
  },
  {
   "cell_type": "code",
   "execution_count": 2,
   "metadata": {},
   "outputs": [
    {
     "name": "stdout",
     "output_type": "stream",
     "text": [
      "1234  >> 1234\n",
      "-1234  >> -1234\n"
     ]
    }
   ],
   "source": [
    "def solution(s):\n",
    "    \n",
    "    answer = int(s)\n",
    "    \n",
    "    return answer\n",
    "\n",
    "print(solution(\"1234\"), \" >> 1234\")\n",
    "print(solution(\"-1234\"), \" >> -1234\")"
   ]
  }
 ],
 "metadata": {
  "kernelspec": {
   "display_name": "Python 3",
   "language": "python",
   "name": "python3"
  },
  "language_info": {
   "codemirror_mode": {
    "name": "ipython",
    "version": 3
   },
   "file_extension": ".py",
   "mimetype": "text/x-python",
   "name": "python",
   "nbconvert_exporter": "python",
   "pygments_lexer": "ipython3",
   "version": "3.7.1"
  }
 },
 "nbformat": 4,
 "nbformat_minor": 2
}
