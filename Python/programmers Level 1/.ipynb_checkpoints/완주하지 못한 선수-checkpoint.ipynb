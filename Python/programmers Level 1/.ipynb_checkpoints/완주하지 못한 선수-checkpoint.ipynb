{
 "cells": [
  {
   "cell_type": "markdown",
   "metadata": {},
   "source": [
    "### >> 문제: programmers L1: [완주하지 못한 선수](https://programmers.co.kr/learn/courses/30/lessons/42576?language=python3)\n",
    "\n",
    "수많은 마라톤 선수들이 마라톤에 참여하였습니다.  \n",
    "단 한 명의 선수를 제외하고는 모든 선수가 마라톤을 완주하였습니다.\n",
    "\n",
    "마라톤에 참여한 선수들의 이름이 담긴 배열 participant와  \n",
    "완주한 선수들의 이름이 담긴 배열 completion이 주어질 때,  \n",
    "완주하지 못한 선수의 이름을 return 하도록 solution 함수를 작성해주세요.\n",
    "\n",
    "* 마라톤 경기에 참여한 선수의 수는 1명 이상 100,000명 이하입니다.\n",
    "* completion의 길이는 participant의 길이보다 1 작습니다.\n",
    "* 참가자의 이름은 1개 이상 20개 이하의 알파벳 소문자로 이루어져 있습니다.\n",
    "* 참가자 중에는 __동명이인__이 있을 수 있습니다.\n",
    "\n",
    "*출처: 프로그래머스 코딩 테스트 연습, https://programmers.co.kr/learn/challenges*"
   ]
  },
  {
   "cell_type": "markdown",
   "metadata": {},
   "source": [
    "### >> 풀이"
   ]
  },
  {
   "cell_type": "code",
   "execution_count": 1,
   "metadata": {},
   "outputs": [
    {
     "name": "stdout",
     "output_type": "stream",
     "text": [
      "leo  >> leo\n",
      "vinko  >> vinko\n",
      "mislav  >> mislav\n"
     ]
    }
   ],
   "source": [
    "def solution(participant, completion):\n",
    "    participant.sort() # 정렬\n",
    "    completion.sort()  # 정렬\n",
    "    answer = participant[-1] # 마지막 선수가 완주하지 못한 경우\n",
    "    \n",
    "    for i in range(len(completion)): # 완주한 선수 배열의 길이만큼 반복\n",
    "        if participant[i] != completion[i]: # 참여 선수와 완주한 선수의 이름이 같지 않으면\n",
    "            answer = participant[i] # 참여 선수 이름을 answer에 저장하고\n",
    "            break # 반복문 종료\n",
    "            \n",
    "    return answer\n",
    "\n",
    "print(solution([\"leo\", \"kiki\", \"eden\"],[\"eden\", \"kiki\"]), \" >> leo\")\n",
    "print(solution([\"marina\", \"josipa\", \"nikola\", \"vinko\", \"filipa\"],[\"josipa\", \"filipa\", \"marina\", \"nikola\"]), \" >> vinko\")\n",
    "print(solution([\"mislav\", \"stanko\", \"mislav\", \"ana\"],[\"stanko\", \"ana\", \"mislav\"]), \" >> mislav\")"
   ]
  }
 ],
 "metadata": {
  "kernelspec": {
   "display_name": "Python 3",
   "language": "python",
   "name": "python3"
  },
  "language_info": {
   "codemirror_mode": {
    "name": "ipython",
    "version": 3
   },
   "file_extension": ".py",
   "mimetype": "text/x-python",
   "name": "python",
   "nbconvert_exporter": "python",
   "pygments_lexer": "ipython3",
   "version": "3.7.1"
  }
 },
 "nbformat": 4,
 "nbformat_minor": 2
}
