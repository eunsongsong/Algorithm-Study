{
 "cells": [
  {
   "cell_type": "markdown",
   "metadata": {},
   "source": [
    "### >> 문제: programmers L1:[수박수박수박수박수박수?](https://programmers.co.kr/learn/courses/30/lessons/12922)\n",
    "\n",
    "길이가 n이고, 수박수박수박수....와 같은 패턴을 유지하는 문자열을 리턴하는 함수, solution을 완성하세요.  \n",
    "예를들어, n이 4이면 수박수박을 리턴하고 3이라면 수박수를 리턴하면 됩니다.\n",
    "\n",
    "*n은 길이 10,000이하인 자연수입니다.\n",
    "\n",
    "\n",
    "*출처: 프로그래머스 코딩 테스트 연습, https://programmers.co.kr/learn/challenges*"
   ]
  },
  {
   "cell_type": "markdown",
   "metadata": {},
   "source": [
    "### >> 풀이"
   ]
  },
  {
   "cell_type": "code",
   "execution_count": 9,
   "metadata": {},
   "outputs": [
    {
     "name": "stdout",
     "output_type": "stream",
     "text": [
      "수박수  >> 수박수\n",
      "수박수박  >> 수박수박\n"
     ]
    }
   ],
   "source": [
    "def solution(n):\n",
    "    answer = ('수박'*(n//2+1))[:n]\n",
    "    return answer\n",
    "\n",
    "print(solution(3), \" >> 수박수\")\n",
    "print(solution(4), \" >> 수박수박\")"
   ]
  },
  {
   "cell_type": "code",
   "execution_count": 11,
   "metadata": {},
   "outputs": [
    {
     "name": "stdout",
     "output_type": "stream",
     "text": [
      "수박수  >> 수박수\n",
      "수박수박  >> 수박수박\n"
     ]
    }
   ],
   "source": [
    "def solution(n):\n",
    "    answer = '수박'*(n//2) + '수'*(n%2)\n",
    "    return answer\n",
    "\n",
    "print(solution(3), \" >> 수박수\")\n",
    "print(solution(4), \" >> 수박수박\")"
   ]
  }
 ],
 "metadata": {
  "kernelspec": {
   "display_name": "Python 3",
   "language": "python",
   "name": "python3"
  },
  "language_info": {
   "codemirror_mode": {
    "name": "ipython",
    "version": 3
   },
   "file_extension": ".py",
   "mimetype": "text/x-python",
   "name": "python",
   "nbconvert_exporter": "python",
   "pygments_lexer": "ipython3",
   "version": "3.7.1"
  }
 },
 "nbformat": 4,
 "nbformat_minor": 2
}
