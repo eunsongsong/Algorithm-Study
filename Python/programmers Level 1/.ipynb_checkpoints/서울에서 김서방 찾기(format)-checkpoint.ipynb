{
 "cells": [
  {
   "cell_type": "markdown",
   "metadata": {},
   "source": [
    "### >> 문제: programmers L1:[서울에서 김서방 찾기](https://programmers.co.kr/learn/courses/30/lessons/12919)\n",
    "String형 배열 seoul의 element중 Kim의 위치 x를 찾아,  \n",
    "김서방은 x에 있다는 String을 반환하는 함수, solution을 완성하세요.  \n",
    "seoul에 __Kim은 오직 한 번만 나타나며__ 잘못된 값이 입력되는 경우는 없습니다.\n",
    "\n",
    "* seoul은 길이 1 이상, 1000 이하인 배열입니다.\n",
    "* seoul의 원소는 길이 1 이상, 20 이하인 문자열입니다.\n",
    "* Kim은 반드시 seoul 안에 포함되어 있습니다.\n",
    "\n",
    "*출처: 프로그래머스 코딩 테스트 연습, https://programmers.co.kr/learn/challenges*"
   ]
  },
  {
   "cell_type": "markdown",
   "metadata": {},
   "source": [
    "### >> 정답"
   ]
  },
  {
   "cell_type": "code",
   "execution_count": 1,
   "metadata": {},
   "outputs": [
    {
     "name": "stdout",
     "output_type": "stream",
     "text": [
      "김서방은 1에 있다  >> 김서방은 1에 있다\n"
     ]
    }
   ],
   "source": [
    "def solution(seoul):\n",
    "    answer = ''\n",
    "    index = str(seoul.index(\"Kim\")) # \"Kim\"이 들어있는 인덱스 번호를 찾아서 문자열로 변환\n",
    "    \n",
    "    # 문자열 합치기\n",
    "    answer += \"김서방은 \"\n",
    "    answer += index\n",
    "    answer += \"에 있다\"\n",
    "    return answer\n",
    "\n",
    "print(solution([\"Jane\", \"Kim\"]),\" >> 김서방은 1에 있다\")"
   ]
  },
  {
   "cell_type": "markdown",
   "metadata": {},
   "source": [
    "### >> 다른풀이(format)"
   ]
  },
  {
   "cell_type": "code",
   "execution_count": 2,
   "metadata": {},
   "outputs": [
    {
     "name": "stdout",
     "output_type": "stream",
     "text": [
      "김서방은 1에 있다  >> 김서방은 1에 있다\n"
     ]
    }
   ],
   "source": [
    "def findKim(seoul):\n",
    "    return \"김서방은 {}에 있다\".format(seoul.index('Kim'))\n",
    "\n",
    "print(solution([\"Jane\", \"Kim\"]),\" >> 김서방은 1에 있다\")"
   ]
  }
 ],
 "metadata": {
  "kernelspec": {
   "display_name": "Python 3",
   "language": "python",
   "name": "python3"
  },
  "language_info": {
   "codemirror_mode": {
    "name": "ipython",
    "version": 3
   },
   "file_extension": ".py",
   "mimetype": "text/x-python",
   "name": "python",
   "nbconvert_exporter": "python",
   "pygments_lexer": "ipython3",
   "version": "3.7.1"
  }
 },
 "nbformat": 4,
 "nbformat_minor": 2
}
