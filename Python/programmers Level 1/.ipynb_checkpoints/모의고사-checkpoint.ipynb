{
 "cells": [
  {
   "cell_type": "markdown",
   "metadata": {},
   "source": [
    "### >> 문제: programmers L1: [모의고사](https://programmers.co.kr/learn/courses/30/lessons/42840)\n",
    "\n",
    "수포자는 수학을 포기한 사람의 준말입니다.  \n",
    "수포자 삼인방은 모의고사에 수학 문제를 전부 찍으려 합니다.  \n",
    "수포자는 1번 문제부터 마지막 문제까지 다음과 같이 찍습니다.\n",
    "\n",
    "1번 수포자가 찍는 방식: 1, 2, 3, 4, 5, 1, 2, 3, 4, 5, ...  \n",
    "2번 수포자가 찍는 방식: 2, 1, 2, 3, 2, 4, 2, 5, 2, 1, 2, 3, 2, 4, 2, 5, ...  \n",
    "3번 수포자가 찍는 방식: 3, 3, 1, 1, 2, 2, 4, 4, 5, 5, 3, 3, 1, 1, 2, 2, 4, 4, 5, 5, ...  \n",
    "\n",
    "1번 문제부터 마지막 문제까지의 정답이 순서대로 들은 배열 answers가 주어졌을 때,  \n",
    "가장 많은 문제를 맞힌 사람이 누구인지 배열에 담아 return 하도록 solution 함수를 작성해주세요.  \n",
    "\n",
    "* 시험은 최대 10,000 문제로 구성되어있습니다.\n",
    "* 문제의 정답은 1, 2, 3, 4, 5중 하나입니다.\n",
    "* 가장 높은 점수를 받은 사람이 여럿일 경우, return하는 값을 오름차순 정렬해주세요.\n",
    "\n",
    "*출처: 프로그래머스 코딩 테스트 연습, https://programmers.co.kr/learn/challenges*"
   ]
  },
  {
   "cell_type": "markdown",
   "metadata": {},
   "source": [
    "### >> 풀이"
   ]
  },
  {
   "cell_type": "code",
   "execution_count": 4,
   "metadata": {},
   "outputs": [
    {
     "name": "stdout",
     "output_type": "stream",
     "text": [
      "[1]  >> [1]\n",
      "[1, 2, 3]  >> [1,2,3]\n"
     ]
    }
   ],
   "source": [
    "def solution(answers):\n",
    "    answer = []\n",
    "    score = [] # 각 학생의 점수를 기록하기 위한 리스트\n",
    "    maxscore = 0 # 학생들의 최고 점수를 저장할 변수\n",
    "    # 각 학생의 찍는 패턴을 2차원 배열로 표현\n",
    "    supoja = [[1,2,3,4,5], [2,1,2,3,2,4,2,5], [3,3,1,1,2,2,4,4,5,5]]\n",
    "\n",
    "    for s in supoja:\n",
    "        count = 0 # 각 학생의 점수를 카운트하기 위한 변수\n",
    "        for i in range(len(answers)): # 정답의 길이만큼 반복\n",
    "            # i%len(s)를 인덱스로 하여 각 학생이 찍은 번호를 반복하여 정답과 비교\n",
    "            if answers[i] == s[i%len(s)]: \n",
    "                count += 1 # 정답이면 점수를 1점 높인다\n",
    "        score.append(count) # 해당 학생의 점수를 리스트 score에 기록\n",
    "\n",
    "    maxscore = max(score) # 학생들이 받은 점수의 최고점을 찾는다\n",
    "    for i in range(len(score)): \n",
    "        if score[i] == maxscore: # 각 학생의 점수가 최고점이면\n",
    "            answer.append(i+1) # 리스트 answer에 해당 학생 번호를 저장\n",
    "    return answer\n",
    "\n",
    "print(solution([1,2,3,4,5]), \" >> [1]\")\n",
    "print(solution([1,3,2,4,2]), \" >> [1,2,3]\")"
   ]
  }
 ],
 "metadata": {
  "kernelspec": {
   "display_name": "Python 3",
   "language": "python",
   "name": "python3"
  },
  "language_info": {
   "codemirror_mode": {
    "name": "ipython",
    "version": 3
   },
   "file_extension": ".py",
   "mimetype": "text/x-python",
   "name": "python",
   "nbconvert_exporter": "python",
   "pygments_lexer": "ipython3",
   "version": "3.7.1"
  }
 },
 "nbformat": 4,
 "nbformat_minor": 2
}
