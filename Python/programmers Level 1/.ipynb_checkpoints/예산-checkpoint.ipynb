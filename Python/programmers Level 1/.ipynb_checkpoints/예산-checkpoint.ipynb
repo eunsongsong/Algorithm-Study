{
 "cells": [
  {
   "cell_type": "markdown",
   "metadata": {},
   "source": [
    "### >> 문제: programmers L1:[예산](https://programmers.co.kr/learn/courses/30/lessons/12982)\n",
    "\n",
    "S사에서는 각 부서에 필요한 물품을 지원해 주기 위해 부서별로 물품을 구매하는데 필요한 금액을 조사했습니다.  \n",
    "그러나, 전체 예산이 정해져 있기 때문에 모든 부서의 물품을 구매해 줄 수는 없습니다.  \n",
    "그래서 최대한 많은 부서의 물품을 구매해 줄 수 있도록 하려고 합니다.  \n",
    "\n",
    "물품을 구매해 줄 때는 각 부서가 신청한 금액만큼을 모두 지원해 줘야 합니다.  \n",
    "예를 들어, 1,000원을 신청한 부서에는 정확히 1,000원을 지원해야 하며, 1,000원보다 적은 금액을 지원해 줄 수는 없습니다.  \n",
    "\n",
    "부서별로 신청한 금액이 들어있는 배열 d와 예산 budget이 매개변수로 주어질 때,  \n",
    "최대 몇 개의 부서에 물품을 지원할 수 있는지 return 하도록 solution 함수를 완성해주세요.\n",
    "\n",
    "* d는 부서별로 신청한 금액이 들어있는 배열이며, 길이(전체 부서의 개수)는 1 이상 100 이하입니다.\n",
    "* d의 각 원소는 부서별로 신청한 금액을 나타내며, 부서별 신청 금액은 1 이상 100,000 이하의 자연수입니다.\n",
    "* budget은 예산을 나타내며, 1 이상 10,000,000 이하의 자연수입니다.\n",
    "\n",
    "*출처: 프로그래머스 코딩 테스트 연습, https://programmers.co.kr/learn/challenges*"
   ]
  },
  {
   "cell_type": "markdown",
   "metadata": {},
   "source": [
    "### >> 정답\n"
   ]
  },
  {
   "cell_type": "code",
   "execution_count": 1,
   "metadata": {},
   "outputs": [
    {
     "name": "stdout",
     "output_type": "stream",
     "text": [
      "3  >> 3\n",
      "4  >> 4\n"
     ]
    }
   ],
   "source": [
    "def solution(d, budget):\n",
    "    answer = 0\n",
    "    d_sum = 0 # 예산금액 합\n",
    "    d.sort()\n",
    "    for i in d:\n",
    "        d_sum += i\n",
    "        answer += 1\n",
    "        if d_sum > budget:\n",
    "            answer -= 1\n",
    "            break\n",
    "    return answer\n",
    "\n",
    "print(solution([1,3,2,5,4],9),\" >> 3\")\n",
    "print(solution([2,2,3,3],10),\" >> 4\")"
   ]
  },
  {
   "cell_type": "markdown",
   "metadata": {},
   "source": [
    "### >> 다른풀이"
   ]
  },
  {
   "cell_type": "code",
   "execution_count": 2,
   "metadata": {},
   "outputs": [
    {
     "name": "stdout",
     "output_type": "stream",
     "text": [
      "3  >> 3\n",
      "4  >> 4\n"
     ]
    }
   ],
   "source": [
    "def solution(d, budget):\n",
    "    d.sort()\n",
    "    while budget < sum(d): # 신청금액 합이 예산보다 크면\n",
    "        d.pop() # 신청금액이 가장 큰 것을 뺀다\n",
    "    return len(d)\n",
    "\n",
    "print(solution([1,3,2,5,4],9),\" >> 3\")\n",
    "print(solution([2,2,3,3],10),\" >> 4\")"
   ]
  }
 ],
 "metadata": {
  "kernelspec": {
   "display_name": "Python 3",
   "language": "python",
   "name": "python3"
  },
  "language_info": {
   "codemirror_mode": {
    "name": "ipython",
    "version": 3
   },
   "file_extension": ".py",
   "mimetype": "text/x-python",
   "name": "python",
   "nbconvert_exporter": "python",
   "pygments_lexer": "ipython3",
   "version": "3.7.1"
  }
 },
 "nbformat": 4,
 "nbformat_minor": 2
}
