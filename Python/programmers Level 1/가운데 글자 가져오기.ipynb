{
 "cells": [
  {
   "cell_type": "markdown",
   "metadata": {},
   "source": [
    "### >> 문제: programmers L1: [가운데 글자 가져오기](https://programmers.co.kr/learn/courses/30/lessons/12903)\n",
    "\n",
    "단어 s의 가운데 글자를 반환하는 함수, solution을 만들어 보세요.  \n",
    "단어의 길이가 짝수라면 가운데 두글자를 반환하면 됩니다.\n",
    "\n",
    "* s는 길이가 1 이상, 100이하인 스트링입니다.\n",
    "\n",
    "*출처: 프로그래머스 코딩 테스트 연습, https://programmers.co.kr/learn/challenges*"
   ]
  },
  {
   "cell_type": "markdown",
   "metadata": {},
   "source": [
    "### >> 정답"
   ]
  },
  {
   "cell_type": "code",
   "execution_count": 3,
   "metadata": {},
   "outputs": [
    {
     "name": "stdout",
     "output_type": "stream",
     "text": [
      "c  >> c\n",
      "we  >> we\n"
     ]
    }
   ],
   "source": [
    "def solution(s):\n",
    "    answer = ''\n",
    "    if len(s) % 2 == 1: # 문자열의 길이가 홀수일 때\n",
    "        answer = s[len(s)//2]\n",
    "    else: # 문자열의 길이가 짝수일 때\n",
    "        answer = \"\".join([s[len(s)//2-1],s[len(s)//2]])\n",
    "    return answer\n",
    "\n",
    "print(solution(\"abcde\"), \" >> c\")\n",
    "print(solution(\"qwer\"), \" >> we\")"
   ]
  },
  {
   "cell_type": "markdown",
   "metadata": {},
   "source": [
    "### >> 다른풀이"
   ]
  },
  {
   "cell_type": "code",
   "execution_count": 4,
   "metadata": {},
   "outputs": [
    {
     "name": "stdout",
     "output_type": "stream",
     "text": [
      "c  >> c\n",
      "we  >> we\n"
     ]
    }
   ],
   "source": [
    "def solution(s):\n",
    "    return s[(len(s)-1)//2:len(s)//2+1]\n",
    "\n",
    "print(solution(\"abcde\"), \" >> c\")\n",
    "print(solution(\"qwer\"), \" >> we\")"
   ]
  }
 ],
 "metadata": {
  "kernelspec": {
   "display_name": "Python 3",
   "language": "python",
   "name": "python3"
  },
  "language_info": {
   "codemirror_mode": {
    "name": "ipython",
    "version": 3
   },
   "file_extension": ".py",
   "mimetype": "text/x-python",
   "name": "python",
   "nbconvert_exporter": "python",
   "pygments_lexer": "ipython3",
   "version": "3.7.1"
  }
 },
 "nbformat": 4,
 "nbformat_minor": 2
}
