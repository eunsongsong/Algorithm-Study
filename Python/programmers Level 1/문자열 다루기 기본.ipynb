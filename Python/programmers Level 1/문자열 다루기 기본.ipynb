{
 "cells": [
  {
   "cell_type": "markdown",
   "metadata": {},
   "source": [
    "### >> 문제: programmers L1: [문자열 다루기 기본](https://programmers.co.kr/learn/courses/30/lessons/12918)\n",
    "\n",
    "문자열 s의 길이가 4 혹은 6이고, 숫자로만 구성돼있는지 확인해주는 함수, solution을 완성하세요.  \n",
    "예를 들어, s가 a234이면 False를 리턴하고 1234라면 True를 리턴하면 됩니다.\n",
    "\n",
    "* s는 길이 1 이상, 길이 8 이하인 문자열입니다.\n",
    "\n",
    "*출처: 프로그래머스 코딩 테스트 연습, https://programmers.co.kr/learn/challenges*"
   ]
  },
  {
   "cell_type": "markdown",
   "metadata": {},
   "source": [
    "### >> 정답\n",
    "숫자인지 판별하는 함수 isdigit(), isdecimal(), isnumeric()  \n",
    "isdigit(): 숫자처럼 생겼으면 True  \n",
    "isdecimal(): int형으로 변환 가능하면 True  \n",
    "isnumeric(): 숫자값 표현에 해당하는 문자열까지 True(제곱근 및 분수, 거듭제곱 특수문자)"
   ]
  },
  {
   "cell_type": "code",
   "execution_count": 5,
   "metadata": {},
   "outputs": [
    {
     "name": "stdout",
     "output_type": "stream",
     "text": [
      "False  >> False\n",
      "True  >> True\n"
     ]
    }
   ],
   "source": [
    "def solution(s):\n",
    "    answer = True\n",
    "    if s.isdecimal() == False or not(len(s)==4 or len(s)==6):\n",
    "        answer = False\n",
    "    return answer\n",
    "\n",
    "print(solution(\"a234\"), \" >> False\")\n",
    "print(solution(\"1234\"), \" >> True\")"
   ]
  },
  {
   "cell_type": "markdown",
   "metadata": {},
   "source": [
    "### >> 다른풀이"
   ]
  },
  {
   "cell_type": "code",
   "execution_count": 4,
   "metadata": {},
   "outputs": [
    {
     "name": "stdout",
     "output_type": "stream",
     "text": [
      "False  >> False\n",
      "True  >> True\n"
     ]
    }
   ],
   "source": [
    "def solution(s):\n",
    "    return s.isdigit() and len(s) in [4,6]\n",
    "\n",
    "print(solution(\"a234\"), \" >> False\")\n",
    "print(solution(\"1234\"), \" >> True\")"
   ]
  }
 ],
 "metadata": {
  "kernelspec": {
   "display_name": "Python 3",
   "language": "python",
   "name": "python3"
  },
  "language_info": {
   "codemirror_mode": {
    "name": "ipython",
    "version": 3
   },
   "file_extension": ".py",
   "mimetype": "text/x-python",
   "name": "python",
   "nbconvert_exporter": "python",
   "pygments_lexer": "ipython3",
   "version": "3.7.1"
  }
 },
 "nbformat": 4,
 "nbformat_minor": 2
}
