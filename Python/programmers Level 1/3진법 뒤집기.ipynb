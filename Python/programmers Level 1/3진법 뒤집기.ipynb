{
 "cells": [
  {
   "cell_type": "markdown",
   "metadata": {},
   "source": [
    "### >> 문제: programmers L1: [3진법 뒤집기](https://programmers.co.kr/learn/courses/30/lessons/68935)\n",
    "\n",
    "자연수 n이 매개변수로 주어집니다.  \n",
    "n을 3진법 상에서 앞뒤로 뒤집은 후,  \n",
    "이를 다시 10진법으로 표현한 수를 return 하도록 solution 함수를 완성해주세요.  \n",
    "\n",
    "[제한사항]  \n",
    "- n은 1 이상 100,000,000 이하인 자연수입니다.\n",
    "\n",
    "*출처: 프로그래머스 코딩 테스트 연습, https://programmers.co.kr/learn/challenges*"
   ]
  },
  {
   "cell_type": "markdown",
   "metadata": {},
   "source": [
    "###  >> 풀이"
   ]
  },
  {
   "cell_type": "code",
   "execution_count": 19,
   "metadata": {},
   "outputs": [
    {
     "name": "stdout",
     "output_type": "stream",
     "text": [
      "[1, 0, 1]\n",
      "10\n",
      "[1, 2, 0, 0]\n",
      "True\n",
      "[1, 1, 1, 2, 2]\n",
      "True\n"
     ]
    }
   ],
   "source": [
    "def solution(n):\n",
    "    answer = 0\n",
    "    temp = []\n",
    "    \n",
    "    # 3진법 만들기\n",
    "    while n >= 3:\n",
    "        r = n % 3\n",
    "        n //= 3\n",
    "        temp.insert(0,r)\n",
    "    temp.insert(0,n)\n",
    "    \n",
    "    # n을 3진법 상에서 앞뒤로 뒤집은 후, 다시 10진법으로 \n",
    "    for i in range(len(temp)):\n",
    "        answer += temp[i]*3**i\n",
    "    \n",
    "    return answer\n",
    "\n",
    "print(solution(45)==7)\n",
    "print(solution(125)==229)"
   ]
  },
  {
   "cell_type": "code",
   "execution_count": 15,
   "metadata": {},
   "outputs": [
    {
     "data": {
      "text/plain": [
       "9"
      ]
     },
     "execution_count": 15,
     "metadata": {},
     "output_type": "execute_result"
    }
   ],
   "source": [
    "3**2"
   ]
  }
 ],
 "metadata": {
  "kernelspec": {
   "display_name": "Python 3",
   "language": "python",
   "name": "python3"
  },
  "language_info": {
   "codemirror_mode": {
    "name": "ipython",
    "version": 3
   },
   "file_extension": ".py",
   "mimetype": "text/x-python",
   "name": "python",
   "nbconvert_exporter": "python",
   "pygments_lexer": "ipython3",
   "version": "3.7.1"
  }
 },
 "nbformat": 4,
 "nbformat_minor": 2
}
