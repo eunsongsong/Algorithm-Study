{
 "cells": [
  {
   "cell_type": "markdown",
   "metadata": {},
   "source": [
    "### >> 문제: programmers L1: [x만큼 간격이 있는 n개의 숫자](https://programmers.co.kr/learn/courses/30/lessons/12954)\n",
    "\n",
    "함수 solution은 정수 x와 자연수 n을 입력 받아,  \n",
    "x부터 시작해 x씩 증가하는 숫자를 n개 지니는 리스트를 리턴해야 합니다.  \n",
    "다음 제한 조건을 보고, 조건을 만족하는 함수, solution을 완성해주세요.\n",
    "\n",
    "* x는 -10000000 이상, 10000000 이하인 정수입니다.\n",
    "* n은 1000 이하인 자연수입니다.\n",
    "\n",
    "*출처: 프로그래머스 코딩 테스트 연습, https://programmers.co.kr/learn/challenges*"
   ]
  },
  {
   "cell_type": "markdown",
   "metadata": {},
   "source": [
    "### >> 풀이"
   ]
  },
  {
   "cell_type": "code",
   "execution_count": 1,
   "metadata": {},
   "outputs": [
    {
     "name": "stdout",
     "output_type": "stream",
     "text": [
      "[2, 4, 6, 8, 10]  >> [2,4,6,8,10]\n",
      "[4, 8, 12]  >> [4,8,12]\n",
      "[-4, -8]  >> [-4, -8]\n"
     ]
    }
   ],
   "source": [
    "def solution(x, n):\n",
    "    answer = []\n",
    "    sumX = 0\n",
    "    for i in range(n):\n",
    "        sumX += x\n",
    "        answer.append(sumX)\n",
    "    return answer\n",
    "\n",
    "print(solution(2,5), \" >> [2,4,6,8,10]\")\n",
    "print(solution(4,3), \" >> [4,8,12]\")\n",
    "print(solution(-4,2), \" >> [-4, -8]\")"
   ]
  },
  {
   "cell_type": "markdown",
   "metadata": {},
   "source": [
    "### >> 다른풀이"
   ]
  },
  {
   "cell_type": "code",
   "execution_count": 2,
   "metadata": {},
   "outputs": [
    {
     "name": "stdout",
     "output_type": "stream",
     "text": [
      "[2, 4, 6, 8, 10]  >> [2,4,6,8,10]\n",
      "[4, 8, 12]  >> [4,8,12]\n",
      "[-4, -8]  >> [-4, -8]\n"
     ]
    }
   ],
   "source": [
    "def solution(x, n):\n",
    "    return [i * x + x for i in range(n)]\n",
    "\n",
    "print(solution(2,5), \" >> [2,4,6,8,10]\")\n",
    "print(solution(4,3), \" >> [4,8,12]\")\n",
    "print(solution(-4,2), \" >> [-4, -8]\")"
   ]
  }
 ],
 "metadata": {
  "kernelspec": {
   "display_name": "Python 3",
   "language": "python",
   "name": "python3"
  },
  "language_info": {
   "codemirror_mode": {
    "name": "ipython",
    "version": 3
   },
   "file_extension": ".py",
   "mimetype": "text/x-python",
   "name": "python",
   "nbconvert_exporter": "python",
   "pygments_lexer": "ipython3",
   "version": "3.7.1"
  }
 },
 "nbformat": 4,
 "nbformat_minor": 2
}
