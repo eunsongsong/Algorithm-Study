{
 "cells": [
  {
   "cell_type": "markdown",
   "metadata": {},
   "source": [
    "### >> 문제: programmers L1:[정수 제곱근 판별](https://programmers.co.kr/learn/courses/30/lessons/12934)\n",
    "\n",
    "임의의 양의 정수 n에 대해, n이 어떤 양의 정수 x의 제곱인지 아닌지 판단하려 합니다.  \n",
    "n이 양의 정수 x의 제곱이라면 x+1의 제곱을 리턴하고,   \n",
    "n이 양의 정수 x의 제곱이 아니라면 -1을 리턴하는 함수를 완성하세요.\n",
    "\n",
    "* n은 1이상, 50000000000000 이하인 양의 정수입니다.\n",
    "\n",
    "*출처: 프로그래머스 코딩 테스트 연습, https://programmers.co.kr/learn/challenges*"
   ]
  },
  {
   "cell_type": "markdown",
   "metadata": {},
   "source": [
    "### >> 풀이"
   ]
  },
  {
   "cell_type": "code",
   "execution_count": 1,
   "metadata": {},
   "outputs": [
    {
     "name": "stdout",
     "output_type": "stream",
     "text": [
      "144.0  >> 144\n",
      "-1  >> -1\n"
     ]
    }
   ],
   "source": [
    "def solution(n):\n",
    "    answer = 0\n",
    "    x = n**(1/2) # 제곱근 찾기\n",
    "    squareRoot = x - int(x) # 제곱근이 정수인지 판별\n",
    "\n",
    "    if squareRoot == 0: # 제곱근이 정수이면\n",
    "        answer = (x+1)**2\n",
    "    else: # 제곱근이 정수가 아니면\n",
    "        answer = -1\n",
    "    return answer\n",
    "\n",
    "print(solution(121), \" >> 144\")\n",
    "print(solution(3), \" >> -1\")"
   ]
  }
 ],
 "metadata": {
  "kernelspec": {
   "display_name": "Python 3",
   "language": "python",
   "name": "python3"
  },
  "language_info": {
   "codemirror_mode": {
    "name": "ipython",
    "version": 3
   },
   "file_extension": ".py",
   "mimetype": "text/x-python",
   "name": "python",
   "nbconvert_exporter": "python",
   "pygments_lexer": "ipython3",
   "version": "3.7.1"
  }
 },
 "nbformat": 4,
 "nbformat_minor": 2
}
