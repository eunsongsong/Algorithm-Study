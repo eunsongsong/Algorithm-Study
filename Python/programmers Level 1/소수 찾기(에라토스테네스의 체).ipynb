{
 "cells": [
  {
   "cell_type": "markdown",
   "metadata": {},
   "source": [
    "### >> 문제: programmers L1:[소수 찾기](https://programmers.co.kr/learn/courses/30/lessons/12921)\n",
    "\n",
    "1부터 입력받은 숫자 n 사이에 있는 소수의 개수를 반환하는 함수, solution을 만들어 보세요.  \n",
    "\n",
    "소수는 1과 자기 자신으로만 나누어지는 수를 의미합니다.  \n",
    "(1은 소수가 아닙니다.)  \n",
    "\n",
    "* n은 2이상 1000000이하의 자연수입니다.\n",
    "\n",
    "*출처: 프로그래머스 코딩 테스트 연습, https://programmers.co.kr/learn/challenges*"
   ]
  },
  {
   "cell_type": "markdown",
   "metadata": {},
   "source": [
    "### >> 풀이"
   ]
  },
  {
   "cell_type": "code",
   "execution_count": 2,
   "metadata": {},
   "outputs": [
    {
     "name": "stdout",
     "output_type": "stream",
     "text": [
      "{2, 3, 5, 7, 9}\n",
      "4  >> 4\n",
      "{2, 3, 5}\n",
      "3 >> 3\n"
     ]
    }
   ],
   "source": [
    "def solution(n):\n",
    "    answer = 0\n",
    "    # 2를 제외한 짝수는 모두 소수가 아니므로 짝수를 제외한 집합 생성 3,5,7,9,11,....\n",
    "    prime = set(i for i in range(3,n+1,2)) # (3 ~ n까지)\n",
    "    # 2는 소수이므로 집합에 2 추가\n",
    "    prime.add(2)\n",
    "    \n",
    "    # 에라토스테네스의 체\n",
    "    # 2를 남기고 2의 배수를 지운다\n",
    "    # 2 다음 숫자인 3을 남기고 3의 배수를 지운다\n",
    "    # 3 다음 숫자인 5를 남기고 5의 배수를 지운다\n",
    "    # 반복 .....\n",
    "    for i in range(3, n+1, 2):\n",
    "        prime -= set(i for i in range(i*2, n+1, i))\n",
    "    answer = len(prime)\n",
    "    return answer\n",
    "\n",
    "print(solution(10),\" >> 4\")\n",
    "print(solution(5), \">> 3\")"
   ]
  }
 ],
 "metadata": {
  "kernelspec": {
   "display_name": "Python 3",
   "language": "python",
   "name": "python3"
  },
  "language_info": {
   "codemirror_mode": {
    "name": "ipython",
    "version": 3
   },
   "file_extension": ".py",
   "mimetype": "text/x-python",
   "name": "python",
   "nbconvert_exporter": "python",
   "pygments_lexer": "ipython3",
   "version": "3.7.1"
  }
 },
 "nbformat": 4,
 "nbformat_minor": 2
}
