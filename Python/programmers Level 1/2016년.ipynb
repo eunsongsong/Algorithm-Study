{
 "cells": [
  {
   "cell_type": "markdown",
   "metadata": {},
   "source": [
    "### >> 문제: programmers L1: [2016년](https://programmers.co.kr/learn/courses/30/lessons/12901)\n",
    "\n",
    "2016년 1월 1일은 금요일입니다. 2016년 a월 b일은 무슨 요일일까요?  \n",
    "두 수 a ,b를 입력받아 2016년 a월 b일이 무슨 요일인지 리턴하는 함수, solution을 완성하세요.  \n",
    "요일의 이름은 일요일부터 토요일까지 각각 SUN,MON,TUE,WED,THU,FRI,SAT입니다.  \n",
    "\n",
    "예를 들어 a=5, b=24라면 5월 24일은 화요일이므로 문자열 TUE를 반환하세요.\n",
    "\n",
    "* 2016년은 윤년입니다.\n",
    "* 2016년 a월 b일은 실제로 있는 날입니다. (13월 26일이나 2월 45일같은 날짜는 주어지지 않습니다)\n",
    "\n",
    "*출처: 프로그래머스 코딩 테스트 연습, https://programmers.co.kr/learn/challenges*"
   ]
  },
  {
   "cell_type": "markdown",
   "metadata": {},
   "source": [
    "### >> 풀이"
   ]
  },
  {
   "cell_type": "code",
   "execution_count": 2,
   "metadata": {},
   "outputs": [
    {
     "name": "stdout",
     "output_type": "stream",
     "text": [
      "TUE  >> TUE\n"
     ]
    }
   ],
   "source": [
    "def solution(a, b):\n",
    "    answer = ''\n",
    "    month = []\n",
    "    # 날짜를 7로 나눈 나머지가 1일 때 금요일이므로 금요일을 index 1에 놓는다\n",
    "    week = [\"THU\",\"FRI\",\"SAT\",\"SUN\",\"MON\",\"TUE\",\"WED\"]\n",
    "    \n",
    "    # 2016년 월 month 리스트 만들기\n",
    "    for i in range(12):\n",
    "        if i+1 == 2:\n",
    "            day = 29 # 2016년은 윤년이므로\n",
    "        elif i+1 < 8:\n",
    "            if (i+1) % 2 == 1:\n",
    "                day = 31\n",
    "            else:\n",
    "                day = 30\n",
    "        else:\n",
    "            if (i+1) % 2 == 1:\n",
    "                day = 30\n",
    "            else:\n",
    "                day = 31\n",
    "        month.append(day)\n",
    "        \n",
    "    # a월 b일까지 날짜를 더해서 7로 나눈 나머지로 요일을 구한다\n",
    "    answer = week[(sum(month[:a-1])+b) % 7]\n",
    "        \n",
    "    return answer\n",
    "\n",
    "print(solution(5,24),\" >> TUE\")"
   ]
  }
 ],
 "metadata": {
  "kernelspec": {
   "display_name": "Python 3",
   "language": "python",
   "name": "python3"
  },
  "language_info": {
   "codemirror_mode": {
    "name": "ipython",
    "version": 3
   },
   "file_extension": ".py",
   "mimetype": "text/x-python",
   "name": "python",
   "nbconvert_exporter": "python",
   "pygments_lexer": "ipython3",
   "version": "3.7.1"
  }
 },
 "nbformat": 4,
 "nbformat_minor": 2
}
