{
 "cells": [
  {
   "cell_type": "markdown",
   "metadata": {},
   "source": [
    "### >> 문제: programmers L1:[이상한 문자 만들기](https://programmers.co.kr/learn/courses/30/lessons/12930)\n",
    "\n",
    "문자열 s는 한 개 이상의 단어로 구성되어 있습니다. 각 단어는 하나 이상의 공백문자로 구분되어 있습니다.  \n",
    "각 단어의 __짝수번째 알파벳은 대문자__로, __홀수번째 알파벳은 소문자__로 바꾼 문자열을 리턴하는 함수, solution을 완성하세요.\n",
    "\n",
    "* **문자열 전체의 짝/홀수 인덱스가 아니라, 단어(공백을 기준)별로 짝/홀수 인덱스를 판단해야합니다**.\n",
    "* 첫 번째 글자는 0번째 인덱스로 보아 짝수번째 알파벳으로 처리해야 합니다.\n",
    "\n",
    "*출처: 프로그래머스 코딩 테스트 연습, https://programmers.co.kr/learn/challenges*"
   ]
  },
  {
   "cell_type": "markdown",
   "metadata": {},
   "source": [
    "### >> 정답"
   ]
  },
  {
   "cell_type": "code",
   "execution_count": 14,
   "metadata": {},
   "outputs": [
    {
     "name": "stdout",
     "output_type": "stream",
     "text": [
      "TrY HeLlO WoRlD  >> TrY HeLlO WoRlD\n"
     ]
    }
   ],
   "source": [
    "def solution(s):\n",
    "    answer = ''\n",
    "    word = s.split(\" \") # 문자열을 공백 기준으로 쪼개기\n",
    "    \n",
    "    for w in word: # 각 단어 확인\n",
    "        for i in range(len(w)):\n",
    "            if i % 2 == 1: # 홀수이면 소문자로\n",
    "                answer += w[i].lower()\n",
    "            else: # 짝수이면 대문자로\n",
    "                answer += w[i].upper()\n",
    "        answer += \" \"\n",
    "    \n",
    "    return answer[:-1] # 모든 단어의 끝에 공백을 넣어줬으므로 문자열 맨 마지막 공백 제거\n",
    "\n",
    "print(solution(\"try hello world\"),\" >> TrY HeLlO WoRlD\")"
   ]
  },
  {
   "cell_type": "markdown",
   "metadata": {},
   "source": [
    "### >> 다른풀이(enumerate)"
   ]
  },
  {
   "cell_type": "code",
   "execution_count": 15,
   "metadata": {
    "scrolled": true
   },
   "outputs": [
    {
     "name": "stdout",
     "output_type": "stream",
     "text": [
      "TrY HeLlO WoRlD  >> TrY HeLlO WoRlD\n"
     ]
    }
   ],
   "source": [
    "def solution(s):\n",
    "    return ' '.join([''.join([w.upper() if i % 2 == 0 else w.lower() for i, w in enumerate(word)]) for word in s.split()])\n",
    "\n",
    "print(solution(\"try hello world\"),\" >> TrY HeLlO WoRlD\")"
   ]
  },
  {
   "cell_type": "markdown",
   "metadata": {},
   "source": [
    "# enumerate\n",
    "반복문 사용 시 몇 번째 반복문인지 확인할 때 사용한다.  \n",
    "인덱스 번호와 컬렉션의 원소를 tuple형태로 반환한다.  "
   ]
  },
  {
   "cell_type": "code",
   "execution_count": 6,
   "metadata": {
    "scrolled": true
   },
   "outputs": [
    {
     "name": "stdout",
     "output_type": "stream",
     "text": [
      "(0, 1)\n",
      "(1, 5)\n",
      "(2, 7)\n",
      "(3, 33)\n",
      "(4, 39)\n",
      "(5, 52)\n"
     ]
    }
   ],
   "source": [
    "a = [1, 5, 7, 33, 39, 52]\n",
    "for i in enumerate(a):\n",
    "    print(i)"
   ]
  },
  {
   "cell_type": "code",
   "execution_count": 10,
   "metadata": {},
   "outputs": [
    {
     "name": "stdout",
     "output_type": "stream",
     "text": [
      "0 1\n",
      "1 5\n",
      "2 7\n",
      "3 33\n",
      "4 39\n",
      "5 52\n"
     ]
    }
   ],
   "source": [
    "a = [1, 5, 7, 33, 39, 52]\n",
    "for i,j in enumerate(a):\n",
    "    print(i,j)"
   ]
  }
 ],
 "metadata": {
  "kernelspec": {
   "display_name": "Python 3",
   "language": "python",
   "name": "python3"
  },
  "language_info": {
   "codemirror_mode": {
    "name": "ipython",
    "version": 3
   },
   "file_extension": ".py",
   "mimetype": "text/x-python",
   "name": "python",
   "nbconvert_exporter": "python",
   "pygments_lexer": "ipython3",
   "version": "3.7.1"
  }
 },
 "nbformat": 4,
 "nbformat_minor": 2
}
