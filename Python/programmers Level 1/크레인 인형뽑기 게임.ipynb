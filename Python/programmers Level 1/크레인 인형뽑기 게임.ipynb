{
 "cells": [
  {
   "cell_type": "markdown",
   "metadata": {},
   "source": [
    "### >> 문제: programmers L1: [크레인 인형뽑기 게임](https://programmers.co.kr/learn/courses/30/lessons/64061)\n",
    "<img src=\"https://grepp-programmers.s3.ap-northeast-2.amazonaws.com/files/production/8569d736-091e-4771-b2d3-7a6e95a20c22/crane_game_103.gif\" align=\"right\" height=\"30%\" width=\"30%\" title=\"[출처: https://programmers.co.kr/learn/challenges]\">  \n",
    "\n",
    "\n",
    "게임 화면은 1 x 1 크기의 칸들로 이루어진 N x N 크기의 정사각 이다.  \n",
    "각 격자 칸에는 인형이 들어 있으며 인형이 없는 칸은 빈칸입니다.  \n",
    "모든 인형은 1 x 1 크기의 격자 한 칸을 차지하며  \n",
    "격자의 가장 아래 칸부터 차곡차곡 쌓여 있습니다.  \n",
    "게임 사용자는 크레인을 좌우로 움직여서  \n",
    "멈춘 위치에서 가장 위에 있는 인형을 집어 올릴 수 있습니다.  \n",
    "집어 올린 인형은 바구니에 쌓이게 되는 데,  \n",
    "이때 바구니의 가장 아래 칸부터 인형이 순서대로 쌓이게 됩니다.  \n",
    "\n",
    "만약 같은 모양의 인형 두 개가 바구니에 연속해서 쌓이게 되면  \n",
    "두 인형은 바구니에서 사라지게 됩니다.  \n",
    "크레인 작동 시 인형이 집어지지 않는 경우는 없으나  \n",
    "만약 인형이 없는 곳에서 작동시키면 아무런 일도 일어나지 않습니다.  \n",
    "\n",
    "게임 화면의 격자의 상태가 담긴 2차원 배열 board와  \n",
    "인형을 집기 위해 크레인을 작동시킨 위치가 담긴 배열 moves가 매개변수로 주어질 때,  \n",
    "크레인을 모두 작동시킨 후 사라진 인형의 개수를 return 하도록 solution 함수를 완성해주세요.\n",
    "\n",
    "\n",
    "* board 배열은 2차원 배열로 크기는 5 x 5 이상 30 x 30 이하입니다.  \n",
    "* board의 각 칸에는 0 이상 100 이하인 정수가 담겨있습니다.  \n",
    "* 0은 빈 칸을 나타냅니다.  \n",
    "* 1 ~ 100의 각 숫자는 각기 다른 인형의 모양을 의미하며 같은 숫자는 같은 모양의 인형을 나타냅니다.  \n",
    "* moves 배열의 크기는 1 이상 1,000 이하입니다.  \n",
    "* moves 배열 각 원소들의 값은 1 이상이며 board 배열의 가로 크기 이하인 자연수입니다.  \n",
    "\n",
    "*출처: 프로그래머스 코딩 테스트 연습, https://programmers.co.kr/learn/challenges*"
   ]
  },
  {
   "cell_type": "markdown",
   "metadata": {},
   "source": [
    "### >> 정답"
   ]
  },
  {
   "cell_type": "code",
   "execution_count": 2,
   "metadata": {},
   "outputs": [
    {
     "name": "stdout",
     "output_type": "stream",
     "text": [
      "4  >> 4\n"
     ]
    }
   ],
   "source": [
    "def solution(board, moves):\n",
    "    answer = 0\n",
    "    basket = [] # 인형을 담을 바구니\n",
    "    \n",
    "    for m in moves: # moves의 원소를 한 번씩 검사\n",
    "        for i in range(len(board)):\n",
    "            if board[i][m-1] is not 0: # 인형이 있는 위치를 찾는다\n",
    "                basket.append(board[i][m-1]) # 인형을 basket에 넣어주고\n",
    "                board[i][m-1] = 0 # 인형이 있던 위치를 0으로 비워준다\n",
    "                # 같은 모양의 인형이 두 개 연속으로 있는지 찾는다\n",
    "                if len(basket) > 1 and basket[-1] is basket[-2]:\n",
    "                    answer += 2\n",
    "                    basket.pop()\n",
    "                    basket.pop()\n",
    "                break\n",
    "    \n",
    "    return answer\n",
    "\n",
    "print(solution([[0,0,0,0,0],\n",
    "                [0,0,1,0,3],\n",
    "                [0,2,5,0,1],\n",
    "                [4,2,4,4,2],\n",
    "                [3,5,1,3,1]],[1,5,3,5,1,2,1,4]),\" >> 4\")\n",
    "# 4 3 1 1 3 2 0 4"
   ]
  }
 ],
 "metadata": {
  "kernelspec": {
   "display_name": "Python 3",
   "language": "python",
   "name": "python3"
  },
  "language_info": {
   "codemirror_mode": {
    "name": "ipython",
    "version": 3
   },
   "file_extension": ".py",
   "mimetype": "text/x-python",
   "name": "python",
   "nbconvert_exporter": "python",
   "pygments_lexer": "ipython3",
   "version": "3.7.1"
  }
 },
 "nbformat": 4,
 "nbformat_minor": 2
}
