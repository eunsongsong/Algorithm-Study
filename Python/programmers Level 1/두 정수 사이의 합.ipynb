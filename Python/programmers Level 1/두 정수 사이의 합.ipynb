{
 "cells": [
  {
   "cell_type": "markdown",
   "metadata": {},
   "source": [
    "### >> 문제: programmers L1: [두 정수 사이의 합](https://programmers.co.kr/learn/courses/30/lessons/12912)\n",
    "\n",
    "두 정수 a, b가 주어졌을 때 a와 b 사이에 속한 모든 정수의 합을 리턴하는 함수, solution을 완성하세요.  \n",
    "예를 들어 a = 3, b = 5인 경우, 3 + 4 + 5 = 12이므로 12를 리턴합니다.\n",
    "\n",
    "* a와 b가 같은 경우는 둘 중 아무 수나 리턴하세요.\n",
    "* a와 b는 -10,000,000 이상 10,000,000 이하인 정수입니다.\n",
    "* a와 b의 대소관계는 정해져있지 않습니다.\n",
    "\n",
    "*출처: 프로그래머스 코딩 테스트 연습, https://programmers.co.kr/learn/challenges*"
   ]
  },
  {
   "cell_type": "markdown",
   "metadata": {},
   "source": [
    "### >> 풀이"
   ]
  },
  {
   "cell_type": "code",
   "execution_count": 2,
   "metadata": {},
   "outputs": [
    {
     "name": "stdout",
     "output_type": "stream",
     "text": [
      "12  >> 12\n",
      "3  >> 3\n",
      "12  >> 12\n"
     ]
    }
   ],
   "source": [
    "def solution(a, b):\n",
    "    # 더 작은 수를 temp에 저장\n",
    "    temp = a\n",
    "    if a > b:\n",
    "        temp = b\n",
    "    \n",
    "    # a, b 사이의 정수 더하기\n",
    "    answer = temp        \n",
    "    for i in range(abs(a-b)):\n",
    "        temp += 1\n",
    "        answer += temp\n",
    "            \n",
    "    return answer\n",
    "\n",
    "print(solution(3,5),\" >> 12\")\n",
    "print(solution(3,3),\" >> 3\")\n",
    "print(solution(5,3),\" >> 12\")"
   ]
  },
  {
   "cell_type": "markdown",
   "metadata": {},
   "source": [
    "### >> 다른풀이"
   ]
  },
  {
   "cell_type": "code",
   "execution_count": 3,
   "metadata": {},
   "outputs": [
    {
     "name": "stdout",
     "output_type": "stream",
     "text": [
      "12  >> 12\n",
      "3  >> 3\n",
      "12  >> 12\n"
     ]
    }
   ],
   "source": [
    "def solution(a, b):\n",
    "    \n",
    "    # a에 작은 값을, b에 큰 값을\n",
    "    if a > b: \n",
    "        a, b = b, a\n",
    "\n",
    "    return sum(range(a,b+1)) # a에서 b까지 숫자를 합\n",
    "\n",
    "print(solution(3,5),\" >> 12\")\n",
    "print(solution(3,3),\" >> 3\")\n",
    "print(solution(5,3),\" >> 12\")"
   ]
  },
  {
   "cell_type": "code",
   "execution_count": null,
   "metadata": {},
   "outputs": [],
   "source": []
  }
 ],
 "metadata": {
  "kernelspec": {
   "display_name": "Python 3",
   "language": "python",
   "name": "python3"
  },
  "language_info": {
   "codemirror_mode": {
    "name": "ipython",
    "version": 3
   },
   "file_extension": ".py",
   "mimetype": "text/x-python",
   "name": "python",
   "nbconvert_exporter": "python",
   "pygments_lexer": "ipython3",
   "version": "3.7.1"
  }
 },
 "nbformat": 4,
 "nbformat_minor": 2
}
