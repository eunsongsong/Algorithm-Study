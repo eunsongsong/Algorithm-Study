{
 "cells": [
  {
   "cell_type": "markdown",
   "metadata": {},
   "source": [
    "### >> 문제: programmers L1: [문자열 내 마음대로 정렬하기](https://programmers.co.kr/learn/courses/30/lessons/12915)\n",
    "\n",
    "문자열로 구성된 리스트 strings와, 정수 n이 주어졌을 때,  \n",
    "각 문자열의 인덱스 n번째 글자를 기준으로 오름차순 정렬하려 합니다.  \n",
    "예를 들어, strings가 [sun, bed, car]이고 n이 1이면 각 단어의 인덱스 1의 문자 u, e, a로 strings를 정렬합니다.\n",
    "\n",
    "* strings는 길이 1 이상, 50이하인 배열입니다.\n",
    "* strings의 원소는 소문자 알파벳으로 이루어져 있습니다.\n",
    "* strings의 원소는 길이 1 이상, 100이하인 문자열입니다.\n",
    "* 모든 strings의 원소의 길이는 n보다 큽니다.\n",
    "* 인덱스 1의 문자가 같은 문자열이 여럿 일 경우, 사전순으로 앞선 문자열이 앞쪽에 위치합니다.\n",
    "\n",
    "*출처: 프로그래머스 코딩 테스트 연습, https://programmers.co.kr/learn/challenges*"
   ]
  },
  {
   "cell_type": "markdown",
   "metadata": {},
   "source": [
    "### >> 풀이"
   ]
  },
  {
   "cell_type": "code",
   "execution_count": 1,
   "metadata": {},
   "outputs": [
    {
     "name": "stdout",
     "output_type": "stream",
     "text": [
      "['car', 'bed', 'sun']  >> [\"car\", \"bed\", \"sun\"]\n",
      "['abcd', 'abce', 'cdx']  >> [\"abcd\", \"abce\", \"cdx\"]\n"
     ]
    }
   ],
   "source": [
    "def solution(strings, n):\n",
    "    answer = []\n",
    "    sortindex = []\n",
    "\n",
    "    for string in strings: # n번째 글자를 배열 sortindex에 저장\n",
    "        sortindex.append(string[n])\n",
    "    sortindex = list(set(sortindex)) # 리스트에 중복 제거\n",
    "    sortindex.sort() # 정렬\n",
    "    strings.sort()   # 정렬(인덱스 n의 문자가 같은 문자열이 많으면, 사전순으로 정렬해야하기 때문)\n",
    "\n",
    "    for index in sortindex:\n",
    "        for string in strings:\n",
    "            if index == string[n]: # sortindex과 strings에서 인덱스 n의 문자가 같은 문자열을 모두 추가\n",
    "                answer.append(string)\n",
    "    return answer\n",
    "\n",
    "print(solution([\"sun\", \"bed\", \"car\"],1),' >> [\"car\", \"bed\", \"sun\"]')\n",
    "print(solution([\"abce\", \"abcd\", \"cdx\"],2), ' >> [\"abcd\", \"abce\", \"cdx\"]')"
   ]
  },
  {
   "cell_type": "markdown",
   "metadata": {},
   "source": [
    "lambda 사용"
   ]
  },
  {
   "cell_type": "code",
   "execution_count": 2,
   "metadata": {},
   "outputs": [
    {
     "name": "stdout",
     "output_type": "stream",
     "text": [
      "['car', 'bed', 'sun']  >> [\"car\", \"bed\", \"sun\"]\n",
      "['abcd', 'abce', 'cdx']  >> [\"abcd\", \"abce\", \"cdx\"]\n"
     ]
    }
   ],
   "source": [
    "def solution(strings, n): \n",
    "    return sorted(sorted(strings), key=lambda x:x[n])\n",
    "\n",
    "print(solution([\"sun\", \"bed\", \"car\"],1),' >> [\"car\", \"bed\", \"sun\"]')\n",
    "print(solution([\"abce\", \"abcd\", \"cdx\"],2), ' >> [\"abcd\", \"abce\", \"cdx\"]')"
   ]
  }
 ],
 "metadata": {
  "kernelspec": {
   "display_name": "Python 3",
   "language": "python",
   "name": "python3"
  },
  "language_info": {
   "codemirror_mode": {
    "name": "ipython",
    "version": 3
   },
   "file_extension": ".py",
   "mimetype": "text/x-python",
   "name": "python",
   "nbconvert_exporter": "python",
   "pygments_lexer": "ipython3",
   "version": "3.7.1"
  }
 },
 "nbformat": 4,
 "nbformat_minor": 2
}
