{
 "cells": [
  {
   "cell_type": "markdown",
   "metadata": {},
   "source": [
    "## 리스트\n",
    "+ list(),  []\n",
    "+ 리스트를 구성하는 데이터들의 순서가 존재\n",
    "+ 중복 ok, 인덱스 존재"
   ]
  },
  {
   "cell_type": "markdown",
   "metadata": {},
   "source": [
    "## 튜플\n",
    "+ (), tuple()\n",
    "+ 순서존재, 인덱스 사용가능, 중복 ok\n",
    "+ 오직 값을 묶는다, 수정불가, immutable\n",
    "+ 함수의 리턴값으로 많이 사용"
   ]
  },
  {
   "cell_type": "markdown",
   "metadata": {},
   "source": [
    "## 딕셔너리\n",
    "+ {},  dict()\n",
    "\n",
    "+ 순서가 없다 (list는 순서가 있다)\n",
    "+ 키와 값이 쌍으로 구성된다(키:값)\n",
    "+ 키는 절대로 중복되면 안된다\n",
    "+ 값은 중복되도 OK"
   ]
  },
  {
   "cell_type": "markdown",
   "metadata": {},
   "source": [
    "## 집합\n",
    "+ set\n",
    "+ 중복 제거, 딕셔너리는 적용 불가\n",
    "+ 리스트, 튜플에 적용 가능\n",
    "+ 중복 제거 후 정렬하지 않는다"
   ]
  },
  {
   "cell_type": "markdown",
   "metadata": {},
   "source": [
    "# 딕셔너리 자료형"
   ]
  },
  {
   "cell_type": "markdown",
   "metadata": {},
   "source": [
    "대응 관계를 나타내는 자료형(연관 배열(Associative array), 해시(Hash))"
   ]
  },
  {
   "cell_type": "markdown",
   "metadata": {},
   "source": [
    "key에는 변하지 않는 값을 사용한다.  \n",
    "value에는 변하는 값과 변하지 않는 값을 모두 사용할 수 있다."
   ]
  },
  {
   "cell_type": "code",
   "execution_count": 1,
   "metadata": {},
   "outputs": [
    {
     "name": "stdout",
     "output_type": "stream",
     "text": [
      "{} {}\n",
      "{'name': 'song', 'pone': '01012341234', 'birth': '0204'}\n",
      "{1: [1, 2, 3]}  => value에 리스트도 들어갈 수 있다.\n"
     ]
    }
   ],
   "source": [
    "dic1 = {}\n",
    "dic2 = dict()\n",
    "dic3 = {'name':'song', 'pone':'01012341234', 'birth':'0204'}\n",
    "dic4 = {1:[1,2,3]}\n",
    "print(dic1, dic2)\n",
    "print(dic3)\n",
    "print(dic4, \" => value에 리스트도 들어갈 수 있다.\")"
   ]
  },
  {
   "cell_type": "markdown",
   "metadata": {},
   "source": [
    "## 딕셔너리 쌍 추가, 삭제"
   ]
  },
  {
   "cell_type": "markdown",
   "metadata": {},
   "source": [
    "###### 딕셔너리 쌍 추가하기"
   ]
  },
  {
   "cell_type": "code",
   "execution_count": 2,
   "metadata": {},
   "outputs": [
    {
     "name": "stdout",
     "output_type": "stream",
     "text": [
      "{1: 'a', 2: 3, 'key': 'value', 'list': [1, 2, 3, 4, 5]}\n",
      ">> a[x] = 'y'는 딕셔너리 a에 key가 x이고, value가 y인 쌍 추가\n"
     ]
    }
   ],
   "source": [
    "a = {1:\"a\"}\n",
    "a[2] = 3\n",
    "a[\"key\"] = \"value\"\n",
    "a[\"list\"] = [1,2,3,4]\n",
    "a[\"list\"].append(5)\n",
    "print(a)\n",
    "print(\">> a[x] = 'y'는 딕셔너리 a에 key가 x이고, value가 y인 쌍 추가\")"
   ]
  },
  {
   "cell_type": "markdown",
   "metadata": {},
   "source": [
    "###### 딕셔너리 요소 삭제하기"
   ]
  },
  {
   "cell_type": "code",
   "execution_count": 3,
   "metadata": {},
   "outputs": [
    {
     "name": "stdout",
     "output_type": "stream",
     "text": [
      "{'a': 'b', 5: [1, 2, 3]}\n",
      ">> del a[key]는 지정한 key에 해당하는 {key:value} 쌍이 삭제된다.\n"
     ]
    }
   ],
   "source": [
    "a = {1:2, 'a':'b', 5:[1,2,3]}\n",
    "del a[1]\n",
    "print(a)\n",
    "print(\">> del a[key]는 지정한 key에 해당하는 {key:value} 쌍이 삭제된다.\")"
   ]
  },
  {
   "cell_type": "markdown",
   "metadata": {},
   "source": [
    "## 딕셔너리에서 key 사용해 value 얻기"
   ]
  },
  {
   "cell_type": "code",
   "execution_count": 4,
   "metadata": {},
   "outputs": [
    {
     "name": "stdout",
     "output_type": "stream",
     "text": [
      "pey\n",
      "0119993323\n",
      "1118\n"
     ]
    }
   ],
   "source": [
    "dic = {'name':'pey', 'phone':'0119993323', 'birth': '1118'}\n",
    "print(dic['name'])\n",
    "print(dic['phone'])\n",
    "print(dic['birth'])"
   ]
  },
  {
   "cell_type": "markdown",
   "metadata": {},
   "source": [
    "## 딕셔너리 주의사항"
   ]
  },
  {
   "cell_type": "code",
   "execution_count": 5,
   "metadata": {},
   "outputs": [
    {
     "name": "stdout",
     "output_type": "stream",
     "text": [
      "{1: 'b'}\n",
      ">> key는 고유한 값이므로 중복되는 key값을 설정해 놓으면\n",
      ">> 하나를 제외한 나머지 것들이 모두 무시된다.\n"
     ]
    }
   ],
   "source": [
    "a = {1:'a', 1:'b'}\n",
    "print(a)\n",
    "print(\">> key는 고유한 값이므로 중복되는 key값을 설정해 놓으면\")\n",
    "print(\">> 하나를 제외한 나머지 것들이 모두 무시된다.\")"
   ]
  },
  {
   "cell_type": "code",
   "execution_count": 6,
   "metadata": {},
   "outputs": [
    {
     "name": "stdout",
     "output_type": "stream",
     "text": [
      ">> key에 리스트를 쓸 수 없다.\n",
      ">> 하지만 튜플은 key로 쓸 수 있다.\n",
      "{(1, 2, 3): 555}\n",
      ">> key에는 변하지 않는 값을 사용해야 하는데,\n",
      ">> 리스트는 그 값이 변할 수 있기 때문에 key로 사용할 수 없고,\n",
      ">> 튜플은 값을 바꿀 수 없으르모 key로 사용할 수 있다.\n"
     ]
    }
   ],
   "source": [
    "print(\">> key에 리스트를 쓸 수 없다.\")\n",
    "print(\">> 하지만 튜플은 key로 쓸 수 있다.\")\n",
    "a = {(1,2,3):555}\n",
    "print(a)\n",
    "print(\">> key에는 변하지 않는 값을 사용해야 하는데,\")\n",
    "print(\">> 리스트는 그 값이 변할 수 있기 때문에 key로 사용할 수 없고,\")\n",
    "print(\">> 튜플은 값을 바꿀 수 없으르모 key로 사용할 수 있다.\")"
   ]
  },
  {
   "cell_type": "markdown",
   "metadata": {},
   "source": [
    "## 딕셔너리 관련 함수들"
   ]
  },
  {
   "cell_type": "markdown",
   "metadata": {},
   "source": [
    "###### key 리스트, value 리스트 만들기(keys, values)"
   ]
  },
  {
   "cell_type": "code",
   "execution_count": 7,
   "metadata": {},
   "outputs": [
    {
     "name": "stdout",
     "output_type": "stream",
     "text": [
      "dict_keys(['name', 'phone', 'birth'])\n",
      "dict_values(['pey', '0119993323', '1118'])\n",
      ">> 메모리 낭비를 줄이기 위해 dict_keys 객체를 반환한다.\n",
      ">> dict_keys, dict_values, dict_items 등은 리스트로 변환하지 않더라도, \n",
      ">> 기본적인 반복 구문(for)을 실행할 수 있다.\n",
      ">> 하지만 append, insert, pop, remove, sort 함수는 사용할 수 없다.\n",
      "['name', 'phone', 'birth']\n",
      ">> 리스트 반환 값이 필요한 경우 list(a.keys())를 사용한다.\n"
     ]
    }
   ],
   "source": [
    "a = {'name': 'pey', 'phone': '0119993323', 'birth': '1118'}\n",
    "print(a.keys())\n",
    "print(a.values())\n",
    "print(\">> 메모리 낭비를 줄이기 위해 dict_keys 객체를 반환한다.\")\n",
    "print(\">> dict_keys, dict_values, dict_items 등은 리스트로 변환하지 않더라도, \")\n",
    "print(\">> 기본적인 반복 구문(for)을 실행할 수 있다.\")\n",
    "print(\">> 하지만 append, insert, pop, remove, sort 함수는 사용할 수 없다.\")\n",
    "print(list(a.keys()))\n",
    "print(\">> 리스트 반환 값이 필요한 경우 list(a.keys())를 사용한다.\")"
   ]
  },
  {
   "cell_type": "markdown",
   "metadata": {},
   "source": [
    "###### key, value 쌍 얻기(items)"
   ]
  },
  {
   "cell_type": "code",
   "execution_count": 8,
   "metadata": {},
   "outputs": [
    {
     "name": "stdout",
     "output_type": "stream",
     "text": [
      "dict_items([('name', 'pey'), ('phone', '0119993323'), ('birth', '1118')])\n",
      ">> key와 value의 쌍을 튜플로 묶은 값을 dict_items 객체로 리턴한다.\n"
     ]
    }
   ],
   "source": [
    "a = {'name': 'pey', 'phone': '0119993323', 'birth': '1118'}\n",
    "print(a.items())\n",
    "print(\">> key와 value의 쌍을 튜플로 묶은 값을 dict_items 객체로 리턴한다.\")"
   ]
  },
  {
   "cell_type": "markdown",
   "metadata": {},
   "source": [
    "###### key:value 쌍 모두 지우기(clear)"
   ]
  },
  {
   "cell_type": "code",
   "execution_count": 9,
   "metadata": {},
   "outputs": [
    {
     "name": "stdout",
     "output_type": "stream",
     "text": [
      "{}\n"
     ]
    }
   ],
   "source": [
    "a = {'name': 'pey', 'phone': '0119993323', 'birth': '1118'}\n",
    "a.clear()\n",
    "print(a)"
   ]
  },
  {
   "cell_type": "markdown",
   "metadata": {},
   "source": [
    "###### key로 value얻기(get)"
   ]
  },
  {
   "cell_type": "code",
   "execution_count": 10,
   "metadata": {},
   "outputs": [
    {
     "name": "stdout",
     "output_type": "stream",
     "text": [
      "pey\n",
      "pey\n",
      ">> 존재하지 않는 key로 값을 가져오려고 하는 경우 \n",
      ">> a['000']는 key 오류를 발생시키고,\n",
      ">> a.get('000')는 None을 반환한다.\n"
     ]
    }
   ],
   "source": [
    "a = {'name': 'pey', 'phone': '0119993323', 'birth': '1118'}\n",
    "print(a.get('name'))\n",
    "print(a['name'])\n",
    "print(\">> 존재하지 않는 key로 값을 가져오려고 하는 경우 \")\n",
    "print(\">> a['000']는 key 오류를 발생시키고,\")\n",
    "print(\">> a.get('000')는 None을 반환한다.\")"
   ]
  },
  {
   "cell_type": "code",
   "execution_count": 11,
   "metadata": {},
   "outputs": [
    {
     "name": "stdout",
     "output_type": "stream",
     "text": [
      "bar\n",
      ">> 딕셔너리에 얻으려는 key 값이 없는 경우, 디폴트 값이 'bar'를 돌려준다.\n"
     ]
    }
   ],
   "source": [
    "a = {'name': 'pey', 'phone': '0119993323', 'birth': '1118'}\n",
    "print(a.get(\"foo\",\"bar\"))\n",
    "print(\">> 딕셔너리에 얻으려는 key 값이 없는 경우, 디폴트 값이 'bar'를 돌려준다.\")"
   ]
  },
  {
   "cell_type": "markdown",
   "metadata": {},
   "source": [
    "###### 해당 key가 딕셔너리 안에 있는지 조사하기(in)"
   ]
  },
  {
   "cell_type": "code",
   "execution_count": 12,
   "metadata": {},
   "outputs": [
    {
     "name": "stdout",
     "output_type": "stream",
     "text": [
      "True\n",
      "False\n"
     ]
    }
   ],
   "source": [
    "a = {'name':'pey', 'phone':'0119993323', 'birth': '1118'}\n",
    "print('name' in a)\n",
    "print('email' in a)"
   ]
  },
  {
   "cell_type": "code",
   "execution_count": null,
   "metadata": {},
   "outputs": [],
   "source": []
  },
  {
   "cell_type": "code",
   "execution_count": null,
   "metadata": {},
   "outputs": [],
   "source": []
  },
  {
   "cell_type": "code",
   "execution_count": null,
   "metadata": {},
   "outputs": [],
   "source": []
  },
  {
   "cell_type": "code",
   "execution_count": null,
   "metadata": {},
   "outputs": [],
   "source": []
  },
  {
   "cell_type": "code",
   "execution_count": null,
   "metadata": {},
   "outputs": [],
   "source": []
  },
  {
   "cell_type": "code",
   "execution_count": null,
   "metadata": {},
   "outputs": [],
   "source": []
  }
 ],
 "metadata": {
  "kernelspec": {
   "display_name": "Python 3",
   "language": "python",
   "name": "python3"
  },
  "language_info": {
   "codemirror_mode": {
    "name": "ipython",
    "version": 3
   },
   "file_extension": ".py",
   "mimetype": "text/x-python",
   "name": "python",
   "nbconvert_exporter": "python",
   "pygments_lexer": "ipython3",
   "version": "3.7.1"
  }
 },
 "nbformat": 4,
 "nbformat_minor": 2
}
