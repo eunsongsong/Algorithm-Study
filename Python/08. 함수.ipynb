{
 "cells": [
  {
   "cell_type": "markdown",
   "metadata": {},
   "source": [
    "## 입력값이 몇 개가 될지 모를 때"
   ]
  },
  {
   "cell_type": "markdown",
   "metadata": {},
   "source": [
    "def 함수이름(*매개변수):  \n",
    "=> 매개변수 이름 앞에 *을 붙이면 입력값을 전부 모아서 튜플로 만들어준다."
   ]
  },
  {
   "cell_type": "code",
   "execution_count": 1,
   "metadata": {},
   "outputs": [
    {
     "name": "stdout",
     "output_type": "stream",
     "text": [
      "15\n",
      "120\n"
     ]
    }
   ],
   "source": [
    "# 여러 개의 입력값을 모두 더하는 함수\n",
    "def add_mul(choice, *args):\n",
    "    if choice == 'add':\n",
    "        result = 0\n",
    "        for i in args:\n",
    "            result += i\n",
    "    elif choice == 'mul':\n",
    "        result = 1\n",
    "        for i in args:\n",
    "            result *= i\n",
    "    return result\n",
    "print(add_mul('add',1,2,3,4,5))\n",
    "print(add_mul('mul',1,2,3,4,5))"
   ]
  },
  {
   "cell_type": "markdown",
   "metadata": {},
   "source": [
    "## 키워드 파라미터(kwargs)"
   ]
  },
  {
   "cell_type": "markdown",
   "metadata": {},
   "source": [
    "def 함수이름(** 매개변수):  \n",
    "=> 매개변수 앞에 별 두 개( ** )를 붙인다.  \n",
    "=> 매개변수는 딕셔너리가 되고 모든 key=value 형태의 결괏값이 그 딕셔너리에 저장된다."
   ]
  },
  {
   "cell_type": "code",
   "execution_count": 2,
   "metadata": {},
   "outputs": [
    {
     "name": "stdout",
     "output_type": "stream",
     "text": [
      "{'name': 'foo', 'age': 3}\n"
     ]
    }
   ],
   "source": [
    "def print_kwargs(** kwargs):\n",
    "    return kwargs\n",
    "\n",
    "print(print_kwargs(name='foo', age=3))"
   ]
  },
  {
   "cell_type": "markdown",
   "metadata": {},
   "source": [
    "## 함수의 결괏값은 언제나 하나이다"
   ]
  },
  {
   "cell_type": "code",
   "execution_count": 3,
   "metadata": {},
   "outputs": [
    {
     "name": "stdout",
     "output_type": "stream",
     "text": [
      "(3, 2)\n",
      "<class 'tuple'>\n",
      ">> 결괏값은 튜플값으로 하나이다.\n"
     ]
    }
   ],
   "source": [
    "def add_and_mul(a,b):\n",
    "    return a+b, a*b\n",
    "\n",
    "print(add_and_mul(1,2))\n",
    "print(type(add_and_mul(1,2)))\n",
    "print(\">> 결괏값은 튜플값으로 하나이다.\")"
   ]
  },
  {
   "cell_type": "markdown",
   "metadata": {},
   "source": [
    "###### 만약 하나의 튜플 값을 2개의 결괏값처럼 받고 싶다면"
   ]
  },
  {
   "cell_type": "code",
   "execution_count": 4,
   "metadata": {},
   "outputs": [
    {
     "name": "stdout",
     "output_type": "stream",
     "text": [
      "3\n",
      "2\n"
     ]
    }
   ],
   "source": [
    "def add_and_mul(a,b):\n",
    "    return a+b, a*b\n",
    "\n",
    "result1, result2 = add_and_mul(1,2)\n",
    "\n",
    "print(result1)\n",
    "print(result2)"
   ]
  },
  {
   "cell_type": "markdown",
   "metadata": {},
   "source": [
    "## 함수 안에서 함수 밖의 변수 변경하기"
   ]
  },
  {
   "cell_type": "markdown",
   "metadata": {},
   "source": [
    "###### return 사용하기"
   ]
  },
  {
   "cell_type": "code",
   "execution_count": 5,
   "metadata": {},
   "outputs": [
    {
     "name": "stdout",
     "output_type": "stream",
     "text": [
      "6\n"
     ]
    }
   ],
   "source": [
    "temp = 5\n",
    "def vartest(a): \n",
    "    a = a +1 \n",
    "    return a\n",
    "\n",
    "print(vartest(temp))"
   ]
  },
  {
   "cell_type": "markdown",
   "metadata": {},
   "source": [
    "###### global 명령어 사용하기"
   ]
  },
  {
   "cell_type": "code",
   "execution_count": 18,
   "metadata": {},
   "outputs": [
    {
     "name": "stdout",
     "output_type": "stream",
     "text": [
      "9\n",
      ">> global temmp  문장은\n",
      ">> 함수 안에서 함수 밖의 temp 변수를 직접 사용하겠다는 뜻이다.\n"
     ]
    }
   ],
   "source": [
    "temp = 7\n",
    "def vartest(): \n",
    "    global temp\n",
    "    temp = temp + 2\n",
    "\n",
    "vartest() \n",
    "print(temp)\n",
    "print(\">> global temmp  문장은\")\n",
    "print(\">> 함수 안에서 함수 밖의 temp 변수를 직접 사용하겠다는 뜻이다.\")"
   ]
  },
  {
   "cell_type": "markdown",
   "metadata": {},
   "source": [
    "# lambda"
   ]
  },
  {
   "cell_type": "markdown",
   "metadata": {},
   "source": [
    "lambda는 함수를 생성할 때 사용하는 예약어로 def와 동일한 역할을 한다.  \n",
    "보통 함수를 한줄로 간결하게 만들 때 사용한다.  "
   ]
  },
  {
   "cell_type": "markdown",
   "metadata": {},
   "source": [
    "lambda 매개변수1, 매개변수2, ...: 매개변수를 이용한 표현식"
   ]
  },
  {
   "cell_type": "code",
   "execution_count": 30,
   "metadata": {},
   "outputs": [
    {
     "name": "stdout",
     "output_type": "stream",
     "text": [
      "7\n",
      ">> lambda 예약어로 만든 함수는 return 명령어가 없어도 결괏값을 돌려준다.\n"
     ]
    }
   ],
   "source": [
    "add = lambda a,b: a+b\n",
    "\n",
    "print(add(3,4))\n",
    "print(\">> lambda 예약어로 만든 함수는 return 명령어가 없어도 결괏값을 돌려준다.\")"
   ]
  },
  {
   "cell_type": "code",
   "execution_count": null,
   "metadata": {},
   "outputs": [],
   "source": []
  },
  {
   "cell_type": "code",
   "execution_count": null,
   "metadata": {},
   "outputs": [],
   "source": []
  },
  {
   "cell_type": "code",
   "execution_count": null,
   "metadata": {},
   "outputs": [],
   "source": []
  },
  {
   "cell_type": "code",
   "execution_count": null,
   "metadata": {},
   "outputs": [],
   "source": []
  },
  {
   "cell_type": "code",
   "execution_count": null,
   "metadata": {},
   "outputs": [],
   "source": []
  },
  {
   "cell_type": "code",
   "execution_count": null,
   "metadata": {},
   "outputs": [],
   "source": []
  },
  {
   "cell_type": "code",
   "execution_count": null,
   "metadata": {},
   "outputs": [],
   "source": []
  }
 ],
 "metadata": {
  "kernelspec": {
   "display_name": "Python 3",
   "language": "python",
   "name": "python3"
  },
  "language_info": {
   "codemirror_mode": {
    "name": "ipython",
    "version": 3
   },
   "file_extension": ".py",
   "mimetype": "text/x-python",
   "name": "python",
   "nbconvert_exporter": "python",
   "pygments_lexer": "ipython3",
   "version": "3.7.1"
  }
 },
 "nbformat": 4,
 "nbformat_minor": 2
}
